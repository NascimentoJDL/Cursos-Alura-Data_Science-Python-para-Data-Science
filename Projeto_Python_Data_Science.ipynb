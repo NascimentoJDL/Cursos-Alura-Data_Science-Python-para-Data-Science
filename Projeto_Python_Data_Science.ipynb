{
 "cells": [
  {
   "cell_type": "markdown",
   "metadata": {
    "application/vnd.databricks.v1+cell": {
     "cellMetadata": {},
     "inputWidgets": {},
     "nuid": "35c4551b-bc07-494a-92ea-53b47d29bbd4",
     "showTitle": false,
     "title": ""
    },
    "id": "lQx6Mmv0OJyT"
   },
   "source": [
    "# Python para Data Science\n",
    "\n",
    "Notebook para o curso de Python para Data Science publicado na plataforma da [Alura](https://www.alura.com.br/)"
   ]
  },
  {
   "cell_type": "markdown",
   "metadata": {
    "application/vnd.databricks.v1+cell": {
     "cellMetadata": {},
     "inputWidgets": {},
     "nuid": "30c9d38c-da5c-44f2-a0cd-c5823dc33270",
     "showTitle": false,
     "title": ""
    },
    "id": "7SiB6JIpYKmY"
   },
   "source": [
    "# Introdução ao Python\n",
    "\n",
    "Vamos conhecer o Python, nosso ambiente de estudo e também faremos nosso primeiro código nessa linguagem!"
   ]
  },
  {
   "cell_type": "markdown",
   "metadata": {
    "application/vnd.databricks.v1+cell": {
     "cellMetadata": {},
     "inputWidgets": {},
     "nuid": "05323db8-1e13-46aa-8fdb-2b9656a21d3f",
     "showTitle": false,
     "title": ""
    },
    "id": "Yugfb3fCOYY9"
   },
   "source": [
    "## Google Colaboratory\n",
    "\n",
    "Já aprendemos o que é o [Python](https://www.python.org/) agora vamos aprender a utilzar o [Google Colaboratory](https://colab.research.google.com/) e programar em um notebook.\n",
    "\n",
    "Vamos testar algumas funções dessa ferramenta."
   ]
  },
  {
   "cell_type": "markdown",
   "metadata": {
    "application/vnd.databricks.v1+cell": {
     "cellMetadata": {},
     "inputWidgets": {},
     "nuid": "54a6e3f9-4642-401f-b340-26597f746f52",
     "showTitle": false,
     "title": ""
    },
    "id": "2iUHQsJasJAk"
   },
   "source": [
    " **`>>> Use essa célula para mover <<<`**"
   ]
  },
  {
   "cell_type": "code",
   "execution_count": 0,
   "metadata": {
    "application/vnd.databricks.v1+cell": {
     "cellMetadata": {
      "byteLimit": 2048000,
      "rowLimit": 10000
     },
     "inputWidgets": {},
     "nuid": "46a2f265-54ba-4f3e-a90e-343829fb85bc",
     "showTitle": false,
     "title": ""
    },
    "id": "tWQp3j7S6MTX"
   },
   "outputs": [
    {
     "output_type": "stream",
     "name": "stdout",
     "output_type": "stream",
     "text": [
      "Out[1]: 10"
     ]
    }
   ],
   "source": [
    "10"
   ]
  },
  {
   "cell_type": "markdown",
   "metadata": {
    "application/vnd.databricks.v1+cell": {
     "cellMetadata": {},
     "inputWidgets": {},
     "nuid": "38791678-ce1b-41bf-9fe9-59b4238a5b54",
     "showTitle": false,
     "title": ""
    },
    "id": "aLSFP2V7XTfe"
   },
   "source": [
    "## Olá mundo!\n",
    "\n",
    "Vamso conhecer mais como funciona o ambiente interativo de um notebook. Para isso vamos executar nosso primeiro comando em Python: [`print()`](https://docs.python.org/3/library/functions.html#print)"
   ]
  },
  {
   "cell_type": "code",
   "execution_count": 0,
   "metadata": {
    "application/vnd.databricks.v1+cell": {
     "cellMetadata": {
      "byteLimit": 2048000,
      "rowLimit": 10000
     },
     "inputWidgets": {},
     "nuid": "622d1502-d341-49f8-a751-80ab537717c8",
     "showTitle": false,
     "title": ""
    },
    "id": "tNeEkSW06K8X"
   },
   "outputs": [
    {
     "output_type": "stream",
     "name": "stdout",
     "output_type": "stream",
     "text": [
      "Olá mundo!\n"
     ]
    }
   ],
   "source": [
    "print('Olá mundo!')"
   ]
  },
  {
   "cell_type": "code",
   "execution_count": 0,
   "metadata": {
    "application/vnd.databricks.v1+cell": {
     "cellMetadata": {
      "byteLimit": 2048000,
      "rowLimit": 10000
     },
     "inputWidgets": {},
     "nuid": "c81d576c-3c87-4a46-b1ef-b0604092eb5f",
     "showTitle": false,
     "title": ""
    },
    "id": "2sKZJ-PO6K0w"
   },
   "outputs": [
    {
     "output_type": "stream",
     "name": "stdout",
     "output_type": "stream",
     "text": [
      "10\n"
     ]
    }
   ],
   "source": [
    "print(10)"
   ]
  },
  {
   "cell_type": "code",
   "execution_count": 0,
   "metadata": {
    "application/vnd.databricks.v1+cell": {
     "cellMetadata": {
      "byteLimit": 2048000,
      "rowLimit": 10000
     },
     "inputWidgets": {},
     "nuid": "3ba55d44-acdd-4b08-9342-e0048842046e",
     "showTitle": false,
     "title": ""
    }
   },
   "outputs": [
    {
     "output_type": "stream",
     "name": "stdout",
     "output_type": "stream",
     "text": [
      "José 35\n"
     ]
    }
   ],
   "source": [
    "print('José', 35)"
   ]
  },
  {
   "cell_type": "markdown",
   "metadata": {
    "application/vnd.databricks.v1+cell": {
     "cellMetadata": {},
     "inputWidgets": {},
     "nuid": "addaa8e7-aafd-4eb6-a702-e518b0bd73c2",
     "showTitle": false,
     "title": ""
    },
    "id": "iP8uWQmFYFRs"
   },
   "source": [
    "# Manipulando dados\n",
    "\n",
    "Vamos aprender sobre as variáveis no python, como elas são declaradas e utilizadas além de conhecer outros comandos dentro do Python. :D"
   ]
  },
  {
   "cell_type": "markdown",
   "metadata": {
    "application/vnd.databricks.v1+cell": {
     "cellMetadata": {},
     "inputWidgets": {},
     "nuid": "4a5334f3-1d42-4c90-8ace-4941abb0deb9",
     "showTitle": false,
     "title": ""
    },
    "id": "sLNVmnTbag1Z"
   },
   "source": [
    "## Variáveis\n",
    "\n",
    "Em Data Science nós trabalhamos com vários dados e informações, então é essencial saber trabalhar com variáveis."
   ]
  },
  {
   "cell_type": "markdown",
   "metadata": {
    "application/vnd.databricks.v1+cell": {
     "cellMetadata": {},
     "inputWidgets": {},
     "nuid": "a0a151d2-4973-412d-b2f3-73771c582011",
     "showTitle": false,
     "title": ""
    },
    "id": "lsCY0wahAbf6"
   },
   "source": [
    "Criamos uma variável no python através da atribuição de um valor a ela.\n",
    "\n",
    "Para fazer isso, colocamos o nome da variável um sinal de igual (`=`) e o valor que queremos atribuir"
   ]
  },
  {
   "cell_type": "code",
   "execution_count": 0,
   "metadata": {
    "application/vnd.databricks.v1+cell": {
     "cellMetadata": {
      "byteLimit": 2048000,
      "rowLimit": 10000
     },
     "inputWidgets": {},
     "nuid": "5d8b94bf-1f2b-4098-be8c-b3d9efafc7c5",
     "showTitle": false,
     "title": ""
    },
    "id": "8J3pJghf57ZI"
   },
   "outputs": [],
   "source": [
    "idade = 5"
   ]
  },
  {
   "cell_type": "code",
   "execution_count": 0,
   "metadata": {
    "application/vnd.databricks.v1+cell": {
     "cellMetadata": {
      "byteLimit": 2048000,
      "rowLimit": 10000
     },
     "inputWidgets": {},
     "nuid": "540ef49a-93ea-490d-9b83-3b43f2b7d033",
     "showTitle": false,
     "title": ""
    },
    "id": "Byehj1QR57S1"
   },
   "outputs": [
    {
     "output_type": "stream",
     "name": "stdout",
     "output_type": "stream",
     "text": [
      "5\n"
     ]
    }
   ],
   "source": [
    "print(idade)"
   ]
  },
  {
   "cell_type": "code",
   "execution_count": 0,
   "metadata": {
    "application/vnd.databricks.v1+cell": {
     "cellMetadata": {
      "byteLimit": 2048000,
      "rowLimit": 10000
     },
     "inputWidgets": {},
     "nuid": "fd93d85f-f2ea-427a-8543-44325d2cd6d2",
     "showTitle": false,
     "title": ""
    },
    "id": "cMjXA8DO58Uj"
   },
   "outputs": [
    {
     "output_type": "stream",
     "name": "stdout",
     "output_type": "stream",
     "text": [
      "10\n"
     ]
    }
   ],
   "source": [
    "idade = 10\n",
    "print(idade)"
   ]
  },
  {
   "cell_type": "code",
   "execution_count": 0,
   "metadata": {
    "application/vnd.databricks.v1+cell": {
     "cellMetadata": {
      "byteLimit": 2048000,
      "rowLimit": 10000
     },
     "inputWidgets": {},
     "nuid": "30555fd1-f77a-4f86-9116-d5a19d28f7ca",
     "showTitle": false,
     "title": ""
    },
    "id": "82qmrXyz58SD"
   },
   "outputs": [
    {
     "output_type": "stream",
     "name": "stdout",
     "output_type": "stream",
     "text": [
      "Out[8]: 15"
     ]
    }
   ],
   "source": [
    "idade = 15\n",
    "idade"
   ]
  },
  {
   "cell_type": "code",
   "execution_count": 0,
   "metadata": {
    "application/vnd.databricks.v1+cell": {
     "cellMetadata": {
      "byteLimit": 2048000,
      "rowLimit": 10000
     },
     "inputWidgets": {},
     "nuid": "1ffca154-e033-4c7e-b90b-09454db19c01",
     "showTitle": false,
     "title": ""
    },
    "id": "h0QjCDb15z7-"
   },
   "outputs": [
    {
     "output_type": "stream",
     "name": "stdout",
     "output_type": "stream",
     "text": [
      "Out[9]: 'Gabriel'"
     ]
    }
   ],
   "source": [
    "nome = 'Gabriel'\n",
    "nome"
   ]
  },
  {
   "cell_type": "markdown",
   "metadata": {
    "application/vnd.databricks.v1+cell": {
     "cellMetadata": {},
     "inputWidgets": {},
     "nuid": "0a797938-8642-4f61-8d20-7063f1d548c9",
     "showTitle": false,
     "title": ""
    },
    "id": "om2N0jHKAzwL"
   },
   "source": [
    "Nomes que **não** podemos definir para variáveis:\n",
    "\n",
    "- **Nomes que começam com números**\n",
    "  - Exemplos: `10_notas`, `2_nomes_casa`, etc.\n",
    "- **Palavras separada por espaço**\n",
    "  - Exemplos: `Nome escola`, `notas estudantes`, etc.\n",
    "- **Nomes de funções do Python**\n",
    "  - Exemplos: `print`, `type`, etc."
   ]
  },
  {
   "cell_type": "markdown",
   "metadata": {
    "application/vnd.databricks.v1+cell": {
     "cellMetadata": {},
     "inputWidgets": {},
     "nuid": "d688b2ae-6a3b-4a4e-9b1d-4041c3a8a6ac",
     "showTitle": false,
     "title": ""
    },
    "id": "A19vY2GVMujB"
   },
   "source": [
    "> Letras maiúsculas e minúsculas vão gerar diferentes variáveis. A varíavel `idade` é diferente de `Idade` que por sua vez também é diferente de `IDADE`:\n",
    "``` Python\n",
    "idade = 1\n",
    "Idade = 2\n",
    "IDADE = 3\n",
    "_idade = 4\n",
    "_idade_ = 5\n",
    "print(idade, Idade, IDADE, _idade, _idade_)\n",
    "1 2 3 4 5\n",
    "```"
   ]
  },
  {
   "cell_type": "markdown",
   "metadata": {
    "application/vnd.databricks.v1+cell": {
     "cellMetadata": {},
     "inputWidgets": {},
     "nuid": "09136db1-d512-4a1d-a828-1ec634111b32",
     "showTitle": false,
     "title": ""
    },
    "id": "UqhzuBhBHsps"
   },
   "source": [
    "## Tipos de variáveis\n",
    "\n",
    "Cada variável contém uma classe especifica quanto ao tipo de objeto que ela está se referenciando. Essas classes vão ser diferentes a partir do tipo de dado que nós atribuimos a uma variável.\n",
    "\n",
    "Para saber a classe de cada elemento usamos a função [`type()`](https://docs.python.org/3/library/functions.html#type)"
   ]
  },
  {
   "cell_type": "code",
   "execution_count": 0,
   "metadata": {
    "application/vnd.databricks.v1+cell": {
     "cellMetadata": {
      "byteLimit": 2048000,
      "rowLimit": 10000
     },
     "inputWidgets": {},
     "nuid": "6b9eaa63-fe13-48de-852b-4ed8d9584405",
     "showTitle": false,
     "title": ""
    },
    "id": "-tb-XRcq5v9W"
   },
   "outputs": [
    {
     "output_type": "stream",
     "name": "stdout",
     "output_type": "stream",
     "text": [
      "Out[10]: int"
     ]
    }
   ],
   "source": [
    "i = 5\n",
    "type(i)"
   ]
  },
  {
   "cell_type": "code",
   "execution_count": 0,
   "metadata": {
    "application/vnd.databricks.v1+cell": {
     "cellMetadata": {
      "byteLimit": 2048000,
      "rowLimit": 10000
     },
     "inputWidgets": {},
     "nuid": "74c67b57-f80d-414d-8fe0-df9a75af4a34",
     "showTitle": false,
     "title": ""
    },
    "id": "5ncn48tw5vw2"
   },
   "outputs": [
    {
     "output_type": "stream",
     "name": "stdout",
     "output_type": "stream",
     "text": [
      "Out[11]: float"
     ]
    }
   ],
   "source": [
    "f = 9.8\n",
    "type(f)"
   ]
  },
  {
   "cell_type": "code",
   "execution_count": 0,
   "metadata": {
    "application/vnd.databricks.v1+cell": {
     "cellMetadata": {
      "byteLimit": 2048000,
      "rowLimit": 10000
     },
     "inputWidgets": {},
     "nuid": "2bb139c4-d5c0-483a-8940-fae7b9b41e2c",
     "showTitle": false,
     "title": ""
    },
    "id": "PURhkDrw5vpB"
   },
   "outputs": [
    {
     "output_type": "stream",
     "name": "stdout",
     "output_type": "stream",
     "text": [
      "Out[12]: str"
     ]
    }
   ],
   "source": [
    "s = 'José'\n",
    "type(s)"
   ]
  },
  {
   "cell_type": "code",
   "execution_count": 0,
   "metadata": {
    "application/vnd.databricks.v1+cell": {
     "cellMetadata": {
      "byteLimit": 2048000,
      "rowLimit": 10000
     },
     "inputWidgets": {},
     "nuid": "b8142324-592b-47ea-9fed-8f907bb11f57",
     "showTitle": false,
     "title": ""
    },
    "id": "w0XcF4MC5vhw"
   },
   "outputs": [
    {
     "output_type": "stream",
     "name": "stdout",
     "output_type": "stream",
     "text": [
      "Out[13]: bool"
     ]
    }
   ],
   "source": [
    "b = True\n",
    "type(b)"
   ]
  },
  {
   "cell_type": "markdown",
   "metadata": {
    "application/vnd.databricks.v1+cell": {
     "cellMetadata": {},
     "inputWidgets": {},
     "nuid": "4f58a376-57a2-4f50-8605-c7475811387b",
     "showTitle": false,
     "title": ""
    },
    "id": "O-FxDumfWu0C"
   },
   "source": [
    "Em um conjunto de dados escolares podemos ter vários tipos de informações. Digamos que tenhamos acesso à ficha de dados do aluno *Frabicio Daniel* como transformamos ela em variáveis no Python?\n",
    "\n",
    "#### Ficha:\n",
    "\n",
    "- Nome: Fabricio Daniel\n",
    "- Idade: 15 anos\n",
    "- Media do semestre: 8,45\n",
    "- Situação de aprovação: Verdadeira (aprovado)"
   ]
  },
  {
   "cell_type": "code",
   "execution_count": 0,
   "metadata": {
    "application/vnd.databricks.v1+cell": {
     "cellMetadata": {
      "byteLimit": 2048000,
      "rowLimit": 10000
     },
     "inputWidgets": {},
     "nuid": "e5aecebf-3518-472e-a608-05b656707447",
     "showTitle": false,
     "title": ""
    },
    "id": "xZ3Exi2L5ozi"
   },
   "outputs": [
    {
     "output_type": "stream",
     "name": "stdout",
     "output_type": "stream",
     "text": [
      "Fabricio Daniel 15 8.45 True\n"
     ]
    }
   ],
   "source": [
    "nome_aluno = 'Fabricio Daniel'\n",
    "idade_aluno = 15\n",
    "media_aluno = 8.45\n",
    "situacao_aprovado = True\n",
    "\n",
    "print(nome_aluno, idade_aluno, media_aluno, situacao_aprovado)"
   ]
  },
  {
   "cell_type": "markdown",
   "metadata": {
    "application/vnd.databricks.v1+cell": {
     "cellMetadata": {},
     "inputWidgets": {},
     "nuid": "0cbe5709-bb95-4ef6-bf71-ffce8dbf2e11",
     "showTitle": false,
     "title": ""
    },
    "id": "KFq_8Sxf-OG0"
   },
   "source": [
    "## Variáveis numéricas\n",
    "\n",
    "Entre os tipos de dados numéricos vamos nos focar no tipo `inteiro` e `float`."
   ]
  },
  {
   "cell_type": "markdown",
   "metadata": {
    "application/vnd.databricks.v1+cell": {
     "cellMetadata": {},
     "inputWidgets": {},
     "nuid": "9984348f-ae9e-4ab5-90bf-172cc4025e92",
     "showTitle": false,
     "title": ""
    },
    "id": "8_HYUbkVYdQY"
   },
   "source": [
    "Temos uma tabela de informação de empregos quanto ao cargo, quantidade de pessoas empregadas e o salário correspondente:\n",
    "\n",
    "|Cargo | Quantidade | Salário|\n",
    "|---|---|---|\n",
    "|Segurança | 5 | 3000 |\n",
    "|Docente | 16| 6000|\n",
    "|Diretoria| 1 |12500|\n",
    "\n",
    "Precisamos trabalhar com esses dados fornecendo:\n",
    "\n",
    "- A quantidade total de empregados;\n",
    "- A diferença entre o salário mais baixo e mais alto; e\n",
    "- A média ponderada da faixa salarial da escola."
   ]
  },
  {
   "cell_type": "code",
   "execution_count": 0,
   "metadata": {
    "application/vnd.databricks.v1+cell": {
     "cellMetadata": {
      "byteLimit": 2048000,
      "rowLimit": 10000
     },
     "inputWidgets": {},
     "nuid": "854f625a-4eda-46e0-8b5f-232a8cf2bc28",
     "showTitle": false,
     "title": ""
    },
    "id": "xJIq5MRRZAlj"
   },
   "outputs": [],
   "source": [
    "q_seguranca = 5\n",
    "s_seguranca = 3000\n",
    "\n",
    "q_docente = 16\n",
    "s_docente = 6000\n",
    "\n",
    "q_diretoria = 1\n",
    "s_diretoria = 12500"
   ]
  },
  {
   "cell_type": "code",
   "execution_count": 0,
   "metadata": {
    "application/vnd.databricks.v1+cell": {
     "cellMetadata": {
      "byteLimit": 2048000,
      "rowLimit": 10000
     },
     "inputWidgets": {},
     "nuid": "4cc3bdde-e289-44ef-9daa-ca552b48a965",
     "showTitle": false,
     "title": ""
    },
    "id": "pIgt-k6T5WpB"
   },
   "outputs": [
    {
     "output_type": "stream",
     "name": "stdout",
     "output_type": "stream",
     "text": [
      "Out[20]: 22"
     ]
    }
   ],
   "source": [
    "total_empregados = q_seguranca + q_docente + q_diretoria\n",
    "total_empregados"
   ]
  },
  {
   "cell_type": "code",
   "execution_count": 0,
   "metadata": {
    "application/vnd.databricks.v1+cell": {
     "cellMetadata": {
      "byteLimit": 2048000,
      "rowLimit": 10000
     },
     "inputWidgets": {},
     "nuid": "e3b4b991-40f5-42f2-9a17-04c7531dd806",
     "showTitle": false,
     "title": ""
    },
    "id": "bL9uGHvp5We5"
   },
   "outputs": [
    {
     "output_type": "stream",
     "name": "stdout",
     "output_type": "stream",
     "text": [
      "Out[19]: 9500"
     ]
    }
   ],
   "source": [
    "diferenca_salario = s_diretoria - s_seguranca\n",
    "diferenca_salario"
   ]
  },
  {
   "cell_type": "code",
   "execution_count": 0,
   "metadata": {
    "application/vnd.databricks.v1+cell": {
     "cellMetadata": {
      "byteLimit": 2048000,
      "rowLimit": 10000
     },
     "inputWidgets": {},
     "nuid": "6ab9fc42-8531-46a9-8c6e-feb7379673c8",
     "showTitle": false,
     "title": ""
    },
    "id": "GpTS_c8_5WX_"
   },
   "outputs": [
    {
     "output_type": "stream",
     "name": "stdout",
     "output_type": "stream",
     "text": [
      "Out[21]: 5613.636363636364"
     ]
    }
   ],
   "source": [
    "media = (q_seguranca * s_seguranca + q_docente * s_docente + q_diretoria * s_diretoria) / (total_empregados)\n",
    "media"
   ]
  },
  {
   "cell_type": "markdown",
   "metadata": {
    "application/vnd.databricks.v1+cell": {
     "cellMetadata": {},
     "inputWidgets": {},
     "nuid": "1fa7cbad-8825-4de9-b32e-d77c36323858",
     "showTitle": false,
     "title": ""
    },
    "id": "yQy7b0ZWoD-P"
   },
   "source": [
    "## Strings"
   ]
  },
  {
   "cell_type": "markdown",
   "metadata": {
    "application/vnd.databricks.v1+cell": {
     "cellMetadata": {},
     "inputWidgets": {},
     "nuid": "d5401270-72dd-4a44-aba3-4b7f5ba1924a",
     "showTitle": false,
     "title": ""
    },
    "id": "vlo2-DXusv3s"
   },
   "source": [
    "Strings são caracterizada por ter um conjunto de caracteres formando um texto.\n",
    "\n",
    "Strigs podem ser criadas ao atribuirmos a uma variável um dado que esteja entre aspas simples (`'`) ou aspas duplas (`\"`)"
   ]
  },
  {
   "cell_type": "code",
   "execution_count": 0,
   "metadata": {
    "application/vnd.databricks.v1+cell": {
     "cellMetadata": {
      "byteLimit": 2048000,
      "rowLimit": 10000
     },
     "inputWidgets": {},
     "nuid": "2e1186bc-e92f-4de9-b7ec-bea0666e64df",
     "showTitle": false,
     "title": ""
    },
    "id": "SSinaAb15FWn"
   },
   "outputs": [
    {
     "output_type": "stream",
     "name": "stdout",
     "output_type": "stream",
     "text": [
      "<class 'str'> <class 'str'>\n"
     ]
    }
   ],
   "source": [
    "s1 = 'Alura'\n",
    "s2 = \"Alura\"\n",
    "\n",
    "print(type(s1), type(s2))"
   ]
  },
  {
   "cell_type": "markdown",
   "metadata": {
    "application/vnd.databricks.v1+cell": {
     "cellMetadata": {},
     "inputWidgets": {},
     "nuid": "b5552ee0-a2c7-4775-a4dc-08c56e4ac981",
     "showTitle": false,
     "title": ""
    },
    "id": "2e9UD_CCxqz_"
   },
   "source": [
    "As variáveis textuais contém vários métodos que nos ajudam a formatar strings. Métódos podem ser executados ao definirmos um objeto seguindo a seguinte estrutura:\n",
    "\n",
    "```\n",
    "objeto.metodo()\n",
    "```\n",
    "\n",
    "Existem métodos que não necessitam dos `()`, é preciso verificar a documentação de cada caso."
   ]
  },
  {
   "cell_type": "markdown",
   "metadata": {
    "application/vnd.databricks.v1+cell": {
     "cellMetadata": {},
     "inputWidgets": {},
     "nuid": "cb12d49e-f40f-4cdf-b58e-8441c1341c9c",
     "showTitle": false,
     "title": ""
    },
    "id": "p6aPmMGP4tf9"
   },
   "source": [
    "---\n",
    "**Situação:**\n",
    "\n",
    "Recebemos uma variável com o nome de uma professora da escola para inserimos no cadastro. No entanto, precisamos tratar esse texto antes de inserirmos no sistema"
   ]
  },
  {
   "cell_type": "code",
   "execution_count": 0,
   "metadata": {
    "application/vnd.databricks.v1+cell": {
     "cellMetadata": {
      "byteLimit": 2048000,
      "rowLimit": 10000
     },
     "inputWidgets": {},
     "nuid": "3a427953-1cb6-4105-8de0-e63d79c50797",
     "showTitle": false,
     "title": ""
    },
    "id": "4tkS8Iit1Ccg"
   },
   "outputs": [],
   "source": [
    "texto = '  Geovana Alessandra dias Sanyos '"
   ]
  },
  {
   "cell_type": "markdown",
   "metadata": {
    "application/vnd.databricks.v1+cell": {
     "cellMetadata": {},
     "inputWidgets": {},
     "nuid": "67b5c2a7-97e5-4f9d-a123-74ffcdaa3d86",
     "showTitle": false,
     "title": ""
    },
    "id": "Dg2ZXSZOGzjC"
   },
   "source": [
    "O objetivo final é que o nome esteja da seguinte forma:\n",
    "\n",
    "```\n",
    "'GEOVANA ALESSANDRA DIAS SANTOS'\n",
    "```"
   ]
  },
  {
   "cell_type": "markdown",
   "metadata": {
    "application/vnd.databricks.v1+cell": {
     "cellMetadata": {},
     "inputWidgets": {},
     "nuid": "2212d00e-9f78-4199-8441-7ee9cc40615c",
     "showTitle": false,
     "title": ""
    },
    "id": "iVTAD8q702eN"
   },
   "source": [
    "### [`str.upper()` ](https://docs.python.org/3/library/stdtypes.html#str.upper)\n",
    "Converte uma string para maiúsculas"
   ]
  },
  {
   "cell_type": "code",
   "execution_count": 0,
   "metadata": {
    "application/vnd.databricks.v1+cell": {
     "cellMetadata": {
      "byteLimit": 2048000,
      "rowLimit": 10000
     },
     "inputWidgets": {},
     "nuid": "8430722b-54b2-485b-b28b-663e8f015574",
     "showTitle": false,
     "title": ""
    },
    "id": "sWMt1iWW5LdN"
   },
   "outputs": [
    {
     "output_type": "stream",
     "name": "stdout",
     "output_type": "stream",
     "text": [
      "Out[24]: '  GEOVANA ALESSANDRA DIAS SANYOS '"
     ]
    }
   ],
   "source": [
    "texto.upper()"
   ]
  },
  {
   "cell_type": "markdown",
   "metadata": {
    "application/vnd.databricks.v1+cell": {
     "cellMetadata": {},
     "inputWidgets": {},
     "nuid": "1d31597e-b626-4281-8214-f6859cc6bcb1",
     "showTitle": false,
     "title": ""
    },
    "id": "hbDSBtMV1TpG"
   },
   "source": [
    "### [`str.lower()`](https://docs.python.org/3/library/stdtypes.html#str.lower)\n",
    "Método converte uma string para minúsculas."
   ]
  },
  {
   "cell_type": "code",
   "execution_count": 0,
   "metadata": {
    "application/vnd.databricks.v1+cell": {
     "cellMetadata": {
      "byteLimit": 2048000,
      "rowLimit": 10000
     },
     "inputWidgets": {},
     "nuid": "25ef0f80-5f0d-4c57-913b-acd6a0f89d6f",
     "showTitle": false,
     "title": ""
    },
    "id": "ypSOC5WR5MTi"
   },
   "outputs": [
    {
     "output_type": "stream",
     "name": "stdout",
     "output_type": "stream",
     "text": [
      "Out[25]: '  geovana alessandra dias sanyos '"
     ]
    }
   ],
   "source": [
    "texto.lower()"
   ]
  },
  {
   "cell_type": "markdown",
   "metadata": {
    "application/vnd.databricks.v1+cell": {
     "cellMetadata": {},
     "inputWidgets": {},
     "nuid": "2949cf34-dcf9-49da-b60e-91826c4439b2",
     "showTitle": false,
     "title": ""
    },
    "id": "kz47eWM11gii"
   },
   "source": [
    "### [`str.strip()`](https://docs.python.org/3/library/stdtypes.html#str.strip)\n",
    "Método remove os espaços em branco do início e do fim de uma string."
   ]
  },
  {
   "cell_type": "code",
   "execution_count": 0,
   "metadata": {
    "application/vnd.databricks.v1+cell": {
     "cellMetadata": {
      "byteLimit": 2048000,
      "rowLimit": 10000
     },
     "inputWidgets": {},
     "nuid": "9ca02bd9-3147-4977-9ed7-d945102277a3",
     "showTitle": false,
     "title": ""
    },
    "id": "Xys25o1N5NKD"
   },
   "outputs": [
    {
     "output_type": "stream",
     "name": "stdout",
     "output_type": "stream",
     "text": [
      "Out[26]: 'Geovana Alessandra dias Sanyos'"
     ]
    }
   ],
   "source": [
    "texto.strip()"
   ]
  },
  {
   "cell_type": "markdown",
   "metadata": {
    "application/vnd.databricks.v1+cell": {
     "cellMetadata": {},
     "inputWidgets": {},
     "nuid": "2b38e63b-c8fc-413a-befd-9dcf38108c8f",
     "showTitle": false,
     "title": ""
    },
    "id": "m6notiyS1SCV"
   },
   "source": [
    "### [`str.replace(antigo, novo)`](https://docs.python.org/3/library/stdtypes.html#str.replace)\n",
    "\n",
    "Método substitui todas as ocorrências do texto \"antigo\" na string por \"novo\""
   ]
  },
  {
   "cell_type": "code",
   "execution_count": 0,
   "metadata": {
    "application/vnd.databricks.v1+cell": {
     "cellMetadata": {
      "byteLimit": 2048000,
      "rowLimit": 10000
     },
     "inputWidgets": {},
     "nuid": "59618826-4090-4088-ba7d-5c92dea4fae4",
     "showTitle": false,
     "title": ""
    },
    "id": "oY2mU2Id5OcO"
   },
   "outputs": [
    {
     "output_type": "stream",
     "name": "stdout",
     "output_type": "stream",
     "text": [
      "Out[27]: '  Geovana Alessandra dias Santos '"
     ]
    }
   ],
   "source": [
    "texto.replace('y', 't')"
   ]
  },
  {
   "cell_type": "markdown",
   "metadata": {
    "application/vnd.databricks.v1+cell": {
     "cellMetadata": {},
     "inputWidgets": {},
     "nuid": "aa318fdb-73df-415e-9a7b-4a5880c33a55",
     "showTitle": false,
     "title": ""
    },
    "id": "zukvEjhG2Rcn"
   },
   "source": [
    "### Observações\n",
    "\n",
    "1. Os métodos retornam uma **tranformação**, não a executam no texto!\n",
    "\n",
    "2. Além disso, podemos acumular a execução de métodos."
   ]
  },
  {
   "cell_type": "code",
   "execution_count": 0,
   "metadata": {
    "application/vnd.databricks.v1+cell": {
     "cellMetadata": {
      "byteLimit": 2048000,
      "rowLimit": 10000
     },
     "inputWidgets": {},
     "nuid": "31d8f3f8-9a72-4064-8c9a-890dd7a4fa36",
     "showTitle": false,
     "title": ""
    },
    "id": "Q6O5y20u5PQk"
   },
   "outputs": [
    {
     "output_type": "stream",
     "name": "stdout",
     "output_type": "stream",
     "text": [
      "Out[28]: '  Geovana Alessandra dias Sanyos '"
     ]
    }
   ],
   "source": [
    "texto"
   ]
  },
  {
   "cell_type": "markdown",
   "metadata": {
    "application/vnd.databricks.v1+cell": {
     "cellMetadata": {},
     "inputWidgets": {},
     "nuid": "c23fe73d-bf95-4642-ab68-db7d46929aa7",
     "showTitle": false,
     "title": ""
    },
    "id": "1KbwfVut2h6I"
   },
   "source": [
    "Para que seja executada a transformação nós podemos atribuir às saídas das transformações à variável"
   ]
  },
  {
   "cell_type": "code",
   "execution_count": 0,
   "metadata": {
    "application/vnd.databricks.v1+cell": {
     "cellMetadata": {
      "byteLimit": 2048000,
      "rowLimit": 10000
     },
     "inputWidgets": {},
     "nuid": "f62aa904-c71d-4379-b498-a4165b9a471a",
     "showTitle": false,
     "title": ""
    },
    "id": "W6DiHv2H5Tq-"
   },
   "outputs": [
    {
     "output_type": "stream",
     "name": "stdout",
     "output_type": "stream",
     "text": [
      "Out[29]: 'GEOVANA ALESSANDRA DIAS SANTOS'"
     ]
    }
   ],
   "source": [
    "texto = texto.strip().replace('y', 't').upper()\n",
    "texto"
   ]
  },
  {
   "cell_type": "markdown",
   "metadata": {
    "application/vnd.databricks.v1+cell": {
     "cellMetadata": {},
     "inputWidgets": {},
     "nuid": "e5db1584-9b8c-4bea-bb56-d5cabbc13fcc",
     "showTitle": false,
     "title": ""
    },
    "id": "0h9Fh5G9kHCa"
   },
   "source": [
    "## Coletando dados\n",
    "\n",
    "Em algumas aplicações precisamos coletar valores da pessoa usuária do nosso projeto. Em python conseguimos coletar dados de usuário através do comando [`input()`](https://docs.python.org/3/library/functions.html#input).\n",
    "\n",
    "Para fazer essa coleta podemos atribuir essa função à uma variável."
   ]
  },
  {
   "cell_type": "code",
   "execution_count": 0,
   "metadata": {
    "application/vnd.databricks.v1+cell": {
     "cellMetadata": {
      "byteLimit": 2048000,
      "rowLimit": 10000
     },
     "inputWidgets": {},
     "nuid": "e39239da-ae7f-47b4-bdfd-b49b23b82185",
     "showTitle": false,
     "title": ""
    },
    "id": "iEJyxhIj41id"
   },
   "outputs": [
    {
     "output_type": "display_data",
     "data": {
      "text/plain": [
       "Escreva seu nome:  José"
      ]
     },
     "metadata": {},
     "output_type": "display_data"
    }
   ],
   "source": [
    "nome = input('Escreva seu nome: ')"
   ]
  },
  {
   "cell_type": "code",
   "execution_count": 0,
   "metadata": {
    "application/vnd.databricks.v1+cell": {
     "cellMetadata": {
      "byteLimit": 2048000,
      "rowLimit": 10000
     },
     "inputWidgets": {},
     "nuid": "52da5298-1cad-4f22-8168-8d9807747394",
     "showTitle": false,
     "title": ""
    },
    "id": "MoMXzZkC41Ze"
   },
   "outputs": [
    {
     "output_type": "stream",
     "name": "stdout",
     "output_type": "stream",
     "text": [
      "Out[32]: 'José'"
     ]
    }
   ],
   "source": [
    "nome"
   ]
  },
  {
   "cell_type": "markdown",
   "metadata": {
    "application/vnd.databricks.v1+cell": {
     "cellMetadata": {},
     "inputWidgets": {},
     "nuid": "15aaea5a-6d6f-4c91-9db8-b9ad9de53a8f",
     "showTitle": false,
     "title": ""
    },
    "id": "7z7hcLCk_aCY"
   },
   "source": [
    "O retorno desse comando sempre será uma *string*. Isso quer dizer que mesmo que façamos uma coleta de algo que deva ser numérico, ele será uma string. \n",
    "\n",
    "Então, será preciso **converter o resultado caso não seja desejável obter uma string**."
   ]
  },
  {
   "cell_type": "markdown",
   "metadata": {
    "application/vnd.databricks.v1+cell": {
     "cellMetadata": {},
     "inputWidgets": {},
     "nuid": "60b56544-7b4d-4e40-951d-58e502dda69d",
     "showTitle": false,
     "title": ""
    },
    "id": "TOlegATj1Jfp"
   },
   "source": [
    "Existem funções para conversão de valores:\n",
    "\n",
    "- Inteiros: [`int(dado_para_conversao)`](https://docs.python.org/3/library/functions.html#int)\n",
    "- Float: [`float(dado_para_conversao)`](https://docs.python.org/3/library/functions.html#float)\n",
    "- String: [`str(dado_para_conversao)`](https://docs.python.org/3/library/functions.html#func-str)\n",
    "- Booleano: [`bool(dado_para_conversao)`](https://docs.python.org/3/library/functions.html#bool)"
   ]
  },
  {
   "cell_type": "code",
   "execution_count": 0,
   "metadata": {
    "application/vnd.databricks.v1+cell": {
     "cellMetadata": {
      "byteLimit": 2048000,
      "rowLimit": 10000
     },
     "inputWidgets": {},
     "nuid": "38f557cc-9d3c-4cbb-967d-09b049d629c8",
     "showTitle": false,
     "title": ""
    },
    "id": "MQRu7y9646S9"
   },
   "outputs": [
    {
     "output_type": "display_data",
     "data": {
      "text/plain": [
       "Escreva o ano de ingresso do(a) estudante:  2023"
      ]
     },
     "metadata": {},
     "output_type": "display_data"
    }
   ],
   "source": [
    "ano_entrada = input('Escreva o ano de ingresso do(a) estudante: ')"
   ]
  },
  {
   "cell_type": "code",
   "execution_count": 0,
   "metadata": {
    "application/vnd.databricks.v1+cell": {
     "cellMetadata": {
      "byteLimit": 2048000,
      "rowLimit": 10000
     },
     "inputWidgets": {},
     "nuid": "4b417e38-e52f-48b3-bba1-e4dff08bce6e",
     "showTitle": false,
     "title": ""
    },
    "id": "FwezgXQA48VF"
   },
   "outputs": [
    {
     "output_type": "stream",
     "name": "stdout",
     "output_type": "stream",
     "text": [
      "Out[34]: str"
     ]
    }
   ],
   "source": [
    "type(ano_entrada)"
   ]
  },
  {
   "cell_type": "code",
   "execution_count": 0,
   "metadata": {
    "application/vnd.databricks.v1+cell": {
     "cellMetadata": {
      "byteLimit": 2048000,
      "rowLimit": 10000
     },
     "inputWidgets": {},
     "nuid": "fa04f9f3-9059-4268-a34a-ac38960e58a2",
     "showTitle": false,
     "title": ""
    },
    "id": "bbRqzmOJ49Q1"
   },
   "outputs": [
    {
     "output_type": "display_data",
     "data": {
      "text/plain": [
       "Escreva o ano de ingresso do(a) estudante:  2023"
      ]
     },
     "metadata": {},
     "output_type": "display_data"
    }
   ],
   "source": [
    "ano_entrada = int(input('Escreva o ano de ingresso do(a) estudante: '))"
   ]
  },
  {
   "cell_type": "code",
   "execution_count": 0,
   "metadata": {
    "application/vnd.databricks.v1+cell": {
     "cellMetadata": {
      "byteLimit": 2048000,
      "rowLimit": 10000
     },
     "inputWidgets": {},
     "nuid": "c8b164a2-4674-475e-9fad-b6592853212c",
     "showTitle": false,
     "title": ""
    },
    "id": "nu5xycbG4-X1"
   },
   "outputs": [
    {
     "output_type": "stream",
     "name": "stdout",
     "output_type": "stream",
     "text": [
      "Out[36]: int"
     ]
    }
   ],
   "source": [
    "type(ano_entrada)"
   ]
  },
  {
   "cell_type": "markdown",
   "metadata": {
    "application/vnd.databricks.v1+cell": {
     "cellMetadata": {},
     "inputWidgets": {},
     "nuid": "31f5a325-3360-4969-bc8f-3c5346d3d629",
     "showTitle": false,
     "title": ""
    },
    "id": "yNI2-XTbB3aS"
   },
   "source": [
    "Buscaremos apresentar melhor agora o resultado que obtivemos da transformação. Nós conseguimos formatar e apresentar o nosso resultado misturando strings com valores não textuais.\n",
    "\n",
    "Para fazer isso usamos a estrutura de formatação `f` com strings."
   ]
  },
  {
   "cell_type": "code",
   "execution_count": 0,
   "metadata": {
    "application/vnd.databricks.v1+cell": {
     "cellMetadata": {
      "byteLimit": 2048000,
      "rowLimit": 10000
     },
     "inputWidgets": {},
     "nuid": "3fc07bd4-f6f8-45eb-ad1c-a4d5d346feb7",
     "showTitle": false,
     "title": ""
    },
    "id": "b1eYnEX-4wXz"
   },
   "outputs": [
    {
     "output_type": "display_data",
     "data": {
      "text/plain": [
       "Digite a nota do teste de ingresso:  9.0"
      ]
     },
     "metadata": {},
     "output_type": "display_data"
    },
    {
     "output_type": "stream",
     "name": "stdout",
     "output_type": "stream",
     "text": [
      "Ano de entrada 2023 - nota do teste de ingresso 9.0\n"
     ]
    }
   ],
   "source": [
    "nota_entrada = float(input('Digite a nota do teste de ingresso: '))\n",
    "print(f'Ano de entrada {ano_entrada} - nota do teste de ingresso {nota_entrada}')"
   ]
  },
  {
   "cell_type": "markdown",
   "metadata": {
    "application/vnd.databricks.v1+cell": {
     "cellMetadata": {},
     "inputWidgets": {},
     "nuid": "11288b0b-990f-41a8-a23c-291a7fcac99e",
     "showTitle": false,
     "title": ""
    },
    "id": "NwRaiHHHhhyl"
   },
   "source": [
    "# Estruturas condicionais"
   ]
  },
  {
   "cell_type": "markdown",
   "metadata": {
    "application/vnd.databricks.v1+cell": {
     "cellMetadata": {},
     "inputWidgets": {},
     "nuid": "fd09b891-14b3-41fe-bceb-84699da822d9",
     "showTitle": false,
     "title": ""
    },
    "id": "qXZqg9aYEhAh"
   },
   "source": [
    "## `IF` e `ELSE`\n",
    "\n",
    "O `if` e `else` são duas estruturas condicionais. O `if` executará o bloco de comando caso a condição colocada for **verdadeira**. O `else` é um caso em que a condicional de `if` seja **falsa**."
   ]
  },
  {
   "cell_type": "markdown",
   "metadata": {
    "application/vnd.databricks.v1+cell": {
     "cellMetadata": {},
     "inputWidgets": {},
     "nuid": "e199d02f-bfcc-4a7f-8048-df0b8996d794",
     "showTitle": false,
     "title": ""
    },
    "id": "EIhlqHXd2Gil"
   },
   "source": [
    "O `if` é uma palavra-chave em Python que significa \"se\". Ele é usado para formar uma estrutura condicional, que permite que você verifique se uma determinada condição é verdadeira ou falsa e, em seguida, execute um bloco de código específico dependendo do resultado da verificação. A sintaxe para usar o `if` é:\n",
    "\n",
    "\n",
    "\n",
    "```\n",
    "if condição:\n",
    "    # faça algo\n",
    "```\n",
    "\n"
   ]
  },
  {
   "cell_type": "code",
   "execution_count": 0,
   "metadata": {
    "application/vnd.databricks.v1+cell": {
     "cellMetadata": {
      "byteLimit": 2048000,
      "rowLimit": 10000
     },
     "inputWidgets": {},
     "nuid": "2ea890ae-cd22-4b9d-9701-e163981e5e97",
     "showTitle": false,
     "title": ""
    },
    "id": "tKtzkTXW4j73"
   },
   "outputs": [
    {
     "output_type": "stream",
     "name": "stdout",
     "output_type": "stream",
     "text": [
      "Fora do bloco\n"
     ]
    }
   ],
   "source": [
    "if 2 > 7:\n",
    "    print('Condição verdadeira')\n",
    "    print()\n",
    "print('Fora do bloco')"
   ]
  },
  {
   "cell_type": "markdown",
   "metadata": {
    "application/vnd.databricks.v1+cell": {
     "cellMetadata": {},
     "inputWidgets": {},
     "nuid": "780df30b-b897-4a73-8a24-1d03e901b705",
     "showTitle": false,
     "title": ""
    },
    "id": "27RW2v_sIKct"
   },
   "source": [
    "Já o `else` em Python é usada em conjunto com a palavra-chave `if` para formar uma estrutura condicional. A sintaxe para usar o `else` é:\n",
    "\n",
    "```\n",
    "if condição:\n",
    "  # código caso seja verdade\n",
    "else:\n",
    "  # código caso seja falso\n",
    "```\n",
    "\n",
    "O `else` é executado quando a condição verificada pelo `if` é avaliada como `False`."
   ]
  },
  {
   "cell_type": "markdown",
   "metadata": {
    "application/vnd.databricks.v1+cell": {
     "cellMetadata": {},
     "inputWidgets": {},
     "nuid": "3c1b2bcc-95c9-4a17-89f4-09dc43359cfb",
     "showTitle": false,
     "title": ""
    },
    "id": "BqORg85XX-Nl"
   },
   "source": [
    "---\n",
    "**Situação:**\n",
    "\n",
    "Receberemos a média de estudantes e precisamos de um algoritmo que execute a análise e decida se esse estudante está **Aprovado** ou Reprovado, mostrando uma mensagem do resultado. Para ser aprovado, a média precisa ser igual ou superior à 6.0."
   ]
  },
  {
   "cell_type": "code",
   "execution_count": 0,
   "metadata": {
    "application/vnd.databricks.v1+cell": {
     "cellMetadata": {
      "byteLimit": 2048000,
      "rowLimit": 10000
     },
     "inputWidgets": {},
     "nuid": "f89af4d5-5692-433c-9738-382706d7ba9a",
     "showTitle": false,
     "title": ""
    },
    "id": "yaR8bt1P4iCv"
   },
   "outputs": [
    {
     "output_type": "display_data",
     "data": {
      "text/plain": [
       "Digite a média:  4"
      ]
     },
     "metadata": {},
     "output_type": "display_data"
    },
    {
     "output_type": "stream",
     "name": "stdout",
     "output_type": "stream",
     "text": [
      "Reprovado(a)\n"
     ]
    }
   ],
   "source": [
    "media = float(input('Digite a média: '))\n",
    "\n",
    "if media >= 6.0:\n",
    "    print('Aprovado(a)')\n",
    "else:\n",
    "    print('Reprovado(a)')"
   ]
  },
  {
   "cell_type": "markdown",
   "metadata": {
    "application/vnd.databricks.v1+cell": {
     "cellMetadata": {},
     "inputWidgets": {},
     "nuid": "5155f1d4-4ff8-45ce-9178-2eabc729d76c",
     "showTitle": false,
     "title": ""
    },
    "id": "bD9O17HB6LUo"
   },
   "source": [
    "Agora a nossa instituição de ensino lançou uma nota oficial que pessoas que tenham média entre 4.0 e 6.0 podem fazer os cursos de **Recuperação** nas férias para poder recuperar a nota.\n",
    "\n",
    "Então podemos agora fazer um conjunto de `if`s para que possamos estruturar essa nova condição."
   ]
  },
  {
   "cell_type": "code",
   "execution_count": 0,
   "metadata": {
    "application/vnd.databricks.v1+cell": {
     "cellMetadata": {
      "byteLimit": 2048000,
      "rowLimit": 10000
     },
     "inputWidgets": {},
     "nuid": "490ff162-d3ed-49b8-ab5f-3515f7839685",
     "showTitle": false,
     "title": ""
    },
    "id": "Rkde8bai4gvq"
   },
   "outputs": [
    {
     "output_type": "display_data",
     "data": {
      "text/plain": [
       "Digite a média:  3.9"
      ]
     },
     "metadata": {},
     "output_type": "display_data"
    },
    {
     "output_type": "stream",
     "name": "stdout",
     "output_type": "stream",
     "text": [
      "Reprovado\n"
     ]
    }
   ],
   "source": [
    "media = float(input('Digite a média: '))\n",
    "\n",
    "if media >= 6.0:\n",
    "    print('Aprovado(a)')\n",
    "if 6.0 > media >= 4.0:\n",
    "    print('Recuperação')\n",
    "if:\n",
    "    print('Reprovado(a)')"
   ]
  },
  {
   "cell_type": "markdown",
   "metadata": {
    "application/vnd.databricks.v1+cell": {
     "cellMetadata": {},
     "inputWidgets": {},
     "nuid": "2e4f515c-59da-4073-9e0b-95a59be10858",
     "showTitle": false,
     "title": ""
    },
    "id": "D5e2mByjvycO"
   },
   "source": [
    "Notemos que em casos com 3 situações como esse precisamos definir bem nossas condições. Pois foi feita uma construção com `else` no final, ele irá considerar apenas a alguma condicional para ser o caso **falso** podendo resultar em duas (ou mais) execuções.\n",
    "\n",
    "Por exemplo:"
   ]
  },
  {
   "cell_type": "code",
   "execution_count": 0,
   "metadata": {
    "application/vnd.databricks.v1+cell": {
     "cellMetadata": {
      "byteLimit": 2048000,
      "rowLimit": 10000
     },
     "inputWidgets": {},
     "nuid": "aaa10c6d-3714-4cec-927c-06f8399b8d82",
     "showTitle": false,
     "title": ""
    },
    "id": "tKvjzq414fAN"
   },
   "outputs": [
    {
     "output_type": "display_data",
     "data": {
      "text/plain": [
       "Digite a média:  7.0"
      ]
     },
     "metadata": {},
     "output_type": "display_data"
    },
    {
     "output_type": "display_data",
     "data": {
      "text/plain": [
       "Digite a média:  2"
      ]
     },
     "metadata": {},
     "output_type": "display_data"
    },
    {
     "output_type": "stream",
     "name": "stdout",
     "output_type": "stream",
     "text": [
      "Reprovado(a)\n"
     ]
    }
   ],
   "source": [
    "media = float(input('Digite a média: '))\n",
    "\n",
    "media = float(input('Digite a média: '))\n",
    "\n",
    "if media >= 6.0:\n",
    "    print('Aprovado(a)')\n",
    "if 6.0 > media >= 4.0:\n",
    "    print('Recuperação')\n",
    "else:\n",
    "    print('Reprovado(a)')"
   ]
  },
  {
   "cell_type": "markdown",
   "metadata": {
    "application/vnd.databricks.v1+cell": {
     "cellMetadata": {},
     "inputWidgets": {},
     "nuid": "2b31af02-50be-40be-b4d0-91f1df025025",
     "showTitle": false,
     "title": ""
    },
    "id": "04T5g-7h4zWx"
   },
   "source": [
    "## `ELIF`\n",
    "\n",
    "O `elif` é uma palavra-chave em Python que significa \"senão, se\" e pode ser considerado uma união do `else` com um `if`. Ela é usada em conjunto com a palavra-chave `if` para formar uma estrutura condicional encadeada.\n",
    "\n"
   ]
  },
  {
   "cell_type": "markdown",
   "metadata": {
    "application/vnd.databricks.v1+cell": {
     "cellMetadata": {},
     "inputWidgets": {},
     "nuid": "d37497fa-59ef-4bf1-b2be-872faba2b38b",
     "showTitle": false,
     "title": ""
    },
    "id": "rNBHr5mm1Lm6"
   },
   "source": [
    "A sintaxe para usar o `elif` é:\n",
    "\n",
    "```\n",
    "if condição1:\n",
    "    # faça algo\n",
    "elif condição2:\n",
    "    # faça outra coisa\n",
    "elif condição3:\n",
    "    # faça mais alguma coisa\n",
    "else:\n",
    "    # faça algo diferente\n",
    "```\n",
    "\n",
    "O `elif` permite que você verifique várias condições de forma encadeada, economizando espaço em seu código. Se a primeira condição for avaliada como `False`, o interpretador Python avaliará a próxima condição no `elif`. Isso continuará até que uma condição seja avaliada como `True` ou até que o `else` seja atingido. Se nenhuma das condições forem avaliadas como `True`, a execução do código do `else` será iniciada."
   ]
  },
  {
   "cell_type": "markdown",
   "metadata": {
    "application/vnd.databricks.v1+cell": {
     "cellMetadata": {},
     "inputWidgets": {},
     "nuid": "6c574c43-0cfc-497c-97d1-74d8ebcdb6b4",
     "showTitle": false,
     "title": ""
    },
    "id": "MVoykFbB4bd4"
   },
   "source": [
    "Vamos usar o mesmo caso anterior:"
   ]
  },
  {
   "cell_type": "code",
   "execution_count": 0,
   "metadata": {
    "application/vnd.databricks.v1+cell": {
     "cellMetadata": {
      "byteLimit": 2048000,
      "rowLimit": 10000
     },
     "inputWidgets": {},
     "nuid": "3e5faa53-09b1-4cce-8c1c-6c0427f54283",
     "showTitle": false,
     "title": ""
    },
    "id": "UJCHKoX54dc2"
   },
   "outputs": [
    {
     "output_type": "display_data",
     "data": {
      "text/plain": [
       "Digite a média:  5"
      ]
     },
     "metadata": {},
     "output_type": "display_data"
    },
    {
     "output_type": "stream",
     "name": "stdout",
     "output_type": "stream",
     "text": [
      "Recuperação\n"
     ]
    }
   ],
   "source": [
    "media = float(input('Digite a média: '))\n",
    "\n",
    "if media >= 6.0:\n",
    "    print('Aprovado(a)')\n",
    "elif 6.0 > media >= 4.0:\n",
    "    print('Recuperação')\n",
    "else:\n",
    "    print('Reprovado(a)')"
   ]
  },
  {
   "cell_type": "markdown",
   "metadata": {
    "application/vnd.databricks.v1+cell": {
     "cellMetadata": {},
     "inputWidgets": {},
     "nuid": "4ab2bcbc-b9b0-4416-8ef0-5dba9257a769",
     "showTitle": false,
     "title": ""
    },
    "id": "Tf1wSOem6iwZ"
   },
   "source": [
    "## Operadores\n",
    "\n",
    "Durante a construção de comandos por vezes precisamos de uma elaboração maior de da expressão condicional, necessitando que alguns operadores lógicos estejam integrados."
   ]
  },
  {
   "cell_type": "markdown",
   "metadata": {
    "application/vnd.databricks.v1+cell": {
     "cellMetadata": {},
     "inputWidgets": {},
     "nuid": "7c468f97-10c3-4043-bf5f-15d570f28769",
     "showTitle": false,
     "title": ""
    },
    "id": "GFIZnRWXGPWO"
   },
   "source": [
    "### `AND`, `OR`, `NOT`\n",
    "\n",
    "Os operadores lógicos `and`, `or` e `not` são usados para combinar expressões lógicas em Python. Eles são usados frequentemente em conjunto com o `if` para criar estruturas condicionais mais complexas.\n"
   ]
  },
  {
   "cell_type": "markdown",
   "metadata": {
    "application/vnd.databricks.v1+cell": {
     "cellMetadata": {},
     "inputWidgets": {},
     "nuid": "9435d456-928f-461d-8cfc-b88e4e655f5e",
     "showTitle": false,
     "title": ""
    },
    "id": "Z_dgAoHXJbzB"
   },
   "source": [
    "- `AND` é usado para verificar se duas condições são verdadeiras. A expressão lógica¹ `x and y` é avaliada como `True` apenas se **ambas as condições `x` e `y` forem verdadeiras**, e como `False` caso contrário.\n",
    "\n",
    "- `OR` é usado para verificar se pelo menos uma das condições é verdadeira. A expressão lógica `x or y` é avaliada como `True` **se pelo menos uma das condições `x` ou `y` for verdadeira**, e como `False` se ambas forem falsas.\n",
    "\n",
    "- `NOT` é usado para **negar uma condição**. A expressão lógica not x é avaliada como True se a condição x for falsa, e como False se a condição x for verdadeira.\n",
    "\n",
    "¹ Uma expressão lógica é uma declaração que pode ser avaliada como verdadeira ou falsa. Ela é composta por operandos lógicos² e operadores lógicos³, que são usados ​​para combinar várias expressões lógicas em uma única expressão.\n",
    "\n",
    "² Os operandos lógicos são os elementos que são comparados ou avaliados em uma expressão lógica. Eles são geralmente valores verdadeiros ou falsos, mas também podem ser expressões lógicas mais complexas. Em Python, os operandos lógicos são os valores `True` e `False`.\n",
    "\n",
    "³ Os operadores lógicos são os símbolos ou palavras-chave que são usados ​​para combinar várias expressões lógicas em uma única expressão. Em Python, os operadores lógicos são `and`, `or` e `not`, bem como as palavras-chave `if`, `elif` e `else`."
   ]
  },
  {
   "cell_type": "code",
   "execution_count": 0,
   "metadata": {
    "application/vnd.databricks.v1+cell": {
     "cellMetadata": {
      "byteLimit": 2048000,
      "rowLimit": 10000
     },
     "inputWidgets": {},
     "nuid": "76e1fa1b-f899-450b-8455-52202ce050b1",
     "showTitle": false,
     "title": ""
    },
    "id": "Fs_qb0dLOXsj"
   },
   "outputs": [],
   "source": [
    "t1 = t2 = True\n",
    "f1 = f2 = False"
   ]
  },
  {
   "cell_type": "code",
   "execution_count": 0,
   "metadata": {
    "application/vnd.databricks.v1+cell": {
     "cellMetadata": {
      "byteLimit": 2048000,
      "rowLimit": 10000
     },
     "inputWidgets": {},
     "nuid": "586acccf-4305-4972-be42-6c627d8645c3",
     "showTitle": false,
     "title": ""
    },
    "id": "kL4QVdlZ4O43"
   },
   "outputs": [
    {
     "output_type": "stream",
     "name": "stdout",
     "output_type": "stream",
     "text": [
      "expressão falsa\n"
     ]
    }
   ],
   "source": [
    "if t1 and f2:\n",
    "  print('expressão verdadeira')\n",
    "else:\n",
    "  print('expressão falsa')"
   ]
  },
  {
   "cell_type": "code",
   "execution_count": 0,
   "metadata": {
    "application/vnd.databricks.v1+cell": {
     "cellMetadata": {
      "byteLimit": 2048000,
      "rowLimit": 10000
     },
     "inputWidgets": {},
     "nuid": "e550fb1e-8b78-4320-b09d-890d9d091c2e",
     "showTitle": false,
     "title": ""
    },
    "id": "JmQYjvsz4Pw5"
   },
   "outputs": [
    {
     "output_type": "stream",
     "name": "stdout",
     "output_type": "stream",
     "text": [
      "expressão falsa\n"
     ]
    }
   ],
   "source": [
    "if f1 or f2:\n",
    "  print('expressão verdadeira')\n",
    "else: \n",
    "  print('expressão falsa')"
   ]
  },
  {
   "cell_type": "code",
   "execution_count": 0,
   "metadata": {
    "application/vnd.databricks.v1+cell": {
     "cellMetadata": {
      "byteLimit": 2048000,
      "rowLimit": 10000
     },
     "inputWidgets": {},
     "nuid": "a313f112-c455-4724-a9f3-c0e16a04ebf1",
     "showTitle": false,
     "title": ""
    },
    "id": "WHfJ-ZLM4Q3k"
   },
   "outputs": [
    {
     "output_type": "stream",
     "name": "stdout",
     "output_type": "stream",
     "text": [
      "expressão falsa\n"
     ]
    }
   ],
   "source": [
    "if not f1 and f2:\n",
    "  print('expressão verdadeira')\n",
    "else:\n",
    "  print('expressão falsa')"
   ]
  },
  {
   "cell_type": "markdown",
   "metadata": {
    "application/vnd.databricks.v1+cell": {
     "cellMetadata": {},
     "inputWidgets": {},
     "nuid": "ebc0a37c-c91c-4eb4-8122-a53a8da5f28a",
     "showTitle": false,
     "title": ""
    },
    "id": "w7EXG1dhWtja"
   },
   "source": [
    "### `IN`\n",
    "\n",
    "É usado para verificar se um elemento está presente em uma lista, tupla ou outra variável de conjunto. A expressão `x in y` é avaliada como `True` se o elemento `x` estiver presente na variável de conjunto `y`, e como `False` caso contrário."
   ]
  },
  {
   "cell_type": "markdown",
   "metadata": {
    "application/vnd.databricks.v1+cell": {
     "cellMetadata": {},
     "inputWidgets": {},
     "nuid": "2bbe5081-5145-4ce1-a284-37a0c5e2f1c3",
     "showTitle": false,
     "title": ""
    },
    "id": "enJNp6JenQbq"
   },
   "source": [
    "Podemos verificar isso com variáveis de texto.\n",
    "\n",
    "---\n",
    "\n",
    "**Situação:**\n",
    "\n",
    "Na escola foi passada uma lista com nomes de estudantes que foram aprovados por média no semestre, mas é preciso verificar se alguns nomes estão nessa lista para verificar se os dados estão corretos.\n",
    "\n",
    "A lista distribuida pode ser observada abaixo:\n",
    "\n",
    "```\n",
    "lista = 'José da Silva, Maria Oliveira, Pedro Martins, Ana Souza, Carlos Rodrigues, Juliana Santos, Bruno Gomes, Beatriz Costa, Felipe Almeida, Mariana Fernandes, João Pinto, Luísa Nascimento, Gabriel Souza, Manuela Santos, Thiago Oliveira, Sofia Ferreira, Rafael Albuquerque, Isabella Gomes, Bruno Costa, Maria Martins, Rafaela Souza, Matheus Fernandes, Luísa Almeida, Beatriz Pinto, Mariana Rodrigues, Gabriel Nascimento, João Ferreira, Maria Albuquerque, Felipe Oliveira\n",
    "'\n",
    "```\n",
    "\n",
    "Os nomes que precisam ser verificados são os seguintes:\n",
    "\n",
    "```\n",
    "nome_1 = 'Mariana Rodrigues'\n",
    "nome_2 = 'Marcelo Nogueira'\n",
    "```"
   ]
  },
  {
   "cell_type": "code",
   "execution_count": 0,
   "metadata": {
    "application/vnd.databricks.v1+cell": {
     "cellMetadata": {
      "byteLimit": 2048000,
      "rowLimit": 10000
     },
     "inputWidgets": {},
     "nuid": "de8c44c6-2b1e-4c96-8a28-adbead55169a",
     "showTitle": false,
     "title": ""
    },
    "colab": {
     "base_uri": "https://localhost:8080/",
     "height": 87
    },
    "executionInfo": {
     "elapsed": 302,
     "status": "ok",
     "timestamp": 1674095467241,
     "user": {
      "displayName": "Mirla Borges",
      "userId": "16057667184099544912"
     },
     "user_tz": 180
    },
    "id": "kU25ABUQ5NBe",
    "outputId": "c4201042-3224-4a3b-b55c-62699854e672"
   },
   "outputs": [
    {
     "output_type": "stream",
     "name": "stdout",
     "output_type": "stream",
     "text": [
      "Out[2]: 'José da Silva, Maria Oliveira, Pedro Martins, Ana Souza, Carlos Rodrigues, Juliana Santos, Bruno Gomes, Beatriz Costa, Felipe Almeida, Mariana Fernandes, João Pinto, Luísa Nascimento, Gabriel Souza, Manuela Santos, Thiago Oliveira, Sofia Ferreira, Rafael Albuquerque, Isabella Gomes, Bruno Costa, Maria Martins, Rafaela Souza, Matheus Fernandes, Luísa Almeida, Beatriz Pinto, Mariana Rodrigues, Gabriel Nascimento, João Ferreira, Maria Albuquerque, Felipe Oliveira'"
     ]
    }
   ],
   "source": [
    "lista = 'José da Silva, Maria Oliveira, Pedro Martins, Ana Souza, Carlos Rodrigues, Juliana Santos, Bruno Gomes, Beatriz Costa, Felipe Almeida, Mariana Fernandes, João Pinto, Luísa Nascimento, Gabriel Souza, Manuela Santos, Thiago Oliveira, Sofia Ferreira, Rafael Albuquerque, Isabella Gomes, Bruno Costa, Maria Martins, Rafaela Souza, Matheus Fernandes, Luísa Almeida, Beatriz Pinto, Mariana Rodrigues, Gabriel Nascimento, João Ferreira, Maria Albuquerque, Felipe Oliveira'\n",
    "lista"
   ]
  },
  {
   "cell_type": "code",
   "execution_count": 0,
   "metadata": {
    "application/vnd.databricks.v1+cell": {
     "cellMetadata": {
      "byteLimit": 2048000,
      "rowLimit": 10000
     },
     "inputWidgets": {},
     "nuid": "59824504-532d-4e45-9038-1596c5759d18",
     "showTitle": false,
     "title": ""
    },
    "id": "GY82qLpivC6Y"
   },
   "outputs": [],
   "source": [
    "nome_1 = 'Mariana Rodrigues'\n",
    "nome_2 = 'Marcelo Nogueira'"
   ]
  },
  {
   "cell_type": "code",
   "execution_count": 0,
   "metadata": {
    "application/vnd.databricks.v1+cell": {
     "cellMetadata": {
      "byteLimit": 2048000,
      "rowLimit": 10000
     },
     "inputWidgets": {},
     "nuid": "d9c1d06e-f65a-4eb1-bcb0-8d4a71562df1",
     "showTitle": false,
     "title": ""
    },
    "id": "ipyXfbpb37b0"
   },
   "outputs": [
    {
     "output_type": "stream",
     "name": "stdout",
     "output_type": "stream",
     "text": [
      "Mariana Rodrigues está na lista\n"
     ]
    }
   ],
   "source": [
    "if nome_1 in lista:\n",
    "    print(f'{nome_1} está na lista')\n",
    "else:\n",
    "    print(f'{nome_1} não está na lista')"
   ]
  },
  {
   "cell_type": "code",
   "execution_count": 0,
   "metadata": {
    "application/vnd.databricks.v1+cell": {
     "cellMetadata": {
      "byteLimit": 2048000,
      "rowLimit": 10000
     },
     "inputWidgets": {},
     "nuid": "a612610c-1cec-418f-bfc9-56417c38b3b5",
     "showTitle": false,
     "title": ""
    },
    "id": "KfXxC9A537RP"
   },
   "outputs": [
    {
     "output_type": "stream",
     "name": "stdout",
     "output_type": "stream",
     "text": [
      "Marcelo Nogueira não está na lista\n"
     ]
    }
   ],
   "source": [
    "if nome_2 in lista:\n",
    "    print(f'{nome_2} está na lista')\n",
    "else:\n",
    "    print(f'{nome_2} não está na lista')"
   ]
  },
  {
   "cell_type": "markdown",
   "metadata": {
    "application/vnd.databricks.v1+cell": {
     "cellMetadata": {},
     "inputWidgets": {},
     "nuid": "0f2b23c0-7ea4-4b8b-994d-09231d0960c9",
     "showTitle": false,
     "title": ""
    },
    "id": "aL1vJPewvwvz"
   },
   "source": [
    "# Estruturas de repetição"
   ]
  },
  {
   "cell_type": "markdown",
   "metadata": {
    "application/vnd.databricks.v1+cell": {
     "cellMetadata": {},
     "inputWidgets": {},
     "nuid": "b5444691-f6cc-416e-824e-288f9b1557ad",
     "showTitle": false,
     "title": ""
    },
    "id": "VcPfCa8d-84t"
   },
   "source": [
    "Quando temos que executar um mesmo bloco de comandos por várias vezes não é muito interessante fazer isso à mão.\n",
    "\n",
    "Imaginemos a situação de termos que coletar e imprimir a média de duas notas de **3 estudantes**:"
   ]
  },
  {
   "cell_type": "code",
   "execution_count": 0,
   "metadata": {
    "application/vnd.databricks.v1+cell": {
     "cellMetadata": {
      "byteLimit": 2048000,
      "rowLimit": 10000
     },
     "inputWidgets": {},
     "nuid": "9087ec43-72ff-4eb8-b15b-39cba80fa22d",
     "showTitle": false,
     "title": ""
    },
    "id": "LzPyN4Ad3qwy"
   },
   "outputs": [
    {
     "output_type": "display_data",
     "data": {
      "text/plain": [
       "Digite a 1° nota:  5"
      ]
     },
     "metadata": {},
     "output_type": "display_data"
    },
    {
     "output_type": "display_data",
     "data": {
      "text/plain": [
       "Digite a 2° nota:  6"
      ]
     },
     "metadata": {},
     "output_type": "display_data"
    },
    {
     "output_type": "stream",
     "name": "stdout",
     "output_type": "stream",
     "text": [
      "Média: 5.5\n"
     ]
    }
   ],
   "source": [
    "nota_1 = float(input('Digite a 1° nota: '))\n",
    "nota_2 = float(input('Digite a 2° nota: '))\n",
    "\n",
    "print(f'Média: {(nota_1+nota_2)/2}')"
   ]
  },
  {
   "cell_type": "markdown",
   "metadata": {
    "application/vnd.databricks.v1+cell": {
     "cellMetadata": {},
     "inputWidgets": {},
     "nuid": "0290b4ef-afe3-45b9-92b3-0b1c34fc15ae",
     "showTitle": false,
     "title": ""
    },
    "id": "9puIuvUbFSFX"
   },
   "source": [
    "Agora imaginemos uma situação em que não são apenas 3 estudantes, mas sim 100 estudantes. Não seria interessante repetir o mesmo código por 100 vezes, mas sim **executar o mesmo código 100 vezes**.\n",
    "\n",
    "Essa repetição conseguimos construir com laços de repetição!"
   ]
  },
  {
   "cell_type": "markdown",
   "metadata": {
    "application/vnd.databricks.v1+cell": {
     "cellMetadata": {},
     "inputWidgets": {},
     "nuid": "cc843695-346d-4095-88bd-dc209b55d26e",
     "showTitle": false,
     "title": ""
    },
    "id": "uLO9-aE4-wx8"
   },
   "source": [
    "## `WHILE`"
   ]
  },
  {
   "cell_type": "markdown",
   "metadata": {
    "application/vnd.databricks.v1+cell": {
     "cellMetadata": {},
     "inputWidgets": {},
     "nuid": "5023405a-d244-42ab-ac14-2581ac0f80cd",
     "showTitle": false,
     "title": ""
    },
    "id": "rXZxDMiqHxm9"
   },
   "source": [
    "O laço `while` é uma estrutura de controle de repetição em Python que permite executar um bloco de código repetidamente enquanto uma determinada condição é verdadeira. Sua estrutura é:\n",
    "\n",
    "\n",
    "\n",
    "```\n",
    "while condição:\n",
    "    # bloco de código\n",
    "```\n",
    "\n",
    "Vamos construir um exemplo com um contador de 1 até 10.\n"
   ]
  },
  {
   "cell_type": "code",
   "execution_count": 0,
   "metadata": {
    "application/vnd.databricks.v1+cell": {
     "cellMetadata": {
      "byteLimit": 2048000,
      "rowLimit": 10000
     },
     "inputWidgets": {},
     "nuid": "86c3c6b3-1295-461d-8315-27f69d5f0e56",
     "showTitle": false,
     "title": ""
    },
    "id": "6b_izu633j0O"
   },
   "outputs": [
    {
     "output_type": "stream",
     "name": "stdout",
     "output_type": "stream",
     "text": [
      "1\n2\n3\n4\n5\n6\n7\n8\n9\n10\n"
     ]
    }
   ],
   "source": [
    "contador = 1\n",
    "\n",
    "while contador <= 10:\n",
    "    print(contador)\n",
    "    contador += 1"
   ]
  },
  {
   "cell_type": "markdown",
   "metadata": {
    "application/vnd.databricks.v1+cell": {
     "cellMetadata": {},
     "inputWidgets": {},
     "nuid": "99a3044a-783b-40ee-88a9-ec92529ff6a0",
     "showTitle": false,
     "title": ""
    },
    "id": "W4KZPBJuIrut"
   },
   "source": [
    "Agora vamos coletar as notas e médias de cada aluno dentro do while. Faremos um exemplo com 3 médias."
   ]
  },
  {
   "cell_type": "code",
   "execution_count": 0,
   "metadata": {
    "application/vnd.databricks.v1+cell": {
     "cellMetadata": {
      "byteLimit": 2048000,
      "rowLimit": 10000
     },
     "inputWidgets": {},
     "nuid": "a84dd744-2062-4386-8a5b-570724702c3c",
     "showTitle": false,
     "title": ""
    },
    "id": "aIeQ_CzW3jiP"
   },
   "outputs": [
    {
     "output_type": "display_data",
     "data": {
      "text/plain": [
       "Digite a 1° nota:  5"
      ]
     },
     "metadata": {},
     "output_type": "display_data"
    },
    {
     "output_type": "display_data",
     "data": {
      "text/plain": [
       "Digite a 2° nota:  6"
      ]
     },
     "metadata": {},
     "output_type": "display_data"
    },
    {
     "output_type": "stream",
     "name": "stdout",
     "output_type": "stream",
     "text": [
      "Média: 5.5\n"
     ]
    },
    {
     "output_type": "display_data",
     "data": {
      "text/plain": [
       "Digite a 1° nota:  7"
      ]
     },
     "metadata": {},
     "output_type": "display_data"
    },
    {
     "output_type": "display_data",
     "data": {
      "text/plain": [
       "Digite a 2° nota:  7"
      ]
     },
     "metadata": {},
     "output_type": "display_data"
    },
    {
     "output_type": "stream",
     "name": "stdout",
     "output_type": "stream",
     "text": [
      "Média: 7.0\n"
     ]
    },
    {
     "output_type": "display_data",
     "data": {
      "text/plain": [
       "Digite a 1° nota:  10"
      ]
     },
     "metadata": {},
     "output_type": "display_data"
    },
    {
     "output_type": "display_data",
     "data": {
      "text/plain": [
       "Digite a 2° nota:  6"
      ]
     },
     "metadata": {},
     "output_type": "display_data"
    },
    {
     "output_type": "stream",
     "name": "stdout",
     "output_type": "stream",
     "text": [
      "Média: 8.0\n"
     ]
    }
   ],
   "source": [
    "contador = 1\n",
    "\n",
    "while contador <= 3:\n",
    "    nota_1 = float(input('Digite a 1° nota: '))\n",
    "    nota_2 = float(input('Digite a 2° nota: '))\n",
    "\n",
    "    print(f'Média: {(nota_1+nota_2)/2}')\n",
    "    contador += 1"
   ]
  },
  {
   "cell_type": "markdown",
   "metadata": {
    "application/vnd.databricks.v1+cell": {
     "cellMetadata": {},
     "inputWidgets": {},
     "nuid": "0aa43089-c1d2-4a2f-be8e-05803d150750",
     "showTitle": false,
     "title": ""
    },
    "id": "WgAIaENMMfCP"
   },
   "source": [
    "## `FOR`"
   ]
  },
  {
   "cell_type": "markdown",
   "metadata": {
    "application/vnd.databricks.v1+cell": {
     "cellMetadata": {},
     "inputWidgets": {},
     "nuid": "4799db86-e220-47fc-8369-8a4e6ffa433c",
     "showTitle": false,
     "title": ""
    },
    "id": "HxrSZoRAMh-x"
   },
   "source": [
    "O laço `for` é um tipo de estrutura de controle de fluxo em Python que permite iterar sobre um conjunto de elementos. A sua estrutura é:\n",
    "\n",
    "\n",
    "\n",
    "```\n",
    "for elemento in conjunto:\n",
    "    # código a ser executado para cada elemento\n",
    "```\n",
    "\n",
    "O laço for itera sobre cada elemento do conjunto especificado e executa o bloco de código dentro do laço para cada elemento. Quando o laço chega ao final do conjunto, ele é interrompido e o programa continua a execução após o laço.\n",
    "\n"
   ]
  },
  {
   "cell_type": "markdown",
   "metadata": {
    "application/vnd.databricks.v1+cell": {
     "cellMetadata": {},
     "inputWidgets": {},
     "nuid": "3530f202-c9f9-428b-99eb-d6dbcafa3470",
     "showTitle": false,
     "title": ""
    },
    "id": "6VgjyoQtPHBM"
   },
   "source": [
    "O conjunto pode ser gerado com a função [`range()`](https://docs.python.org/3/library/functions.html#func-range). Que é uma função capaz de gerar uma sequência de números inteiros. A estrutura dessa função é:\n",
    "\n",
    "```\n",
    "range(inicio, fim, passo)\n",
    "```\n",
    "\n",
    "Segundo a documentação, o `range()` gera uma sequência de números inteiros a partir do valor do parâmetro `inicio` até o valor do parâmetro `fim`, de acordo com o valor do parâmetro `passo`. Se `inicio` não for especificado, o valor padrão é 0. Se `passo` não for especificado, o valor padrão é 1.\n",
    "\n",
    "\n"
   ]
  },
  {
   "cell_type": "markdown",
   "metadata": {
    "application/vnd.databricks.v1+cell": {
     "cellMetadata": {},
     "inputWidgets": {},
     "nuid": "64b17c1d-e296-4824-b2b4-8325954c62be",
     "showTitle": false,
     "title": ""
    },
    "id": "ryn0hfdlUwC8"
   },
   "source": [
    "Vamos fazer o mesmo contador `while` agora com `for`."
   ]
  },
  {
   "cell_type": "code",
   "execution_count": 0,
   "metadata": {
    "application/vnd.databricks.v1+cell": {
     "cellMetadata": {
      "byteLimit": 2048000,
      "rowLimit": 10000
     },
     "inputWidgets": {},
     "nuid": "4463c337-1eb7-4af7-8a88-36f820ad53a2",
     "showTitle": false,
     "title": ""
    },
    "id": "t6qcdPyP3YgZ"
   },
   "outputs": [
    {
     "output_type": "stream",
     "name": "stdout",
     "output_type": "stream",
     "text": [
      "1\n2\n3\n4\n5\n6\n7\n8\n9\n10\n"
     ]
    }
   ],
   "source": [
    "for contador in range(1, 11, 1):\n",
    "    print(contador)"
   ]
  },
  {
   "cell_type": "code",
   "execution_count": 0,
   "metadata": {
    "application/vnd.databricks.v1+cell": {
     "cellMetadata": {
      "byteLimit": 2048000,
      "rowLimit": 10000
     },
     "inputWidgets": {},
     "nuid": "53a7b1cf-4987-4ad9-9520-5bc38472fd6d",
     "showTitle": true,
     "title": "a"
    },
    "id": "KBeY8z573YWz"
   },
   "outputs": [
    {
     "output_type": "display_data",
     "data": {
      "text/plain": [
       "Digite a 1° nota:  10"
      ]
     },
     "metadata": {},
     "output_type": "display_data"
    },
    {
     "output_type": "display_data",
     "data": {
      "text/plain": [
       "Digite a 2° nota:  3"
      ]
     },
     "metadata": {},
     "output_type": "display_data"
    },
    {
     "output_type": "stream",
     "name": "stdout",
     "output_type": "stream",
     "text": [
      "Média: 6.5\n"
     ]
    },
    {
     "output_type": "display_data",
     "data": {
      "text/plain": [
       "Digite a 1° nota:  8"
      ]
     },
     "metadata": {},
     "output_type": "display_data"
    },
    {
     "output_type": "display_data",
     "data": {
      "text/plain": [
       "Digite a 2° nota:  7"
      ]
     },
     "metadata": {},
     "output_type": "display_data"
    },
    {
     "output_type": "stream",
     "name": "stdout",
     "output_type": "stream",
     "text": [
      "Média: 7.5\n"
     ]
    },
    {
     "output_type": "display_data",
     "data": {
      "text/plain": [
       "Digite a 1° nota:  7.9"
      ]
     },
     "metadata": {},
     "output_type": "display_data"
    },
    {
     "output_type": "display_data",
     "data": {
      "text/plain": [
       "Digite a 2° nota:  8"
      ]
     },
     "metadata": {},
     "output_type": "display_data"
    },
    {
     "output_type": "stream",
     "name": "stdout",
     "output_type": "stream",
     "text": [
      "Média: 7.95\n"
     ]
    }
   ],
   "source": [
    "for contador in range(1, 4):\n",
    "    nota_1 = float(input('Digite a 1° nota: '))\n",
    "    nota_2 = float(input('Digite a 2° nota: '))\n",
    "\n",
    "    print(f'Média: {(nota_1+nota_2)/2}')\n",
    "\n",
    "print('A média de todos os alunos foi adicionada com sucesso!')"
   ]
  },
  {
   "cell_type": "markdown",
   "metadata": {
    "application/vnd.databricks.v1+cell": {
     "cellMetadata": {},
     "inputWidgets": {},
     "nuid": "8052f3c2-24c5-437d-a4c5-97d1e7788ce0",
     "showTitle": false,
     "title": ""
    },
    "id": "8noP8OJ0Vhux"
   },
   "source": [
    "# Estruturas de dados"
   ]
  },
  {
   "cell_type": "markdown",
   "metadata": {
    "application/vnd.databricks.v1+cell": {
     "cellMetadata": {},
     "inputWidgets": {},
     "nuid": "1c465bee-f123-4b1e-8e6a-e347791282c5",
     "showTitle": false,
     "title": ""
    },
    "id": "xpEUkefTu8fY"
   },
   "source": [
    "Um conjunto de elementos é uma coleção de itens, que são armazenados juntos de maneira organizada. Alguns exemplos de conjuntos de elementos em Python são listas, strings e dicionários."
   ]
  },
  {
   "cell_type": "markdown",
   "metadata": {
    "application/vnd.databricks.v1+cell": {
     "cellMetadata": {},
     "inputWidgets": {},
     "nuid": "2127edea-0356-4ebd-a198-f9ab3534fc18",
     "showTitle": false,
     "title": ""
    },
    "id": "THSg4KYLwxIb"
   },
   "source": [
    "## Listas"
   ]
  },
  {
   "cell_type": "markdown",
   "metadata": {
    "application/vnd.databricks.v1+cell": {
     "cellMetadata": {},
     "inputWidgets": {},
     "nuid": "27a66e7a-a624-49e7-8cc3-4db4456cfff0",
     "showTitle": false,
     "title": ""
    },
    "id": "dzpsiqrOyJcK"
   },
   "source": [
    "As listas podem armazenar uma coleção de itens em ordem. Eles são delimitados por colchetes `[]` e os itens são separados por vírgulas.\n",
    "\n",
    "Elas também podem armazenar qualquer tipo de item, incluindo números, strings, objetos e outras listas. Elas também podem armazenar itens de tipos de dados diferentes juntos em uma única lista."
   ]
  },
  {
   "cell_type": "code",
   "execution_count": 0,
   "metadata": {
    "application/vnd.databricks.v1+cell": {
     "cellMetadata": {
      "byteLimit": 2048000,
      "rowLimit": 10000
     },
     "inputWidgets": {},
     "nuid": "c1019d98-0970-4da5-8968-31670ce92a89",
     "showTitle": false,
     "title": ""
    },
    "id": "1NSzXfct3Lkw"
   },
   "outputs": [
    {
     "output_type": "stream",
     "name": "stdout",
     "output_type": "stream",
     "text": [
      "Out[1]: ['Fabricio Daniel', 9.5, 9.0, 8.0, True]"
     ]
    }
   ],
   "source": [
    "lista = ['Fabricio Daniel', 9.5, 9.0, 8.0, True]\n",
    "lista\n"
   ]
  },
  {
   "cell_type": "markdown",
   "metadata": {
    "application/vnd.databricks.v1+cell": {
     "cellMetadata": {},
     "inputWidgets": {},
     "nuid": "2849542f-e505-4606-ab00-e542877e18d4",
     "showTitle": false,
     "title": ""
    },
    "id": "qUz3sJNl6LgK"
   },
   "source": [
    "As listas são organizadas em Python porque **cada elemento da lista tem um índice que indica sua posição na lista**. Os índices começam em 0 e vão até o tamanho da lista menos 1."
   ]
  },
  {
   "cell_type": "markdown",
   "metadata": {
    "application/vnd.databricks.v1+cell": {
     "cellMetadata": {},
     "inputWidgets": {},
     "nuid": "109bb567-240a-41a1-87eb-5a647af1288b",
     "showTitle": false,
     "title": ""
    },
    "id": "rLf-Qg526hFD"
   },
   "source": [
    "Temos então 5 elementos com índices variando de 0 a 4, ordenadamente:\n",
    "\n",
    "```\n",
    "#             [0]           [1]   [2]   [3]    [4]\n",
    "lista = ['Fabricio Daniel', 9.5 , 9.0 , 8.0 , True]\n",
    "```\n",
    "\n",
    "Em Python temos também os índices **negativos** que se iniciam no último elemento com o valor de `-1` e depois avancam no universo dos negativos até chegar no 1° elemeno:\n",
    "\n",
    "```\n",
    "#             [-5]         [-4]  [-3]  [-2]   [-1]\n",
    "lista = ['Fabricio Daniel', 9.5 , 9.0 , 8.0 , True]\n",
    "```\n",
    "\n",
    "Conseguimos selecionar separadamente cada elemento através de seus respectivos índices. Colocando o nome da lista e em seguida o índice a ser selecionado."
   ]
  },
  {
   "cell_type": "code",
   "execution_count": 0,
   "metadata": {
    "application/vnd.databricks.v1+cell": {
     "cellMetadata": {
      "byteLimit": 2048000,
      "rowLimit": 10000
     },
     "inputWidgets": {},
     "nuid": "b83e41e6-5b62-4664-86dc-1bf15d943c82",
     "showTitle": false,
     "title": ""
    },
    "id": "S1lf1DWg3J7A"
   },
   "outputs": [
    {
     "output_type": "stream",
     "name": "stdout",
     "output_type": "stream",
     "text": [
      "Out[2]: 'Fabricio Daniel'"
     ]
    }
   ],
   "source": [
    "lista[0]"
   ]
  },
  {
   "cell_type": "code",
   "execution_count": 0,
   "metadata": {
    "application/vnd.databricks.v1+cell": {
     "cellMetadata": {
      "byteLimit": 2048000,
      "rowLimit": 10000
     },
     "inputWidgets": {},
     "nuid": "ef3bd555-5589-4f00-b221-b1ac99f36928",
     "showTitle": false,
     "title": ""
    },
    "id": "5MZu9F6S3JxS"
   },
   "outputs": [
    {
     "output_type": "stream",
     "name": "stdout",
     "output_type": "stream",
     "text": [
      "Out[3]: 9.5"
     ]
    }
   ],
   "source": [
    "lista[1]"
   ]
  },
  {
   "cell_type": "code",
   "execution_count": 0,
   "metadata": {
    "application/vnd.databricks.v1+cell": {
     "cellMetadata": {
      "byteLimit": 2048000,
      "rowLimit": 10000
     },
     "inputWidgets": {},
     "nuid": "8bb208eb-f621-4662-aa7d-6b47b21fc41f",
     "showTitle": false,
     "title": ""
    },
    "id": "9uLwwKom3Jmg"
   },
   "outputs": [
    {
     "output_type": "stream",
     "name": "stdout",
     "output_type": "stream",
     "text": [
      "Out[4]: True"
     ]
    }
   ],
   "source": [
    "lista[-1]"
   ]
  },
  {
   "cell_type": "markdown",
   "metadata": {
    "application/vnd.databricks.v1+cell": {
     "cellMetadata": {},
     "inputWidgets": {},
     "nuid": "0da3dcab-4c58-43e4-9193-37e437602073",
     "showTitle": false,
     "title": ""
    },
    "id": "6TaE1ijmBTCd"
   },
   "source": [
    "Uma forma mais dinâmica de trabalhar item por item de uma lista é utilizando um laço for para leitura elemento a elemento."
   ]
  },
  {
   "cell_type": "code",
   "execution_count": 0,
   "metadata": {
    "application/vnd.databricks.v1+cell": {
     "cellMetadata": {
      "byteLimit": 2048000,
      "rowLimit": 10000
     },
     "inputWidgets": {},
     "nuid": "b9f98bf2-cb9c-463a-b63e-e8a2856f8abd",
     "showTitle": false,
     "title": ""
    },
    "id": "2GWvY7F-3IVP"
   },
   "outputs": [
    {
     "output_type": "stream",
     "name": "stdout",
     "output_type": "stream",
     "text": [
      "Fabricio Daniel\n9.5\n9.0\n8.0\nTrue\n"
     ]
    }
   ],
   "source": [
    "for elemento in lista:\n",
    "    print(elemento)"
   ]
  },
  {
   "cell_type": "markdown",
   "metadata": {
    "application/vnd.databricks.v1+cell": {
     "cellMetadata": {},
     "inputWidgets": {},
     "nuid": "31d2b588-a528-4ece-91b5-9387363ad298",
     "showTitle": false,
     "title": ""
    },
    "id": "Dh1_HnIVvucY"
   },
   "source": [
    "A nota `8.0` de Fabricio Daniel precisa ser ajustada pois ganhou 2 pontos em sua ultima nota por fazer um trabalho de turma. Então é necessária fazer uma troca no valor do índice `3` de `8.0` para `10.0`."
   ]
  },
  {
   "cell_type": "code",
   "execution_count": 0,
   "metadata": {
    "application/vnd.databricks.v1+cell": {
     "cellMetadata": {
      "byteLimit": 2048000,
      "rowLimit": 10000
     },
     "inputWidgets": {},
     "nuid": "1661b605-d5a6-4104-81f4-c3a63d41fca5",
     "showTitle": false,
     "title": ""
    },
    "id": "ffFiIlji3G7H"
   },
   "outputs": [
    {
     "output_type": "stream",
     "name": "stdout",
     "output_type": "stream",
     "text": [
      "Out[6]: ['Fabricio Daniel', 9.5, 9.0, 10.0, True]"
     ]
    }
   ],
   "source": [
    "lista[3] = 8.0 + 2.0\n",
    "lista"
   ]
  },
  {
   "cell_type": "markdown",
   "metadata": {
    "application/vnd.databricks.v1+cell": {
     "cellMetadata": {},
     "inputWidgets": {},
     "nuid": "d5053713-9f7d-4c4e-b3ac-03abd76b7b03",
     "showTitle": false,
     "title": ""
    },
    "id": "53XduzXkycAf"
   },
   "source": [
    "conseguimos calcular a média do aluno a partir dos dados que temos"
   ]
  },
  {
   "cell_type": "code",
   "execution_count": 0,
   "metadata": {
    "application/vnd.databricks.v1+cell": {
     "cellMetadata": {
      "byteLimit": 2048000,
      "rowLimit": 10000
     },
     "inputWidgets": {},
     "nuid": "85877245-7572-4d85-a61d-8801bf9c8361",
     "showTitle": false,
     "title": ""
    },
    "id": "fRy9twzI3GFI"
   },
   "outputs": [
    {
     "output_type": "stream",
     "name": "stdout",
     "output_type": "stream",
     "text": [
      "Out[7]: 9.5"
     ]
    }
   ],
   "source": [
    "media = (lista[1] + lista[2] + lista[3])/3\n",
    "media"
   ]
  },
  {
   "cell_type": "markdown",
   "metadata": {
    "application/vnd.databricks.v1+cell": {
     "cellMetadata": {},
     "inputWidgets": {},
     "nuid": "91ee9062-9560-4db0-a823-b7795bdda793",
     "showTitle": false,
     "title": ""
    },
    "id": "d-iYr10-y4qw"
   },
   "source": [
    "## Manipulação de listas\n",
    "\n",
    "As listas são muito úteis em Python porque permitem armazenar e acessar uma coleção de itens de maneira organizada e rápida. Elas também oferecem muitos métodos úteis para manipular os itens armazenados, como adicionar, remover, classificar e pesquisar elementos."
   ]
  },
  {
   "cell_type": "markdown",
   "metadata": {
    "application/vnd.databricks.v1+cell": {
     "cellMetadata": {},
     "inputWidgets": {},
     "nuid": "341d8eee-ab66-433a-a658-6021f223e0f9",
     "showTitle": false,
     "title": ""
    },
    "id": "ZLqx9A97XVB_"
   },
   "source": [
    "#### Quantidade de elementos\n",
    "\n",
    "Usamos a função [`len()`](https://docs.python.org/3/library/functions.html#len) para descobrimos a quantidade de elementos de um conjunto."
   ]
  },
  {
   "cell_type": "code",
   "execution_count": 0,
   "metadata": {
    "application/vnd.databricks.v1+cell": {
     "cellMetadata": {
      "byteLimit": 2048000,
      "rowLimit": 10000
     },
     "inputWidgets": {},
     "nuid": "698629aa-4f38-4a10-95a9-c144b569553b",
     "showTitle": false,
     "title": ""
    },
    "id": "TOVGVubX3BI_"
   },
   "outputs": [
    {
     "output_type": "stream",
     "name": "stdout",
     "output_type": "stream",
     "text": [
      "Out[8]: 5"
     ]
    }
   ],
   "source": [
    "len(lista)"
   ]
  },
  {
   "cell_type": "markdown",
   "metadata": {
    "application/vnd.databricks.v1+cell": {
     "cellMetadata": {},
     "inputWidgets": {},
     "nuid": "b1982806-bd42-4e3a-8618-e17e3c1d080a",
     "showTitle": false,
     "title": ""
    },
    "id": "Z5tpstlHJss3"
   },
   "source": [
    "#### Partição\n",
    "\n",
    "A partição de listas por indexação em Python é uma técnica muito útil para selecionar um subconjunto de elementos de uma lista. Ela é feita usando a sintaxe `lista[inicio:fim]`, onde `inicio` é o índice do primeiro elemento a ser incluído na partição e `fim` é o índice do primeiro elemento a ser excluído da partição. "
   ]
  },
  {
   "cell_type": "code",
   "execution_count": 0,
   "metadata": {
    "application/vnd.databricks.v1+cell": {
     "cellMetadata": {
      "byteLimit": 2048000,
      "rowLimit": 10000
     },
     "inputWidgets": {},
     "nuid": "c01d458f-2ae3-4a9e-8ebc-8a2e9de989c7",
     "showTitle": false,
     "title": ""
    },
    "id": "Gm9RaTnG28uC"
   },
   "outputs": [
    {
     "output_type": "stream",
     "name": "stdout",
     "output_type": "stream",
     "text": [
      "Out[9]: [9.5, 9.0, 10.0]"
     ]
    }
   ],
   "source": [
    "lista[1: 4]"
   ]
  },
  {
   "cell_type": "code",
   "execution_count": 0,
   "metadata": {
    "application/vnd.databricks.v1+cell": {
     "cellMetadata": {
      "byteLimit": 2048000,
      "rowLimit": 10000
     },
     "inputWidgets": {},
     "nuid": "ee6df1ae-d6ae-4a4c-b2c5-4aafea7c0cdb",
     "showTitle": false,
     "title": ""
    },
    "id": "LfitkLcQ26MO"
   },
   "outputs": [
    {
     "output_type": "stream",
     "name": "stdout",
     "output_type": "stream",
     "text": [
      "Out[10]: [9.5, 9.0]"
     ]
    }
   ],
   "source": [
    "lista[1:3]"
   ]
  },
  {
   "cell_type": "code",
   "execution_count": 0,
   "metadata": {
    "application/vnd.databricks.v1+cell": {
     "cellMetadata": {
      "byteLimit": 2048000,
      "rowLimit": 10000
     },
     "inputWidgets": {},
     "nuid": "8f80a062-ce6e-4c2c-bab0-d93e7d3c333d",
     "showTitle": false,
     "title": ""
    },
    "id": "1-99Q09W28Bu"
   },
   "outputs": [
    {
     "output_type": "stream",
     "name": "stdout",
     "output_type": "stream",
     "text": [
      "Out[11]: ['Fabricio Daniel', 9.5, 9.0]"
     ]
    }
   ],
   "source": [
    "lista[:3]"
   ]
  },
  {
   "cell_type": "code",
   "execution_count": 0,
   "metadata": {
    "application/vnd.databricks.v1+cell": {
     "cellMetadata": {
      "byteLimit": 2048000,
      "rowLimit": 10000
     },
     "inputWidgets": {},
     "nuid": "2051a2f7-cd7a-4a0c-b47b-ea41b5732baf",
     "showTitle": false,
     "title": ""
    },
    "id": "j23Uwma5226l"
   },
   "outputs": [
    {
     "output_type": "stream",
     "name": "stdout",
     "output_type": "stream",
     "text": [
      "Out[12]: [10.0, True]"
     ]
    }
   ],
   "source": [
    "lista[3:]"
   ]
  },
  {
   "cell_type": "code",
   "execution_count": 0,
   "metadata": {
    "application/vnd.databricks.v1+cell": {
     "cellMetadata": {
      "byteLimit": 2048000,
      "rowLimit": 10000
     },
     "inputWidgets": {},
     "nuid": "9c1fa031-6589-4db6-ba3e-d7424a2ef0fc",
     "showTitle": false,
     "title": ""
    },
    "id": "zfMrd28_21_q"
   },
   "outputs": [
    {
     "output_type": "stream",
     "name": "stdout",
     "output_type": "stream",
     "text": [
      "Out[13]: ['Fabricio Daniel', 9.5, 9.0, 10.0, True]"
     ]
    }
   ],
   "source": [
    "lista[:]"
   ]
  },
  {
   "cell_type": "markdown",
   "metadata": {
    "application/vnd.databricks.v1+cell": {
     "cellMetadata": {},
     "inputWidgets": {},
     "nuid": "1a05501d-fa86-470c-afff-c67d2b8ab11a",
     "showTitle": true,
     "title": "a"
    },
    "id": "O0RRyabkRzZC"
   },
   "source": [
    "#### [`append()`](https://docs.python.org/3/tutorial/datastructures.html#:~:text=of%20list%20objects%3A-,list.append(x),-Add%20an%20item)\n",
    "\n",
    "Adiciona um elemento ao final da lista."
   ]
  },
  {
   "cell_type": "code",
   "execution_count": 0,
   "metadata": {
    "application/vnd.databricks.v1+cell": {
     "cellMetadata": {
      "byteLimit": 2048000,
      "rowLimit": 10000
     },
     "inputWidgets": {},
     "nuid": "a5047b01-465c-4e70-8c31-215ebef5aeb8",
     "showTitle": false,
     "title": ""
    },
    "id": "Sr2BasZE20qF"
   },
   "outputs": [
    {
     "output_type": "stream",
     "name": "stdout",
     "output_type": "stream",
     "text": [
      "Out[14]: ['Fabricio Daniel', 9.5, 9.0, 10.0, True, 9.5]"
     ]
    }
   ],
   "source": [
    "lista.append(media)\n",
    "lista"
   ]
  },
  {
   "cell_type": "markdown",
   "metadata": {
    "application/vnd.databricks.v1+cell": {
     "cellMetadata": {},
     "inputWidgets": {},
     "nuid": "fbc71c9f-195b-42f1-b5c5-eec1089e98af",
     "showTitle": false,
     "title": ""
    },
    "id": "uQV91XMsUOJD"
   },
   "source": [
    "#### [`extend()`](https://docs.python.org/3/tutorial/datastructures.html#:~:text=list.extend(iterable))\n",
    "\n",
    "Adiciona vários elementos ao final da lista.\n",
    "\n",
    "Adicionaremos as notas `[10.0,8.0,9.0]` na lista do Fabricio Daniel"
   ]
  },
  {
   "cell_type": "code",
   "execution_count": 0,
   "metadata": {
    "application/vnd.databricks.v1+cell": {
     "cellMetadata": {
      "byteLimit": 2048000,
      "rowLimit": 10000
     },
     "inputWidgets": {},
     "nuid": "a65e44fe-9c43-42c2-ac85-08282cbec351",
     "showTitle": false,
     "title": ""
    },
    "id": "b8a6wX2w2zrs"
   },
   "outputs": [
    {
     "output_type": "stream",
     "name": "stdout",
     "output_type": "stream",
     "text": [
      "Out[15]: ['Fabricio Daniel', 9.5, 9.0, 10.0, True, 9.5, 10.0, 8.0, 9.0]"
     ]
    }
   ],
   "source": [
    "lista.extend([10.0,8.0,9.0])\n",
    "lista"
   ]
  },
  {
   "cell_type": "markdown",
   "metadata": {
    "application/vnd.databricks.v1+cell": {
     "cellMetadata": {},
     "inputWidgets": {},
     "nuid": "f5098520-cba7-4a3c-84cf-e21d778d06ad",
     "showTitle": false,
     "title": ""
    },
    "id": "IVJvkTwNUk6M"
   },
   "source": [
    "*Isso não é possivel ser feito com o* `append`."
   ]
  },
  {
   "cell_type": "code",
   "execution_count": 0,
   "metadata": {
    "application/vnd.databricks.v1+cell": {
     "cellMetadata": {
      "byteLimit": 2048000,
      "rowLimit": 10000
     },
     "inputWidgets": {},
     "nuid": "080bb4b2-68d2-4306-9ab0-1fe8f4941cf1",
     "showTitle": false,
     "title": ""
    },
    "id": "DyT9kWkB2yeB"
   },
   "outputs": [
    {
     "output_type": "stream",
     "name": "stdout",
     "output_type": "stream",
     "text": [
      "Out[16]: ['Fabricio Daniel',\n 9.5,\n 9.0,\n 10.0,\n True,\n 9.5,\n 10.0,\n 8.0,\n 9.0,\n [10.0, 8.0, 9.0]]"
     ]
    }
   ],
   "source": [
    "lista.append([10.0,8.0,9.0])\n",
    "lista"
   ]
  },
  {
   "cell_type": "markdown",
   "metadata": {
    "application/vnd.databricks.v1+cell": {
     "cellMetadata": {},
     "inputWidgets": {},
     "nuid": "8f2977e1-490e-4023-9ef8-7f4187dfd378",
     "showTitle": false,
     "title": ""
    },
    "id": "dPGM5gpyUX1z"
   },
   "source": [
    "#### [`remove()`](https://docs.python.org/3/tutorial/datastructures.html#:~:text=append(x).-,list.remove(x),-Remove%20the%20first)\n",
    "\n",
    "Remove um elemento específico da lista."
   ]
  },
  {
   "cell_type": "code",
   "execution_count": 0,
   "metadata": {
    "application/vnd.databricks.v1+cell": {
     "cellMetadata": {
      "byteLimit": 2048000,
      "rowLimit": 10000
     },
     "inputWidgets": {},
     "nuid": "48b0ba91-ae3c-44eb-8d48-c2f1dc68ce90",
     "showTitle": false,
     "title": ""
    },
    "id": "QgXraxZL2xZN"
   },
   "outputs": [
    {
     "output_type": "stream",
     "name": "stdout",
     "output_type": "stream",
     "text": [
      "Out[17]: ['Fabricio Daniel', 9.5, 9.0, 10.0, True, 9.5, 10.0, 8.0, 9.0]"
     ]
    }
   ],
   "source": [
    "lista.remove([10.0,8.0,9.0])\n",
    "lista"
   ]
  },
  {
   "cell_type": "markdown",
   "metadata": {
    "application/vnd.databricks.v1+cell": {
     "cellMetadata": {},
     "inputWidgets": {},
     "nuid": "c18fea43-2fe9-4465-9aa1-881179b5c219",
     "showTitle": false,
     "title": ""
    },
    "id": "Rc22Vc08YDZ2"
   },
   "source": [
    "## Dicionário"
   ]
  },
  {
   "cell_type": "markdown",
   "metadata": {
    "application/vnd.databricks.v1+cell": {
     "cellMetadata": {},
     "inputWidgets": {},
     "nuid": "1f4948b9-e6b0-47a4-b1b5-490ed98cd7b5",
     "showTitle": false,
     "title": ""
    },
    "id": "PJ-cCKPjeWxL"
   },
   "source": [
    "Os dicionários são um tipo de estrutura de dados que armazenam pares de *chave-valor*. Eles são delimitados por chaves `{}` e os pares *chave-valor* são separados por vírgulas.\n",
    "\n",
    "```\n",
    "dicionário = {chave: valor}\n",
    "```\n",
    "\n",
    "A **chave** é um elemento único que identifica um valor no dicionário, enquanto o **valor** é o item que é armazenado para a chave. As chaves e os valores podem ser de **qualquer tipo de dado**.\n",
    "\n",
    "Os dicionários são úteis para armazenar e acessar dados de maneira organizada e rápida. Eles são um tipo de conjunto de elementos em Python, pois armazenam uma coleção de itens."
   ]
  },
  {
   "cell_type": "code",
   "execution_count": 0,
   "metadata": {
    "application/vnd.databricks.v1+cell": {
     "cellMetadata": {
      "byteLimit": 2048000,
      "rowLimit": 10000
     },
     "inputWidgets": {},
     "nuid": "66177291-2710-4473-9aea-5b1eb61966e4",
     "showTitle": false,
     "title": ""
    },
    "id": "fO6BSSP02lPY"
   },
   "outputs": [
    {
     "output_type": "stream",
     "name": "stdout",
     "output_type": "stream",
     "text": [
      "Out[1]: {'chave_1': 1, 'chave_2': 2}"
     ]
    }
   ],
   "source": [
    "dicionario = {'chave_1': 1,'chave_2': 2}\n",
    "\n",
    "dicionario"
   ]
  },
  {
   "cell_type": "markdown",
   "metadata": {
    "application/vnd.databricks.v1+cell": {
     "cellMetadata": {},
     "inputWidgets": {},
     "nuid": "ac16f991-2a41-413e-b4c6-4083d7f719e1",
     "showTitle": false,
     "title": ""
    },
    "id": "_JbQ3KMKfkXU"
   },
   "source": [
    "--- \n",
    "**Situação:**\n",
    "\n",
    "Vamos criar um conjunto de dados com informações de matricula de um estudante. Os dados são os seguintes:\n",
    "\n",
    "- matricula: 2000168933\n",
    "- dia de cadastro: 25\n",
    "- mês de cadastro: 10\n",
    "- turma: 2E"
   ]
  },
  {
   "cell_type": "code",
   "execution_count": 0,
   "metadata": {
    "application/vnd.databricks.v1+cell": {
     "cellMetadata": {
      "byteLimit": 2048000,
      "rowLimit": 10000
     },
     "inputWidgets": {},
     "nuid": "403bc1f8-bc84-4ac0-9939-744c36abc870",
     "showTitle": false,
     "title": ""
    },
    "id": "Q1SKuEXQ2jkL"
   },
   "outputs": [
    {
     "output_type": "stream",
     "name": "stdout",
     "output_type": "stream",
     "text": [
      "Out[5]: {'matricula': 2000168933,\n 'dia de cadastro': 25,\n 'mês de cadastro': 10,\n 'turma': '2E'}"
     ]
    }
   ],
   "source": [
    "cadastro = {\n",
    "    'matricula': 2000168933,\n",
    "    'dia de cadastro': 25,\n",
    "    'mês de cadastro': 10,\n",
    "    'turma': '2E'\n",
    "}\n",
    "\n",
    "cadastro"
   ]
  },
  {
   "cell_type": "code",
   "execution_count": 0,
   "metadata": {
    "application/vnd.databricks.v1+cell": {
     "cellMetadata": {
      "byteLimit": 2048000,
      "rowLimit": 10000
     },
     "inputWidgets": {},
     "nuid": "f0a668b1-b487-48a0-ae18-1277dd8081c5",
     "showTitle": false,
     "title": ""
    },
    "id": "H7oT2M_a2jY5"
   },
   "outputs": [
    {
     "output_type": "stream",
     "name": "stdout",
     "output_type": "stream",
     "text": [
      "Out[8]: 2000168933"
     ]
    }
   ],
   "source": [
    "cadastro['matricula']"
   ]
  },
  {
   "cell_type": "code",
   "execution_count": 0,
   "metadata": {
    "application/vnd.databricks.v1+cell": {
     "cellMetadata": {
      "byteLimit": 2048000,
      "rowLimit": 10000
     },
     "inputWidgets": {},
     "nuid": "6116193b-e230-4854-8efa-ddbafe18312f",
     "showTitle": false,
     "title": ""
    },
    "id": "Mv8we96a2jPR"
   },
   "outputs": [
    {
     "output_type": "stream",
     "name": "stdout",
     "output_type": "stream",
     "text": [
      "Out[9]: '2E'"
     ]
    }
   ],
   "source": [
    "cadastro['turma']"
   ]
  },
  {
   "cell_type": "markdown",
   "metadata": {
    "application/vnd.databricks.v1+cell": {
     "cellMetadata": {},
     "inputWidgets": {},
     "nuid": "8bf56040-715f-4e7c-91b3-b4bd11f742ef",
     "showTitle": false,
     "title": ""
    },
    "id": "8ex5pt2ykDd2"
   },
   "source": [
    "É possível substituir os valores dentro de uma chave. Por exemplo, recebemos a informação que a turma do estudante que cadastramos foi trocada para `'2G'` e agora precisamos trocar o valor da chave `'turma'`."
   ]
  },
  {
   "cell_type": "code",
   "execution_count": 0,
   "metadata": {
    "application/vnd.databricks.v1+cell": {
     "cellMetadata": {
      "byteLimit": 2048000,
      "rowLimit": 10000
     },
     "inputWidgets": {},
     "nuid": "6e781c50-73f2-4ff2-8b37-a4ccb602376a",
     "showTitle": false,
     "title": ""
    },
    "id": "WqZPkVop2hq-"
   },
   "outputs": [
    {
     "output_type": "stream",
     "name": "stdout",
     "output_type": "stream",
     "text": [
      "Out[10]: {'matricula': 2000168933,\n 'dia de cadastro': 25,\n 'mês de cadastro': 10,\n 'turma': '2G'}"
     ]
    }
   ],
   "source": [
    "cadastro['turma'] = '2G'\n",
    "cadastro"
   ]
  },
  {
   "cell_type": "markdown",
   "metadata": {
    "application/vnd.databricks.v1+cell": {
     "cellMetadata": {},
     "inputWidgets": {},
     "nuid": "227f20be-96ab-4292-ace3-39599637e155",
     "showTitle": false,
     "title": ""
    },
    "id": "wB0qRb56mQvv"
   },
   "source": [
    "Podemos também adicionar outros dados ao dicionário. Vamos adicionar a informação de modalidade de ensino, nosso estudante atuará inicialmente em modalidade EAD.\n",
    "\n",
    "Então iremos definir uma chave chamada `'modalidade'` e o valor `'EAD'`."
   ]
  },
  {
   "cell_type": "code",
   "execution_count": 0,
   "metadata": {
    "application/vnd.databricks.v1+cell": {
     "cellMetadata": {
      "byteLimit": 2048000,
      "rowLimit": 10000
     },
     "inputWidgets": {},
     "nuid": "3c3a9882-f318-4948-9394-fa5f28ca7b8b",
     "showTitle": false,
     "title": ""
    },
    "id": "YDbsuNbw2gb2"
   },
   "outputs": [
    {
     "output_type": "stream",
     "name": "stdout",
     "output_type": "stream",
     "text": [
      "Out[11]: {'matricula': 2000168933,\n 'dia de cadastro': 25,\n 'mês de cadastro': 10,\n 'turma': '2G',\n 'modalidade': 'EAD'}"
     ]
    }
   ],
   "source": [
    "cadastro['modalidade'] = 'EAD'\n",
    "cadastro"
   ]
  },
  {
   "cell_type": "markdown",
   "metadata": {
    "application/vnd.databricks.v1+cell": {
     "cellMetadata": {},
     "inputWidgets": {},
     "nuid": "b24900d1-68bd-4033-b0fd-f2696b53c82e",
     "showTitle": false,
     "title": ""
    },
    "id": "LJ3o_inroxg_"
   },
   "source": [
    "## Aprofundando em dicionários"
   ]
  },
  {
   "cell_type": "markdown",
   "metadata": {
    "application/vnd.databricks.v1+cell": {
     "cellMetadata": {},
     "inputWidgets": {},
     "nuid": "9400036d-9599-4893-a217-c4bad6335a5a",
     "showTitle": false,
     "title": ""
    },
    "id": "2N3GLlkSpBiu"
   },
   "source": [
    "#### [`pop()`](https://python-reference.readthedocs.io/en/latest/docs/dict/pop.html)\n",
    "Remove um item de um dicionário e o retorna."
   ]
  },
  {
   "cell_type": "code",
   "execution_count": 0,
   "metadata": {
    "application/vnd.databricks.v1+cell": {
     "cellMetadata": {
      "byteLimit": 2048000,
      "rowLimit": 10000
     },
     "inputWidgets": {},
     "nuid": "d3d5013d-0d68-4f3a-b2ab-10ebb6912d32",
     "showTitle": false,
     "title": ""
    },
    "id": "NJKPaN0N2d2G"
   },
   "outputs": [
    {
     "output_type": "stream",
     "name": "stdout",
     "output_type": "stream",
     "text": [
      "Out[12]: '2G'"
     ]
    }
   ],
   "source": [
    "cadastro.pop('turma')"
   ]
  },
  {
   "cell_type": "code",
   "execution_count": 0,
   "metadata": {
    "application/vnd.databricks.v1+cell": {
     "cellMetadata": {
      "byteLimit": 2048000,
      "rowLimit": 10000
     },
     "inputWidgets": {},
     "nuid": "6662f1dc-95dc-49a5-a2c6-a5c158f07e5e",
     "showTitle": false,
     "title": ""
    },
    "id": "7XZ7Rl4R2cSF"
   },
   "outputs": [
    {
     "output_type": "stream",
     "name": "stdout",
     "output_type": "stream",
     "text": [
      "Out[13]: {'matricula': 2000168933,\n 'dia de cadastro': 25,\n 'mês de cadastro': 10,\n 'modalidade': 'EAD'}"
     ]
    }
   ],
   "source": [
    "cadastro"
   ]
  },
  {
   "cell_type": "markdown",
   "metadata": {
    "application/vnd.databricks.v1+cell": {
     "cellMetadata": {},
     "inputWidgets": {},
     "nuid": "374b4be8-60da-4a17-b5df-e5cfcc455e9b",
     "showTitle": false,
     "title": ""
    },
    "id": "sYZGvJJYrW_y"
   },
   "source": [
    "#### [`items()`](https://python-reference.readthedocs.io/en/latest/docs/dict/items.html)\n",
    "Retorna uma lista de pares chave-valor do dicionário."
   ]
  },
  {
   "cell_type": "code",
   "execution_count": 0,
   "metadata": {
    "application/vnd.databricks.v1+cell": {
     "cellMetadata": {
      "byteLimit": 2048000,
      "rowLimit": 10000
     },
     "inputWidgets": {},
     "nuid": "de1a1b16-1c72-45c5-8da4-3dc75406976b",
     "showTitle": false,
     "title": ""
    },
    "id": "rWJG9aZ72a0D"
   },
   "outputs": [
    {
     "output_type": "stream",
     "name": "stdout",
     "output_type": "stream",
     "text": [
      "Out[14]: dict_items([('matricula', 2000168933), ('dia de cadastro', 25), ('mês de cadastro', 10), ('modalidade', 'EAD')])"
     ]
    }
   ],
   "source": [
    "cadastro.items()"
   ]
  },
  {
   "cell_type": "markdown",
   "metadata": {
    "application/vnd.databricks.v1+cell": {
     "cellMetadata": {},
     "inputWidgets": {},
     "nuid": "24840806-5058-4598-8ff5-0f69dd325d15",
     "showTitle": false,
     "title": ""
    },
    "id": "Lb0utNFGrZBY"
   },
   "source": [
    "#### [`keys()`](https://python-reference.readthedocs.io/en/latest/docs/dict/keys.html)\n",
    "Retorna uma lista das chaves do dicionário."
   ]
  },
  {
   "cell_type": "code",
   "execution_count": 0,
   "metadata": {
    "application/vnd.databricks.v1+cell": {
     "cellMetadata": {
      "byteLimit": 2048000,
      "rowLimit": 10000
     },
     "inputWidgets": {},
     "nuid": "e6980841-b013-4ba9-9581-1e0b0b728f40",
     "showTitle": false,
     "title": ""
    },
    "id": "H1WmQRaR2Z-l"
   },
   "outputs": [
    {
     "output_type": "stream",
     "name": "stdout",
     "output_type": "stream",
     "text": [
      "Out[15]: dict_keys(['matricula', 'dia de cadastro', 'mês de cadastro', 'modalidade'])"
     ]
    }
   ],
   "source": [
    "cadastro.keys()"
   ]
  },
  {
   "cell_type": "markdown",
   "metadata": {
    "application/vnd.databricks.v1+cell": {
     "cellMetadata": {},
     "inputWidgets": {},
     "nuid": "84742e3c-d525-43b4-aff1-29a095e2f4b4",
     "showTitle": false,
     "title": ""
    },
    "id": "qKyu3bf9rbtX"
   },
   "source": [
    "#### [`values()`](https://python-reference.readthedocs.io/en/latest/docs/dict/values.html)\n",
    "Retorna uma lista dos valores do dicionário."
   ]
  },
  {
   "cell_type": "code",
   "execution_count": 0,
   "metadata": {
    "application/vnd.databricks.v1+cell": {
     "cellMetadata": {
      "byteLimit": 2048000,
      "rowLimit": 10000
     },
     "inputWidgets": {},
     "nuid": "b5454dcd-2dc6-495f-94c8-16efcc2cbf06",
     "showTitle": false,
     "title": ""
    },
    "id": "E5pgDcfQ2ZHH"
   },
   "outputs": [
    {
     "output_type": "stream",
     "name": "stdout",
     "output_type": "stream",
     "text": [
      "Out[16]: dict_values([2000168933, 25, 10, 'EAD'])"
     ]
    }
   ],
   "source": [
    "cadastro.values()"
   ]
  },
  {
   "cell_type": "markdown",
   "metadata": {
    "application/vnd.databricks.v1+cell": {
     "cellMetadata": {},
     "inputWidgets": {},
     "nuid": "b735c77d-e3e1-44e1-9b36-beabc139e954",
     "showTitle": false,
     "title": ""
    },
    "id": "e3XVjR8Frp75"
   },
   "source": [
    "### Leitura de valores com `for`"
   ]
  },
  {
   "cell_type": "code",
   "execution_count": 0,
   "metadata": {
    "application/vnd.databricks.v1+cell": {
     "cellMetadata": {
      "byteLimit": 2048000,
      "rowLimit": 10000
     },
     "inputWidgets": {},
     "nuid": "e1433fe3-3e8e-42a0-8e4d-a9c51744856e",
     "showTitle": false,
     "title": ""
    },
    "id": "iwIY3hwV2XL5"
   },
   "outputs": [
    {
     "output_type": "stream",
     "name": "stdout",
     "output_type": "stream",
     "text": [
      "2000168933\n25\n10\nEAD\n"
     ]
    }
   ],
   "source": [
    "for chaves in cadastro.keys():\n",
    "    print(cadastro[chaves])"
   ]
  },
  {
   "cell_type": "code",
   "execution_count": 0,
   "metadata": {
    "application/vnd.databricks.v1+cell": {
     "cellMetadata": {},
     "inputWidgets": {},
     "nuid": "f94a28c8-5ef5-4e9c-ac40-1ed07098942b",
     "showTitle": false,
     "title": ""
    },
    "id": "KlEbYjKN2XCy"
   },
   "outputs": [],
   "source": []
  },
  {
   "cell_type": "code",
   "execution_count": 0,
   "metadata": {
    "application/vnd.databricks.v1+cell": {
     "cellMetadata": {
      "byteLimit": 2048000,
      "rowLimit": 10000
     },
     "inputWidgets": {},
     "nuid": "6c3e0202-1801-48d6-9d22-d1446a982738",
     "showTitle": false,
     "title": ""
    },
    "id": "aiCgk-o42W6u"
   },
   "outputs": [
    {
     "output_type": "stream",
     "name": "stdout",
     "output_type": "stream",
     "text": [
      "2000168933\n25\n10\nEAD\n"
     ]
    }
   ],
   "source": [
    "for valores in cadastro.values():\n",
    "    print(valores)"
   ]
  },
  {
   "cell_type": "code",
   "execution_count": 0,
   "metadata": {
    "application/vnd.databricks.v1+cell": {
     "cellMetadata": {
      "byteLimit": 2048000,
      "rowLimit": 10000
     },
     "inputWidgets": {},
     "nuid": "6db7be5d-9fa6-417d-ad95-02a74fa5d204",
     "showTitle": false,
     "title": ""
    }
   },
   "outputs": [
    {
     "output_type": "stream",
     "name": "stdout",
     "output_type": "stream",
     "text": [
      "matricula 2000168933\ndia de cadastro 25\nmês de cadastro 10\nmodalidade EAD\n"
     ]
    }
   ],
   "source": [
    "for chaves, valores in cadastro.items():\n",
    "    print(chaves, valores)"
   ]
  }
 ],
 "metadata": {
  "application/vnd.databricks.v1+notebook": {
   "dashboards": [],
   "language": "python",
   "notebookMetadata": {
    "pythonIndentUnit": 4
   },
   "notebookName": "Projeto_Python_Data_Science",
   "widgets": {}
  },
  "colab": {
   "provenance": []
  },
  "kernelspec": {
   "display_name": "Python 3",
   "name": "python3"
  },
  "language_info": {
   "name": "python"
  }
 },
 "nbformat": 4,
 "nbformat_minor": 0
}
