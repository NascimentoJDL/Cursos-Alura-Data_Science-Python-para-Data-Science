{
 "cells": [
  {
   "cell_type": "markdown",
   "metadata": {
    "application/vnd.databricks.v1+cell": {
     "cellMetadata": {},
     "inputWidgets": {},
     "nuid": "3ecde695-f369-4836-b1f8-f8a95662020a",
     "showTitle": false,
     "title": ""
    },
    "id": "_kwAaQ36gLQ1"
   },
   "source": [
    "# Sobre o notebook\n",
    "\n",
    "A \"hora da prática\" é uma atividade do curso de Python para Data Science da Alura que contém diversos desafios envolvendo os aprendizados de cada aula.\n",
    "\n",
    "O notebook \"hora da pratica\" é um notebook construído com espaço para as células dos desafios propostos no curso, com ele você tem espaço para construir e executar suas soluções"
   ]
  },
  {
   "cell_type": "markdown",
   "metadata": {
    "application/vnd.databricks.v1+cell": {
     "cellMetadata": {},
     "inputWidgets": {},
     "nuid": "444f404f-68b1-4d09-a853-f838eba6e3b4",
     "showTitle": false,
     "title": ""
    },
    "id": "Mc-KN0dA0Z83"
   },
   "source": [
    "## Aula 1 - Introdução ao Python"
   ]
  },
  {
   "cell_type": "markdown",
   "metadata": {
    "application/vnd.databricks.v1+cell": {
     "cellMetadata": {},
     "inputWidgets": {},
     "nuid": "18101915-8288-4478-8f9b-c8561c75ceac",
     "showTitle": false,
     "title": ""
    },
    "id": "l5eLWf0W0ikn"
   },
   "source": [
    "### Questão 1\n",
    "\n",
    "Imprima a frase `Escola de Dados da Alura!`"
   ]
  },
  {
   "cell_type": "code",
   "execution_count": 0,
   "metadata": {
    "application/vnd.databricks.v1+cell": {
     "cellMetadata": {
      "byteLimit": 2048000,
      "rowLimit": 10000
     },
     "inputWidgets": {},
     "nuid": "e30684f3-1749-4e99-af6a-f15dad4460b3",
     "showTitle": false,
     "title": ""
    },
    "id": "5pllxJ0h0-yA"
   },
   "outputs": [
    {
     "output_type": "stream",
     "name": "stdout",
     "output_type": "stream",
     "text": [
      "Escola de Dados da Alura!\n"
     ]
    }
   ],
   "source": [
    "print('Escola de Dados da Alura!')"
   ]
  },
  {
   "cell_type": "markdown",
   "metadata": {
    "application/vnd.databricks.v1+cell": {
     "cellMetadata": {},
     "inputWidgets": {},
     "nuid": "8e51f58f-ab9a-43cd-913a-49c3f1442c8a",
     "showTitle": false,
     "title": ""
    },
    "id": "tQdX90Ue03c7"
   },
   "source": [
    "### Questão 2\n",
    "Imprima na tela seu nome e seu sobrenome seguindo a estrutura abaixo:\n",
    "```\n",
    "Nome: [seu nome]\n",
    "Sobrenome: [seu sobrenome]\n",
    "```\n"
   ]
  },
  {
   "cell_type": "code",
   "execution_count": 0,
   "metadata": {
    "application/vnd.databricks.v1+cell": {
     "cellMetadata": {
      "byteLimit": 2048000,
      "rowLimit": 10000
     },
     "inputWidgets": {},
     "nuid": "9f088652-f6d0-4e86-a27e-2a395b9b6356",
     "showTitle": false,
     "title": ""
    },
    "id": "RVw5iKn20_Ps"
   },
   "outputs": [
    {
     "output_type": "stream",
     "name": "stdout",
     "output_type": "stream",
     "text": [
      "Nome: José\nSbrenome: Nascimento\n"
     ]
    }
   ],
   "source": [
    "print('Nome: José')\n",
    "print('Sbrenome: Nascimento')"
   ]
  },
  {
   "cell_type": "markdown",
   "metadata": {
    "application/vnd.databricks.v1+cell": {
     "cellMetadata": {},
     "inputWidgets": {},
     "nuid": "e6e4c5cb-7b72-4506-8f05-ec6194957211",
     "showTitle": false,
     "title": ""
    },
    "id": "gfg-aiip03vC"
   },
   "source": [
    "### Questão 3\n",
    "Imprima o seu primeiro nome letra a letra. Por exemplo, nome é Mirla, então eu obtenho a seguinte saída:\n",
    "```\n",
    "M\n",
    "I\n",
    "R\n",
    "L\n",
    "A\n",
    "```\n"
   ]
  },
  {
   "cell_type": "code",
   "execution_count": 0,
   "metadata": {
    "application/vnd.databricks.v1+cell": {
     "cellMetadata": {
      "byteLimit": 2048000,
      "rowLimit": 10000
     },
     "inputWidgets": {},
     "nuid": "8062dc74-a43e-4bbf-bdfa-3b150f71db8a",
     "showTitle": false,
     "title": ""
    },
    "id": "v5bkrgf60_qx"
   },
   "outputs": [
    {
     "output_type": "stream",
     "name": "stdout",
     "output_type": "stream",
     "text": [
      "J\nO\nS\nÉ\n"
     ]
    }
   ],
   "source": [
    "print('J')\n",
    "print('O')\n",
    "print('S')\n",
    "print('É')"
   ]
  },
  {
   "cell_type": "markdown",
   "metadata": {
    "application/vnd.databricks.v1+cell": {
     "cellMetadata": {},
     "inputWidgets": {},
     "nuid": "cf46e21c-29a2-48ee-8cdd-840118c60ff7",
     "showTitle": false,
     "title": ""
    },
    "id": "oadrJbl704MM"
   },
   "source": [
    "### Questão 4\n",
    "Imprima o dia do seu nascimento em formato `dia mês ano`. Os valores de dia e ano não podem estar entre aspas. O formato deve estar como no exemplo, supondo uma data de aniversário dia 28 de fevereiro de 2003:\n",
    "```\n",
    "28 fevereiro 2003\n",
    "```"
   ]
  },
  {
   "cell_type": "code",
   "execution_count": 0,
   "metadata": {
    "application/vnd.databricks.v1+cell": {
     "cellMetadata": {
      "byteLimit": 2048000,
      "rowLimit": 10000
     },
     "inputWidgets": {},
     "nuid": "243ebcef-1223-402a-858a-7574ab8b4d19",
     "showTitle": false,
     "title": ""
    },
    "id": "cx0KSsrq1ALD"
   },
   "outputs": [
    {
     "output_type": "stream",
     "name": "stdout",
     "output_type": "stream",
     "text": [
      "25 Agosto 1988\n"
     ]
    }
   ],
   "source": [
    "print(25, 'Agosto', 1988)"
   ]
  },
  {
   "cell_type": "markdown",
   "metadata": {
    "application/vnd.databricks.v1+cell": {
     "cellMetadata": {},
     "inputWidgets": {},
     "nuid": "5db4809c-595a-4411-a99c-f255403c2b4e",
     "showTitle": false,
     "title": ""
    },
    "id": "3RgyMaan04TD"
   },
   "source": [
    "### Questão 5\n",
    "Imprima em um único print o atual ano que você está fazendo esse curso, o valor do ano deve ser um dado numérico. A saída do print deve ser a seguinte:\n",
    "```\n",
    "Ano atual: [ano]\n",
    "```\n"
   ]
  },
  {
   "cell_type": "code",
   "execution_count": 0,
   "metadata": {
    "application/vnd.databricks.v1+cell": {
     "cellMetadata": {
      "byteLimit": 2048000,
      "rowLimit": 10000
     },
     "inputWidgets": {},
     "nuid": "a0614d57-b4f5-4f40-824b-71b3da1453e2",
     "showTitle": false,
     "title": ""
    },
    "id": "UN77EfQ2d36Y"
   },
   "outputs": [
    {
     "output_type": "stream",
     "name": "stdout",
     "output_type": "stream",
     "text": [
      "1988\n"
     ]
    }
   ],
   "source": [
    "print(1988)"
   ]
  },
  {
   "cell_type": "markdown",
   "metadata": {
    "application/vnd.databricks.v1+cell": {
     "cellMetadata": {},
     "inputWidgets": {},
     "nuid": "0ebe5c1d-2221-4f7c-8ada-2d406e335956",
     "showTitle": false,
     "title": ""
    },
    "id": "D9e3FqhO1S3X"
   },
   "source": [
    "## Aula 2 - Manipulando dados no Python"
   ]
  },
  {
   "cell_type": "markdown",
   "metadata": {
    "application/vnd.databricks.v1+cell": {
     "cellMetadata": {},
     "inputWidgets": {},
     "nuid": "474dbc7f-d0fc-4e83-9ff6-c52cec1a97a1",
     "showTitle": false,
     "title": ""
    },
    "id": "n6o7C1Ze2cRe"
   },
   "source": [
    "### Coleta e amostragem de dados"
   ]
  },
  {
   "cell_type": "markdown",
   "metadata": {
    "application/vnd.databricks.v1+cell": {
     "cellMetadata": {},
     "inputWidgets": {},
     "nuid": "0de4215d-eafe-44a2-8718-4b825c85c25e",
     "showTitle": false,
     "title": ""
    },
    "id": "sRneWag9PV5Q"
   },
   "source": [
    "#### Questão 1\n",
    "Crie um programa que solicite à pessoa usuária digitar seu nome, e imprima “Olá, [nome]!”."
   ]
  },
  {
   "cell_type": "code",
   "execution_count": 0,
   "metadata": {
    "application/vnd.databricks.v1+cell": {
     "cellMetadata": {
      "byteLimit": 2048000,
      "rowLimit": 10000
     },
     "inputWidgets": {},
     "nuid": "4ebce3b0-524c-4681-87b6-f9bdb8829928",
     "showTitle": false,
     "title": ""
    },
    "id": "dbX1fKqy2HnE"
   },
   "outputs": [
    {
     "output_type": "display_data",
     "data": {
      "text/plain": [
       "Digite o seu nome:  Diêgo"
      ]
     },
     "metadata": {},
     "output_type": "display_data"
    },
    {
     "output_type": "stream",
     "name": "stdout",
     "output_type": "stream",
     "text": [
      "Olá Diêgo!\n"
     ]
    }
   ],
   "source": [
    "digite_nome = str(input('Digite o seu nome: '))\n",
    "print(f'Olá {digite_nome}!')"
   ]
  },
  {
   "cell_type": "markdown",
   "metadata": {
    "application/vnd.databricks.v1+cell": {
     "cellMetadata": {},
     "inputWidgets": {},
     "nuid": "482dd5d8-e680-4af5-9aa8-76057c2d0c25",
     "showTitle": false,
     "title": ""
    },
    "id": "BJ1SznEp70d5"
   },
   "source": [
    "#### Questão 2\n",
    "Crie um programa que solicite à pessoa usuária digitar seu nome e idade, e imprima “Olá, [nome], você tem [idade] anos.”."
   ]
  },
  {
   "cell_type": "code",
   "execution_count": 0,
   "metadata": {
    "application/vnd.databricks.v1+cell": {
     "cellMetadata": {
      "byteLimit": 2048000,
      "rowLimit": 10000
     },
     "inputWidgets": {},
     "nuid": "7f4c02c1-fdc5-4e2e-adc9-f388f70eefa5",
     "showTitle": false,
     "title": ""
    },
    "id": "jKz-0Sq8PFkp"
   },
   "outputs": [
    {
     "output_type": "display_data",
     "data": {
      "text/plain": [
       "Digite o seu nome:  Diêgo"
      ]
     },
     "metadata": {},
     "output_type": "display_data"
    },
    {
     "output_type": "display_data",
     "data": {
      "text/plain": [
       "Digite a sua idade:  35"
      ]
     },
     "metadata": {},
     "output_type": "display_data"
    },
    {
     "output_type": "stream",
     "name": "stdout",
     "output_type": "stream",
     "text": [
      "Olá Diêgo, você tem 35 anos\n"
     ]
    }
   ],
   "source": [
    "digite_nome = str(input('Digite o seu nome: '))\n",
    "digite_idade = int(input('Digite a sua idade: '))\n",
    "\n",
    "print(f'Olá {digite_nome}, você tem {digite_idade} anos')"
   ]
  },
  {
   "cell_type": "markdown",
   "metadata": {
    "application/vnd.databricks.v1+cell": {
     "cellMetadata": {},
     "inputWidgets": {},
     "nuid": "fc4a4a46-eedd-4ee4-94d1-f5c7194cb12e",
     "showTitle": false,
     "title": ""
    },
    "id": "2T0jNYZt70aa"
   },
   "source": [
    "#### Questão 3\n",
    "Crie um programa que solicite à pessoa usuária digitar seu nome, idade e altura em metros, e imprima “Olá, [nome], você tem [idade] anos e mede [altura] metros!”."
   ]
  },
  {
   "cell_type": "code",
   "execution_count": 0,
   "metadata": {
    "application/vnd.databricks.v1+cell": {
     "cellMetadata": {
      "byteLimit": 2048000,
      "rowLimit": 10000
     },
     "inputWidgets": {},
     "nuid": "2c1c887b-d18c-430b-b1b1-ab6c03adb3ea",
     "showTitle": false,
     "title": ""
    },
    "id": "pI4kHNzTPIXh"
   },
   "outputs": [
    {
     "output_type": "display_data",
     "data": {
      "text/plain": [
       "Digite o seu nome:  Diêgo"
      ]
     },
     "metadata": {},
     "output_type": "display_data"
    },
    {
     "output_type": "display_data",
     "data": {
      "text/plain": [
       "Digite a sua idade:  35"
      ]
     },
     "metadata": {},
     "output_type": "display_data"
    },
    {
     "output_type": "display_data",
     "data": {
      "text/plain": [
       "Digite a sua altura:  1.88"
      ]
     },
     "metadata": {},
     "output_type": "display_data"
    },
    {
     "output_type": "stream",
     "name": "stdout",
     "output_type": "stream",
     "text": [
      "Olá Diêgo, você tem 35 e mede 1.88 metros!\n"
     ]
    }
   ],
   "source": [
    "digite_nome = str(input('Digite o seu nome: '))\n",
    "digite_idade = int(input('Digite a sua idade: '))\n",
    "digite_altura = float(input('Digite a sua altura: '))\n",
    "\n",
    "print(f'Olá {digite_nome}, você tem {digite_idade} e mede {digite_altura} metros!')"
   ]
  },
  {
   "cell_type": "markdown",
   "metadata": {
    "application/vnd.databricks.v1+cell": {
     "cellMetadata": {},
     "inputWidgets": {},
     "nuid": "f8dd3e6c-b0ff-4882-ac42-021ac0903df8",
     "showTitle": false,
     "title": ""
    },
    "id": "mEBFwKkC70KP"
   },
   "source": [
    "### Calculadora com operadores"
   ]
  },
  {
   "cell_type": "markdown",
   "metadata": {
    "application/vnd.databricks.v1+cell": {
     "cellMetadata": {},
     "inputWidgets": {},
     "nuid": "e160e7dc-7c52-4fb8-8452-3c5eb96572d1",
     "showTitle": false,
     "title": ""
    },
    "id": "H-IV1oAPPSqK"
   },
   "source": [
    "#### Questão 1\n",
    "\n",
    "Crie um programa que solicite dois valores numéricos à pessoa usuária e imprima a soma dos dois valores."
   ]
  },
  {
   "cell_type": "code",
   "execution_count": 0,
   "metadata": {
    "application/vnd.databricks.v1+cell": {
     "cellMetadata": {
      "byteLimit": 2048000,
      "rowLimit": 10000
     },
     "inputWidgets": {},
     "nuid": "11514788-8e76-4337-86e4-a6147252c7f8",
     "showTitle": false,
     "title": ""
    },
    "id": "Zb0W84sy8rnp"
   },
   "outputs": [
    {
     "output_type": "display_data",
     "data": {
      "text/plain": [
       "Digite o valor de A:  10"
      ]
     },
     "metadata": {},
     "output_type": "display_data"
    },
    {
     "output_type": "display_data",
     "data": {
      "text/plain": [
       "Digite o valor de B:  -9.99"
      ]
     },
     "metadata": {},
     "output_type": "display_data"
    },
    {
     "output_type": "stream",
     "name": "stdout",
     "output_type": "stream",
     "text": [
      "A soma de 10.0 + -9.99 = 0.009999999999999787\n"
     ]
    }
   ],
   "source": [
    "valor_A = float(input('Digite o valor de A: '))\n",
    "valor_B = float(input('Digite o valor de B: '))\n",
    "valor_resultado = valor_A + valor_B\n",
    "\n",
    "print(f'A soma de {valor_A} + {valor_B} = {valor_resultado}')"
   ]
  },
  {
   "cell_type": "markdown",
   "metadata": {
    "application/vnd.databricks.v1+cell": {
     "cellMetadata": {},
     "inputWidgets": {},
     "nuid": "0d894f5d-7199-4698-8653-a70bae08664c",
     "showTitle": false,
     "title": ""
    },
    "id": "LUoi2MOu70Em"
   },
   "source": [
    "#### Questão 2\n",
    "Crie um programa que solicite três valores numéricos à pessoa usuária e imprima a soma dos três valores."
   ]
  },
  {
   "cell_type": "code",
   "execution_count": 0,
   "metadata": {
    "application/vnd.databricks.v1+cell": {
     "cellMetadata": {
      "byteLimit": 2048000,
      "rowLimit": 10000
     },
     "inputWidgets": {},
     "nuid": "70a597d2-e602-4744-bd9e-ddb7c491c826",
     "showTitle": false,
     "title": ""
    },
    "id": "4FYjWyBS8rDm"
   },
   "outputs": [
    {
     "output_type": "display_data",
     "data": {
      "text/plain": [
       "Digite o valor de A:  1"
      ]
     },
     "metadata": {},
     "output_type": "display_data"
    },
    {
     "output_type": "display_data",
     "data": {
      "text/plain": [
       "Digite o valor de B:  -1"
      ]
     },
     "metadata": {},
     "output_type": "display_data"
    },
    {
     "output_type": "display_data",
     "data": {
      "text/plain": [
       "Digite o valor de C:  0.19"
      ]
     },
     "metadata": {},
     "output_type": "display_data"
    },
    {
     "output_type": "stream",
     "name": "stdout",
     "output_type": "stream",
     "text": [
      "A soma de 1.0 + -1.0 + 0.19 = 0.19\n"
     ]
    }
   ],
   "source": [
    "valor_A = float(input('Digite o valor de A: '))\n",
    "valor_B = float(input('Digite o valor de B: '))\n",
    "valor_C = float(input('Digite o valor de C: '))\n",
    "valor_resultado = valor_A + valor_B + valor_C\n",
    "\n",
    "print(f'A soma de {valor_A} + {valor_B} + {valor_C} = {valor_resultado}')"
   ]
  },
  {
   "cell_type": "markdown",
   "metadata": {
    "application/vnd.databricks.v1+cell": {
     "cellMetadata": {},
     "inputWidgets": {},
     "nuid": "1c0bfcc0-f9cb-4221-8b31-ce70001cac93",
     "showTitle": false,
     "title": ""
    },
    "id": "lezGctF07z8i"
   },
   "source": [
    "#### Questão 3\n",
    "Crie um programa que solicite dois valores numéricos à pessoa usuária e imprima a subtração do primeiro pelo o segundo valor."
   ]
  },
  {
   "cell_type": "code",
   "execution_count": 0,
   "metadata": {
    "application/vnd.databricks.v1+cell": {
     "cellMetadata": {
      "byteLimit": 2048000,
      "rowLimit": 10000
     },
     "inputWidgets": {},
     "nuid": "5d185a34-1232-46cc-8c9c-2e217ef8ac5d",
     "showTitle": false,
     "title": ""
    },
    "id": "k0GE1z4w8p3J"
   },
   "outputs": [
    {
     "output_type": "display_data",
     "data": {
      "text/plain": [
       "Digite o valor de A:  8"
      ]
     },
     "metadata": {},
     "output_type": "display_data"
    },
    {
     "output_type": "display_data",
     "data": {
      "text/plain": [
       "Digite o valor de B:  9.5"
      ]
     },
     "metadata": {},
     "output_type": "display_data"
    },
    {
     "output_type": "stream",
     "name": "stdout",
     "output_type": "stream",
     "text": [
      "A diferença de 8.0 - 9.5 = -1.5\n"
     ]
    }
   ],
   "source": [
    "valor_A = float(input('Digite o valor de A: '))\n",
    "valor_B = float(input('Digite o valor de B: '))\n",
    "valor_resultado = valor_A - valor_B\n",
    "\n",
    "print(f'A diferença de {valor_A} - {valor_B} = {valor_resultado}')"
   ]
  },
  {
   "cell_type": "markdown",
   "metadata": {
    "application/vnd.databricks.v1+cell": {
     "cellMetadata": {},
     "inputWidgets": {},
     "nuid": "902b9c2e-51cb-4921-9592-9d01c070b7d2",
     "showTitle": false,
     "title": ""
    },
    "id": "wwMP-dPU7zxW"
   },
   "source": [
    "#### Questão 4\n",
    "\n",
    "Crie um programa que solicite dois valores numéricos à pessoa usuária e imprima a multiplicação dos dois valores.\n"
   ]
  },
  {
   "cell_type": "code",
   "execution_count": 0,
   "metadata": {
    "application/vnd.databricks.v1+cell": {
     "cellMetadata": {
      "byteLimit": 2048000,
      "rowLimit": 10000
     },
     "inputWidgets": {},
     "nuid": "1063b0a2-fb24-4050-a13a-36c17475e17c",
     "showTitle": false,
     "title": ""
    },
    "id": "GzFCVHfp8peZ"
   },
   "outputs": [
    {
     "output_type": "display_data",
     "data": {
      "text/plain": [
       "Digite o valor de A:  8"
      ]
     },
     "metadata": {},
     "output_type": "display_data"
    },
    {
     "output_type": "display_data",
     "data": {
      "text/plain": [
       "Digite o valor de B:  2"
      ]
     },
     "metadata": {},
     "output_type": "display_data"
    },
    {
     "output_type": "stream",
     "name": "stdout",
     "output_type": "stream",
     "text": [
      "A multiplicação de 8.0 x 2.0 = 16.0\n"
     ]
    }
   ],
   "source": [
    "valor_A = float(input('Digite o valor de A: '))\n",
    "valor_B = float(input('Digite o valor de B: '))\n",
    "valor_resultado = valor_A * valor_B\n",
    "\n",
    "print(f'A multiplicação de {valor_A} x {valor_B} = {valor_resultado}')"
   ]
  },
  {
   "cell_type": "markdown",
   "metadata": {
    "application/vnd.databricks.v1+cell": {
     "cellMetadata": {},
     "inputWidgets": {},
     "nuid": "30a46a0d-0315-4f82-94ae-15805917d9d9",
     "showTitle": false,
     "title": ""
    },
    "id": "9kxyHxUo7zRD"
   },
   "source": [
    "#### Questão 5\n",
    "\n",
    "Crie um programa que solicite dois valores numéricos, um numerador e um denominador, e realize a divisão entre os dois valores. Deixe claro que o valor do denominador não pode ser `0`.\n"
   ]
  },
  {
   "cell_type": "code",
   "execution_count": 0,
   "metadata": {
    "application/vnd.databricks.v1+cell": {
     "cellMetadata": {
      "byteLimit": 2048000,
      "rowLimit": 10000
     },
     "inputWidgets": {},
     "nuid": "3e245217-fcc7-4a01-bdb8-b37af639466d",
     "showTitle": false,
     "title": ""
    },
    "id": "ytJ8l5KH8ozc"
   },
   "outputs": [
    {
     "output_type": "display_data",
     "data": {
      "text/plain": [
       "Digite o valor de A:  0"
      ]
     },
     "metadata": {},
     "output_type": "display_data"
    },
    {
     "output_type": "display_data",
     "data": {
      "text/plain": [
       "Digite o valor de B (O valor do denominador não pode ser 0!):  1"
      ]
     },
     "metadata": {},
     "output_type": "display_data"
    },
    {
     "output_type": "stream",
     "name": "stdout",
     "output_type": "stream",
     "text": [
      "A divisão de 0.0 : 1.0 = 0.0\nNone\n"
     ]
    }
   ],
   "source": [
    "valor_A = float(input('Digite o valor de A: '))\n",
    "valor_B = float(input('Digite o valor de B (Obs.: O valor do denominador não pode ser 0!): '))\n",
    "valor_resultado = valor_A / valor_B\n",
    "\n",
    "print(print(f'A divisão de {valor_A} : {valor_B} = {valor_resultado}'))"
   ]
  },
  {
   "cell_type": "markdown",
   "metadata": {
    "application/vnd.databricks.v1+cell": {
     "cellMetadata": {},
     "inputWidgets": {},
     "nuid": "f96fd643-c7a4-4a6d-a6cc-7d5c6f27575b",
     "showTitle": false,
     "title": ""
    },
    "id": "zkUSBTQq8Hxt"
   },
   "source": [
    "#### Questão 6\n",
    "\n",
    "Crie um programa que solicite dois valores numéricos, um operador e uma potência, e realize a exponenciação entre esses dois valores.\n"
   ]
  },
  {
   "cell_type": "code",
   "execution_count": 0,
   "metadata": {
    "application/vnd.databricks.v1+cell": {
     "cellMetadata": {
      "byteLimit": 2048000,
      "rowLimit": 10000
     },
     "inputWidgets": {},
     "nuid": "c7c71b58-40cc-419c-a6d4-4d1ecc654fe5",
     "showTitle": false,
     "title": ""
    },
    "id": "RPj36jq08oZp"
   },
   "outputs": [
    {
     "output_type": "display_data",
     "data": {
      "text/plain": [
       "Digite o valor de A:  5"
      ]
     },
     "metadata": {},
     "output_type": "display_data"
    },
    {
     "output_type": "display_data",
     "data": {
      "text/plain": [
       "Digite o valor de B:  2"
      ]
     },
     "metadata": {},
     "output_type": "display_data"
    },
    {
     "output_type": "stream",
     "name": "stdout",
     "output_type": "stream",
     "text": [
      "A exponenciação de 5.0 ** 2.0 = 25.0\nNone\n"
     ]
    }
   ],
   "source": [
    "valor_A = float(input('Digite o valor de A: '))\n",
    "valor_B = float(input('Digite o valor de B: '))\n",
    "valor_resultado = valor_A ** valor_B\n",
    "\n",
    "print(print(f'A exponenciação de {valor_A} ** {valor_B} = {valor_resultado}'))"
   ]
  },
  {
   "cell_type": "markdown",
   "metadata": {
    "application/vnd.databricks.v1+cell": {
     "cellMetadata": {},
     "inputWidgets": {},
     "nuid": "3569a774-5069-40ec-95ca-00e9760fd566",
     "showTitle": false,
     "title": ""
    },
    "id": "yiunIusZ8Huj"
   },
   "source": [
    "#### Questão 7\n",
    "Crie um programa que solicite dois valores numéricos, um numerador e um denominador e realize a divisão inteira entre os dois valores. Deixe claro que o valor do denominador não pode ser `0`."
   ]
  },
  {
   "cell_type": "code",
   "execution_count": 0,
   "metadata": {
    "application/vnd.databricks.v1+cell": {
     "cellMetadata": {
      "byteLimit": 2048000,
      "rowLimit": 10000
     },
     "inputWidgets": {},
     "nuid": "b5c4f937-8b03-4420-8c4d-989751d3c102",
     "showTitle": false,
     "title": ""
    },
    "id": "UHK8xITf8oCg"
   },
   "outputs": [
    {
     "output_type": "display_data",
     "data": {
      "text/plain": [
       "Digite o valor de A:  10"
      ]
     },
     "metadata": {},
     "output_type": "display_data"
    },
    {
     "output_type": "display_data",
     "data": {
      "text/plain": [
       "Digite o valor de B (O valor do denominador não pode ser 0!):  3"
      ]
     },
     "metadata": {},
     "output_type": "display_data"
    },
    {
     "output_type": "stream",
     "name": "stdout",
     "output_type": "stream",
     "text": [
      "A divisão de 10.0 // 3.0 = 3.0\nNone\n"
     ]
    }
   ],
   "source": [
    "valor_A = float(input('Digite o valor de A: '))\n",
    "valor_B = float(input('Digite o valor de B (Obs.: O valor do denominador não pode ser 0!): '))\n",
    "valor_resultado = valor_A // valor_B\n",
    "\n",
    "print(print(f'A divisão inteira entre os dois valores de {valor_A} // {valor_B} = {valor_resultado}'))"
   ]
  },
  {
   "cell_type": "markdown",
   "metadata": {
    "application/vnd.databricks.v1+cell": {
     "cellMetadata": {},
     "inputWidgets": {},
     "nuid": "8601994d-cf86-4a66-bf8b-0200ac69fcc6",
     "showTitle": false,
     "title": ""
    },
    "id": "z_D_JiLX8Hra"
   },
   "source": [
    "#### Questão 8\n",
    "\n",
    "Crie um programa que solicite dois valores numéricos, um numerador e um denominador, e retorne o resto da divisão entre os dois valores. Deixe claro que o valor do denominador não pode ser `0`."
   ]
  },
  {
   "cell_type": "code",
   "execution_count": 0,
   "metadata": {
    "application/vnd.databricks.v1+cell": {
     "cellMetadata": {
      "byteLimit": 2048000,
      "rowLimit": 10000
     },
     "inputWidgets": {},
     "nuid": "e2ce385c-d2be-4a0b-9f3b-9d5c8b8e768d",
     "showTitle": false,
     "title": ""
    },
    "id": "EWGJeukO8nqx"
   },
   "outputs": [
    {
     "output_type": "display_data",
     "data": {
      "text/plain": [
       "Digite o valor de A:  10"
      ]
     },
     "metadata": {},
     "output_type": "display_data"
    },
    {
     "output_type": "display_data",
     "data": {
      "text/plain": [
       "Digite o valor de B (Obs.: O valor do denominador não pode ser 0!):  9"
      ]
     },
     "metadata": {},
     "output_type": "display_data"
    },
    {
     "output_type": "stream",
     "name": "stdout",
     "output_type": "stream",
     "text": [
      "A divisão de 10.0 % 9.0 = 1.0\nNone\n"
     ]
    }
   ],
   "source": [
    "valor_A = float(input('Digite o valor de A: '))\n",
    "valor_B = float(input('Digite o valor de B (Obs.: O valor do denominador não pode ser 0!): '))\n",
    "valor_resultado = valor_A % valor_B\n",
    "\n",
    "print(print(f'O resto da divisão  de {valor_A} % {valor_B} = {valor_resultado}'))"
   ]
  },
  {
   "cell_type": "markdown",
   "metadata": {
    "application/vnd.databricks.v1+cell": {
     "cellMetadata": {},
     "inputWidgets": {},
     "nuid": "113de313-f091-40b8-a5e7-be9d6de693ef",
     "showTitle": false,
     "title": ""
    },
    "id": "RDRajNkU8N8N"
   },
   "source": [
    "#### Questão 9\n",
    "\n",
    "Crie um código que solicita 3 notas de um estudante e imprima a média das notas."
   ]
  },
  {
   "cell_type": "code",
   "execution_count": 0,
   "metadata": {
    "application/vnd.databricks.v1+cell": {
     "cellMetadata": {
      "byteLimit": 2048000,
      "rowLimit": 10000
     },
     "inputWidgets": {},
     "nuid": "a3a096dd-2858-46df-a244-928dd16db2bd",
     "showTitle": false,
     "title": ""
    },
    "id": "H6F4Ojzt8nSR"
   },
   "outputs": [
    {
     "output_type": "display_data",
     "data": {
      "text/plain": [
       "Digite o valor da nota em Matemática:  5"
      ]
     },
     "metadata": {},
     "output_type": "display_data"
    },
    {
     "output_type": "display_data",
     "data": {
      "text/plain": [
       "Digite o valor da nota em Português:  5"
      ]
     },
     "metadata": {},
     "output_type": "display_data"
    },
    {
     "output_type": "display_data",
     "data": {
      "text/plain": [
       "Digite o valor da nota em História:  5"
      ]
     },
     "metadata": {},
     "output_type": "display_data"
    },
    {
     "output_type": "stream",
     "name": "stdout",
     "output_type": "stream",
     "text": [
      "A média das notas é: 5.0\n"
     ]
    }
   ],
   "source": [
    "nota_matematica = float(input('Digite o valor da nota em Matemática: '))\n",
    "nota_portugues = float(input('Digite o valor da nota em Português: '))\n",
    "nota_historia = float(input('Digite o valor da nota em História: '))\n",
    "media_nota = round(((nota_matematica + nota_portugues + nota_historia) / 3), 2)\n",
    "\n",
    "print(f'A média das notas é: {media_nota}')"
   ]
  },
  {
   "cell_type": "markdown",
   "metadata": {
    "application/vnd.databricks.v1+cell": {
     "cellMetadata": {},
     "inputWidgets": {},
     "nuid": "f394c4f0-0099-4b19-9520-9f268708ed3a",
     "showTitle": false,
     "title": ""
    },
    "id": "d7fjkne58N21"
   },
   "source": [
    "#### Questão 10\n",
    "\n",
    "Crie um código que calcule e imprima a média ponderada dos números 5, 12, 20 e 15 com pesos respectivamente iguais a 1, 2, 3 e 4."
   ]
  },
  {
   "cell_type": "code",
   "execution_count": 0,
   "metadata": {
    "application/vnd.databricks.v1+cell": {
     "cellMetadata": {
      "byteLimit": 2048000,
      "rowLimit": 10000
     },
     "inputWidgets": {},
     "nuid": "9d67e961-3af5-482e-8028-ad9c0b4a8e89",
     "showTitle": false,
     "title": ""
    },
    "id": "fwjoHlV48mkv"
   },
   "outputs": [
    {
     "output_type": "stream",
     "name": "stdout",
     "output_type": "stream",
     "text": [
      "A média ponderada é: 14.9\n"
     ]
    }
   ],
   "source": [
    "media_ponderada = (5 * 1 + 12 * 2 + 20 * 3 + 15 * 4) / (1 + 2 + 3 + 4)\n",
    "print(f'A média ponderada é: {media_ponderada}')"
   ]
  },
  {
   "cell_type": "markdown",
   "metadata": {
    "application/vnd.databricks.v1+cell": {
     "cellMetadata": {},
     "inputWidgets": {},
     "nuid": "64985eed-11ce-45cd-b12a-1d9552e0cbea",
     "showTitle": false,
     "title": ""
    },
    "id": "GNmbX1OU8N0V"
   },
   "source": [
    "### Editando textos"
   ]
  },
  {
   "cell_type": "markdown",
   "metadata": {
    "application/vnd.databricks.v1+cell": {
     "cellMetadata": {},
     "inputWidgets": {},
     "nuid": "27334110-f84f-4426-bd07-fadfd34c2ee1",
     "showTitle": false,
     "title": ""
    },
    "id": "6wZ85mCsRCV0"
   },
   "source": [
    "#### Questão 1\n",
    "\n",
    "Crie uma variável chamada “`frase`” e atribua a ela uma string de sua escolha. Em seguida, imprima a frase na tela."
   ]
  },
  {
   "cell_type": "code",
   "execution_count": 0,
   "metadata": {
    "application/vnd.databricks.v1+cell": {
     "cellMetadata": {
      "byteLimit": 2048000,
      "rowLimit": 10000
     },
     "inputWidgets": {},
     "nuid": "e496dd48-7a6a-4544-95c4-76c071259e3c",
     "showTitle": false,
     "title": ""
    },
    "id": "eRqr_gh-8mFy"
   },
   "outputs": [
    {
     "output_type": "stream",
     "name": "stdout",
     "output_type": "stream",
     "text": [
      "Out[1]: 'Olá Mundo!'"
     ]
    }
   ],
   "source": [
    "frase = 'Olá Mundo!'\n",
    "frase"
   ]
  },
  {
   "cell_type": "markdown",
   "metadata": {
    "application/vnd.databricks.v1+cell": {
     "cellMetadata": {},
     "inputWidgets": {},
     "nuid": "68d341a3-8aad-4107-b5aa-7e346c6d949d",
     "showTitle": false,
     "title": ""
    },
    "id": "Aac17z-18Nwv"
   },
   "source": [
    "#### Questão 2\n",
    "Crie um código que solicite uma frase e depois imprima a frase na tela."
   ]
  },
  {
   "cell_type": "code",
   "execution_count": 0,
   "metadata": {
    "application/vnd.databricks.v1+cell": {
     "cellMetadata": {
      "byteLimit": 2048000,
      "rowLimit": 10000
     },
     "inputWidgets": {},
     "nuid": "ddcb306a-cf11-4091-b949-18d8dff9b5a4",
     "showTitle": false,
     "title": ""
    },
    "id": "8zfE2hh98lb0"
   },
   "outputs": [
    {
     "output_type": "display_data",
     "data": {
      "text/plain": [
       "Digite a frase:  Olá"
      ]
     },
     "metadata": {},
     "output_type": "display_data"
    },
    {
     "output_type": "stream",
     "name": "stdout",
     "output_type": "stream",
     "text": [
      "Out[2]: 'Olá'"
     ]
    }
   ],
   "source": [
    "solicitacao_frase = str(input('Digite a frase: '))\n",
    "solicitacao_frase"
   ]
  },
  {
   "cell_type": "markdown",
   "metadata": {
    "application/vnd.databricks.v1+cell": {
     "cellMetadata": {},
     "inputWidgets": {},
     "nuid": "76dbb156-f5fc-4b3a-bf54-91f9ba6adc79",
     "showTitle": false,
     "title": ""
    },
    "id": "DXVzqpN58Ntr"
   },
   "source": [
    "#### Questão 3\n",
    "\n",
    "Crie um código que solicite uma frase à pessoa usuária e imprima a mesma frase digitada mas com todas as letras maiúsculas."
   ]
  },
  {
   "cell_type": "code",
   "execution_count": 0,
   "metadata": {
    "application/vnd.databricks.v1+cell": {
     "cellMetadata": {
      "byteLimit": 2048000,
      "rowLimit": 10000
     },
     "inputWidgets": {},
     "nuid": "ff6acd84-3c71-4253-8263-7fc97aa62cd3",
     "showTitle": false,
     "title": ""
    },
    "id": "d0VzoYP68k-I"
   },
   "outputs": [
    {
     "output_type": "display_data",
     "data": {
      "text/plain": [
       "Digite a frase:  olá"
      ]
     },
     "metadata": {},
     "output_type": "display_data"
    },
    {
     "output_type": "stream",
     "name": "stdout",
     "output_type": "stream",
     "text": [
      "Out[3]: 'OLÁ'"
     ]
    }
   ],
   "source": [
    "solicitacao_frase = str(input('Digite a frase: '))\n",
    "solicitacao_frase.upper()"
   ]
  },
  {
   "cell_type": "markdown",
   "metadata": {
    "application/vnd.databricks.v1+cell": {
     "cellMetadata": {},
     "inputWidgets": {},
     "nuid": "c74e23f1-1be1-4092-a255-1beb91bff0c8",
     "showTitle": false,
     "title": ""
    },
    "id": "I12VeNPK8Nqb"
   },
   "source": [
    "#### Questão 4\n",
    "\n",
    "Crie um código que solicite uma frase à pessoa usuária e imprima a mesma frase digitada mas com todas as letras minúsculas."
   ]
  },
  {
   "cell_type": "code",
   "execution_count": 0,
   "metadata": {
    "application/vnd.databricks.v1+cell": {
     "cellMetadata": {
      "byteLimit": 2048000,
      "rowLimit": 10000
     },
     "inputWidgets": {},
     "nuid": "4a6112de-958e-4179-a3a1-29c609d1bbab",
     "showTitle": false,
     "title": ""
    },
    "id": "KD8rNy2K8kox"
   },
   "outputs": [
    {
     "output_type": "display_data",
     "data": {
      "text/plain": [
       "Digite a frase:  OLÁ"
      ]
     },
     "metadata": {},
     "output_type": "display_data"
    },
    {
     "output_type": "stream",
     "name": "stdout",
     "output_type": "stream",
     "text": [
      "Out[4]: 'olá'"
     ]
    }
   ],
   "source": [
    "solicitacao_frase = str(input('Digite a frase: '))\n",
    "solicitacao_frase.lower()"
   ]
  },
  {
   "cell_type": "markdown",
   "metadata": {
    "application/vnd.databricks.v1+cell": {
     "cellMetadata": {},
     "inputWidgets": {},
     "nuid": "fc8b997b-9572-4c3e-b8e4-4c6155509eee",
     "showTitle": false,
     "title": ""
    },
    "id": "cRqngSE48Nog"
   },
   "source": [
    "#### Questão 5\n",
    "\n",
    "Crie uma variável chamada “`frase`” e atribua a ela uma string de sua escolha. Em seguida, imprima a frase sem espaços em branco no início e no fim."
   ]
  },
  {
   "cell_type": "code",
   "execution_count": 0,
   "metadata": {
    "application/vnd.databricks.v1+cell": {
     "cellMetadata": {
      "byteLimit": 2048000,
      "rowLimit": 10000
     },
     "inputWidgets": {},
     "nuid": "83fe7195-0fa5-4cf2-b4aa-0eb983bbdbc9",
     "showTitle": false,
     "title": ""
    },
    "id": "aSCpdF-o8kBs"
   },
   "outputs": [
    {
     "output_type": "stream",
     "name": "stdout",
     "output_type": "stream",
     "text": [
      "Out[6]: 'Digite a frase'"
     ]
    }
   ],
   "source": [
    "frase = '                Digite a frase                '\n",
    "frase.strip()"
   ]
  },
  {
   "cell_type": "markdown",
   "metadata": {
    "application/vnd.databricks.v1+cell": {
     "cellMetadata": {},
     "inputWidgets": {},
     "nuid": "6c512018-754e-4a9f-951e-8a96ecbfa7e9",
     "showTitle": false,
     "title": ""
    },
    "id": "murIazpQ8Nkv"
   },
   "source": [
    "#### Questão 6\n",
    "\n",
    "Crie um código que solicite uma frase à pessoa usuária e imprima a mesma frase sem espaços em branco no início e no fim."
   ]
  },
  {
   "cell_type": "code",
   "execution_count": 0,
   "metadata": {
    "application/vnd.databricks.v1+cell": {
     "cellMetadata": {
      "byteLimit": 2048000,
      "rowLimit": 10000
     },
     "inputWidgets": {},
     "nuid": "2e5e288b-76d2-40fe-966f-5467fdba5cf1",
     "showTitle": false,
     "title": ""
    },
    "id": "tHunjwuG8jNq"
   },
   "outputs": [
    {
     "output_type": "display_data",
     "data": {
      "text/plain": [
       "Digite a frase:                         Olá                    "
      ]
     },
     "metadata": {},
     "output_type": "display_data"
    },
    {
     "output_type": "stream",
     "name": "stdout",
     "output_type": "stream",
     "text": [
      "Out[7]: 'Olá'"
     ]
    }
   ],
   "source": [
    "frase = str(input('Digite a frase: '))\n",
    "frase.strip()"
   ]
  },
  {
   "cell_type": "markdown",
   "metadata": {
    "application/vnd.databricks.v1+cell": {
     "cellMetadata": {},
     "inputWidgets": {},
     "nuid": "f8ad8fad-b521-4e6d-a4be-e8778fcce4d1",
     "showTitle": false,
     "title": ""
    },
    "id": "eRxc2OeX8Nh2"
   },
   "source": [
    "#### Questão 7\n",
    "\n",
    "\n",
    "Crie um código que solicite uma frase à pessoa usuária e imprima a mesma frase sem espaços em branco no início e no fim e em letras minúsculas."
   ]
  },
  {
   "cell_type": "code",
   "execution_count": 0,
   "metadata": {
    "application/vnd.databricks.v1+cell": {
     "cellMetadata": {
      "byteLimit": 2048000,
      "rowLimit": 10000
     },
     "inputWidgets": {},
     "nuid": "17b028bc-29e2-4a57-a5b2-21e6e8d067bb",
     "showTitle": false,
     "title": ""
    },
    "id": "DYm0_UwS8ih6"
   },
   "outputs": [
    {
     "output_type": "display_data",
     "data": {
      "text/plain": [
       "digite a sua frase:  diego é vascaíno!"
      ]
     },
     "metadata": {},
     "output_type": "display_data"
    },
    {
     "output_type": "stream",
     "name": "stdout",
     "output_type": "stream",
     "text": [
      "Out[8]: 'DIEGO É VASCAÍNO!'"
     ]
    }
   ],
   "source": [
    "frase = input('digite a sua frase: ')\n",
    "frase.strip().upper()"
   ]
  },
  {
   "cell_type": "markdown",
   "metadata": {
    "application/vnd.databricks.v1+cell": {
     "cellMetadata": {},
     "inputWidgets": {},
     "nuid": "a9bbe44b-0d14-412d-a306-0274fa1f90ae",
     "showTitle": false,
     "title": ""
    },
    "id": "UKATLavs8NfI"
   },
   "source": [
    "#### Questão 8\n",
    "\n",
    "Crie um código que solicite uma frase à pessoa usuária e imprima a mesma frase com todas as vogais “`e`” trocadas pela letra “`f`”."
   ]
  },
  {
   "cell_type": "code",
   "execution_count": 0,
   "metadata": {
    "application/vnd.databricks.v1+cell": {
     "cellMetadata": {
      "byteLimit": 2048000,
      "rowLimit": 10000
     },
     "inputWidgets": {},
     "nuid": "e6cb96fa-18dc-4ea2-b9cc-e1f22e78dda0",
     "showTitle": false,
     "title": ""
    },
    "id": "k64C5G5S8iLO"
   },
   "outputs": [
    {
     "output_type": "display_data",
     "data": {
      "text/plain": [
       "digite a sua frase:  Jose Diego Lima do Nascimento"
      ]
     },
     "metadata": {},
     "output_type": "display_data"
    },
    {
     "output_type": "stream",
     "name": "stdout",
     "output_type": "stream",
     "text": [
      "Out[9]: 'Josf Difgo Lima do Nascimfnto'"
     ]
    }
   ],
   "source": [
    "frase = input('digite a sua frase: ')\n",
    "frase.replace(\"e\", \"f\")"
   ]
  },
  {
   "cell_type": "markdown",
   "metadata": {
    "application/vnd.databricks.v1+cell": {
     "cellMetadata": {},
     "inputWidgets": {},
     "nuid": "18120757-5b6d-4adf-902c-26221231e6bd",
     "showTitle": false,
     "title": ""
    },
    "id": "n_1SPchw8NdG"
   },
   "source": [
    "#### Questão 9\n",
    "\n",
    "\n",
    "Crie um código que solicite uma frase à pessoa usuária e imprima a mesma frase com todas as vogais “`a`” trocadas pela caractere  “`@`”."
   ]
  },
  {
   "cell_type": "code",
   "execution_count": 0,
   "metadata": {
    "application/vnd.databricks.v1+cell": {
     "cellMetadata": {
      "byteLimit": 2048000,
      "rowLimit": 10000
     },
     "inputWidgets": {},
     "nuid": "22add8c8-2c3e-42df-b4df-a8f67d8e52b2",
     "showTitle": false,
     "title": ""
    },
    "id": "msaDNm_p8h0D"
   },
   "outputs": [
    {
     "output_type": "display_data",
     "data": {
      "text/plain": [
       "digite a sua frase:  Amanha, sera um lindo dia!"
      ]
     },
     "metadata": {},
     "output_type": "display_data"
    },
    {
     "output_type": "stream",
     "name": "stdout",
     "output_type": "stream",
     "text": [
      "Out[10]: 'Am@nh@, ser@ um lindo di@!'"
     ]
    }
   ],
   "source": [
    "frase = input('digite a sua frase: ')\n",
    "frase.replace(\"a\", \"@\")"
   ]
  },
  {
   "cell_type": "markdown",
   "metadata": {
    "application/vnd.databricks.v1+cell": {
     "cellMetadata": {},
     "inputWidgets": {},
     "nuid": "70ff743a-e3ae-45af-a61b-1e24e89ac64f",
     "showTitle": false,
     "title": ""
    },
    "id": "H3sTTjqI8Naa"
   },
   "source": [
    "#### Questão 10\n",
    "\n",
    "\n",
    "Crie um código que solicite uma frase à pessoa usuária e imprima a mesma frase com todas as consoantes “`s`” trocadas pelo caractere  “`$`”."
   ]
  },
  {
   "cell_type": "code",
   "execution_count": 0,
   "metadata": {
    "application/vnd.databricks.v1+cell": {
     "cellMetadata": {
      "byteLimit": 2048000,
      "rowLimit": 10000
     },
     "inputWidgets": {},
     "nuid": "15eeea23-6a18-4ead-b632-fb1a70a25d12",
     "showTitle": false,
     "title": ""
    },
    "id": "RPBIsWT68e-1"
   },
   "outputs": [
    {
     "output_type": "display_data",
     "data": {
      "text/plain": [
       "digite a sua frase:  O sapo não lava o pé!"
      ]
     },
     "metadata": {},
     "output_type": "display_data"
    },
    {
     "output_type": "stream",
     "name": "stdout",
     "output_type": "stream",
     "text": [
      "Out[11]: 'O $apo não lava o pé!'"
     ]
    }
   ],
   "source": [
    "frase = input('digite a sua frase: ')\n",
    "frase.replace(\"s\", \"$\")"
   ]
  },
  {
   "cell_type": "markdown",
   "metadata": {
    "application/vnd.databricks.v1+cell": {
     "cellMetadata": {},
     "inputWidgets": {},
     "nuid": "f1dd00d8-0f00-40e5-8964-0d6a672331cc",
     "showTitle": false,
     "title": ""
    },
    "id": "XGePe4GD2I59"
   },
   "source": [
    "## Aula 3 - Estruturas condicionais"
   ]
  },
  {
   "cell_type": "markdown",
   "metadata": {
    "application/vnd.databricks.v1+cell": {
     "cellMetadata": {},
     "inputWidgets": {},
     "nuid": "b33fa390-d752-4bfb-a8a0-2b97d1ad89eb",
     "showTitle": false,
     "title": ""
    },
    "id": "Pr9HTW0UHCdD"
   },
   "source": [
    "### Aquecendo na programação"
   ]
  },
  {
   "cell_type": "markdown",
   "metadata": {
    "application/vnd.databricks.v1+cell": {
     "cellMetadata": {},
     "inputWidgets": {},
     "nuid": "49856e3d-496d-4e8d-8f9a-a916c11b158c",
     "showTitle": false,
     "title": ""
    },
    "id": "xBZHqhVg80Fy"
   },
   "source": [
    "#### Questão 1\n",
    "Escreva um programa que peça à pessoa usuária para fornecer dois números e exibir o número maior."
   ]
  },
  {
   "cell_type": "code",
   "execution_count": 0,
   "metadata": {
    "application/vnd.databricks.v1+cell": {
     "cellMetadata": {
      "byteLimit": 2048000,
      "rowLimit": 10000
     },
     "inputWidgets": {},
     "nuid": "0eaee4ea-68e1-4ed8-8d2f-eb06fab10cd0",
     "showTitle": false,
     "title": ""
    },
    "id": "GJlGnzjc-xyF"
   },
   "outputs": [
    {
     "output_type": "display_data",
     "data": {
      "text/plain": [
       "Digite o número:  2"
      ]
     },
     "metadata": {},
     "output_type": "display_data"
    },
    {
     "output_type": "display_data",
     "data": {
      "text/plain": [
       "Digite o número:  2"
      ]
     },
     "metadata": {},
     "output_type": "display_data"
    },
    {
     "output_type": "stream",
     "name": "stdout",
     "output_type": "stream",
     "text": [
      "Os dois números são iguais.\n"
     ]
    }
   ],
   "source": [
    "numero_1 = float(input('Digite o número: '))\n",
    "numero_2 = float(input('Digite o número: '))\n",
    "\n",
    "if numero_1 > numero_2:\n",
    "    print(f'O maior número é {numero_1}.')\n",
    "elif numero_2 > numero_1:\n",
    "    print(f'O maior número é {numero_2}.')\n",
    "else:\n",
    "    print(f'Os dois números são iguais.')"
   ]
  },
  {
   "cell_type": "markdown",
   "metadata": {
    "application/vnd.databricks.v1+cell": {
     "cellMetadata": {},
     "inputWidgets": {},
     "nuid": "7ac0a1e3-90a3-44c2-a6f3-39c1f6a9ccb4",
     "showTitle": false,
     "title": ""
    },
    "id": "H4sgN7dyHNJF"
   },
   "source": [
    "#### Questão 2\n",
    "Escreva um programa que solicite o percentual de crescimento de produção de uma empresa e informe se houve um crescimento (porcentagem positiva) ou decrescimento (porcentagem negativa)."
   ]
  },
  {
   "cell_type": "code",
   "execution_count": 0,
   "metadata": {
    "application/vnd.databricks.v1+cell": {
     "cellMetadata": {
      "byteLimit": 2048000,
      "rowLimit": 10000
     },
     "inputWidgets": {},
     "nuid": "cac9054f-6cfa-417d-a1ff-2832b41e0541",
     "showTitle": false,
     "title": ""
    },
    "id": "-2_Ry5XJ-yZW"
   },
   "outputs": [
    {
     "output_type": "display_data",
     "data": {
      "text/plain": [
       "Informe o valor atual da empresa:  10000"
      ]
     },
     "metadata": {},
     "output_type": "display_data"
    },
    {
     "output_type": "display_data",
     "data": {
      "text/plain": [
       "Informe o valor da emrpesa no ano anterior:  10000"
      ]
     },
     "metadata": {},
     "output_type": "display_data"
    },
    {
     "output_type": "stream",
     "name": "stdout",
     "output_type": "stream",
     "text": [
      "Não houve alterações entre os anos.\n"
     ]
    }
   ],
   "source": [
    "# Taxa de crescimento (em porcentagem) = (Valor atual da empresa – Valor da empresa no ano anterior) / Valor da empresa no ano anterior x 100%\n",
    "vlr_atual_empresa = float(input('Informe o valor atual da empresa: '))\n",
    "vlr_ano_anterior  = float(input('Informe o valor da emrpesa no ano anterior: '))\n",
    "tx_crescimento    = (vlr_atual_empresa - vlr_ano_anterior) / (vlr_ano_anterior * 100)\n",
    "\n",
    "if tx_crescimento > 0:\n",
    "    print(f'Houve um crescimento (porcentagem positiva).')\n",
    "elif tx_crescimento < 0:\n",
    "    print(f'Decrescimento (porcentagem negativa).')\n",
    "else:\n",
    "    print(f'Não houve alterações na taxa de crescimento entre os anos.')"
   ]
  },
  {
   "cell_type": "markdown",
   "metadata": {
    "application/vnd.databricks.v1+cell": {
     "cellMetadata": {},
     "inputWidgets": {},
     "nuid": "a120a2a5-84c5-4f88-ad56-2495b42b3f29",
     "showTitle": false,
     "title": ""
    },
    "id": "a_mzNOBDHNny"
   },
   "source": [
    "#### Questão 3\n",
    "Escreva um programa que determine se uma letra fornecida pela pessoa usuária é uma vogal ou consoante."
   ]
  },
  {
   "cell_type": "code",
   "execution_count": 0,
   "metadata": {
    "application/vnd.databricks.v1+cell": {
     "cellMetadata": {
      "byteLimit": 2048000,
      "rowLimit": 10000
     },
     "inputWidgets": {},
     "nuid": "ad29caaa-77fb-487d-82a2-cbbb39eb568a",
     "showTitle": false,
     "title": ""
    },
    "id": "NbgndVyg-zFJ"
   },
   "outputs": [
    {
     "output_type": "display_data",
     "data": {
      "text/plain": [
       "Digite a letra;  F"
      ]
     },
     "metadata": {},
     "output_type": "display_data"
    },
    {
     "output_type": "stream",
     "name": "stdout",
     "output_type": "stream",
     "text": [
      "Você não digitou uma vogal, a letra digitada foi: F\n"
     ]
    }
   ],
   "source": [
    "vogais = ['A', 'a', 'E', 'e', 'I', 'i', 'O', 'o', 'U' 'u']\n",
    "\n",
    "letra = input('Digite a letra; ')\n",
    "\n",
    "if letra in vogais:\n",
    "    print(f'Você digitou a vogal: {letra}')\n",
    "else:\n",
    "    print(f'Você não digitou uma vogal, a letra digitada foi: {letra}')"
   ]
  },
  {
   "cell_type": "markdown",
   "metadata": {
    "application/vnd.databricks.v1+cell": {
     "cellMetadata": {},
     "inputWidgets": {},
     "nuid": "9ac83b35-e130-4e2a-9ef9-42708f374524",
     "showTitle": false,
     "title": ""
    },
    "id": "mofMRjSZHP99"
   },
   "source": [
    "#### Questão 4\n",
    "Escreva um programa que leia valores médios de preços de um modelo de carro por 3 anos consecutivos e exiba o valor mais alto e mais baixo entre esses três anos."
   ]
  },
  {
   "cell_type": "code",
   "execution_count": 0,
   "metadata": {
    "application/vnd.databricks.v1+cell": {
     "cellMetadata": {
      "byteLimit": 2048000,
      "rowLimit": 10000
     },
     "inputWidgets": {},
     "nuid": "4890234f-3c3d-49f2-967a-5016891db96b",
     "showTitle": false,
     "title": ""
    },
    "id": "TX--d3k9-02c"
   },
   "outputs": [
    {
     "output_type": "display_data",
     "data": {
      "text/plain": [
       "Digite o valor:  400"
      ]
     },
     "metadata": {},
     "output_type": "display_data"
    },
    {
     "output_type": "stream",
     "name": "stdout",
     "output_type": "stream",
     "text": [
      "O valor médio é: 400.0.\nO valor mais alto é: 400.0 e o valor mais baixo é: 400.0.\nTodos os valores são iguais!\n"
     ]
    },
    {
     "output_type": "display_data",
     "data": {
      "text/plain": [
       "Digite o valor:  500"
      ]
     },
     "metadata": {},
     "output_type": "display_data"
    },
    {
     "output_type": "stream",
     "name": "stdout",
     "output_type": "stream",
     "text": [
      "O valor médio é: 450.0.\nO valor mais alto é: 500.0 e o valor mais baixo é: 400.0.\n"
     ]
    },
    {
     "output_type": "display_data",
     "data": {
      "text/plain": [
       "Digite o valor:  399.99"
      ]
     },
     "metadata": {},
     "output_type": "display_data"
    },
    {
     "output_type": "stream",
     "name": "stdout",
     "output_type": "stream",
     "text": [
      "O valor médio é: 433.33.\nO valor mais alto é: 500.0 e o valor mais baixo é: 399.99.\n"
     ]
    }
   ],
   "source": [
    "valores = []\n",
    "for _ in range(3):\n",
    "    valor = float(input('Digite o valor: '))\n",
    "    valores.append(valor)\n",
    "\n",
    "    valor_medio = sum(valores) / len(valores)\n",
    "    valor_max = max(valores)\n",
    "    valor_min = min(valores)\n",
    "\n",
    "    print(f'O valor médio é: {valor_medio}.')\n",
    "    print(f'O valor mais alto é: {valor_max} e o valor mais baixo é: {valor_min}.')\n",
    "\n",
    "    if len(set(valores)) == 1:\n",
    "        print('Todos os valores são iguais!')"
   ]
  },
  {
   "cell_type": "markdown",
   "metadata": {
    "application/vnd.databricks.v1+cell": {
     "cellMetadata": {},
     "inputWidgets": {},
     "nuid": "7df1363f-a125-484f-b1e0-edaf204d2712",
     "showTitle": false,
     "title": ""
    },
    "id": "jY5tIwd-HQzc"
   },
   "source": [
    "#### Questão 5\n",
    "Escreva um programa que pergunte sobre o preço de três produtos e indique qual é o produto mais barato para comprar."
   ]
  },
  {
   "cell_type": "code",
   "execution_count": 0,
   "metadata": {
    "application/vnd.databricks.v1+cell": {
     "cellMetadata": {
      "byteLimit": 2048000,
      "rowLimit": 10000
     },
     "inputWidgets": {},
     "nuid": "65195907-3e11-494c-89de-b69a5af85d3f",
     "showTitle": false,
     "title": ""
    },
    "id": "sYqNh9df-0gk"
   },
   "outputs": [
    {
     "output_type": "display_data",
     "data": {
      "text/plain": [
       "Digite o preço:  50000"
      ]
     },
     "metadata": {},
     "output_type": "display_data"
    },
    {
     "output_type": "stream",
     "name": "stdout",
     "output_type": "stream",
     "text": [
      "O preço mais baixo é: 50000.0.\nTodos os preços são iguais!\n"
     ]
    },
    {
     "output_type": "display_data",
     "data": {
      "text/plain": [
       "Digite o preço:  "
      ]
     },
     "metadata": {},
     "output_type": "display_data"
    },
    {
     "output_type": "display_data",
     "data": {
      "text/html": [
       "<style scoped>\n",
       "  .ansiout {\n",
       "    display: block;\n",
       "    unicode-bidi: embed;\n",
       "    white-space: pre-wrap;\n",
       "    word-wrap: break-word;\n",
       "    word-break: break-all;\n",
       "    font-family: \"Source Code Pro\", \"Menlo\", monospace;;\n",
       "    font-size: 13px;\n",
       "    color: #555;\n",
       "    margin-left: 4px;\n",
       "    line-height: 19px;\n",
       "  }\n",
       "</style>"
      ]
     },
     "metadata": {
      "application/vnd.databricks.v1+output": {
       "arguments": {},
       "data": "",
       "errorSummary": "Cancelled",
       "errorTraceType": "html",
       "metadata": {},
       "type": "ipynbError"
      }
     },
     "output_type": "display_data"
    }
   ],
   "source": [
    "precos = []\n",
    "\n",
    "for _ in range(3):\n",
    "    preco = float(input('Digite o preço: '))\n",
    "    precos.append(preco)\n",
    "\n",
    "    preco_min = min(precos)\n",
    "\n",
    "    print(f'O preço mais baixo é: {preco_min}.')\n",
    "    \n",
    "    if len(set(precos)) == 1:\n",
    "        print('Todos os preços são iguais!')"
   ]
  },
  {
   "cell_type": "markdown",
   "metadata": {
    "application/vnd.databricks.v1+cell": {
     "cellMetadata": {},
     "inputWidgets": {},
     "nuid": "ac7a6fec-d228-444c-9adf-9466463611ac",
     "showTitle": false,
     "title": ""
    },
    "id": "1r6aVxtTHR4E"
   },
   "source": [
    "#### Questão 6\n",
    "Escreva um programa que leia três números e os exiba em ordem decrescente."
   ]
  },
  {
   "cell_type": "code",
   "execution_count": 0,
   "metadata": {
    "application/vnd.databricks.v1+cell": {
     "cellMetadata": {
      "byteLimit": 2048000,
      "rowLimit": 10000
     },
     "inputWidgets": {},
     "nuid": "48e3569c-fc3f-474e-8fe1-695ded92cab4",
     "showTitle": false,
     "title": ""
    },
    "id": "ydOCYUMO-0Hk"
   },
   "outputs": [
    {
     "output_type": "display_data",
     "data": {
      "text/plain": [
       "Digite o número:  4"
      ]
     },
     "metadata": {},
     "output_type": "display_data"
    },
    {
     "output_type": "display_data",
     "data": {
      "text/plain": [
       "Digite o número:  2"
      ]
     },
     "metadata": {},
     "output_type": "display_data"
    },
    {
     "output_type": "display_data",
     "data": {
      "text/plain": [
       "Digite o número:  9"
      ]
     },
     "metadata": {},
     "output_type": "display_data"
    },
    {
     "output_type": "stream",
     "name": "stdout",
     "output_type": "stream",
     "text": [
      "A ordem decrescente é: [2.0, 4.0, 9.0].\n"
     ]
    }
   ],
   "source": [
    "num_1 = float(input('Digite o número: '))\n",
    "num_2 = float(input('Digite o número: '))\n",
    "num_3 = float(input('Digite o número: '))\n",
    "\n",
    "lista_num = sorted([num_1, num_2, num_3])\n",
    "\n",
    "print(f'A ordem decrescente é: {lista_num}.')"
   ]
  },
  {
   "cell_type": "markdown",
   "metadata": {
    "application/vnd.databricks.v1+cell": {
     "cellMetadata": {},
     "inputWidgets": {},
     "nuid": "27d6505c-76bf-4a64-bf27-0c19e25beced",
     "showTitle": false,
     "title": ""
    },
    "id": "inW3F-hAHS_X"
   },
   "source": [
    "#### Questão 7\n",
    "Escreva um programa que pergunte em qual turno a pessoa usuária estuda (\"manhã\", \"tarde\" ou \"noite\") e exiba a mensagem \"Bom Dia!\", \"Boa Tarde!\", \"Boa Noite!\", ou \"Valor Inválido!\", conforme o caso."
   ]
  },
  {
   "cell_type": "code",
   "execution_count": 0,
   "metadata": {
    "application/vnd.databricks.v1+cell": {
     "cellMetadata": {
      "byteLimit": 2048000,
      "rowLimit": 10000
     },
     "inputWidgets": {},
     "nuid": "108eb39c-714c-4828-b0de-5e9d6e87d695",
     "showTitle": false,
     "title": ""
    },
    "id": "-_q-Pcr_-zth"
   },
   "outputs": [
    {
     "output_type": "display_data",
     "data": {
      "text/plain": [
       "Em qual turno você estuda? (\"manhã\", \"tarde\" ou \"noite\"):  noite"
      ]
     },
     "metadata": {},
     "output_type": "display_data"
    },
    {
     "output_type": "stream",
     "name": "stdout",
     "output_type": "stream",
     "text": [
      "Boa Noite!\n"
     ]
    }
   ],
   "source": [
    "pergunta = input('Em qual turno você estuda? (\"manhã\", \"tarde\" ou \"noite\"): ')\n",
    "\n",
    "if pergunta == \"manhã\":\n",
    "    print(\"Bom Dia!\")\n",
    "elif pergunta == \"tarde\":\n",
    "    print(\"Boa Tarde!\")\n",
    "elif pergunta == \"noite\":\n",
    "    print(\"Boa Noite!\")\n",
    "else:\n",
    "    print(\"Valor Inválido!\")"
   ]
  },
  {
   "cell_type": "markdown",
   "metadata": {
    "application/vnd.databricks.v1+cell": {
     "cellMetadata": {},
     "inputWidgets": {},
     "nuid": "ccab1312-e4ed-476d-84df-62214b766210",
     "showTitle": false,
     "title": ""
    },
    "id": "NCCPF3QqHTw-"
   },
   "source": [
    "#### Questão 8\n",
    "Escreva um programa que peça um número inteiro à pessoa usuária e determine se ele é par ou ímpar. Dica: Você pode utilizar o operador módulo `%`."
   ]
  },
  {
   "cell_type": "code",
   "execution_count": 0,
   "metadata": {
    "application/vnd.databricks.v1+cell": {
     "cellMetadata": {
      "byteLimit": 2048000,
      "rowLimit": 10000
     },
     "inputWidgets": {},
     "nuid": "aef88fe5-b7d3-4332-974d-e3daba3019ce",
     "showTitle": false,
     "title": ""
    },
    "id": "OmZJt1nQ-3e6"
   },
   "outputs": [
    {
     "output_type": "display_data",
     "data": {
      "text/plain": [
       "Digite um número:  10"
      ]
     },
     "metadata": {},
     "output_type": "display_data"
    },
    {
     "output_type": "stream",
     "name": "stdout",
     "output_type": "stream",
     "text": [
      "Você digitou o número 10 que é par!\n"
     ]
    }
   ],
   "source": [
    "numero = int(input(\"Digite um número: \"))\n",
    "\n",
    "if numero % 2 == 0:\n",
    "    print(f'Você digitou o número {numero} que é par!')10\n",
    "else:\n",
    "    print(f'Você digitou o número {numero} que é ímpar!')"
   ]
  },
  {
   "cell_type": "markdown",
   "metadata": {
    "application/vnd.databricks.v1+cell": {
     "cellMetadata": {},
     "inputWidgets": {},
     "nuid": "f656d2e9-5279-4656-8ecf-dbd71cb01441",
     "showTitle": false,
     "title": ""
    },
    "id": "h93Ck1tQHUwE"
   },
   "source": [
    "#### Questão 9\n",
    "Escreva um programa que peça um número à pessoa usuária e informe se ele é inteiro ou decimal."
   ]
  },
  {
   "cell_type": "code",
   "execution_count": 0,
   "metadata": {
    "application/vnd.databricks.v1+cell": {
     "cellMetadata": {
      "byteLimit": 2048000,
      "rowLimit": 10000
     },
     "inputWidgets": {},
     "nuid": "955a31e1-4dc5-46d3-92a9-bfd2eb0e544a",
     "showTitle": false,
     "title": ""
    },
    "id": "sLMlZcx8-20N"
   },
   "outputs": [
    {
     "output_type": "display_data",
     "data": {
      "text/plain": [
       "Digite um número:  4.2"
      ]
     },
     "metadata": {},
     "output_type": "display_data"
    },
    {
     "output_type": "stream",
     "name": "stdout",
     "output_type": "stream",
     "text": [
      "O número 4.2 é decimal.\n"
     ]
    }
   ],
   "source": [
    "numero = float(input('Digite um número: '))\n",
    "\n",
    "if numero % 1 == 0:\n",
    "    print(f'O número {numero} é inteiro.')\n",
    "else:\n",
    "    print(f'O número {numero} é decimal.')"
   ]
  },
  {
   "cell_type": "markdown",
   "metadata": {
    "application/vnd.databricks.v1+cell": {
     "cellMetadata": {},
     "inputWidgets": {},
     "nuid": "385b0faa-bd37-4990-8290-a7101c12d888",
     "showTitle": false,
     "title": ""
    },
    "id": "bKdXSK1SH_pF"
   },
   "source": [
    "### Momento dos projetos"
   ]
  },
  {
   "cell_type": "markdown",
   "metadata": {
    "application/vnd.databricks.v1+cell": {
     "cellMetadata": {},
     "inputWidgets": {},
     "nuid": "550c1b37-ef0f-475c-96c1-2967eec634eb",
     "showTitle": false,
     "title": ""
    },
    "id": "WBlEyyzsHV86"
   },
   "source": [
    "#### Questão 10\n",
    "Um programa deve ser escrito para ler dois números e, em seguida, perguntar à pessoa usuária qual operação ele deseja realizar. O resultado da operação deve incluir informações sobre o número - se é par ou ímpar, positivo ou negativo e inteiro ou decimal."
   ]
  },
  {
   "cell_type": "code",
   "execution_count": 0,
   "metadata": {
    "application/vnd.databricks.v1+cell": {
     "cellMetadata": {
      "byteLimit": 2048000,
      "rowLimit": 10000
     },
     "inputWidgets": {},
     "nuid": "f4ea40b9-861a-4633-9079-88c4119a3432",
     "showTitle": false,
     "title": ""
    },
    "id": "3jmahZ0f-2gq"
   },
   "outputs": [
    {
     "output_type": "display_data",
     "data": {
      "text/plain": [
       "Digite o número:  5"
      ]
     },
     "metadata": {},
     "output_type": "display_data"
    },
    {
     "output_type": "display_data",
     "data": {
      "text/plain": [
       "Digite o número:  4"
      ]
     },
     "metadata": {},
     "output_type": "display_data"
    },
    {
     "output_type": "display_data",
     "data": {
      "text/plain": [
       "Qual operação deseja realizar (\"+\", \"-\", \"*\", \"/\"):  *"
      ]
     },
     "metadata": {},
     "output_type": "display_data"
    },
    {
     "output_type": "stream",
     "name": "stdout",
     "output_type": "stream",
     "text": [
      "Você digitou 5.0 * 4.0 = 20.0\n"
     ]
    }
   ],
   "source": [
    "numero_1 = float(input('Digite o número: '))\n",
    "numero_2 = float(input('Digite o número: '))\n",
    "\n",
    "operacao = str(input('Qual operação deseja realizar (\"+\", \"-\", \"*\", \"/\"): '))\n",
    "\n",
    "if operacao == \"+\":\n",
    "    resultado = numero_1 + numero_2\n",
    "    print(f'Você digitou {numero_1} + {numero_2} = {resultado}')\n",
    "elif operacao == \"-\":\n",
    "    resultado = numero_1 - numero_2\n",
    "    print(f'Você digitou {numero_1} - {numero_2} = {resultado}')\n",
    "elif operacao == \"*\":\n",
    "    resultado = numero_1 * numero_2\n",
    "    print(f'Você digitou {numero_1} * {numero_2} = {resultado}')\n",
    "elif operacao == \"/\":\n",
    "    resultado = numero_1 / numero_2\n",
    "    print(f'Você digitou {numero_1} / {numero_2} = {resultado}')\n",
    "else:\n",
    "    print(f'Você digitou uma operação que é inválida!')"
   ]
  },
  {
   "cell_type": "markdown",
   "metadata": {
    "application/vnd.databricks.v1+cell": {
     "cellMetadata": {},
     "inputWidgets": {},
     "nuid": "2db339dc-b441-4290-842e-c2625fe9ea2d",
     "showTitle": false,
     "title": ""
    },
    "id": "VdnlULxHHW19"
   },
   "source": [
    "#### Questão 11\n",
    "Escreva um programa que peça à pessoa usuária três números que representam os lados de um triângulo. O programa deve informar se os valores podem ser utilizados para formar um triângulo e, caso afirmativo, se ele é equilátero, isósceles ou escaleno. Tenha em mente algumas dicas:\n",
    "- Três lados formam um triângulo quando a soma de quaisquer dois lados for maior que o terceiro;\n",
    "- Triângulo Equilátero: três lados iguais;\n",
    "- Triângulo Isósceles: quaisquer dois lados iguais;\n",
    "- Triângulo Escaleno: três lados diferentes;\n"
   ]
  },
  {
   "cell_type": "code",
   "execution_count": 0,
   "metadata": {
    "application/vnd.databricks.v1+cell": {
     "cellMetadata": {
      "byteLimit": 2048000,
      "rowLimit": 10000
     },
     "inputWidgets": {},
     "nuid": "54d210ed-a906-4038-b597-c7957365f874",
     "showTitle": false,
     "title": ""
    },
    "id": "0z73sqUO-2Pw"
   },
   "outputs": [
    {
     "output_type": "display_data",
     "data": {
      "text/plain": [
       "Digite o valor de a:  4"
      ]
     },
     "metadata": {},
     "output_type": "display_data"
    },
    {
     "output_type": "display_data",
     "data": {
      "text/plain": [
       "Digite o valor de b:  3"
      ]
     },
     "metadata": {},
     "output_type": "display_data"
    },
    {
     "output_type": "display_data",
     "data": {
      "text/plain": [
       "Digite o valor de c:  0"
      ]
     },
     "metadata": {},
     "output_type": "display_data"
    },
    {
     "output_type": "stream",
     "name": "stdout",
     "output_type": "stream",
     "text": [
      "Não é um triângulo\n"
     ]
    }
   ],
   "source": [
    "a = float(input('Digite o valor de a: '))\n",
    "b = float(input('Digite o valor de b: '))\n",
    "c = float(input('Digite o valor de c: '))\n",
    "\n",
    "if (a + b > c) and (a + c > b) and (b + c > a):\n",
    "    print('É um triângulo')\n",
    "    if (a == b) and (b == c):\n",
    "        print('Triângulo Equilátero: três lados iguais')\n",
    "    elif (a != b) and (b != c) and (a != c):\n",
    "        print('Triângulo Escaleno: três lados diferentes')\n",
    "    else:\n",
    "        print('Triângulo Escaleno: três lados diferentes')\n",
    "else:\n",
    "    print('Não é um triângulo')"
   ]
  },
  {
   "cell_type": "markdown",
   "metadata": {
    "application/vnd.databricks.v1+cell": {
     "cellMetadata": {},
     "inputWidgets": {},
     "nuid": "cfc2d549-5c3a-4c96-828d-d5b29ba51d48",
     "showTitle": false,
     "title": ""
    },
    "id": "_PpEpOugHXwZ"
   },
   "source": [
    "#### Questão 12\n",
    "Um estabelecimento está vendendo combustíveis com descontos variados. Para o etanol, se a quantidade comprada for até 15 litros, o desconto será de 2% por litro. Caso contrário, será de 4% por litro. Para o diesel, se a quantidade comprada for até 15 litros, o desconto será de 3% por litro. Caso contrário, será de 5% por litro. O preço do litro de diesel é R\\$ 2,00 e o preço do litro de etanol é R\\$ 1,70. Escreva um programa que leia a quantidade de litros vendidos e o tipo de combustível (E para etanol e D para diesel) e calcule o valor a ser pago pelo cliente. Tenha em mente algumas dicas:\n",
    "\n",
    "- O do valor do desconto será a multiplicação entre preço do litro, quantidade de litros e o valor do desconto.\n",
    "- O valor a ser pago por um cliente será o resultado da multiplicação do preço do litro pela quantidade de litros menos o valor de desconto resultante do cálculo.\n"
   ]
  },
  {
   "cell_type": "code",
   "execution_count": 0,
   "metadata": {
    "application/vnd.databricks.v1+cell": {
     "cellMetadata": {
      "byteLimit": 2048000,
      "rowLimit": 10000
     },
     "inputWidgets": {},
     "nuid": "d62c00fe-626f-4d90-a8e7-f4fe6fff0b39",
     "showTitle": false,
     "title": ""
    },
    "id": "9izoF-0O-1yD"
   },
   "outputs": [
    {
     "output_type": "display_data",
     "data": {
      "text/plain": [
       "Digite o tipo de combustível: ( D: Disel ou E: Etanol):  E"
      ]
     },
     "metadata": {},
     "output_type": "display_data"
    },
    {
     "output_type": "display_data",
     "data": {
      "text/plain": [
       "Digite a quantidade em litros:  20"
      ]
     },
     "metadata": {},
     "output_type": "display_data"
    },
    {
     "output_type": "stream",
     "name": "stdout",
     "output_type": "stream",
     "text": [
      "Total a pagar: 38.4\n"
     ]
    }
   ],
   "source": [
    "tipo_combustivel = str(input('Digite o tipo de combustível: ( D: Disel ou E: Etanol): '))\n",
    "\n",
    "if tipo_combustivel == 'D':\n",
    "    qtd_comprada = float(input('Digite a quantidade em litros: '))\n",
    "    if qtd_comprada <= 15:\n",
    "        preco_disel = 2.00\n",
    "        desconto = 0.03\n",
    "        vlr_desconto = preco_disel * qtd_comprada * desconto\n",
    "        vlr_pgm = preco_disel * qtd_comprada - vlr_desconto\n",
    "        print(f'Total a pagar: {vlr_pgm}')\n",
    "    else:\n",
    "        preco_disel = 2.00\n",
    "        desconto = 0.05\n",
    "        vlr_desconto = preco_disel * qtd_comprada * desconto\n",
    "        vlr_pgm = preco_disel * qtd_comprada - vlr_desconto\n",
    "        print(f'Total a pagar: {vlr_pgm}')\n",
    "else:\n",
    "    if tipo_combustivel == 'E':\n",
    "        qtd_comprada = float(input('Digite a quantidade em litros: '))\n",
    "        if qtd_comprada <= 15:\n",
    "            preco_etanol = 1.70\n",
    "            desconto = 0.02\n",
    "            vlr_desconto = preco_etanol * qtd_comprada * desconto\n",
    "            vlr_pgm = preco_etanol * qtd_comprada - vlr_desconto\n",
    "            print(f'Total a pagar: {vlr_pgm}')\n",
    "        else:\n",
    "           preco_disel = 2.00\n",
    "           desconto = 0.04\n",
    "           vlr_desconto = preco_disel * qtd_comprada * desconto\n",
    "           vlr_pgm = preco_disel * qtd_comprada - vlr_desconto\n",
    "           print(f'Total a pagar: {vlr_pgm}')"
   ]
  },
  {
   "cell_type": "markdown",
   "metadata": {
    "application/vnd.databricks.v1+cell": {
     "cellMetadata": {},
     "inputWidgets": {},
     "nuid": "97ed5028-853a-441a-9fa9-8b362b8d5ee3",
     "showTitle": false,
     "title": ""
    },
    "id": "s_XS_D1WHY2R"
   },
   "source": [
    "#### Questão 13\n",
    "Em uma empresa de venda de imóveis você precisa criar um código que analise os dados de vendas anuais para ajudar a diretoria na tomada de decisão. O código precisa coletar os dados de quantidade de venda durante os anos de 2022 e 2023 e fazer um cálculo de variação percentual. A partir do valor da variação, deve ser enviada às seguintes sugestões:\n",
    "- Para variação acima de 20%: bonificação para o time de vendas.\n",
    "- Para variação entre 2% e 20%: pequena bonificação para time de vendas.\n",
    "- Para variação entre 2% e -10%: planejamento de políticas de incentivo às vendas.\n",
    "- Para bonificações abaixo de -10%: corte de gastos.\n"
   ]
  },
  {
   "cell_type": "code",
   "execution_count": 0,
   "metadata": {
    "application/vnd.databricks.v1+cell": {
     "cellMetadata": {
      "byteLimit": 2048000,
      "rowLimit": 10000
     },
     "inputWidgets": {},
     "nuid": "a4b7da34-857b-4aa9-bd94-2a089b4cb97a",
     "showTitle": false,
     "title": ""
    },
    "id": "avQrYlUg-w8f"
   },
   "outputs": [
    {
     "output_type": "display_data",
     "data": {
      "text/plain": [
       "Informe a quantidade de vendas em 2022:  1000"
      ]
     },
     "metadata": {},
     "output_type": "display_data"
    },
    {
     "output_type": "display_data",
     "data": {
      "text/plain": [
       "Informe a quantidade de vendas em 2023:  500"
      ]
     },
     "metadata": {},
     "output_type": "display_data"
    },
    {
     "output_type": "stream",
     "name": "stdout",
     "output_type": "stream",
     "text": [
      "Corte de gastos.\n"
     ]
    }
   ],
   "source": [
    "vendas_2022 = float(input('Informe a quantidade de vendas em 2022: '))\n",
    "vendas_2023 = float(input('Informe a quantidade de vendas em 2023: '))\n",
    "variacao_percentual = ((vendas_2023 - vendas_2022) / (vendas_2022)) * 100\n",
    "\n",
    "if variacao_percentual > 20:\n",
    "    print('Bonificação para o time de vendas.')\n",
    "elif 2 <= variacao_percentual >= 20:\n",
    "    print('Pequena bonificação para time de vendas.')\n",
    "elif 2 < variacao_percentual >= -10:\n",
    "    print('Planejamento de políticas de incentivo às vendas.')\n",
    "else:\n",
    "    print('Corte de gastos.')"
   ]
  },
  {
   "cell_type": "markdown",
   "metadata": {
    "application/vnd.databricks.v1+cell": {
     "cellMetadata": {},
     "inputWidgets": {},
     "nuid": "6cbf4d07-f138-4655-96a0-9a414dad2f9e",
     "showTitle": false,
     "title": ""
    },
    "id": "AuaWh4-d2Itt"
   },
   "source": [
    "## Aula 4 - Estruturas de repetição"
   ]
  },
  {
   "cell_type": "markdown",
   "metadata": {
    "application/vnd.databricks.v1+cell": {
     "cellMetadata": {},
     "inputWidgets": {},
     "nuid": "d478535f-67c7-4bf5-9230-95685a079382",
     "showTitle": false,
     "title": ""
    },
    "id": "6MSqU0sIJRdD"
   },
   "source": [
    "### Aquecendo na programação"
   ]
  },
  {
   "cell_type": "markdown",
   "metadata": {
    "application/vnd.databricks.v1+cell": {
     "cellMetadata": {},
     "inputWidgets": {},
     "nuid": "bea410a7-fd8d-4691-b22a-e43cb7e49de4",
     "showTitle": false,
     "title": ""
    },
    "id": "9eGGyCnAJRdQ"
   },
   "source": [
    "#### Questão 1\n",
    "Escreva um programa que peça dois números inteiros e imprima todos os números inteiros entre eles."
   ]
  },
  {
   "cell_type": "code",
   "execution_count": 0,
   "metadata": {
    "application/vnd.databricks.v1+cell": {
     "cellMetadata": {
      "byteLimit": 2048000,
      "rowLimit": 10000
     },
     "inputWidgets": {},
     "nuid": "671c52d4-2ece-4e21-a0aa-c45efdec9d6b",
     "showTitle": false,
     "title": ""
    },
    "id": "ID1oc1hxJRdQ"
   },
   "outputs": [
    {
     "output_type": "display_data",
     "data": {
      "text/plain": [
       "Digite o 1º número inteiro:  20"
      ]
     },
     "metadata": {},
     "output_type": "display_data"
    },
    {
     "output_type": "display_data",
     "data": {
      "text/plain": [
       "Digite o 2º número inteiro:  1"
      ]
     },
     "metadata": {},
     "output_type": "display_data"
    },
    {
     "output_type": "stream",
     "name": "stdout",
     "output_type": "stream",
     "text": [
      "2\n3\n4\n5\n6\n7\n8\n9\n10\n11\n12\n13\n14\n15\n16\n17\n18\n19\n"
     ]
    }
   ],
   "source": [
    "numero_1 = int(input('Digite o 1º número inteiro: '))\n",
    "numero_2 = int(input('Digite o 2º número inteiro: '))\n",
    "\n",
    "if numero_1 < numero_2:\n",
    "    for i in range(numero_1 + 1, numero_2):\n",
    "        print(i)\n",
    "elif numero_1 > numero_2:\n",
    "    for i in range(numero_2 + 1, numero_1):\n",
    "        print(i)\n",
    "else:\n",
    "    print('O números são iguais!')"
   ]
  },
  {
   "cell_type": "markdown",
   "metadata": {
    "application/vnd.databricks.v1+cell": {
     "cellMetadata": {},
     "inputWidgets": {},
     "nuid": "5b2dcfba-69fe-4549-8b23-01b0c433d48a",
     "showTitle": false,
     "title": ""
    },
    "id": "mGonEHYCJRdR"
   },
   "source": [
    "#### Questão 2\n",
    "Escreva um programa para calcular quantos dias levará para a colônia de uma bactéria A ultrapassar ou igualar a colônia de uma bactéria B, com base nas taxas de crescimento de 3% e 1,5% respectivamente. Considere que a colônia A inicia com 4 elementos e a colônia B com 10 elementos."
   ]
  },
  {
   "cell_type": "code",
   "execution_count": 0,
   "metadata": {
    "application/vnd.databricks.v1+cell": {
     "cellMetadata": {
      "byteLimit": 2048000,
      "rowLimit": 10000
     },
     "inputWidgets": {},
     "nuid": "bb7213dd-1d61-41d0-96ab-9ac7e2de02ea",
     "showTitle": false,
     "title": ""
    },
    "id": "wM6FJuoqJRdR"
   },
   "outputs": [
    {
     "output_type": "stream",
     "name": "stdout",
     "output_type": "stream",
     "text": [
      "Levará 63 para que a colônia A ultrapassar a colônia B.\n"
     ]
    }
   ],
   "source": [
    "colonia_a = 4\n",
    "colonia_b = 10\n",
    "\n",
    "dias = 0\n",
    "\n",
    "while colonia_a <= colonia_b:\n",
    "    colonia_a *= 1 + 0.03\n",
    "    colonia_b *= 1 + 0.015\n",
    "    dias += 1\n",
    "print(f'Levará {dias} para que a colônia A ultrapassar a colônia B.')\n"
   ]
  },
  {
   "cell_type": "markdown",
   "metadata": {
    "application/vnd.databricks.v1+cell": {
     "cellMetadata": {},
     "inputWidgets": {},
     "nuid": "ac35e6c8-0efb-429b-83cf-2b6745039746",
     "showTitle": false,
     "title": ""
    },
    "id": "UiOZRlqoJRdR"
   },
   "source": [
    "#### Questão 3\n",
    "Para tratar uma quantidade de 15 dados de avaliações de pessoas usuárias de um serviço da empresa, precisamos verificar se as notas são válidas. Então, escreva um programa que vai receber a nota de 0 a 5 de todos os dados e verificar se é um valor válido. Caso seja inserido uma nota acima de 5 ou abaixo de 0, repita até que a pessoa usuária insira um valor válido."
   ]
  },
  {
   "cell_type": "code",
   "execution_count": 0,
   "metadata": {
    "application/vnd.databricks.v1+cell": {
     "cellMetadata": {
      "byteLimit": 2048000,
      "rowLimit": 10000
     },
     "inputWidgets": {},
     "nuid": "030e226c-abc9-447b-b35f-58754ec8c128",
     "showTitle": false,
     "title": ""
    },
    "id": "3TUAhCxcJRdR"
   },
   "outputs": [
    {
     "output_type": "display_data",
     "data": {
      "text/plain": [
       "Por favor digite a sua nota 0:  4"
      ]
     },
     "metadata": {},
     "output_type": "display_data"
    },
    {
     "output_type": "display_data",
     "data": {
      "text/plain": [
       "Por favor digite a sua nota 1:  4"
      ]
     },
     "metadata": {},
     "output_type": "display_data"
    },
    {
     "output_type": "display_data",
     "data": {
      "text/plain": [
       "Por favor digite a sua nota 2:  4"
      ]
     },
     "metadata": {},
     "output_type": "display_data"
    },
    {
     "output_type": "display_data",
     "data": {
      "text/plain": [
       "Por favor digite a sua nota 3:  3"
      ]
     },
     "metadata": {},
     "output_type": "display_data"
    },
    {
     "output_type": "display_data",
     "data": {
      "text/plain": [
       "Por favor digite a sua nota 4:  5"
      ]
     },
     "metadata": {},
     "output_type": "display_data"
    },
    {
     "output_type": "display_data",
     "data": {
      "text/plain": [
       "Por favor digite a sua nota 5:  5"
      ]
     },
     "metadata": {},
     "output_type": "display_data"
    },
    {
     "output_type": "display_data",
     "data": {
      "text/plain": [
       "Por favor digite a sua nota 6:  5"
      ]
     },
     "metadata": {},
     "output_type": "display_data"
    },
    {
     "output_type": "display_data",
     "data": {
      "text/plain": [
       "Por favor digite a sua nota 7:  3"
      ]
     },
     "metadata": {},
     "output_type": "display_data"
    },
    {
     "output_type": "display_data",
     "data": {
      "text/plain": [
       "Por favor digite a sua nota 8:  2"
      ]
     },
     "metadata": {},
     "output_type": "display_data"
    },
    {
     "output_type": "display_data",
     "data": {
      "text/plain": [
       "Por favor digite a sua nota 9:  1"
      ]
     },
     "metadata": {},
     "output_type": "display_data"
    },
    {
     "output_type": "display_data",
     "data": {
      "text/plain": [
       "Por favor digite a sua nota 10:  0"
      ]
     },
     "metadata": {},
     "output_type": "display_data"
    },
    {
     "output_type": "display_data",
     "data": {
      "text/plain": [
       "Por favor digite a sua nota 11:  6"
      ]
     },
     "metadata": {},
     "output_type": "display_data"
    },
    {
     "output_type": "display_data",
     "data": {
      "text/plain": [
       "Nota inválida. Por favor digite a sua nota 11:  3"
      ]
     },
     "metadata": {},
     "output_type": "display_data"
    },
    {
     "output_type": "display_data",
     "data": {
      "text/plain": [
       "Por favor digite a sua nota 12:  -1"
      ]
     },
     "metadata": {},
     "output_type": "display_data"
    },
    {
     "output_type": "display_data",
     "data": {
      "text/plain": [
       "Nota inválida. Por favor digite a sua nota 12:  4"
      ]
     },
     "metadata": {},
     "output_type": "display_data"
    },
    {
     "output_type": "display_data",
     "data": {
      "text/plain": [
       "Por favor digite a sua nota 13:  1"
      ]
     },
     "metadata": {},
     "output_type": "display_data"
    },
    {
     "output_type": "display_data",
     "data": {
      "text/plain": [
       "Por favor digite a sua nota 14:  3"
      ]
     },
     "metadata": {},
     "output_type": "display_data"
    },
    {
     "output_type": "stream",
     "name": "stdout",
     "output_type": "stream",
     "text": [
      "Verificação realizada com sucesso. Todas as notas são válidas.\n"
     ]
    }
   ],
   "source": [
    "for i in range(15):\n",
    "    avaliacao = float(input(f'Por favor digite a sua nota {i}: '))\n",
    "    while (avaliacao < 0) or (avaliacao > 5):\n",
    "        avaliacao = float(input(f'Nota inválida. Por favor digite a sua nota {i}: '))\n",
    "\n",
    "print('Verificação realizada com sucesso. Todas as notas são válidas.')"
   ]
  },
  {
   "cell_type": "markdown",
   "metadata": {
    "application/vnd.databricks.v1+cell": {
     "cellMetadata": {},
     "inputWidgets": {},
     "nuid": "e2612b16-9523-433c-8632-68a4694e5e7c",
     "showTitle": false,
     "title": ""
    },
    "id": "ABv3KObGJRdR"
   },
   "source": [
    "#### Questão 4\n",
    "Desenvolva um programa que leia um conjunto indeterminado de temperaturas em Celsius e faça uma análise. Portanto, escreva um programa que leia temperaturas e informe a média delas. A leitura deve ser encerrada ao ser enviado o valor -273°C."
   ]
  },
  {
   "cell_type": "code",
   "execution_count": 0,
   "metadata": {
    "application/vnd.databricks.v1+cell": {
     "cellMetadata": {
      "byteLimit": 2048000,
      "rowLimit": 10000
     },
     "inputWidgets": {},
     "nuid": "bdbdc7dc-e072-41de-b557-096416e61554",
     "showTitle": false,
     "title": ""
    },
    "id": "85tBBj5KJRdS"
   },
   "outputs": [
    {
     "output_type": "display_data",
     "data": {
      "text/plain": [
       "Digite a temperatura:  30"
      ]
     },
     "metadata": {},
     "output_type": "display_data"
    },
    {
     "output_type": "display_data",
     "data": {
      "text/plain": [
       "Digite a temperatura:  100"
      ]
     },
     "metadata": {},
     "output_type": "display_data"
    },
    {
     "output_type": "display_data",
     "data": {
      "text/plain": [
       "Digite a temperatura:  -1000"
      ]
     },
     "metadata": {},
     "output_type": "display_data"
    },
    {
     "output_type": "display_data",
     "data": {
      "text/plain": [
       "Digite a temperatura:  -20000000000000"
      ]
     },
     "metadata": {},
     "output_type": "display_data"
    },
    {
     "output_type": "display_data",
     "data": {
      "text/plain": [
       "Digite a temperatura:  -273"
      ]
     },
     "metadata": {},
     "output_type": "display_data"
    },
    {
     "output_type": "stream",
     "name": "stdout",
     "output_type": "stream",
     "text": [
      "A média das temperaturas é: -5000000000217.5.\n"
     ]
    }
   ],
   "source": [
    "temperatura = float(input('Digite a temperatura: '))\n",
    "\n",
    "contador = 0\n",
    "soma = 0\n",
    "\n",
    "while temperatura != -273:\n",
    "    soma = soma + temperatura\n",
    "    contador = contador + 1\n",
    "    temperatura = float(input('Digite a temperatura: '))\n",
    "\n",
    "media = soma / contador\n",
    "\n",
    "print(f'A média das temperaturas é: {media}.')"
   ]
  },
  {
   "cell_type": "markdown",
   "metadata": {
    "application/vnd.databricks.v1+cell": {
     "cellMetadata": {},
     "inputWidgets": {},
     "nuid": "a550a244-b9b0-47e7-a7a7-443edd4ed398",
     "showTitle": false,
     "title": ""
    },
    "id": "IjkbAfGcJRdS"
   },
   "source": [
    "#### Questão 5\n",
    "Escreva um programa que calcule o fatorial de um número inteiro fornecido pela pessoa usuária. O fatorial de um número inteiro é a multiplicação desse número por todos os seus antecessores até o número 1. Por exemplo, o fatorial de 5 é 5 x 4 x 3 x 2 x 1 = 120."
   ]
  },
  {
   "cell_type": "code",
   "execution_count": 0,
   "metadata": {
    "application/vnd.databricks.v1+cell": {
     "cellMetadata": {
      "byteLimit": 2048000,
      "rowLimit": 10000
     },
     "inputWidgets": {},
     "nuid": "2c58d262-938f-4f32-87f0-08ed7e15d9ee",
     "showTitle": false,
     "title": ""
    },
    "id": "7RTH8o0HJRdS"
   },
   "outputs": [
    {
     "output_type": "display_data",
     "data": {
      "text/plain": [
       "Digite um número:  5"
      ]
     },
     "metadata": {},
     "output_type": "display_data"
    },
    {
     "output_type": "stream",
     "name": "stdout",
     "output_type": "stream",
     "text": [
      "O fatorial de 5.0 é: 120.0.\n"
     ]
    }
   ],
   "source": [
    "numero = float(input('Digite um número: '))\n",
    "\n",
    "fatorial = 1\n",
    "\n",
    "i = numero\n",
    "\n",
    "while i > 0:\n",
    "    fatorial = fatorial * i\n",
    "    i = i - 1\n",
    "\n",
    "print(f'O fatorial de {numero} é: {fatorial}.')"
   ]
  },
  {
   "cell_type": "markdown",
   "metadata": {
    "application/vnd.databricks.v1+cell": {
     "cellMetadata": {},
     "inputWidgets": {},
     "nuid": "3ffe340e-9f87-4bad-b247-24362f7aeaa8",
     "showTitle": false,
     "title": ""
    },
    "id": "oGNKuQjsJRdT"
   },
   "source": [
    "### Momento dos projetos"
   ]
  },
  {
   "cell_type": "markdown",
   "metadata": {
    "application/vnd.databricks.v1+cell": {
     "cellMetadata": {},
     "inputWidgets": {},
     "nuid": "2878be75-9b77-4047-b30e-64b5cdfe7c9f",
     "showTitle": false,
     "title": ""
    },
    "id": "ODxaTUYmJRdS"
   },
   "source": [
    "#### Questão 6\n",
    "Escreva um programa que gere a tabuada de um número inteiro de 1 a 10, de acordo com a escolha da pessoa usuária. Como exemplo, para o número 2, a tabuada deve ser mostrada no seguinte formato:\n",
    "```\n",
    "Tabuada do 2:\n",
    "2 x 1 = 2\n",
    "2 x 2 = 4\n",
    "[...]\n",
    "2 x 10 = 20\n",
    "```"
   ]
  },
  {
   "cell_type": "code",
   "execution_count": 0,
   "metadata": {
    "application/vnd.databricks.v1+cell": {
     "cellMetadata": {
      "byteLimit": 2048000,
      "rowLimit": 10000
     },
     "inputWidgets": {},
     "nuid": "cc997ee9-f46c-4c13-8fb0-3d0c3486668c",
     "showTitle": false,
     "title": ""
    },
    "id": "lkTlbxPIJRdS"
   },
   "outputs": [
    {
     "output_type": "display_data",
     "data": {
      "text/plain": [
       "Digite o número:  9"
      ]
     },
     "metadata": {},
     "output_type": "display_data"
    },
    {
     "output_type": "stream",
     "name": "stdout",
     "output_type": "stream",
     "text": [
      "A tabuada do 9 é: \n9 x 1 = 9\n9 x 2 = 18\n9 x 3 = 27\n9 x 4 = 36\n9 x 5 = 45\n9 x 6 = 54\n9 x 7 = 63\n9 x 8 = 72\n9 x 9 = 81\n9 x 10 = 90\n"
     ]
    }
   ],
   "source": [
    "numero = int(input('Digite o número: '))\n",
    "\n",
    "print(f'A tabuada do {numero} é: ')\n",
    "for i in range(1, 11, 1):\n",
    "    resultado = numero * i\n",
    "    print(f'{numero} x {i} = {resultado}')"
   ]
  },
  {
   "cell_type": "markdown",
   "metadata": {
    "application/vnd.databricks.v1+cell": {
     "cellMetadata": {},
     "inputWidgets": {},
     "nuid": "1a2df765-a79e-48af-8e8d-75622e99816f",
     "showTitle": false,
     "title": ""
    },
    "id": "LeIbnt8VJRdS"
   },
   "source": [
    "#### Questão 7\n",
    "Os números primos possuem várias aplicações dentro da Ciência de Dados, por exemplo, na criptografia e segurança. Um número primo é aquele que é divisível apenas por um e por ele mesmo. Faça um programa que peça um número inteiro e determine se ele é ou não um número primo."
   ]
  },
  {
   "cell_type": "code",
   "execution_count": 0,
   "metadata": {
    "application/vnd.databricks.v1+cell": {
     "cellMetadata": {
      "byteLimit": 2048000,
      "rowLimit": 10000
     },
     "inputWidgets": {},
     "nuid": "0d0ce6af-977b-4257-96af-ed1f618e8fea",
     "showTitle": false,
     "title": ""
    },
    "id": "2rcNU7twJRdS"
   },
   "outputs": [
    {
     "output_type": "display_data",
     "data": {
      "text/plain": [
       "Digite o número 103"
      ]
     },
     "metadata": {},
     "output_type": "display_data"
    },
    {
     "output_type": "stream",
     "name": "stdout",
     "output_type": "stream",
     "text": [
      "O 103 é um número primo.\n"
     ]
    }
   ],
   "source": [
    "numero = int(input('Digite o número'))\n",
    "\n",
    "if numero > 1:\n",
    "    for i in range(2, numero):\n",
    "        if (numero % i) == 0:\n",
    "            print(f'O {numero} não é um número primo.')\n",
    "            break\n",
    "    else:\n",
    "            print(f'O {numero} é um número primo.')\n",
    "else:\n",
    "    print(f'O {numero} não é um número primo.')"
   ]
  },
  {
   "cell_type": "markdown",
   "metadata": {
    "application/vnd.databricks.v1+cell": {
     "cellMetadata": {},
     "inputWidgets": {},
     "nuid": "c563d0d1-af51-45a4-b896-158b9da0318d",
     "showTitle": false,
     "title": ""
    },
    "id": "QTwb6QaCJRdT"
   },
   "source": [
    "#### Questão 8\n",
    "Vamos entender a distribuição de idades de pensionistas de uma empresa de previdência. Escreva um programa que leia as idades de uma quantidade não informada de clientes e mostre a distribuição em intervalos de [0-25], [26-50], [51-75] e [76-100]. Encerre a entrada de dados com um número negativo."
   ]
  },
  {
   "cell_type": "code",
   "execution_count": 0,
   "metadata": {
    "application/vnd.databricks.v1+cell": {
     "cellMetadata": {
      "byteLimit": 2048000,
      "rowLimit": 10000
     },
     "inputWidgets": {},
     "nuid": "dcf24d2b-7344-4083-bf26-46ab48c12435",
     "showTitle": false,
     "title": ""
    },
    "id": "4IAhaDmYJRdT"
   },
   "outputs": [
    {
     "output_type": "display_data",
     "data": {
      "text/plain": [
       "Digite a idade:  25"
      ]
     },
     "metadata": {},
     "output_type": "display_data"
    },
    {
     "output_type": "display_data",
     "data": {
      "text/plain": [
       "Digite a idade:  60"
      ]
     },
     "metadata": {},
     "output_type": "display_data"
    },
    {
     "output_type": "display_data",
     "data": {
      "text/plain": [
       "Digite a idade:  79"
      ]
     },
     "metadata": {},
     "output_type": "display_data"
    },
    {
     "output_type": "display_data",
     "data": {
      "text/plain": [
       "Digite a idade:  9"
      ]
     },
     "metadata": {},
     "output_type": "display_data"
    },
    {
     "output_type": "display_data",
     "data": {
      "text/plain": [
       "Digite a idade:  18"
      ]
     },
     "metadata": {},
     "output_type": "display_data"
    },
    {
     "output_type": "display_data",
     "data": {
      "text/plain": [
       "Digite a idade:  -1"
      ]
     },
     "metadata": {},
     "output_type": "display_data"
    },
    {
     "output_type": "stream",
     "name": "stdout",
     "output_type": "stream",
     "text": [
      "A distribuição de idades é: \n[0-25]: 3\n[26-50]: 0\n[51-75]: 1\n[76-100]: 1\n"
     ]
    }
   ],
   "source": [
    "idade = int(input('Digite a idade: '))\n",
    "\n",
    "contador_fx1 = 0\n",
    "contador_fx2 = 0\n",
    "contador_fx3 = 0\n",
    "contador_fx4 = 0\n",
    "\n",
    "while idade >= 0:\n",
    "    if idade >= 0 and idade <= 25:\n",
    "        contador_fx1 = contador_fx1 + 1\n",
    "    elif idade > 25 and idade <= 50:\n",
    "        contador_fx2 = contador_fx2 + 1\n",
    "    elif idade > 50 and idade <= 75:\n",
    "        contador_fx3 = contador_fx3 + 1\n",
    "    elif idade > 75 and idade <= 100:\n",
    "        contador_fx4 = contador_fx4 + 1\n",
    "\n",
    "    idade = int(input('Digite a idade: '))\n",
    "\n",
    "print('A distribuição de idades é: ')\n",
    "print(f'[0-25]: {contador_fx1}')\n",
    "print(f'[26-50]: {contador_fx2}')\n",
    "print(f'[51-75]: {contador_fx3}')\n",
    "print(f'[76-100]: {contador_fx4}')"
   ]
  },
  {
   "cell_type": "markdown",
   "metadata": {
    "application/vnd.databricks.v1+cell": {
     "cellMetadata": {},
     "inputWidgets": {},
     "nuid": "7795ef58-a43a-4687-92e1-88fc8448a5ad",
     "showTitle": false,
     "title": ""
    },
    "id": "soJCQVwRJRdT"
   },
   "source": [
    "#### Questão 9\n",
    "Em uma eleição para gerência em uma empresa com 20 funcionários, existem quatro candidatos. Escreva um programa que calcule o vencedor da eleição. A votação ocorreu da seguinte maneira:\n",
    "- Cada funcionário votou em um dos quatro candidatos (representados pelos números 1, 2, 3 e 4).\n",
    "- Também foram contabilizados os votos nulos (representado pelo número 5) e os votos em branco (representado pelo número 6).\n",
    "\n",
    "Ao final da votação, o programa deve exibir o total de votos para cada candidato, o número de votos nulos e o número de votos em branco. Além disso, deve calcular e exibir a porcentagem de votos nulos em relação ao total de votos e a porcentagem de votos em branco em relação ao total de votos."
   ]
  },
  {
   "cell_type": "code",
   "execution_count": 0,
   "metadata": {
    "application/vnd.databricks.v1+cell": {
     "cellMetadata": {
      "byteLimit": 2048000,
      "rowLimit": 10000
     },
     "inputWidgets": {},
     "nuid": "f5a799e6-a1c1-4cc2-99cf-a6fb10519bc3",
     "showTitle": false,
     "title": ""
    },
    "id": "041EFrgG-4gR"
   },
   "outputs": [
    {
     "output_type": "stream",
     "name": "stdout",
     "output_type": "stream",
     "text": [
      "Votar em um dos quatro candidatos (representados pelos números 1, 2, 3 e 4).\nVotar nulo (representado pelo número 5) ou em branco (representado pelo número 6).\n"
     ]
    },
    {
     "output_type": "display_data",
     "data": {
      "text/plain": [
       "Digite seu voto:  1"
      ]
     },
     "metadata": {},
     "output_type": "display_data"
    },
    {
     "output_type": "stream",
     "name": "stdout",
     "output_type": "stream",
     "text": [
      "Votar em um dos quatro candidatos (representados pelos números 1, 2, 3 e 4).\nVotar nulo (representado pelo número 5) ou em branco (representado pelo número 6).\n"
     ]
    },
    {
     "output_type": "display_data",
     "data": {
      "text/plain": [
       "Digite seu voto:  2"
      ]
     },
     "metadata": {},
     "output_type": "display_data"
    },
    {
     "output_type": "stream",
     "name": "stdout",
     "output_type": "stream",
     "text": [
      "Votar em um dos quatro candidatos (representados pelos números 1, 2, 3 e 4).\nVotar nulo (representado pelo número 5) ou em branco (representado pelo número 6).\n"
     ]
    },
    {
     "output_type": "display_data",
     "data": {
      "text/plain": [
       "Digite seu voto:  3"
      ]
     },
     "metadata": {},
     "output_type": "display_data"
    },
    {
     "output_type": "stream",
     "name": "stdout",
     "output_type": "stream",
     "text": [
      "Votar em um dos quatro candidatos (representados pelos números 1, 2, 3 e 4).\nVotar nulo (representado pelo número 5) ou em branco (representado pelo número 6).\n"
     ]
    },
    {
     "output_type": "display_data",
     "data": {
      "text/plain": [
       "Digite seu voto:  4"
      ]
     },
     "metadata": {},
     "output_type": "display_data"
    },
    {
     "output_type": "stream",
     "name": "stdout",
     "output_type": "stream",
     "text": [
      "Votar em um dos quatro candidatos (representados pelos números 1, 2, 3 e 4).\nVotar nulo (representado pelo número 5) ou em branco (representado pelo número 6).\n"
     ]
    },
    {
     "output_type": "display_data",
     "data": {
      "text/plain": [
       "Digite seu voto:  5"
      ]
     },
     "metadata": {},
     "output_type": "display_data"
    },
    {
     "output_type": "stream",
     "name": "stdout",
     "output_type": "stream",
     "text": [
      "Votar em um dos quatro candidatos (representados pelos números 1, 2, 3 e 4).\nVotar nulo (representado pelo número 5) ou em branco (representado pelo número 6).\n"
     ]
    },
    {
     "output_type": "display_data",
     "data": {
      "text/plain": [
       "Digite seu voto:  6"
      ]
     },
     "metadata": {},
     "output_type": "display_data"
    },
    {
     "output_type": "stream",
     "name": "stdout",
     "output_type": "stream",
     "text": [
      "Votar em um dos quatro candidatos (representados pelos números 1, 2, 3 e 4).\nVotar nulo (representado pelo número 5) ou em branco (representado pelo número 6).\n"
     ]
    },
    {
     "output_type": "display_data",
     "data": {
      "text/plain": [
       "Digite seu voto:  7"
      ]
     },
     "metadata": {},
     "output_type": "display_data"
    },
    {
     "output_type": "stream",
     "name": "stdout",
     "output_type": "stream",
     "text": [
      "Voto inválido!\nVotar em um dos quatro candidatos (representados pelos números 1, 2, 3 e 4).\nVotar nulo (representado pelo número 5) ou em branco (representado pelo número 6).\n"
     ]
    },
    {
     "output_type": "display_data",
     "data": {
      "text/plain": [
       "Digite seu voto:  0"
      ]
     },
     "metadata": {},
     "output_type": "display_data"
    },
    {
     "output_type": "stream",
     "name": "stdout",
     "output_type": "stream",
     "text": [
      "Voto inválido!\nVotar em um dos quatro candidatos (representados pelos números 1, 2, 3 e 4).\nVotar nulo (representado pelo número 5) ou em branco (representado pelo número 6).\n"
     ]
    },
    {
     "output_type": "display_data",
     "data": {
      "text/plain": [
       "Digite seu voto:  1"
      ]
     },
     "metadata": {},
     "output_type": "display_data"
    },
    {
     "output_type": "stream",
     "name": "stdout",
     "output_type": "stream",
     "text": [
      "Votar em um dos quatro candidatos (representados pelos números 1, 2, 3 e 4).\nVotar nulo (representado pelo número 5) ou em branco (representado pelo número 6).\n"
     ]
    },
    {
     "output_type": "display_data",
     "data": {
      "text/plain": [
       "Digite seu voto:  2"
      ]
     },
     "metadata": {},
     "output_type": "display_data"
    },
    {
     "output_type": "stream",
     "name": "stdout",
     "output_type": "stream",
     "text": [
      "Votar em um dos quatro candidatos (representados pelos números 1, 2, 3 e 4).\nVotar nulo (representado pelo número 5) ou em branco (representado pelo número 6).\n"
     ]
    },
    {
     "output_type": "display_data",
     "data": {
      "text/plain": [
       "Digite seu voto:  3"
      ]
     },
     "metadata": {},
     "output_type": "display_data"
    },
    {
     "output_type": "stream",
     "name": "stdout",
     "output_type": "stream",
     "text": [
      "Votar em um dos quatro candidatos (representados pelos números 1, 2, 3 e 4).\nVotar nulo (representado pelo número 5) ou em branco (representado pelo número 6).\n"
     ]
    },
    {
     "output_type": "display_data",
     "data": {
      "text/plain": [
       "Digite seu voto:  4"
      ]
     },
     "metadata": {},
     "output_type": "display_data"
    },
    {
     "output_type": "stream",
     "name": "stdout",
     "output_type": "stream",
     "text": [
      "Votar em um dos quatro candidatos (representados pelos números 1, 2, 3 e 4).\nVotar nulo (representado pelo número 5) ou em branco (representado pelo número 6).\n"
     ]
    },
    {
     "output_type": "display_data",
     "data": {
      "text/plain": [
       "Digite seu voto:  5"
      ]
     },
     "metadata": {},
     "output_type": "display_data"
    },
    {
     "output_type": "stream",
     "name": "stdout",
     "output_type": "stream",
     "text": [
      "Votar em um dos quatro candidatos (representados pelos números 1, 2, 3 e 4).\nVotar nulo (representado pelo número 5) ou em branco (representado pelo número 6).\n"
     ]
    },
    {
     "output_type": "display_data",
     "data": {
      "text/plain": [
       "Digite seu voto:  7"
      ]
     },
     "metadata": {},
     "output_type": "display_data"
    },
    {
     "output_type": "stream",
     "name": "stdout",
     "output_type": "stream",
     "text": [
      "Voto inválido!\nVotar em um dos quatro candidatos (representados pelos números 1, 2, 3 e 4).\nVotar nulo (representado pelo número 5) ou em branco (representado pelo número 6).\n"
     ]
    },
    {
     "output_type": "display_data",
     "data": {
      "text/plain": [
       "Digite seu voto:  7"
      ]
     },
     "metadata": {},
     "output_type": "display_data"
    },
    {
     "output_type": "stream",
     "name": "stdout",
     "output_type": "stream",
     "text": [
      "Voto inválido!\nVotar em um dos quatro candidatos (representados pelos números 1, 2, 3 e 4).\nVotar nulo (representado pelo número 5) ou em branco (representado pelo número 6).\n"
     ]
    },
    {
     "output_type": "display_data",
     "data": {
      "text/plain": [
       "Digite seu voto:  6"
      ]
     },
     "metadata": {},
     "output_type": "display_data"
    },
    {
     "output_type": "stream",
     "name": "stdout",
     "output_type": "stream",
     "text": [
      "Votar em um dos quatro candidatos (representados pelos números 1, 2, 3 e 4).\nVotar nulo (representado pelo número 5) ou em branco (representado pelo número 6).\n"
     ]
    },
    {
     "output_type": "display_data",
     "data": {
      "text/plain": [
       "Digite seu voto:  5"
      ]
     },
     "metadata": {},
     "output_type": "display_data"
    },
    {
     "output_type": "stream",
     "name": "stdout",
     "output_type": "stream",
     "text": [
      "Votar em um dos quatro candidatos (representados pelos números 1, 2, 3 e 4).\nVotar nulo (representado pelo número 5) ou em branco (representado pelo número 6).\n"
     ]
    },
    {
     "output_type": "display_data",
     "data": {
      "text/plain": [
       "Digite seu voto:  4"
      ]
     },
     "metadata": {},
     "output_type": "display_data"
    },
    {
     "output_type": "stream",
     "name": "stdout",
     "output_type": "stream",
     "text": [
      "Votar em um dos quatro candidatos (representados pelos números 1, 2, 3 e 4).\nVotar nulo (representado pelo número 5) ou em branco (representado pelo número 6).\n"
     ]
    },
    {
     "output_type": "display_data",
     "data": {
      "text/plain": [
       "Digite seu voto:  3"
      ]
     },
     "metadata": {},
     "output_type": "display_data"
    },
    {
     "output_type": "stream",
     "name": "stdout",
     "output_type": "stream",
     "text": [
      "Votar em um dos quatro candidatos (representados pelos números 1, 2, 3 e 4).\nVotar nulo (representado pelo número 5) ou em branco (representado pelo número 6).\n"
     ]
    },
    {
     "output_type": "display_data",
     "data": {
      "text/plain": [
       "Digite seu voto:  2"
      ]
     },
     "metadata": {},
     "output_type": "display_data"
    },
    {
     "output_type": "stream",
     "name": "stdout",
     "output_type": "stream",
     "text": [
      "Total votos Candidato 1: 10.0\nTotal votos Candidato 2: 15.0\nTotal votos Candidato 3: 15.0\nTotal votos Candidato 4: 15.0\nTotal votos Brancos: 15.0\nTotal votos Nulos: 10.0\n"
     ]
    }
   ],
   "source": [
    "votos_candidato_1 = 0\n",
    "votos_candidato_2 = 0\n",
    "votos_candidato_3 = 0\n",
    "votos_candidato_4 = 0\n",
    "votos_branco = 0\n",
    "votos_nulo = 0\n",
    "\n",
    "for i in range(0, 20):\n",
    "    print('Votar em um dos quatro candidatos (representados pelos números 1, 2, 3 e 4).')\n",
    "    print('Votar nulo (representado pelo número 5) ou em branco (representado pelo número 6).')\n",
    "    voto = input('Digite seu voto: ')\n",
    "    if voto == \"1\":\n",
    "        votos_candidato_1 = votos_candidato_1 + 1\n",
    "    elif voto == \"2\":\n",
    "        votos_candidato_2 = votos_candidato_2 + 1\n",
    "    elif voto == \"3\":\n",
    "        votos_candidato_3 = votos_candidato_3 + 1\n",
    "    elif voto == \"4\":\n",
    "        votos_candidato_4 = votos_candidato_4 + 1\n",
    "    elif voto == \"5\":\n",
    "        votos_branco = votos_branco + 1\n",
    "    elif voto == \"6\":\n",
    "        votos_nulo = votos_nulo + 1\n",
    "    else:\n",
    "        print('Voto inválido!')\n",
    "\n",
    "print(f'Total votos Candidato 1: {(votos_candidato_1 / 20 * 100)}')\n",
    "print(f'Total votos Candidato 2: {(votos_candidato_2 / 20 * 100)}')\n",
    "print(f'Total votos Candidato 3: {(votos_candidato_3 / 20 * 100)}')\n",
    "print(f'Total votos Candidato 4: {(votos_candidato_4 / 20 * 100)}')\n",
    "print(f'Total votos Brancos: {(votos_branco / 20 * 100)}')\n",
    "print(f'Total votos Nulos: {(votos_nulo / 20 * 100)}')\n",
    "\n"
   ]
  },
  {
   "cell_type": "markdown",
   "metadata": {
    "application/vnd.databricks.v1+cell": {
     "cellMetadata": {},
     "inputWidgets": {},
     "nuid": "216fc0eb-2560-4463-846d-e4f00795f57c",
     "showTitle": false,
     "title": ""
    },
    "id": "eijHQiNU2IZ7"
   },
   "source": [
    "## Aula 5 - Estruturas de dados"
   ]
  },
  {
   "cell_type": "markdown",
   "metadata": {
    "application/vnd.databricks.v1+cell": {
     "cellMetadata": {},
     "inputWidgets": {},
     "nuid": "4869cfc9-8d96-4b7e-aec8-24c0af8533ba",
     "showTitle": false,
     "title": ""
    },
    "id": "92F0bKtBMgd7"
   },
   "source": [
    "### Aquecendo na programação"
   ]
  },
  {
   "cell_type": "markdown",
   "metadata": {
    "application/vnd.databricks.v1+cell": {
     "cellMetadata": {},
     "inputWidgets": {},
     "nuid": "35f2ca7d-9294-4e65-a223-07a581a04423",
     "showTitle": false,
     "title": ""
    },
    "id": "IypX2ANuMgeC"
   },
   "source": [
    "#### Questão 1\n",
    "Faça um programa que tenha a seguinte lista contendo os valores de gastos de uma empresa de papel `[2172.54, 3701.35, 3518.09, 3456.61, 3249.38, 2840.82, 3891.45, 3075.26, 2317.64, 3219.08]`. Com esses valores, faça um programa que calcule a média de gastos. Dica, use as funções built-in [`sum()`](https://docs.python.org/3/library/functions.html#sum) e [`len()`](https://docs.python.org/3/library/functions.html#len)."
   ]
  },
  {
   "cell_type": "code",
   "execution_count": 0,
   "metadata": {
    "application/vnd.databricks.v1+cell": {
     "cellMetadata": {
      "byteLimit": 2048000,
      "rowLimit": 10000
     },
     "inputWidgets": {},
     "nuid": "91256e8f-9674-40f7-9822-e42f522c17d4",
     "showTitle": false,
     "title": ""
    },
    "id": "ge3LuFhLMgeD"
   },
   "outputs": [
    {
     "output_type": "stream",
     "name": "stdout",
     "output_type": "stream",
     "text": [
      " A média de gastos foi igual a: 3144.222\n"
     ]
    }
   ],
   "source": [
    "vlr_gastos = [2172.54, 3701.35, 3518.09, 3456.61, 3249.38, 2840.82, 3891.45, 3075.26, 2317.64, 3219.08]\n",
    "\n",
    "print(f' A média de gastos foi igual a: {sum(vlr_gastos) / len(vlr_gastos)}.')"
   ]
  },
  {
   "cell_type": "markdown",
   "metadata": {
    "application/vnd.databricks.v1+cell": {
     "cellMetadata": {},
     "inputWidgets": {},
     "nuid": "478d5018-5554-43df-b868-45c331abdc4d",
     "showTitle": false,
     "title": ""
    },
    "id": "xrOeLhQkMgeD"
   },
   "source": [
    "#### Questão 2\n",
    " Com os mesmos dados da questão anterior, defina quantas compras foram acima de 3000 reais e calcule a porcentagem quanto ao total de compras."
   ]
  },
  {
   "cell_type": "code",
   "execution_count": 0,
   "metadata": {
    "application/vnd.databricks.v1+cell": {
     "cellMetadata": {
      "byteLimit": 2048000,
      "rowLimit": 10000
     },
     "inputWidgets": {},
     "nuid": "f9d84cb4-7372-45dd-881d-3598bad5321c",
     "showTitle": false,
     "title": ""
    },
    "id": "Ygu5TMZyMgeD"
   },
   "outputs": [
    {
     "output_type": "stream",
     "name": "stdout",
     "output_type": "stream",
     "text": [
      "Foram totalizadas 7 compras acima de 3000 reais e Sendo de 70.0% a porcentagem quanto ao total de compras.\n"
     ]
    }
   ],
   "source": [
    "contador_acima_3000 = 0\n",
    "\n",
    "for vlr_gasto in vlr_gastos:\n",
    "    if vlr_gasto > 3000:\n",
    "        contador_acima_3000 = contador_acima_3000 + 1\n",
    "\n",
    "percentual_acima_3000 = (contador_acima_3000 / len(vlr_gastos)) * 100\n",
    "\n",
    "print(f'Foram totalizadas {contador_acima_3000} compras acima de 3000 reais e Sendo de {percentual_acima_3000}% a porcentagem quanto ao total de compras.')"
   ]
  },
  {
   "cell_type": "markdown",
   "metadata": {
    "application/vnd.databricks.v1+cell": {
     "cellMetadata": {},
     "inputWidgets": {},
     "nuid": "e9427186-2a1f-4c16-9329-83ded21c7469",
     "showTitle": false,
     "title": ""
    },
    "id": "JgCOrE_BMgeD"
   },
   "source": [
    "#### Questão 3\n",
    "Faça um código que colete em uma lista 5 números inteiros quaisquer e imprima a lista. Exemplo: `[1,4,7,2,4]`."
   ]
  },
  {
   "cell_type": "code",
   "execution_count": 0,
   "metadata": {
    "application/vnd.databricks.v1+cell": {
     "cellMetadata": {
      "byteLimit": 2048000,
      "rowLimit": 10000
     },
     "inputWidgets": {},
     "nuid": "e70f7d4d-ad01-4e83-b3e1-b5e35a87c8e3",
     "showTitle": false,
     "title": ""
    },
    "id": "vtM9O1hLMgeD"
   },
   "outputs": [
    {
     "output_type": "display_data",
     "data": {
      "text/plain": [
       "Digite o número:  5"
      ]
     },
     "metadata": {},
     "output_type": "display_data"
    },
    {
     "output_type": "display_data",
     "data": {
      "text/plain": [
       "Digite o número:  16"
      ]
     },
     "metadata": {},
     "output_type": "display_data"
    },
    {
     "output_type": "display_data",
     "data": {
      "text/plain": [
       "Digite o número:  17"
      ]
     },
     "metadata": {},
     "output_type": "display_data"
    },
    {
     "output_type": "display_data",
     "data": {
      "text/plain": [
       "Digite o número:  24"
      ]
     },
     "metadata": {},
     "output_type": "display_data"
    },
    {
     "output_type": "display_data",
     "data": {
      "text/plain": [
       "Digite o número:  25"
      ]
     },
     "metadata": {},
     "output_type": "display_data"
    },
    {
     "output_type": "stream",
     "name": "stdout",
     "output_type": "stream",
     "text": [
      "Números inseridos na lista: [5, 16, 17, 24, 25]\n"
     ]
    }
   ],
   "source": [
    "lista_numeros = []\n",
    "\n",
    "for i in range(5):\n",
    "    numero = int(input('Digite o número: '))\n",
    "    lista_numeros.append(numero)\n",
    "\n",
    "print(f'Números inseridos na lista: {lista_numeros}')"
   ]
  },
  {
   "cell_type": "markdown",
   "metadata": {
    "application/vnd.databricks.v1+cell": {
     "cellMetadata": {},
     "inputWidgets": {},
     "nuid": "2bb6446b-4684-49cf-805a-d2b76701bc0f",
     "showTitle": false,
     "title": ""
    },
    "id": "p3bTp88HMgeD"
   },
   "source": [
    "#### Questão 4\n",
    "Colete novamente 5 inteiros e imprima a lista em ordem inversa à enviada."
   ]
  },
  {
   "cell_type": "code",
   "execution_count": 0,
   "metadata": {
    "application/vnd.databricks.v1+cell": {
     "cellMetadata": {
      "byteLimit": 2048000,
      "rowLimit": 10000
     },
     "inputWidgets": {},
     "nuid": "3d9eec1c-c664-44b3-a49f-8288cc0ac3d7",
     "showTitle": false,
     "title": ""
    },
    "id": "-CGwMIyHMgeD"
   },
   "outputs": [
    {
     "output_type": "display_data",
     "data": {
      "text/plain": [
       "Digite o número:  1"
      ]
     },
     "metadata": {},
     "output_type": "display_data"
    },
    {
     "output_type": "display_data",
     "data": {
      "text/plain": [
       "Digite o número:  2"
      ]
     },
     "metadata": {},
     "output_type": "display_data"
    },
    {
     "output_type": "display_data",
     "data": {
      "text/plain": [
       "Digite o número:  3"
      ]
     },
     "metadata": {},
     "output_type": "display_data"
    },
    {
     "output_type": "display_data",
     "data": {
      "text/plain": [
       "Digite o número:  4"
      ]
     },
     "metadata": {},
     "output_type": "display_data"
    },
    {
     "output_type": "display_data",
     "data": {
      "text/plain": [
       "Digite o número:  5"
      ]
     },
     "metadata": {},
     "output_type": "display_data"
    },
    {
     "output_type": "stream",
     "name": "stdout",
     "output_type": "stream",
     "text": [
      "Números inseridos na lista: [5, 4, 3, 2, 1]\n"
     ]
    }
   ],
   "source": [
    "lista_numeros = []\n",
    "\n",
    "for i in range(5):\n",
    "    numero = int(input('Digite o número: '))\n",
    "    lista_numeros.append(numero)\n",
    "    \n",
    "\n",
    "print(f'Números inseridos na lista: {lista_numeros[::-1]}')"
   ]
  },
  {
   "cell_type": "markdown",
   "metadata": {
    "application/vnd.databricks.v1+cell": {
     "cellMetadata": {},
     "inputWidgets": {},
     "nuid": "8cced00f-89e5-48dc-adc6-9ce66c93d5ab",
     "showTitle": false,
     "title": ""
    },
    "id": "eIXd_z1lMgeD"
   },
   "source": [
    "#### Questão 5\n",
    "Faça um programa que, ao inserir um número qualquer, criará uma lista contendo todos os números primos entre 1 e o número digitado."
   ]
  },
  {
   "cell_type": "code",
   "execution_count": 0,
   "metadata": {
    "application/vnd.databricks.v1+cell": {
     "cellMetadata": {
      "byteLimit": 2048000,
      "rowLimit": 10000
     },
     "inputWidgets": {},
     "nuid": "69f757df-ee78-49a1-afd5-219da75850f2",
     "showTitle": false,
     "title": ""
    },
    "id": "rj_6GHstMgeE"
   },
   "outputs": [
    {
     "output_type": "display_data",
     "data": {
      "text/plain": [
       "Digite um número:  23"
      ]
     },
     "metadata": {},
     "output_type": "display_data"
    },
    {
     "output_type": "stream",
     "name": "stdout",
     "output_type": "stream",
     "text": [
      "Números primos entre 1 e 23 : [2, 3, 5, 7, 11, 13, 17, 19, 23]\n"
     ]
    }
   ],
   "source": [
    "if numero < 2:\n",
    "    resultado = False\n",
    "for i in range(2, numero):\n",
    "    if numero % i == 0:\n",
    "        resultado = False\n",
    "resultado = True\n",
    "\n",
    "num = int(input(\"Digite um número: \"))\n",
    "primos = []\n",
    "for i in range(1, num + 1):\n",
    "    if primo(i):\n",
    "        primos.append(i)\n",
    "\n",
    "print(\"Números primos entre 1 e\", num, \":\", primos)"
   ]
  },
  {
   "cell_type": "markdown",
   "metadata": {
    "application/vnd.databricks.v1+cell": {
     "cellMetadata": {},
     "inputWidgets": {},
     "nuid": "a1175c78-f259-4d95-82e0-05f4c26d7c34",
     "showTitle": false,
     "title": ""
    },
    "id": "zrbz3ENlMgeE"
   },
   "source": [
    "#### Questão 6\n",
    "Escreva um programa que peça uma data informando o dia, mês e ano e determine se ela é uma data válida para uma análise."
   ]
  },
  {
   "cell_type": "code",
   "execution_count": 0,
   "metadata": {
    "application/vnd.databricks.v1+cell": {
     "cellMetadata": {
      "byteLimit": 2048000,
      "rowLimit": 10000
     },
     "inputWidgets": {},
     "nuid": "ed0a9981-cb61-431f-812f-98358869c8ad",
     "showTitle": false,
     "title": ""
    },
    "id": "0eYA8UjTMgeE"
   },
   "outputs": [
    {
     "output_type": "display_data",
     "data": {
      "text/plain": [
       "Digite o dia:  29"
      ]
     },
     "metadata": {},
     "output_type": "display_data"
    },
    {
     "output_type": "display_data",
     "data": {
      "text/plain": [
       "Digite o mês:  2"
      ]
     },
     "metadata": {},
     "output_type": "display_data"
    },
    {
     "output_type": "display_data",
     "data": {
      "text/plain": [
       "Digite o ano:  2023"
      ]
     },
     "metadata": {},
     "output_type": "display_data"
    },
    {
     "output_type": "stream",
     "name": "stdout",
     "output_type": "stream",
     "text": [
      "Data inválida.\n"
     ]
    }
   ],
   "source": [
    "dia = int(input('Digite o dia: '))\n",
    "mes = int(input('Digite o mês: '))\n",
    "ano = int(input('Digite o ano: '))\n",
    "\n",
    "if mes == 2:\n",
    "    if ano % 4 == 0 and (ano % 400 == 0 or ano % 100 != 0):\n",
    "        dias_fev = 29\n",
    "    else:\n",
    "        dias_fev = 28\n",
    "    if dia >= 1 and dia <= dias_fev:\n",
    "        print('Data válida.')\n",
    "    else:\n",
    "        print('Data inválida.')\n",
    "elif mes in [1, 3, 5, 7, 8, 10, 12]:\n",
    "    if dia >= 1 and dia <= 31:\n",
    "        print('Data válida.')\n",
    "    else:\n",
    "        print('Data inválida.')\n",
    "elif mes in [4, 6, 9, 11]:\n",
    "    if dia >= 1 and dia <= 30:\n",
    "        print('Data válida.')\n",
    "    else:\n",
    "        print('Data inválida.')\n",
    "else:\n",
    "    print('Data inválida.')"
   ]
  },
  {
   "cell_type": "markdown",
   "metadata": {
    "application/vnd.databricks.v1+cell": {
     "cellMetadata": {},
     "inputWidgets": {},
     "nuid": "1cb96de3-773c-4f69-a3fa-24f41f0366ea",
     "showTitle": false,
     "title": ""
    },
    "id": "ut_4VHdGMgeE"
   },
   "source": [
    "### Momento dos projetos"
   ]
  },
  {
   "cell_type": "markdown",
   "metadata": {
    "application/vnd.databricks.v1+cell": {
     "cellMetadata": {},
     "inputWidgets": {},
     "nuid": "201fe86f-053f-4679-909d-030d6057b155",
     "showTitle": false,
     "title": ""
    },
    "id": "G86Z0vD_MgeE"
   },
   "source": [
    "#### Questão 7\n",
    "Para um estudo envolvendo o nível de multiplicação de bactérias em uma colônia, foi coletado o número de bactérias multiplicadas por dia, com base em um processo de duplicação diária e pode ser observado a seguir: `[1.2, 2.1, 3.3, 5.0, 7.8, 11.3, 16.6, 25.1, 37.8, 56.9]`. Tendo esses valores, faça um código que gere uma lista contendo o percentual de crescimento de bactérias por dia, comparando o número de bactérias em cada dia com o número de bactérias do dia anterior. Dica: para calcular o percentual de crescimento usamos a seguinte equação: `100 * (amostra_atual - amostra_passada) / (amostra_passada)`."
   ]
  },
  {
   "cell_type": "code",
   "execution_count": 0,
   "metadata": {
    "application/vnd.databricks.v1+cell": {
     "cellMetadata": {
      "byteLimit": 2048000,
      "rowLimit": 10000
     },
     "inputWidgets": {},
     "nuid": "597e69d5-93ad-4369-ac5c-e6b873ba6d0a",
     "showTitle": false,
     "title": ""
    },
    "id": "PXNO_CFkMgeE"
   },
   "outputs": [
    {
     "output_type": "stream",
     "name": "stdout",
     "output_type": "stream",
     "text": [
      "A porcentagem de crescimento é: [42.85714285714286, 36.36363636363636, 34.00000000000001, 35.8974358974359, 30.973451327433636, 31.927710843373497, 33.86454183266932, 33.59788359788359, 33.5676625659051].\n"
     ]
    }
   ],
   "source": [
    "bacterias_colonia = [1.2, 2.1, 3.3, 5.0, 7.8, 11.3, 16.6, 25.1, 37.8, 56.9]\n",
    "percentual_crescimento = []\n",
    "\n",
    "dia = 1\n",
    "\n",
    "for i in range(dia, len(bacterias_colonia)):\n",
    "    porcentagem = 100 * (bacterias_colonia[i] - bacterias_colonia[i - 1]) / (bacterias_colonia[i])\n",
    "    percentual_crescimento.append(porcentagem)\n",
    "print(f'A porcentagem de crescimento é: {percentual_crescimento}.')"
   ]
  },
  {
   "cell_type": "markdown",
   "metadata": {
    "application/vnd.databricks.v1+cell": {
     "cellMetadata": {},
     "inputWidgets": {},
     "nuid": "cf96157a-4f35-4635-b14d-f73762b3c736",
     "showTitle": false,
     "title": ""
    },
    "id": "p4nxogpnMgeE"
   },
   "source": [
    "#### Questão 8\n",
    "Para uma seleção de produtos alimentícios, precisamos separar o conjunto de IDs dados por números inteiros, sabendo que os produtos com ID par são doces e os com ID ímpar são amargos. Monte um código que colete 10 IDs. Depois, calcule e mostre a quantidade de produtos doces e amargos."
   ]
  },
  {
   "cell_type": "code",
   "execution_count": 0,
   "metadata": {
    "application/vnd.databricks.v1+cell": {
     "cellMetadata": {
      "byteLimit": 2048000,
      "rowLimit": 10000
     },
     "inputWidgets": {},
     "nuid": "420c1789-e1f2-4079-94f3-f36f059ed25b",
     "showTitle": false,
     "title": ""
    },
    "id": "WqjO2SZkMgeE"
   },
   "outputs": [
    {
     "output_type": "display_data",
     "data": {
      "text/plain": [
       "Digite o 1º ID  39"
      ]
     },
     "metadata": {},
     "output_type": "display_data"
    },
    {
     "output_type": "display_data",
     "data": {
      "text/plain": [
       "Digite o 2º ID  03"
      ]
     },
     "metadata": {},
     "output_type": "display_data"
    },
    {
     "output_type": "display_data",
     "data": {
      "text/plain": [
       "Digite o 3º ID  2"
      ]
     },
     "metadata": {},
     "output_type": "display_data"
    },
    {
     "output_type": "display_data",
     "data": {
      "text/plain": [
       "Digite o 4º ID  1"
      ]
     },
     "metadata": {},
     "output_type": "display_data"
    },
    {
     "output_type": "display_data",
     "data": {
      "text/plain": [
       "Digite o 5º ID  0"
      ]
     },
     "metadata": {},
     "output_type": "display_data"
    },
    {
     "output_type": "display_data",
     "data": {
      "text/plain": [
       "Digite o 6º ID  2"
      ]
     },
     "metadata": {},
     "output_type": "display_data"
    },
    {
     "output_type": "display_data",
     "data": {
      "text/plain": [
       "Digite o 7º ID  3"
      ]
     },
     "metadata": {},
     "output_type": "display_data"
    },
    {
     "output_type": "display_data",
     "data": {
      "text/plain": [
       "Digite o 8º ID  100"
      ]
     },
     "metadata": {},
     "output_type": "display_data"
    },
    {
     "output_type": "display_data",
     "data": {
      "text/plain": [
       "Digite o 9º ID  1"
      ]
     },
     "metadata": {},
     "output_type": "display_data"
    },
    {
     "output_type": "display_data",
     "data": {
      "text/plain": [
       "Digite o 10º ID  0"
      ]
     },
     "metadata": {},
     "output_type": "display_data"
    },
    {
     "output_type": "stream",
     "name": "stdout",
     "output_type": "stream",
     "text": [
      "A quantidade de produtos doces foi de 5 e a de amargos 5.\n"
     ]
    }
   ],
   "source": [
    "ids = []\n",
    "\n",
    "doce = 0\n",
    "amargo = 0\n",
    "\n",
    "for i in range(0, 10):\n",
    "    ids.append(int(input(f'Digite o {i + 1}º ID ')))\n",
    "\n",
    "for id in ids:\n",
    "    if id % 2 == 0:\n",
    "        doce = doce + 1\n",
    "    else:\n",
    "        amargo = amargo + 1\n",
    "\n",
    "print(f'A quantidade de produtos doces foi de {doce} e a de amargos {amargo}.')"
   ]
  },
  {
   "cell_type": "markdown",
   "metadata": {
    "application/vnd.databricks.v1+cell": {
     "cellMetadata": {},
     "inputWidgets": {},
     "nuid": "5c9997c5-b085-45f7-8f42-f1b186bd9fa0",
     "showTitle": false,
     "title": ""
    },
    "id": "t5OrLxV6MgeE"
   },
   "source": [
    "#### Questão 9\n",
    "Desenvolva um programa que informa a nota de um aluno de acordo com suas respostas. Ele deve pedir a resposta de um aluno para cada questão e é preciso verificar se a resposta foi igual ao gabarito. Cada questão vale um ponto e existem alternativas:  A, B, C ou D.\n",
    "```\n",
    "Gabarito da Prova:\n",
    "01 - D\n",
    "02 - A\n",
    "03 - C\n",
    "04 - B\n",
    "05 - A\n",
    "06 - D\n",
    "07 - C\n",
    "08 - C\n",
    "09 - A\n",
    "10 - B\n",
    "```"
   ]
  },
  {
   "cell_type": "code",
   "execution_count": 0,
   "metadata": {
    "application/vnd.databricks.v1+cell": {
     "cellMetadata": {
      "byteLimit": 2048000,
      "rowLimit": 10000
     },
     "inputWidgets": {},
     "nuid": "f9ed7569-c70a-4999-9b0d-3bcee7afff3b",
     "showTitle": false,
     "title": ""
    },
    "id": "ytIQDJrQMgeE"
   },
   "outputs": [
    {
     "output_type": "display_data",
     "data": {
      "text/plain": [
       "Digite a resposta: da questão 1:  d"
      ]
     },
     "metadata": {},
     "output_type": "display_data"
    },
    {
     "output_type": "display_data",
     "data": {
      "text/plain": [
       "Digite a resposta: da questão 2:  d"
      ]
     },
     "metadata": {},
     "output_type": "display_data"
    },
    {
     "output_type": "display_data",
     "data": {
      "text/plain": [
       "Digite a resposta: da questão 3:  d"
      ]
     },
     "metadata": {},
     "output_type": "display_data"
    },
    {
     "output_type": "display_data",
     "data": {
      "text/plain": [
       "Digite a resposta: da questão 4:  d"
      ]
     },
     "metadata": {},
     "output_type": "display_data"
    },
    {
     "output_type": "display_data",
     "data": {
      "text/plain": [
       "Digite a resposta: da questão 5:  d"
      ]
     },
     "metadata": {},
     "output_type": "display_data"
    },
    {
     "output_type": "display_data",
     "data": {
      "text/plain": [
       "Digite a resposta: da questão 6:  d"
      ]
     },
     "metadata": {},
     "output_type": "display_data"
    },
    {
     "output_type": "display_data",
     "data": {
      "text/plain": [
       "Digite a resposta: da questão 7:  d"
      ]
     },
     "metadata": {},
     "output_type": "display_data"
    },
    {
     "output_type": "display_data",
     "data": {
      "text/plain": [
       "Digite a resposta: da questão 8:  d"
      ]
     },
     "metadata": {},
     "output_type": "display_data"
    },
    {
     "output_type": "display_data",
     "data": {
      "text/plain": [
       "Digite a resposta: da questão 9:  d"
      ]
     },
     "metadata": {},
     "output_type": "display_data"
    },
    {
     "output_type": "display_data",
     "data": {
      "text/plain": [
       "Digite a resposta: da questão 10:  d"
      ]
     },
     "metadata": {},
     "output_type": "display_data"
    },
    {
     "output_type": "stream",
     "name": "stdout",
     "output_type": "stream",
     "text": [
      "A sua nota final é: 2 .\nReprovado.\n"
     ]
    }
   ],
   "source": [
    "resposta = []\n",
    "gabarito = ['D', 'A', 'C', 'B', 'A', 'D', 'C', 'C', 'A', 'B']\n",
    "nota = 0\n",
    "\n",
    "for i in range(0, 10):\n",
    "   resposta.append(input(f'Digite a resposta: da questão {i + 1}: ').upper())\n",
    "for i in range(0, 10):\n",
    "    if resposta[i] == gabarito[i]:\n",
    "        nota = nota + 1\n",
    "\n",
    "print(f'A sua nota final é: {nota} .')\n",
    "if nota >= 7:\n",
    "    print(f'Você está aprovado.')\n",
    "elif nota < 7 and nota >= 3:\n",
    "    print(f'Faltou {7 - nota} para a aprovação. Você terá uma nova chance na prova final.')\n",
    "else:\n",
    "    print('Reprovado.')"
   ]
  },
  {
   "cell_type": "markdown",
   "metadata": {
    "application/vnd.databricks.v1+cell": {
     "cellMetadata": {},
     "inputWidgets": {},
     "nuid": "cff1c742-ea7e-40ec-8f1d-86cbfaa96fb9",
     "showTitle": false,
     "title": ""
    },
    "id": "aSBMzh-AMgeF"
   },
   "source": [
    "#### Questão 10\n",
    "Um instituto de meteorologia deseja fazer um estudo de temperatura média de cada mês do ano. Para isso, você precisa fazer um código que colete e armazene essas temperaturas médias em uma lista. Depois, calcule a média anual das temperaturas e mostre todas as temperaturas acima da média anual, e em que mês elas ocorreram, mostrando os meses por extenso: Janeiro, Fevereiro, etc."
   ]
  },
  {
   "cell_type": "code",
   "execution_count": 0,
   "metadata": {
    "application/vnd.databricks.v1+cell": {
     "cellMetadata": {
      "byteLimit": 2048000,
      "rowLimit": 10000
     },
     "inputWidgets": {},
     "nuid": "33ad0197-02a2-4677-8bb4-37e8b97d7b06",
     "showTitle": false,
     "title": ""
    },
    "id": "ftj04s2uMgeF"
   },
   "outputs": [
    {
     "output_type": "display_data",
     "data": {
      "text/plain": [
       "Informe a temperatura media do mês 1:  25"
      ]
     },
     "metadata": {},
     "output_type": "display_data"
    },
    {
     "output_type": "display_data",
     "data": {
      "text/plain": [
       "Informe a temperatura media do mês 2:  26"
      ]
     },
     "metadata": {},
     "output_type": "display_data"
    },
    {
     "output_type": "display_data",
     "data": {
      "text/plain": [
       "Informe a temperatura media do mês 3:  27"
      ]
     },
     "metadata": {},
     "output_type": "display_data"
    },
    {
     "output_type": "display_data",
     "data": {
      "text/plain": [
       "Informe a temperatura media do mês 4:  28"
      ]
     },
     "metadata": {},
     "output_type": "display_data"
    },
    {
     "output_type": "display_data",
     "data": {
      "text/plain": [
       "Informe a temperatura media do mês 5:  29"
      ]
     },
     "metadata": {},
     "output_type": "display_data"
    },
    {
     "output_type": "display_data",
     "data": {
      "text/plain": [
       "Informe a temperatura media do mês 6:  30"
      ]
     },
     "metadata": {},
     "output_type": "display_data"
    },
    {
     "output_type": "display_data",
     "data": {
      "text/plain": [
       "Informe a temperatura media do mês 7:  31"
      ]
     },
     "metadata": {},
     "output_type": "display_data"
    },
    {
     "output_type": "display_data",
     "data": {
      "text/plain": [
       "Informe a temperatura media do mês 8:  32"
      ]
     },
     "metadata": {},
     "output_type": "display_data"
    },
    {
     "output_type": "display_data",
     "data": {
      "text/plain": [
       "Informe a temperatura media do mês 9:  33"
      ]
     },
     "metadata": {},
     "output_type": "display_data"
    },
    {
     "output_type": "display_data",
     "data": {
      "text/plain": [
       "Informe a temperatura media do mês 10:  34"
      ]
     },
     "metadata": {},
     "output_type": "display_data"
    },
    {
     "output_type": "display_data",
     "data": {
      "text/plain": [
       "Informe a temperatura media do mês 11:  35"
      ]
     },
     "metadata": {},
     "output_type": "display_data"
    },
    {
     "output_type": "display_data",
     "data": {
      "text/plain": [
       "Informe a temperatura media do mês 12:  36"
      ]
     },
     "metadata": {},
     "output_type": "display_data"
    },
    {
     "output_type": "stream",
     "name": "stdout",
     "output_type": "stream",
     "text": [
      "Temperaturas acima da média nos meses de: \nNos meses: Julho, está fazendo um calor da peste!\nNos meses: Agosto, está fazendo um calor da peste!\nNos meses: Setembro, está fazendo um calor da peste!\nNos meses: Outubro, está fazendo um calor da peste!\nNos meses: Novembro, está fazendo um calor da peste!\nNos meses: Dezembro, está fazendo um calor da peste!\n"
     ]
    }
   ],
   "source": [
    "temperatura_mes = []\n",
    "\n",
    "for i in range(0, 12):\n",
    "    temperatura_mes.append(float(input(f'Informe a temperatura media do mês {i + 1}: ')))\n",
    "\n",
    "meses = ['Janeiro', 'Fevereiro', 'Março', 'Abril', 'Maio', 'Junho', 'Julho', 'Agosto', 'Setembro', 'Outubro', 'Novembro', 'Dezembro']\n",
    "media_ano = sum(temperatura_mes) / len(temperatura_mes)\n",
    "\n",
    "print('Temperaturas acima da média nos meses de: ')\n",
    "for i in range(0, 12):\n",
    "    if temperatura_mes[i] > media_ano:\n",
    "        print(f'Nos meses de {meses[i]}, está fazendo um calor da peste!')"
   ]
  },
  {
   "cell_type": "markdown",
   "metadata": {
    "application/vnd.databricks.v1+cell": {
     "cellMetadata": {},
     "inputWidgets": {},
     "nuid": "3b6d62bb-9816-42b3-afb6-344ea4e729ef",
     "showTitle": false,
     "title": ""
    },
    "id": "0X8S6s4jMgeF"
   },
   "source": [
    "#### Questão 11\n",
    "Uma empresa de e-commerce está interessada em analisar as vendas dos seus produtos. Os dados das vendas foram armazenados em um dicionário:\n",
    "```\n",
    "{'Produto A': 300, 'Produto B': 80, 'Produto C': 60,\n",
    " 'Produto D': 200, 'Produto E': 250, 'Produto F': 30}\n",
    "```\n",
    "Escreva um código que calcule o total de vendas e o produto mais vendido."
   ]
  },
  {
   "cell_type": "code",
   "execution_count": 0,
   "metadata": {
    "application/vnd.databricks.v1+cell": {
     "cellMetadata": {
      "byteLimit": 2048000,
      "rowLimit": 10000
     },
     "inputWidgets": {},
     "nuid": "3c953bfb-06c8-48e3-9fc1-338445866060",
     "showTitle": false,
     "title": ""
    },
    "id": "Xa3DJLtFMgeF"
   },
   "outputs": [
    {
     "output_type": "stream",
     "name": "stdout",
     "output_type": "stream",
     "text": [
      "O total de vendas é: 920 e o produto mais vendido foi: Produto A.\n"
     ]
    }
   ],
   "source": [
    "dados_vendas = {'Produto A': 300, 'Produto B': 80, 'Produto C': 60, 'Produto D': 200, 'Produto E': 250, 'Produto F': 30}\n",
    "total_vendas = 0\n",
    "unidades_produto_mais_vendido = 0\n",
    "\n",
    "for produto in dados_vendas.keys():\n",
    "    total_vendas = total_vendas + dados_vendas[produto]\n",
    "\n",
    "    if dados_vendas[produto] > unidades_produto_mais_vendido:\n",
    "        unidades_produto_mais_vendido = dados_vendas[produto]\n",
    "        produto_mais_vendido = produto\n",
    "\n",
    "print(f'O total de vendas é: {total_vendas} e o produto mais vendido foi: {produto_mais_vendido}.')"
   ]
  },
  {
   "cell_type": "markdown",
   "metadata": {
    "application/vnd.databricks.v1+cell": {
     "cellMetadata": {},
     "inputWidgets": {},
     "nuid": "f331a1ec-5013-48f9-be0b-06ca7cdbb742",
     "showTitle": false,
     "title": ""
    },
    "id": "nrEwf_1ZMgeF"
   },
   "source": [
    "#### Questão 12\n",
    "Uma pesquisa de mercado foi feita para decidir qual design de uma marca infantil mais agrada crianças. A pesquisa foi feita e o votos computados podem ser observados abaixo:\n",
    "```\n",
    "'''\n",
    "Tabela de votos da marca\n",
    "Design 1 - 1334 votos\n",
    "Design 2 - 982 votos\n",
    "Design 3 - 1751 votos\n",
    "Design 4 - 210 votos\n",
    "Design 5 - 1811 votos\n",
    "'''\n",
    "```\n",
    "Adapte os dados fornecidos a você para uma estrutura de dicionário e a partir dele, informe o design vencedor e a porcentagem de votos recebidos.\n"
   ]
  },
  {
   "cell_type": "code",
   "execution_count": 0,
   "metadata": {
    "application/vnd.databricks.v1+cell": {
     "cellMetadata": {
      "byteLimit": 2048000,
      "rowLimit": 10000
     },
     "inputWidgets": {},
     "nuid": "080b7e27-95c8-4707-9c28-d80da04020e4",
     "showTitle": false,
     "title": ""
    },
    "id": "MRPcGR-_MgeF"
   },
   "outputs": [
    {
     "output_type": "stream",
     "name": "stdout",
     "output_type": "stream",
     "text": [
      "Design 5 é o vencedor: \nPorcentagem de votos: 29.747043363994745%\n"
     ]
    }
   ],
   "source": [
    "# Dicionário de votos por design\n",
    "votos = {'Design 1': 1334, 'Design 2': 982, 'Design 3': 1751, 'Design 4': 210, 'Design 5': 1811}\n",
    "\n",
    "# Inicializamos as variáveis\n",
    "total_votos = 0 # Irá somar todos os votos \n",
    "vencedor = '' # Irá armazenar o nome do design vencedor\n",
    "voto_vencedor = 0 # Irá armazenar a quantidade vencedora de votos\n",
    "\n",
    "# Percorremos os valores de chaves e elementos do dicionário\n",
    "for design, voto_desing in votos.items():\n",
    "  # Somamos o total de votos\n",
    "  total_votos += voto_desing\n",
    "  # Verificamos se o voto do atual desing (voto_desing) é maior que o valor armazenado em voto_vencedor\n",
    "  # Cada vez que voto_desing superar o valor em voto_vencedor, \n",
    "  # a variável voto_vencedor vai ser igual à voto_desing, atribuindo um novo valor\n",
    "  # De forma similar, o vencedor também é substituído pelo design\n",
    "  if voto_desing > voto_vencedor:\n",
    "    voto_vencedor = voto_desing\n",
    "    vencedor = design\n",
    "# Calculamos a porcentagem do design vencedor\n",
    "porcentagem = 100 * (voto_vencedor) / (total_votos)\n",
    "\n",
    "#Resultado\n",
    "print(f'{vencedor} é o vencedor: ')\n",
    "print(f'Porcentagem de votos: {porcentagem}%')\n"
   ]
  },
  {
   "cell_type": "markdown",
   "metadata": {
    "application/vnd.databricks.v1+cell": {
     "cellMetadata": {},
     "inputWidgets": {},
     "nuid": "17412aaf-0775-4fe5-a3db-e2c39c617e5f",
     "showTitle": false,
     "title": ""
    },
    "id": "HRTFFzKIMgeF"
   },
   "source": [
    "#### Questão 13\n",
    "Os funcionários de um setor da empresa que você trabalha vão receber um abono correspondente a 10% do seu salário devido ao ótimo desempenho do time. O setor financeiro solicitou sua ajuda para a verificação das consequências financeiras que esse abono irá gerar nos recursos. Assim, foi encaminhada para você uma lista com os salários que receberão o abono: `[1172, 1644, 2617, 5130, 5532, 6341, 6650, 7238, 7685, 7782, 7903]`. O abono de cada funcionário não pode ser inferior a 200. Em código, transforme cada um dos salários em chaves de um dicionário e o abono de cada salário no elemento. Depois, informe o total de gastos com o abono, quantos funcionários receberam o abono mínimo e qual o maior valor de abono fornecido.\n"
   ]
  },
  {
   "cell_type": "code",
   "execution_count": 0,
   "metadata": {
    "application/vnd.databricks.v1+cell": {
     "cellMetadata": {
      "byteLimit": 2048000,
      "rowLimit": 10000
     },
     "inputWidgets": {},
     "nuid": "fa5326f2-efc4-4ab4-bc89-83d4ea23f6d5",
     "showTitle": false,
     "title": ""
    },
    "id": "QsDSCua42bLB"
   },
   "outputs": [
    {
     "output_type": "stream",
     "name": "stdout",
     "output_type": "stream",
     "text": [
      "Abonos: {1172: 200, 1644: 200, 2617: 261.7, 5130: 513.0, 5532: 553.2, 6341: 634.1, 6650: 665.0, 7238: 723.8000000000001, 7685: 768.5, 7782: 778.2, 7903: 790.3000000000001}\nTotal de gasto com abonos: 6087.8\nNúmero de funcionários que receberam o abono mínimo: 2\nMaior valor de abono: 790.3000000000001\n"
     ]
    }
   ],
   "source": [
    "# Lista de salários\n",
    "salarios = [1172, 1644, 2617, 5130, 5532, 6341, 6650, 7238, 7685, 7782, 7903]\n",
    "# Inicializamos as variáveis\n",
    "dic_abonos = {} # Dicionário de abonos\n",
    "total_abono = 0 # Irá somar todos os gastos com abono\n",
    "abonos_minimo = 0 # Irá armazenar a quantidade de abonos mínimos \n",
    "maior_abono = 0 # Irá armazenar o maior valor de abono \n",
    "\n",
    "# Percorremos toda a lista de salários\n",
    "for salario in salarios:\n",
    "  # Calculamos o valor teórico de abono\n",
    "  abono = salario * 0.1\n",
    "  # Caso o abono seja inferior a 200,\n",
    "  # ajustamos o valor de abono para o mínimo (200)\n",
    "  if abono < 200:\n",
    "    abono = 200\n",
    "  # Adicionamos um novo dado no dicionário chave abono\n",
    "  dic_abonos[salario] = abono\n",
    "\n",
    "# Percorremos todos os valores do dicionário de abonos\n",
    "for abono in dic_abonos.values():\n",
    "  # Contamos o salário minimo\n",
    "  if abono == 200:\n",
    "    abonos_minimo += 1\n",
    "  # Verificamos se o abono lido é maior que o valor armazenado em maior_abono\n",
    "  # Cada vez que o abono superar o valor de maior_abono, \n",
    "  # a variável maior_abono vai ser igual à abono, atribuindo um novo valor\n",
    "  if abono > maior_abono:\n",
    "    maior_abono = abono\n",
    "  # Somamos os abonos\n",
    "  total_abono += abono\n",
    "# Resultados\n",
    "print(f'Abonos: {dic_abonos}')\n",
    "print(f'Total de gasto com abonos: {total_abono}')\n",
    "print(f'Número de funcionários que receberam o abono mínimo: {abonos_minimo}')\n",
    "print(f'Maior valor de abono: {maior_abono}')\n"
   ]
  },
  {
   "cell_type": "markdown",
   "metadata": {
    "application/vnd.databricks.v1+cell": {
     "cellMetadata": {},
     "inputWidgets": {},
     "nuid": "9b2fde87-937d-46df-8446-61dcc8c98181",
     "showTitle": false,
     "title": ""
    },
    "id": "6dEXZEwjMlWy"
   },
   "source": [
    "#### Questão 14\n",
    "Uma equipe de cientistas de dados está estudando a diversidade biológica em uma floresta. A equipe fez a coleta de informações sobre o número de espécies de plantas e animais em cada área da floresta e armazenaram essas informações em um dicionário. Nele, a chave descreve a área dos dados e os valores nas listas correspondem às espécies de plantas e animais nas áreas, respectivamente.\n",
    "```\n",
    "{'Área Norte': [2819, 7236],\n",
    " 'Área Leste': [1440, 9492],\n",
    " 'Área Sul': [5969, 7496],\n",
    " 'Área Oeste': [14446, 49688],\n",
    " 'Área Centro': [22558, 45148]}\n",
    "```\n",
    "Escreva um código para calcular a média de espécies por área e identificar a área com a maior diversidade biológica. Dica: use as funções built-in [`sum()`](https://docs.python.org/3/library/functions.html#sum) e [`len()`](https://docs.python.org/3/library/functions.html#len).\n"
   ]
  },
  {
   "cell_type": "code",
   "execution_count": 0,
   "metadata": {
    "application/vnd.databricks.v1+cell": {
     "cellMetadata": {
      "byteLimit": 2048000,
      "rowLimit": 10000
     },
     "inputWidgets": {},
     "nuid": "b6058ce0-d26b-4b3d-a51b-1230623d43b8",
     "showTitle": false,
     "title": ""
    },
    "id": "eQnOUDfYMlWy"
   },
   "outputs": [
    {
     "output_type": "stream",
     "name": "stdout",
     "output_type": "stream",
     "text": [
      "A Área Norte tem a média de 5027.5 espécies\nA Área Leste tem a média de 5466.0 espécies\nA Área Sul tem a média de 6732.5 espécies\nA Área Oeste tem a média de 32067.0 espécies\nA Área Centro tem a média de 33853.0 espécies\nMédia geral de espécies: 16629.2\nÁrea com a maior diversidade biológica: Área Centro\n"
     ]
    }
   ],
   "source": [
    "# Especificamos os dados para um dicionário\n",
    "dados = {'Área Norte': [2819, 7236],\n",
    "         'Área Leste': [1440, 9492],\n",
    "         'Área Sul': [5969, 7496],\n",
    "         'Área Oeste': [14446, 49688],\n",
    "         'Área Centro': [22558, 45148]}\n",
    "# Inicializamos as variáveis\n",
    "soma_media = 0 # Irá somar todas as médias\n",
    "maior_diversidade = '' # Irá armazenar a área com maior diversidade\n",
    "maior_soma = 0 # Irá armazenar a maior soma de espécies \n",
    "# Percorremos os valores de chaves e elementos do dicionário\n",
    "for area, especies in dados.items():\n",
    "  # Fazemos a soma do números de espécies em cada área com a função sum\n",
    "  soma_especies = sum(especies)\n",
    "  # Calculamos a média dividindo a soma das espécies pela quantidade de espécies\n",
    "  media = soma_especies / len(especies)\n",
    "  # Imprimimos\n",
    "  print(f'A {area} tem a média de {media} espécies')\n",
    "  # Verificamos se a soma das espécies é maior que o valor armazenado de maior_soma\n",
    "  # Cada vez que a soma_especies superar o valor de maior_soma, \n",
    "  # a variável maior_soma vai ser igual à soma_especies, atribuindo um novo valor\n",
    "  # De forma similar, maior_diversidade também é substituída\n",
    "  if soma_especies > maior_soma:\n",
    "      maior_soma = soma_especies\n",
    "      maior_diversidade = area\n",
    "  # Somamos as médias\n",
    "  soma_media += media\n",
    "# A média total será dada pela soma_media dividida pela quantidade de áreas\n",
    "media_total = soma_media / len(dados)\n",
    "print(f'Média geral de espécies: {media_total}')\n",
    "print(f'Área com a maior diversidade biológica: {maior_diversidade}')\n"
   ]
  },
  {
   "cell_type": "markdown",
   "metadata": {
    "application/vnd.databricks.v1+cell": {
     "cellMetadata": {},
     "inputWidgets": {},
     "nuid": "013fa6bb-652f-47f5-aa39-db31e41fa438",
     "showTitle": false,
     "title": ""
    },
    "id": "r0RW2Sy_MlWy"
   },
   "source": [
    "#### Questão 15\n",
    "O setor de RH da sua empresa te pediu uma ajuda para analisar as idades dos funcionários de 4 setores da empresa. Para isso, ele te forneceu os seguintes dados:\n",
    "```\n",
    "{'Setor A': [22, 26, 30, 30, 35, 38, 40, 56, 57, 65],\n",
    " 'Setor B': [22, 24, 26, 33, 41, 49, 50, 54, 60, 64],\n",
    " 'Setor C': [23, 26, 26, 29, 34, 35, 36, 41, 52, 56],\n",
    " 'Setor D': [19, 20, 25, 27, 34, 39, 42, 44, 50, 65]}\n",
    "``` \n",
    "Sabendo que cada setor tem 10 funcionários, construa um código que calcule a média de idade de cada setor, a idade média geral entre todos os setores e quantas pessoas estão acima da idade média geral.\n"
   ]
  },
  {
   "cell_type": "code",
   "execution_count": 0,
   "metadata": {
    "application/vnd.databricks.v1+cell": {
     "cellMetadata": {
      "byteLimit": 2048000,
      "rowLimit": 10000
     },
     "inputWidgets": {},
     "nuid": "01bfef9c-63b7-4882-aa19-b55154292802",
     "showTitle": false,
     "title": ""
    },
    "id": "wCiwyKP3MmTz"
   },
   "outputs": [
    {
     "output_type": "stream",
     "name": "stdout",
     "output_type": "stream",
     "text": [
      "O Setor A tem a média de 39.9\nO Setor B tem a média de 42.3\nO Setor C tem a média de 35.8\nO Setor D tem a média de 36.5\nA média de idade geral é 38.625\n18 pessoas estão acima da idade média geral\n"
     ]
    }
   ],
   "source": [
    "# Especificamos os dados para um dicionário\n",
    "dados = {'Setor A': [22, 26, 30, 30, 35, 38, 40, 56, 57, 65],\n",
    "        'Setor B': [22, 24, 26, 33, 41, 49, 50, 54, 60, 64],\n",
    "        'Setor C': [23, 26, 26, 29, 34, 35, 36, 41, 52, 56],\n",
    "        'Setor D': [19, 20, 25, 27, 34, 39, 42, 44, 50, 65]}\n",
    "# Inicializamos a variável que irá somar todas as idades\n",
    "total_idades = 0\n",
    "# Percorremos os valores de chaves e elementos do dicionário\n",
    "for setor, idades in dados.items():\n",
    "  # Calculamos a média dividindo a soma das idades pela quantidade funcionários em cada setor\n",
    "  media_idade = sum(idades) / len(idades)\n",
    "  # Imprimimos\n",
    "  print(f'O {setor} tem a média de {media_idade}')\n",
    "  # Somamos as médias\n",
    "  total_idades += sum(idades)\n",
    "# A média total será dada pela total_idades dividida pela quantidade de pessoas totais (setores * funcionários por setor)\n",
    "media_total = total_idades / (len(idades) * len(dados))\n",
    "print(f'A média de idade geral é {media_total}')\n",
    "\n",
    "# Inicializamos a variável que irá contar todas pessoas com idade acima da média\n",
    "acima_media = 0\n",
    "# Percorremos novamente os valores de chaves e elementos do dicionário\n",
    "for setor, idades in dados.items():\n",
    "  # Lemos os elementos (idades) dentro de cada lista de idades no dicionário\n",
    "  for id in idades:\n",
    "    # Verificamos se o valor da idade é superior à média total\n",
    "    if id > media_total:\n",
    "      # Caso o valor da idade seja superior à média, incrementamos mais um no contador\n",
    "      acima_media += 1\n",
    "# Resultado\n",
    "print(f'{acima_media} pessoas estão acima da idade média geral')\n"
   ]
  }
 ],
 "metadata": {
  "application/vnd.databricks.v1+notebook": {
   "dashboards": [],
   "language": "python",
   "notebookMetadata": {
    "pythonIndentUnit": 4
   },
   "notebookName": "Hora+da+pratica",
   "widgets": {}
  },
  "colab": {
   "authorship_tag": "ABX9TyNAcHMa4C+Q6J7M1CkYm1Tn",
   "provenance": [],
   "toc_visible": true
  },
  "kernelspec": {
   "display_name": "Python 3",
   "name": "python3"
  },
  "language_info": {
   "name": "python"
  }
 },
 "nbformat": 4,
 "nbformat_minor": 0
}
