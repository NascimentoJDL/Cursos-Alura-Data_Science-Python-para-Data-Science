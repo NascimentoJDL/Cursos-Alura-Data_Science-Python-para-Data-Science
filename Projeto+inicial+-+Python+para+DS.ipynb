{
 "cells": [
  {
   "cell_type": "markdown",
   "metadata": {
    "application/vnd.databricks.v1+cell": {
     "cellMetadata": {},
     "inputWidgets": {},
     "nuid": "b03815c7-c993-42e2-821d-b5003c938962",
     "showTitle": false,
     "title": ""
    },
    "id": "AGc2Cf4cBwd7"
   },
   "source": [
    "# <font color=green> PYTHON PARA DATA SCIENCE\n",
    "---"
   ]
  },
  {
   "cell_type": "markdown",
   "metadata": {
    "application/vnd.databricks.v1+cell": {
     "cellMetadata": {},
     "inputWidgets": {},
     "nuid": "4ba850e9-fc7d-4ec5-824c-b142d858c0ed",
     "showTitle": false,
     "title": ""
    },
    "id": "fH2br9y9CYZ8"
   },
   "source": [
    "## <font color=green> 1. BIBLIOTECAS\n",
    "---"
   ]
  },
  {
   "cell_type": "markdown",
   "metadata": {
    "application/vnd.databricks.v1+cell": {
     "cellMetadata": {},
     "inputWidgets": {},
     "nuid": "934a8b96-5622-47d9-9a82-f20fd4188013",
     "showTitle": false,
     "title": ""
    },
    "id": "jjEKgfiuFzHz"
   },
   "source": [
    "## 1.1 Instalação e importação de bibliotecas\n",
    "\n",
    "Na linguagem Python utiliza-se bastante o conceito de bibliotecas como um conjunto de módulos e funções úteis para o usuário. Elas facilitam em reduzir o uso de códigos no projeto, mantendo apenas o necessário para a tarefa que desejamos realizar."
   ]
  },
  {
   "cell_type": "markdown",
   "metadata": {
    "application/vnd.databricks.v1+cell": {
     "cellMetadata": {},
     "inputWidgets": {},
     "nuid": "891fd27d-359b-4f13-993e-d14442c0c506",
     "showTitle": false,
     "title": ""
    },
    "id": "JjpazCgqDRfZ"
   },
   "source": [
    "### Instalando uma biblioteca"
   ]
  },
  {
   "cell_type": "markdown",
   "metadata": {
    "application/vnd.databricks.v1+cell": {
     "cellMetadata": {},
     "inputWidgets": {},
     "nuid": "7eecf726-419b-4015-887e-2604bd9b8b45",
     "showTitle": false,
     "title": ""
    },
    "id": "_qnuIo7oIQYx"
   },
   "source": [
    "Para instalar ou atualizar uma biblioteca no Python, podemos recorrer ao `pip` que é um gerenciador de bibliotecas no Python. "
   ]
  },
  {
   "cell_type": "code",
   "execution_count": 0,
   "metadata": {
    "application/vnd.databricks.v1+cell": {
     "cellMetadata": {
      "byteLimit": 2048000,
      "rowLimit": 10000
     },
     "inputWidgets": {},
     "nuid": "78ac97f5-3e96-4a48-9de8-27e1bb93cf22",
     "showTitle": false,
     "title": ""
    },
    "id": "rsxrF2fEDWcc"
   },
   "outputs": [
    {
     "output_type": "stream",
     "name": "stdout",
     "output_type": "stream",
     "text": [
      "Requirement already satisfied: matplotlib in /databricks/python3/lib/python3.9/site-packages (3.5.1)\r\nRequirement already satisfied: packaging>=20.0 in /databricks/python3/lib/python3.9/site-packages (from matplotlib) (21.3)\r\nRequirement already satisfied: python-dateutil>=2.7 in /databricks/python3/lib/python3.9/site-packages (from matplotlib) (2.8.2)\r\nRequirement already satisfied: fonttools>=4.22.0 in /databricks/python3/lib/python3.9/site-packages (from matplotlib) (4.25.0)\r\nRequirement already satisfied: kiwisolver>=1.0.1 in /databricks/python3/lib/python3.9/site-packages (from matplotlib) (1.3.2)\r\nRequirement already satisfied: numpy>=1.17 in /databricks/python3/lib/python3.9/site-packages (from matplotlib) (1.21.5)\r\nRequirement already satisfied: pyparsing>=2.2.1 in /databricks/python3/lib/python3.9/site-packages (from matplotlib) (3.0.4)\r\nRequirement already satisfied: cycler>=0.10 in /databricks/python3/lib/python3.9/site-packages (from matplotlib) (0.11.0)\r\nRequirement already satisfied: pillow>=6.2.0 in /databricks/python3/lib/python3.9/site-packages (from matplotlib) (9.0.1)\r\nRequirement already satisfied: six>=1.5 in /databricks/python3/lib/python3.9/site-packages (from python-dateutil>=2.7->matplotlib) (1.16.0)\r\n\u001B[33mWARNING: You are using pip version 21.2.4; however, version 23.2.1 is available.\r\nYou should consider upgrading via the '/local_disk0/.ephemeral_nfs/envs/pythonEnv-9e53b1a3-3943-4283-8838-913ce1fd2616/bin/python -m pip install --upgrade pip' command.\u001B[0m\r\n"
     ]
    }
   ],
   "source": [
    "# Instalando a biblioteca matplotlib pelo pip\n",
    "!pip install matplotlib"
   ]
  },
  {
   "cell_type": "code",
   "execution_count": 0,
   "metadata": {
    "application/vnd.databricks.v1+cell": {
     "cellMetadata": {
      "byteLimit": 2048000,
      "rowLimit": 10000
     },
     "inputWidgets": {},
     "nuid": "927a605e-93dc-45ee-b4cf-2f6699835adf",
     "showTitle": false,
     "title": ""
    },
    "id": "s7JtnISoNHjf"
   },
   "outputs": [
    {
     "output_type": "stream",
     "name": "stdout",
     "output_type": "stream",
     "text": [
      "Collecting matplotlib==3.6.2\r\n  Downloading matplotlib-3.6.2-cp39-cp39-manylinux_2_17_x86_64.manylinux2014_x86_64.whl (11.8 MB)\r\n\u001B[?25l\r\u001B[K     |                                | 10 kB 21.5 MB/s eta 0:00:01\r\u001B[K     |                                | 20 kB 7.9 MB/s eta 0:00:02\r\u001B[K     |                                | 30 kB 11.1 MB/s eta 0:00:02\r\u001B[K     |                                | 40 kB 7.0 MB/s eta 0:00:02\r\u001B[K     |▏                               | 51 kB 6.4 MB/s eta 0:00:02\r\u001B[K     |▏                               | 61 kB 7.6 MB/s eta 0:00:02\r\u001B[K     |▏                               | 71 kB 7.5 MB/s eta 0:00:02\r\u001B[K     |▏                               | 81 kB 6.4 MB/s eta 0:00:02\r\u001B[K     |▎                               | 92 kB 7.1 MB/s eta 0:00:02\r\u001B[K     |▎                               | 102 kB 6.9 MB/s eta 0:00:02\r\u001B[K     |▎                               | 112 kB 6.9 MB/s eta 0:00:02\r\u001B[K     |▎                               | 122 kB 6.9 MB/s eta 0:00:02\r\u001B[K     |▍                               | 133 kB 6.9 MB/s eta 0:00:02\r\u001B[K     |▍                               | 143 kB 6.9 MB/s eta 0:00:02\r\u001B[K     |▍                               | 153 kB 6.9 MB/s eta 0:00:02\r\u001B[K     |▍                               | 163 kB 6.9 MB/s eta 0:00:02\r\u001B[K     |▌                               | 174 kB 6.9 MB/s eta 0:00:02\r\u001B[K     |▌                               | 184 kB 6.9 MB/s eta 0:00:02\r\u001B[K     |▌                               | 194 kB 6.9 MB/s eta 0:00:02\r\u001B[K     |▌                               | 204 kB 6.9 MB/s eta 0:00:02\r\u001B[K     |▋                               | 215 kB 6.9 MB/s eta 0:00:02\r\u001B[K     |▋                               | 225 kB 6.9 MB/s eta 0:00:02\r\u001B[K     |▋                               | 235 kB 6.9 MB/s eta 0:00:02\r\u001B[K     |▋                               | 245 kB 6.9 MB/s eta 0:00:02\r\u001B[K     |▊                               | 256 kB 6.9 MB/s eta 0:00:02\r\u001B[K     |▊                               | 266 kB 6.9 MB/s eta 0:00:02\r\u001B[K     |▊                               | 276 kB 6.9 MB/s eta 0:00:02\r\u001B[K     |▊                               | 286 kB 6.9 MB/s eta 0:00:02\r\u001B[K     |▉                               | 296 kB 6.9 MB/s eta 0:00:02\r\u001B[K     |▉                               | 307 kB 6.9 MB/s eta 0:00:02\r\u001B[K     |▉                               | 317 kB 6.9 MB/s eta 0:00:02\r\u001B[K     |▉                               | 327 kB 6.9 MB/s eta 0:00:02\r\u001B[K     |█                               | 337 kB 6.9 MB/s eta 0:00:02\r\u001B[K     |█                               | 348 kB 6.9 MB/s eta 0:00:02\r\u001B[K     |█                               | 358 kB 6.9 MB/s eta 0:00:02\r\u001B[K     |█                               | 368 kB 6.9 MB/s eta 0:00:02\r\u001B[K     |█                               | 378 kB 6.9 MB/s eta 0:00:02\r\u001B[K     |█                               | 389 kB 6.9 MB/s eta 0:00:02\r\u001B[K     |█                               | 399 kB 6.9 MB/s eta 0:00:02\r\u001B[K     |█                               | 409 kB 6.9 MB/s eta 0:00:02\r\u001B[K     |█▏                              | 419 kB 6.9 MB/s eta 0:00:02\r\u001B[K     |█▏                              | 430 kB 6.9 MB/s eta 0:00:02\r\u001B[K     |█▏                              | 440 kB 6.9 MB/s eta 0:00:02\r\u001B[K     |█▏                              | 450 kB 6.9 MB/s eta 0:00:02\r\u001B[K     |█▎                              | 460 kB 6.9 MB/s eta 0:00:02\r\u001B[K     |█▎                              | 471 kB 6.9 MB/s eta 0:00:02\r\u001B[K     |█▎                              | 481 kB 6.9 MB/s eta 0:00:02\r\u001B[K     |█▎                              | 491 kB 6.9 MB/s eta 0:00:02\r\u001B[K     |█▍                              | 501 kB 6.9 MB/s eta 0:00:02\r\u001B[K     |█▍                              | 512 kB 6.9 MB/s eta 0:00:02\r\u001B[K     |█▍                              | 522 kB 6.9 MB/s eta 0:00:02\r\u001B[K     |█▍                              | 532 kB 6.9 MB/s eta 0:00:02\r\u001B[K     |█▌                              | 542 kB 6.9 MB/s eta 0:00:02\r\u001B[K     |█▌                              | 552 kB 6.9 MB/s eta 0:00:02\r\u001B[K     |█▌                              | 563 kB 6.9 MB/s eta 0:00:02\r\u001B[K     |█▌                              | 573 kB 6.9 MB/s eta 0:00:02\r\u001B[K     |█▋                              | 583 kB 6.9 MB/s eta 0:00:02\r\u001B[K     |█▋                              | 593 kB 6.9 MB/s eta 0:00:02\r\u001B[K     |█▋                              | 604 kB 6.9 MB/s eta 0:00:02\r\u001B[K     |█▋                              | 614 kB 6.9 MB/s eta 0:00:02\r\u001B[K     |█▊                              | 624 kB 6.9 MB/s eta 0:00:02\r\u001B[K     |█▊                              | 634 kB 6.9 MB/s eta 0:00:02\r\u001B[K     |█▊                              | 645 kB 6.9 MB/s eta 0:00:02\r\u001B[K     |█▊                              | 655 kB 6.9 MB/s eta 0:00:02\r\u001B[K     |█▉                              | 665 kB 6.9 MB/s eta 0:00:02\r\u001B[K     |█▉                              | 675 kB 6.9 MB/s eta 0:00:02\r\u001B[K     |█▉                              | 686 kB 6.9 MB/s eta 0:00:02\r\u001B[K     |█▉                              | 696 kB 6.9 MB/s eta 0:00:02\r\u001B[K     |██                              | 706 kB 6.9 MB/s eta 0:00:02\r\u001B[K     |██                              | 716 kB 6.9 MB/s eta 0:00:02\r\u001B[K     |██                              | 727 kB 6.9 MB/s eta 0:00:02\r\u001B[K     |██                              | 737 kB 6.9 MB/s eta 0:00:02\r\u001B[K     |██                              | 747 kB 6.9 MB/s eta 0:00:02\r\u001B[K     |██                              | 757 kB 6.9 MB/s eta 0:00:02\r\u001B[K     |██                              | 768 kB 6.9 MB/s eta 0:00:02\r\u001B[K     |██                              | 778 kB 6.9 MB/s eta 0:00:02\r\u001B[K     |██▏                             | 788 kB 6.9 MB/s eta 0:00:02\r\u001B[K     |██▏                             | 798 kB 6.9 MB/s eta 0:00:02\r\u001B[K     |██▏                             | 808 kB 6.9 MB/s eta 0:00:02\r\u001B[K     |██▏                             | 819 kB 6.9 MB/s eta 0:00:02\r\u001B[K     |██▎                             | 829 kB 6.9 MB/s eta 0:00:02\r\u001B[K     |██▎                             | 839 kB 6.9 MB/s eta 0:00:02\r\u001B[K     |██▎                             | 849 kB 6.9 MB/s eta 0:00:02\r\u001B[K     |██▎                             | 860 kB 6.9 MB/s eta 0:00:02\r\u001B[K     |██▍                             | 870 kB 6.9 MB/s eta 0:00:02\r\u001B[K     |██▍                             | 880 kB 6.9 MB/s eta 0:00:02\r\u001B[K     |██▍                             | 890 kB 6.9 MB/s eta 0:00:02\r\u001B[K     |██▍                             | 901 kB 6.9 MB/s eta 0:00:02\r\u001B[K     |██▌                             | 911 kB 6.9 MB/s eta 0:00:02\r\u001B[K     |██▌                             | 921 kB 6.9 MB/s eta 0:00:02\r\u001B[K     |██▌                             | 931 kB 6.9 MB/s eta 0:00:02\r\u001B[K     |██▌                             | 942 kB 6.9 MB/s eta 0:00:02\r\u001B[K     |██▋                             | 952 kB 6.9 MB/s eta 0:00:02\r\u001B[K     |██▋                             | 962 kB 6.9 MB/s eta 0:00:02\r\u001B[K     |██▋                             | 972 kB 6.9 MB/s eta 0:00:02\r\u001B[K     |██▋                             | 983 kB 6.9 MB/s eta 0:00:02\r\u001B[K     |██▊                             | 993 kB 6.9 MB/s eta 0:00:02\r\u001B[K     |██▊                             | 1.0 MB 6.9 MB/s eta 0:00:02\r\u001B[K     |██▊                             | 1.0 MB 6.9 MB/s eta 0:00:02\r\u001B[K     |██▊                             | 1.0 MB 6.9 MB/s eta 0:00:02\r\u001B[K     |██▉                             | 1.0 MB 6.9 MB/s eta 0:00:02\r\u001B[K     |██▉                             | 1.0 MB 6.9 MB/s eta 0:00:02\r\u001B[K     |██▉                             | 1.1 MB 6.9 MB/s eta 0:00:02\r\u001B[K     |██▉                             | 1.1 MB 6.9 MB/s eta 0:00:02\r\u001B[K     |███                             | 1.1 MB 6.9 MB/s eta 0:00:02\r\u001B[K     |███                             | 1.1 MB 6.9 MB/s eta 0:00:02\r\u001B[K     |███                             | 1.1 MB 6.9 MB/s eta 0:00:02\r\u001B[K     |███                             | 1.1 MB 6.9 MB/s eta 0:00:02\r\u001B[K     |███                             | 1.1 MB 6.9 MB/s eta 0:00:02\r\u001B[K     |███                             | 1.1 MB 6.9 MB/s eta 0:00:02\r\u001B[K     |███                             | 1.1 MB 6.9 MB/s eta 0:00:02\r\u001B[K     |███                             | 1.1 MB 6.9 MB/s eta 0:00:02\r\u001B[K     |███▏                            | 1.2 MB 6.9 MB/s eta 0:00:02\r\u001B[K     |███▏                            | 1.2 MB 6.9 MB/s eta 0:00:02\r\u001B[K     |███▏                            | 1.2 MB 6.9 MB/s eta 0:00:02\r\u001B[K     |███▏                            | 1.2 MB 6.9 MB/s eta 0:00:02\r\u001B[K     |███▎                            | 1.2 MB 6.9 MB/s eta 0:00:02\r\u001B[K     |███▎                            | 1.2 MB 6.9 MB/s eta 0:00:02\r\u001B[K     |███▎                            | 1.2 MB 6.9 MB/s eta 0:00:02\r\u001B[K     |███▎                            | 1.2 MB 6.9 MB/s eta 0:00:02\r\u001B[K     |███▍                            | 1.2 MB 6.9 MB/s eta 0:00:02\r\u001B[K     |███▍                            | 1.2 MB 6.9 MB/s eta 0:00:02\r\u001B[K     |███▍                            | 1.3 MB 6.9 MB/s eta 0:00:02\r\u001B[K     |███▍                            | 1.3 MB 6.9 MB/s eta 0:00:02\r\u001B[K     |███▌                            | 1.3 MB 6.9 MB/s eta 0:00:02\r\u001B[K     |███▌                            | 1.3 MB 6.9 MB/s eta 0:00:02\r\u001B[K     |███▌                            | 1.3 MB 6.9 MB/s eta 0:00:02\r\u001B[K     |███▌                            | 1.3 MB 6.9 MB/s eta 0:00:02\r\u001B[K     |███▋                            | 1.3 MB 6.9 MB/s eta 0:00:02\r\u001B[K     |███▋                            | 1.3 MB 6.9 MB/s eta 0:00:02\r\u001B[K     |███▋                            | 1.3 MB 6.9 MB/s eta 0:00:02\r\u001B[K     |███▋                            | 1.4 MB 6.9 MB/s eta 0:00:02\r\u001B[K     |███▊                            | 1.4 MB 6.9 MB/s eta 0:00:02\r\u001B[K     |███▊                            | 1.4 MB 6.9 MB/s eta 0:00:02\r\u001B[K     |███▊                            | 1.4 MB 6.9 MB/s eta 0:00:02\r\u001B[K     |███▊                            | 1.4 MB 6.9 MB/s eta 0:00:02\r\u001B[K     |███▉                            | 1.4 MB 6.9 MB/s eta 0:00:02\r\u001B[K     |███▉                            | 1.4 MB 6.9 MB/s eta 0:00:02\r\u001B[K     |███▉                            | 1.4 MB 6.9 MB/s eta 0:00:02\r\u001B[K     |███▉                            | 1.4 MB 6.9 MB/s eta 0:00:02\r\u001B[K     |████                            | 1.4 MB 6.9 MB/s eta 0:00:02\r\u001B[K     |████                            | 1.5 MB 6.9 MB/s eta 0:00:02\r\u001B[K     |████                            | 1.5 MB 6.9 MB/s eta 0:00:02\r\u001B[K     |████                            | 1.5 MB 6.9 MB/s eta 0:00:02\r\u001B[K     |████                            | 1.5 MB 6.9 MB/s eta 0:00:02\r\u001B[K     |████                            | 1.5 MB 6.9 MB/s eta 0:00:02\r\u001B[K     |████                            | 1.5 MB 6.9 MB/s eta 0:00:02\r\u001B[K     |████                            | 1.5 MB 6.9 MB/s eta 0:00:02\r\u001B[K     |████▏                           | 1.5 MB 6.9 MB/s eta 0:00:02\r\u001B[K     |████▏                           | 1.5 MB 6.9 MB/s eta 0:00:02\r\u001B[K     |████▏                           | 1.5 MB 6.9 MB/s eta 0:00:02\r\u001B[K     |████▏                           | 1.6 MB 6.9 MB/s eta 0:00:02\r\u001B[K     |████▎                           | 1.6 MB 6.9 MB/s eta 0:00:02\r\u001B[K     |████▎                           | 1.6 MB 6.9 MB/s eta 0:00:02\r\u001B[K     |████▎                           | 1.6 MB 6.9 MB/s eta 0:00:02\r\u001B[K     |████▎                           | 1.6 MB 6.9 MB/s eta 0:00:02\r\u001B[K     |████▍                           | 1.6 MB 6.9 MB/s eta 0:00:02\r\u001B[K     |████▍                           | 1.6 MB 6.9 MB/s eta 0:00:02\r\u001B[K     |████▍                           | 1.6 MB 6.9 MB/s eta 0:00:02\r\u001B[K     |████▍                           | 1.6 MB 6.9 MB/s eta 0:00:02\r\u001B[K     |████▌                           | 1.6 MB 6.9 MB/s eta 0:00:02\r\u001B[K     |████▌                           | 1.7 MB 6.9 MB/s eta 0:00:02\r\u001B[K     |████▌                           | 1.7 MB 6.9 MB/s eta 0:00:02\r\u001B[K     |████▌                           | 1.7 MB 6.9 MB/s eta 0:00:02\r\u001B[K     |████▋                           | 1.7 MB 6.9 MB/s eta 0:00:02\r\u001B[K     |████▋                           | 1.7 MB 6.9 MB/s eta 0:00:02\r\u001B[K     |████▋                           | 1.7 MB 6.9 MB/s eta 0:00:02\r\u001B[K     |████▋                           | 1.7 MB 6.9 MB/s eta 0:00:02\r\u001B[K     |████▊                           | 1.7 MB 6.9 MB/s eta 0:00:02\r\u001B[K     |████▊                           | 1.7 MB 6.9 MB/s eta 0:00:02\r\u001B[K     |████▊                           | 1.8 MB 6.9 MB/s eta 0:00:02\r\u001B[K     |████▊                           | 1.8 MB 6.9 MB/s eta 0:00:02\r\u001B[K     |████▉                           | 1.8 MB 6.9 MB/s eta 0:00:02\r\u001B[K     |████▉                           | 1.8 MB 6.9 MB/s eta 0:00:02\r\u001B[K     |████▉                           | 1.8 MB 6.9 MB/s eta 0:00:02\r\u001B[K     |████▉                           | 1.8 MB 6.9 MB/s eta 0:00:02\r\u001B[K     |█████                           | 1.8 MB 6.9 MB/s eta 0:00:02\r\u001B[K     |█████                           | 1.8 MB 6.9 MB/s eta 0:00:02\r\u001B[K     |█████                           | 1.8 MB 6.9 MB/s eta 0:00:02\r\u001B[K     |█████                           | 1.8 MB 6.9 MB/s eta 0:00:02\r\u001B[K     |█████                           | 1.9 MB 6.9 MB/s eta 0:00:02\r\u001B[K     |█████                           | 1.9 MB 6.9 MB/s eta 0:00:02\r\u001B[K     |█████                           | 1.9 MB 6.9 MB/s eta 0:00:02\r\u001B[K     |█████                           | 1.9 MB 6.9 MB/s eta 0:00:02\r\u001B[K     |█████▏                          | 1.9 MB 6.9 MB/s eta 0:00:02\r\u001B[K     |█████▏                          | 1.9 MB 6.9 MB/s eta 0:00:02\r\u001B[K     |█████▏                          | 1.9 MB 6.9 MB/s eta 0:00:02\r\u001B[K     |█████▏                          | 1.9 MB 6.9 MB/s eta 0:00:02\r\u001B[K     |█████▎                          | 1.9 MB 6.9 MB/s eta 0:00:02\r\u001B[K     |█████▎                          | 1.9 MB 6.9 MB/s eta 0:00:02\r\u001B[K     |█████▎                          | 2.0 MB 6.9 MB/s eta 0:00:02\r\u001B[K     |█████▎                          | 2.0 MB 6.9 MB/s eta 0:00:02\r\u001B[K     |█████▍                          | 2.0 MB 6.9 MB/s eta 0:00:02\r\u001B[K     |█████▍                          | 2.0 MB 6.9 MB/s eta 0:00:02\r\u001B[K     |█████▍                          | 2.0 MB 6.9 MB/s eta 0:00:02\r\u001B[K     |█████▍                          | 2.0 MB 6.9 MB/s eta 0:00:02\r\u001B[K     |█████▌                          | 2.0 MB 6.9 MB/s eta 0:00:02\r\u001B[K     |█████▌                          | 2.0 MB 6.9 MB/s eta 0:00:02\r\u001B[K     |█████▌                          | 2.0 MB 6.9 MB/s eta 0:00:02\r\u001B[K     |█████▌                          | 2.0 MB 6.9 MB/s eta 0:00:02\r\u001B[K     |█████▋                          | 2.1 MB 6.9 MB/s eta 0:00:02\r\u001B[K     |█████▋                          | 2.1 MB 6.9 MB/s eta 0:00:02\r\u001B[K     |█████▋                          | 2.1 MB 6.9 MB/s eta 0:00:02\r\u001B[K     |█████▋                          | 2.1 MB 6.9 MB/s eta 0:00:02\r\u001B[K     |█████▊                          | 2.1 MB 6.9 MB/s eta 0:00:02\r\u001B[K     |█████▊                          | 2.1 MB 6.9 MB/s eta 0:00:02\r\u001B[K     |█████▊                          | 2.1 MB 6.9 MB/s eta 0:00:02\r\u001B[K     |█████▊                          | 2.1 MB 6.9 MB/s eta 0:00:02\r\u001B[K     |█████▉                          | 2.1 MB 6.9 MB/s eta 0:00:02\r\u001B[K     |█████▉                          | 2.2 MB 6.9 MB/s eta 0:00:02\r\u001B[K     |█████▉                          | 2.2 MB 6.9 MB/s eta 0:00:02\r\u001B[K     |█████▉                          | 2.2 MB 6.9 MB/s eta 0:00:02\r\u001B[K     |██████                          | 2.2 MB 6.9 MB/s eta 0:00:02\r\u001B[K     |██████                          | 2.2 MB 6.9 MB/s eta 0:00:02\r\u001B[K     |██████                          | 2.2 MB 6.9 MB/s eta 0:00:02\r\u001B[K     |██████                          | 2.2 MB 6.9 MB/s eta 0:00:02\r\u001B[K     |██████                          | 2.2 MB 6.9 MB/s eta 0:00:02\r\u001B[K     |██████                          | 2.2 MB 6.9 MB/s eta 0:00:02\r\u001B[K     |██████                          | 2.2 MB 6.9 MB/s eta 0:00:02\r\u001B[K     |██████                          | 2.3 MB 6.9 MB/s eta 0:00:02\r\u001B[K     |██████▏                         | 2.3 MB 6.9 MB/s eta 0:00:02\r\u001B[K     |██████▏                         | 2.3 MB 6.9 MB/s eta 0:00:02\r\u001B[K     |██████▏                         | 2.3 MB 6.9 MB/s eta 0:00:02\r\u001B[K     |██████▏                         | 2.3 MB 6.9 MB/s eta 0:00:02\r\u001B[K     |██████▎                         | 2.3 MB 6.9 MB/s eta 0:00:02\r\u001B[K     |██████▎                         | 2.3 MB 6.9 MB/s eta 0:00:02\r\u001B[K     |██████▎                         | 2.3 MB 6.9 MB/s eta 0:00:02\r\u001B[K     |██████▎                         | 2.3 MB 6.9 MB/s eta 0:00:02\r\u001B[K     |██████▍                         | 2.3 MB 6.9 MB/s eta 0:00:02\r\u001B[K     |██████▍                         | 2.4 MB 6.9 MB/s eta 0:00:02\r\u001B[K     |██████▍                         | 2.4 MB 6.9 MB/s eta 0:00:02\r\u001B[K     |██████▍                         | 2.4 MB 6.9 MB/s eta 0:00:02\r\u001B[K     |██████▌                         | 2.4 MB 6.9 MB/s eta 0:00:02\r\u001B[K     |██████▌                         | 2.4 MB 6.9 MB/s eta 0:00:02\r\u001B[K     |██████▌                         | 2.4 MB 6.9 MB/s eta 0:00:02\r\u001B[K     |██████▌                         | 2.4 MB 6.9 MB/s eta 0:00:02\r\u001B[K     |██████▋                         | 2.4 MB 6.9 MB/s eta 0:00:02\r\u001B[K     |██████▋                         | 2.4 MB 6.9 MB/s eta 0:00:02\r\u001B[K     |██████▋                         | 2.4 MB 6.9 MB/s eta 0:00:02\r\u001B[K     |██████▋                         | 2.5 MB 6.9 MB/s eta 0:00:02\r\u001B[K     |██████▊                         | 2.5 MB 6.9 MB/s eta 0:00:02\r\u001B[K     |██████▊                         | 2.5 MB 6.9 MB/s eta 0:00:02\r\u001B[K     |██████▊                         | 2.5 MB 6.9 MB/s eta 0:00:02\r\u001B[K     |██████▊                         | 2.5 MB 6.9 MB/s eta 0:00:02\r\u001B[K     |██████▉                         | 2.5 MB 6.9 MB/s eta 0:00:02\r\u001B[K     |██████▉                         | 2.5 MB 6.9 MB/s eta 0:00:02\r\u001B[K     |██████▉                         | 2.5 MB 6.9 MB/s eta 0:00:02\r\u001B[K     |██████▉                         | 2.5 MB 6.9 MB/s eta 0:00:02\r\u001B[K     |███████                         | 2.5 MB 6.9 MB/s eta 0:00:02\r\u001B[K     |███████                         | 2.6 MB 6.9 MB/s eta 0:00:02\r\u001B[K     |███████                         | 2.6 MB 6.9 MB/s eta 0:00:02\r\u001B[K     |███████                         | 2.6 MB 6.9 MB/s eta 0:00:02\r\u001B[K     |███████                         | 2.6 MB 6.9 MB/s eta 0:00:02\r\u001B[K     |███████                         | 2.6 MB 6.9 MB/s eta 0:00:02\r\u001B[K     |███████                         | 2.6 MB 6.9 MB/s eta 0:00:02\r\u001B[K     |███████                         | 2.6 MB 6.9 MB/s eta 0:00:02\r\u001B[K     |███████▏                        | 2.6 MB 6.9 MB/s eta 0:00:02\r\u001B[K     |███████▏                        | 2.6 MB 6.9 MB/s eta 0:00:02\r\u001B[K     |███████▏                        | 2.7 MB 6.9 MB/s eta 0:00:02\r\u001B[K     |███████▏                        | 2.7 MB 6.9 MB/s eta 0:00:02\r\u001B[K     |███████▎                        | 2.7 MB 6.9 MB/s eta 0:00:02\r\u001B[K     |███████▎                        | 2.7 MB 6.9 MB/s eta 0:00:02\r\u001B[K     |███████▎                        | 2.7 MB 6.9 MB/s eta 0:00:02\r\u001B[K     |███████▎                        | 2.7 MB 6.9 MB/s eta 0:00:02\r\u001B[K     |███████▍                        | 2.7 MB 6.9 MB/s eta 0:00:02\r\u001B[K     |███████▍                        | 2.7 MB 6.9 MB/s eta 0:00:02\r\u001B[K     |███████▍                        | 2.7 MB 6.9 MB/s eta 0:00:02\r\u001B[K     |███████▍                        | 2.7 MB 6.9 MB/s eta 0:00:02\r\u001B[K     |███████▌                        | 2.8 MB 6.9 MB/s eta 0:00:02\r\u001B[K     |███████▌                        | 2.8 MB 6.9 MB/s eta 0:00:02\r\u001B[K     |███████▌                        | 2.8 MB 6.9 MB/s eta 0:00:02\r\u001B[K     |███████▌                        | 2.8 MB 6.9 MB/s eta 0:00:02\r\u001B[K     |███████▋                        | 2.8 MB 6.9 MB/s eta 0:00:02\r\u001B[K     |███████▋                        | 2.8 MB 6.9 MB/s eta 0:00:02\r\u001B[K     |███████▋                        | 2.8 MB 6.9 MB/s eta 0:00:02\r\u001B[K     |███████▋                        | 2.8 MB 6.9 MB/s eta 0:00:02\r\u001B[K     |███████▊                        | 2.8 MB 6.9 MB/s eta 0:00:02\r\u001B[K     |███████▊                        | 2.8 MB 6.9 MB/s eta 0:00:02\r\u001B[K     |███████▊                        | 2.9 MB 6.9 MB/s eta 0:00:02\r\u001B[K     |███████▊                        | 2.9 MB 6.9 MB/s eta 0:00:02\r\u001B[K     |███████▉                        | 2.9 MB 6.9 MB/s eta 0:00:02\r\u001B[K     |███████▉                        | 2.9 MB 6.9 MB/s eta 0:00:02\r\u001B[K     |███████▉                        | 2.9 MB 6.9 MB/s eta 0:00:02\r\u001B[K     |███████▉                        | 2.9 MB 6.9 MB/s eta 0:00:02\r\u001B[K     |███████▉                        | 2.9 MB 6.9 MB/s eta 0:00:02\r\u001B[K     |████████                        | 2.9 MB 6.9 MB/s eta 0:00:02\r\u001B[K     |████████                        | 2.9 MB 6.9 MB/s eta 0:00:02\r\u001B[K     |████████                        | 2.9 MB 6.9 MB/s eta 0:00:02\r\u001B[K     |████████                        | 3.0 MB 6.9 MB/s eta 0:00:02\r\u001B[K     |████████                        | 3.0 MB 6.9 MB/s eta 0:00:02\r\u001B[K     |████████                        | 3.0 MB 6.9 MB/s eta 0:00:02\r\u001B[K     |████████                        | 3.0 MB 6.9 MB/s eta 0:00:02\r\u001B[K     |████████                        | 3.0 MB 6.9 MB/s eta 0:00:02\r\u001B[K     |████████▏                       | 3.0 MB 6.9 MB/s eta 0:00:02\r\u001B[K     |████████▏                       | 3.0 MB 6.9 MB/s eta 0:00:02\r\u001B[K     |████████▏                       | 3.0 MB 6.9 MB/s eta 0:00:02\r\u001B[K     |████████▏                       | 3.0 MB 6.9 MB/s eta 0:00:02\r\u001B[K     |████████▎                       | 3.1 MB 6.9 MB/s eta 0:00:02\r\u001B[K     |████████▎                       | 3.1 MB 6.9 MB/s eta 0:00:02\r\u001B[K     |████████▎                       | 3.1 MB 6.9 MB/s eta 0:00:02\r\u001B[K     |████████▎                       | 3.1 MB 6.9 MB/s eta 0:00:02\r\u001B[K     |████████▍                       | 3.1 MB 6.9 MB/s eta 0:00:02\r\u001B[K     |████████▍                       | 3.1 MB 6.9 MB/s eta 0:00:02\r\u001B[K     |████████▍                       | 3.1 MB 6.9 MB/s eta 0:00:02\r\u001B[K     |████████▍                       | 3.1 MB 6.9 MB/s eta 0:00:02\r\u001B[K     |████████▌                       | 3.1 MB 6.9 MB/s eta 0:00:02\r\u001B[K     |████████▌                       | 3.1 MB 6.9 MB/s eta 0:00:02\r\u001B[K     |████████▌                       | 3.2 MB 6.9 MB/s eta 0:00:02\r\u001B[K     |████████▌                       | 3.2 MB 6.9 MB/s eta 0:00:02\r\u001B[K     |████████▋                       | 3.2 MB 6.9 MB/s eta 0:00:02\r\u001B[K     |████████▋                       | 3.2 MB 6.9 MB/s eta 0:00:02\r\u001B[K     |████████▋                       | 3.2 MB 6.9 MB/s eta 0:00:02\r\u001B[K     |████████▋                       | 3.2 MB 6.9 MB/s eta 0:00:02\r\u001B[K     |████████▊                       | 3.2 MB 6.9 MB/s eta 0:00:02\r\u001B[K     |████████▊                       | 3.2 MB 6.9 MB/s eta 0:00:02\r\u001B[K     |████████▊                       | 3.2 MB 6.9 MB/s eta 0:00:02\r\u001B[K     |████████▊                       | 3.2 MB 6.9 MB/s eta 0:00:02\r\u001B[K     |████████▉                       | 3.3 MB 6.9 MB/s eta 0:00:02\r\u001B[K     |████████▉                       | 3.3 MB 6.9 MB/s eta 0:00:02\r\u001B[K     |████████▉                       | 3.3 MB 6.9 MB/s eta 0:00:02\r\u001B[K     |████████▉                       | 3.3 MB 6.9 MB/s eta 0:00:02\r\u001B[K     |█████████                       | 3.3 MB 6.9 MB/s eta 0:00:02\r\u001B[K     |█████████                       | 3.3 MB 6.9 MB/s eta 0:00:02\r\u001B[K     |█████████                       | 3.3 MB 6.9 MB/s eta 0:00:02\r\u001B[K     |█████████                       | 3.3 MB 6.9 MB/s eta 0:00:02\r\u001B[K     |█████████                       | 3.3 MB 6.9 MB/s eta 0:00:02\r\u001B[K     |█████████                       | 3.3 MB 6.9 MB/s eta 0:00:02\r\u001B[K     |█████████                       | 3.4 MB 6.9 MB/s eta 0:00:02\r\u001B[K     |█████████                       | 3.4 MB 6.9 MB/s eta 0:00:02\r\u001B[K     |█████████▏                      | 3.4 MB 6.9 MB/s eta 0:00:02\r\u001B[K     |█████████▏                      | 3.4 MB 6.9 MB/s eta 0:00:02\r\u001B[K     |█████████▏                      | 3.4 MB 6.9 MB/s eta 0:00:02\r\u001B[K     |█████████▏                      | 3.4 MB 6.9 MB/s eta 0:00:02\r\u001B[K     |█████████▎                      | 3.4 MB 6.9 MB/s eta 0:00:02\r\u001B[K     |█████████▎                      | 3.4 MB 6.9 MB/s eta 0:00:02\r\u001B[K     |█████████▎                      | 3.4 MB 6.9 MB/s eta 0:00:02\r\u001B[K     |█████████▎                      | 3.5 MB 6.9 MB/s eta 0:00:02\r\u001B[K     |█████████▍                      | 3.5 MB 6.9 MB/s eta 0:00:02\r\u001B[K     |█████████▍                      | 3.5 MB 6.9 MB/s eta 0:00:02\r\u001B[K     |█████████▍                      | 3.5 MB 6.9 MB/s eta 0:00:02\r\u001B[K     |█████████▍                      | 3.5 MB 6.9 MB/s eta 0:00:02\r\u001B[K     |█████████▌                      | 3.5 MB 6.9 MB/s eta 0:00:02\r\u001B[K     |█████████▌                      | 3.5 MB 6.9 MB/s eta 0:00:02\r\u001B[K     |█████████▌                      | 3.5 MB 6.9 MB/s eta 0:00:02\r\u001B[K     |█████████▌                      | 3.5 MB 6.9 MB/s eta 0:00:02\r\u001B[K     |█████████▋                      | 3.5 MB 6.9 MB/s eta 0:00:02\r\u001B[K     |█████████▋                      | 3.6 MB 6.9 MB/s eta 0:00:02\r\u001B[K     |█████████▋                      | 3.6 MB 6.9 MB/s eta 0:00:02\r\u001B[K     |█████████▋                      | 3.6 MB 6.9 MB/s eta 0:00:02\r\u001B[K     |█████████▊                      | 3.6 MB 6.9 MB/s eta 0:00:02\r\u001B[K     |█████████▊  \n\n*** WARNING: max output size exceeded, skipping output. ***\n\n8.9 MB 6.9 MB/s eta 0:00:01\r\u001B[K     |████████████████████████        | 8.9 MB 6.9 MB/s eta 0:00:01\r\u001B[K     |████████████████████████        | 8.9 MB 6.9 MB/s eta 0:00:01\r\u001B[K     |████████████████████████        | 8.9 MB 6.9 MB/s eta 0:00:01\r\u001B[K     |████████████████████████        | 8.9 MB 6.9 MB/s eta 0:00:01\r\u001B[K     |████████████████████████▏       | 8.9 MB 6.9 MB/s eta 0:00:01\r\u001B[K     |████████████████████████▏       | 8.9 MB 6.9 MB/s eta 0:00:01\r\u001B[K     |████████████████████████▏       | 8.9 MB 6.9 MB/s eta 0:00:01\r\u001B[K     |████████████████████████▏       | 9.0 MB 6.9 MB/s eta 0:00:01\r\u001B[K     |████████████████████████▎       | 9.0 MB 6.9 MB/s eta 0:00:01\r\u001B[K     |████████████████████████▎       | 9.0 MB 6.9 MB/s eta 0:00:01\r\u001B[K     |████████████████████████▎       | 9.0 MB 6.9 MB/s eta 0:00:01\r\u001B[K     |████████████████████████▎       | 9.0 MB 6.9 MB/s eta 0:00:01\r\u001B[K     |████████████████████████▍       | 9.0 MB 6.9 MB/s eta 0:00:01\r\u001B[K     |████████████████████████▍       | 9.0 MB 6.9 MB/s eta 0:00:01\r\u001B[K     |████████████████████████▍       | 9.0 MB 6.9 MB/s eta 0:00:01\r\u001B[K     |████████████████████████▍       | 9.0 MB 6.9 MB/s eta 0:00:01\r\u001B[K     |████████████████████████▌       | 9.1 MB 6.9 MB/s eta 0:00:01\r\u001B[K     |████████████████████████▌       | 9.1 MB 6.9 MB/s eta 0:00:01\r\u001B[K     |████████████████████████▌       | 9.1 MB 6.9 MB/s eta 0:00:01\r\u001B[K     |████████████████████████▌       | 9.1 MB 6.9 MB/s eta 0:00:01\r\u001B[K     |████████████████████████▋       | 9.1 MB 6.9 MB/s eta 0:00:01\r\u001B[K     |████████████████████████▋       | 9.1 MB 6.9 MB/s eta 0:00:01\r\u001B[K     |████████████████████████▋       | 9.1 MB 6.9 MB/s eta 0:00:01\r\u001B[K     |████████████████████████▋       | 9.1 MB 6.9 MB/s eta 0:00:01\r\u001B[K     |████████████████████████▊       | 9.1 MB 6.9 MB/s eta 0:00:01\r\u001B[K     |████████████████████████▊       | 9.1 MB 6.9 MB/s eta 0:00:01\r\u001B[K     |████████████████████████▊       | 9.2 MB 6.9 MB/s eta 0:00:01\r\u001B[K     |████████████████████████▊       | 9.2 MB 6.9 MB/s eta 0:00:01\r\u001B[K     |████████████████████████▉       | 9.2 MB 6.9 MB/s eta 0:00:01\r\u001B[K     |████████████████████████▉       | 9.2 MB 6.9 MB/s eta 0:00:01\r\u001B[K     |████████████████████████▉       | 9.2 MB 6.9 MB/s eta 0:00:01\r\u001B[K     |████████████████████████▉       | 9.2 MB 6.9 MB/s eta 0:00:01\r\u001B[K     |█████████████████████████       | 9.2 MB 6.9 MB/s eta 0:00:01\r\u001B[K     |█████████████████████████       | 9.2 MB 6.9 MB/s eta 0:00:01\r\u001B[K     |█████████████████████████       | 9.2 MB 6.9 MB/s eta 0:00:01\r\u001B[K     |█████████████████████████       | 9.2 MB 6.9 MB/s eta 0:00:01\r\u001B[K     |█████████████████████████       | 9.3 MB 6.9 MB/s eta 0:00:01\r\u001B[K     |█████████████████████████       | 9.3 MB 6.9 MB/s eta 0:00:01\r\u001B[K     |█████████████████████████       | 9.3 MB 6.9 MB/s eta 0:00:01\r\u001B[K     |█████████████████████████       | 9.3 MB 6.9 MB/s eta 0:00:01\r\u001B[K     |█████████████████████████▏      | 9.3 MB 6.9 MB/s eta 0:00:01\r\u001B[K     |█████████████████████████▏      | 9.3 MB 6.9 MB/s eta 0:00:01\r\u001B[K     |█████████████████████████▏      | 9.3 MB 6.9 MB/s eta 0:00:01\r\u001B[K     |█████████████████████████▏      | 9.3 MB 6.9 MB/s eta 0:00:01\r\u001B[K     |█████████████████████████▎      | 9.3 MB 6.9 MB/s eta 0:00:01\r\u001B[K     |█████████████████████████▎      | 9.3 MB 6.9 MB/s eta 0:00:01\r\u001B[K     |█████████████████████████▎      | 9.4 MB 6.9 MB/s eta 0:00:01\r\u001B[K     |█████████████████████████▎      | 9.4 MB 6.9 MB/s eta 0:00:01\r\u001B[K     |█████████████████████████▍      | 9.4 MB 6.9 MB/s eta 0:00:01\r\u001B[K     |█████████████████████████▍      | 9.4 MB 6.9 MB/s eta 0:00:01\r\u001B[K     |█████████████████████████▍      | 9.4 MB 6.9 MB/s eta 0:00:01\r\u001B[K     |█████████████████████████▍      | 9.4 MB 6.9 MB/s eta 0:00:01\r\u001B[K     |█████████████████████████▌      | 9.4 MB 6.9 MB/s eta 0:00:01\r\u001B[K     |█████████████████████████▌      | 9.4 MB 6.9 MB/s eta 0:00:01\r\u001B[K     |█████████████████████████▌      | 9.4 MB 6.9 MB/s eta 0:00:01\r\u001B[K     |█████████████████████████▌      | 9.5 MB 6.9 MB/s eta 0:00:01\r\u001B[K     |█████████████████████████▋      | 9.5 MB 6.9 MB/s eta 0:00:01\r\u001B[K     |█████████████████████████▋      | 9.5 MB 6.9 MB/s eta 0:00:01\r\u001B[K     |█████████████████████████▋      | 9.5 MB 6.9 MB/s eta 0:00:01\r\u001B[K     |█████████████████████████▋      | 9.5 MB 6.9 MB/s eta 0:00:01\r\u001B[K     |█████████████████████████▊      | 9.5 MB 6.9 MB/s eta 0:00:01\r\u001B[K     |█████████████████████████▊      | 9.5 MB 6.9 MB/s eta 0:00:01\r\u001B[K     |█████████████████████████▊      | 9.5 MB 6.9 MB/s eta 0:00:01\r\u001B[K     |█████████████████████████▊      | 9.5 MB 6.9 MB/s eta 0:00:01\r\u001B[K     |█████████████████████████▉      | 9.5 MB 6.9 MB/s eta 0:00:01\r\u001B[K     |█████████████████████████▉      | 9.6 MB 6.9 MB/s eta 0:00:01\r\u001B[K     |█████████████████████████▉      | 9.6 MB 6.9 MB/s eta 0:00:01\r\u001B[K     |█████████████████████████▉      | 9.6 MB 6.9 MB/s eta 0:00:01\r\u001B[K     |██████████████████████████      | 9.6 MB 6.9 MB/s eta 0:00:01\r\u001B[K     |██████████████████████████      | 9.6 MB 6.9 MB/s eta 0:00:01\r\u001B[K     |██████████████████████████      | 9.6 MB 6.9 MB/s eta 0:00:01\r\u001B[K     |██████████████████████████      | 9.6 MB 6.9 MB/s eta 0:00:01\r\u001B[K     |██████████████████████████      | 9.6 MB 6.9 MB/s eta 0:00:01\r\u001B[K     |██████████████████████████      | 9.6 MB 6.9 MB/s eta 0:00:01\r\u001B[K     |██████████████████████████      | 9.6 MB 6.9 MB/s eta 0:00:01\r\u001B[K     |██████████████████████████      | 9.7 MB 6.9 MB/s eta 0:00:01\r\u001B[K     |██████████████████████████▏     | 9.7 MB 6.9 MB/s eta 0:00:01\r\u001B[K     |██████████████████████████▏     | 9.7 MB 6.9 MB/s eta 0:00:01\r\u001B[K     |██████████████████████████▏     | 9.7 MB 6.9 MB/s eta 0:00:01\r\u001B[K     |██████████████████████████▏     | 9.7 MB 6.9 MB/s eta 0:00:01\r\u001B[K     |██████████████████████████▎     | 9.7 MB 6.9 MB/s eta 0:00:01\r\u001B[K     |██████████████████████████▎     | 9.7 MB 6.9 MB/s eta 0:00:01\r\u001B[K     |██████████████████████████▎     | 9.7 MB 6.9 MB/s eta 0:00:01\r\u001B[K     |██████████████████████████▎     | 9.7 MB 6.9 MB/s eta 0:00:01\r\u001B[K     |██████████████████████████▍     | 9.7 MB 6.9 MB/s eta 0:00:01\r\u001B[K     |██████████████████████████▍     | 9.8 MB 6.9 MB/s eta 0:00:01\r\u001B[K     |██████████████████████████▍     | 9.8 MB 6.9 MB/s eta 0:00:01\r\u001B[K     |██████████████████████████▍     | 9.8 MB 6.9 MB/s eta 0:00:01\r\u001B[K     |██████████████████████████▌     | 9.8 MB 6.9 MB/s eta 0:00:01\r\u001B[K     |██████████████████████████▌     | 9.8 MB 6.9 MB/s eta 0:00:01\r\u001B[K     |██████████████████████████▌     | 9.8 MB 6.9 MB/s eta 0:00:01\r\u001B[K     |██████████████████████████▌     | 9.8 MB 6.9 MB/s eta 0:00:01\r\u001B[K     |██████████████████████████▋     | 9.8 MB 6.9 MB/s eta 0:00:01\r\u001B[K     |██████████████████████████▋     | 9.8 MB 6.9 MB/s eta 0:00:01\r\u001B[K     |██████████████████████████▋     | 9.9 MB 6.9 MB/s eta 0:00:01\r\u001B[K     |██████████████████████████▋     | 9.9 MB 6.9 MB/s eta 0:00:01\r\u001B[K     |██████████████████████████▊     | 9.9 MB 6.9 MB/s eta 0:00:01\r\u001B[K     |██████████████████████████▊     | 9.9 MB 6.9 MB/s eta 0:00:01\r\u001B[K     |██████████████████████████▊     | 9.9 MB 6.9 MB/s eta 0:00:01\r\u001B[K     |██████████████████████████▊     | 9.9 MB 6.9 MB/s eta 0:00:01\r\u001B[K     |██████████████████████████▉     | 9.9 MB 6.9 MB/s eta 0:00:01\r\u001B[K     |██████████████████████████▉     | 9.9 MB 6.9 MB/s eta 0:00:01\r\u001B[K     |██████████████████████████▉     | 9.9 MB 6.9 MB/s eta 0:00:01\r\u001B[K     |██████████████████████████▉     | 9.9 MB 6.9 MB/s eta 0:00:01\r\u001B[K     |███████████████████████████     | 10.0 MB 6.9 MB/s eta 0:00:01\r\u001B[K     |███████████████████████████     | 10.0 MB 6.9 MB/s eta 0:00:01\r\u001B[K     |███████████████████████████     | 10.0 MB 6.9 MB/s eta 0:00:01\r\u001B[K     |███████████████████████████     | 10.0 MB 6.9 MB/s eta 0:00:01\r\u001B[K     |███████████████████████████     | 10.0 MB 6.9 MB/s eta 0:00:01\r\u001B[K     |███████████████████████████     | 10.0 MB 6.9 MB/s eta 0:00:01\r\u001B[K     |███████████████████████████     | 10.0 MB 6.9 MB/s eta 0:00:01\r\u001B[K     |███████████████████████████     | 10.0 MB 6.9 MB/s eta 0:00:01\r\u001B[K     |███████████████████████████▏    | 10.0 MB 6.9 MB/s eta 0:00:01\r\u001B[K     |███████████████████████████▏    | 10.0 MB 6.9 MB/s eta 0:00:01\r\u001B[K     |███████████████████████████▏    | 10.1 MB 6.9 MB/s eta 0:00:01\r\u001B[K     |███████████████████████████▏    | 10.1 MB 6.9 MB/s eta 0:00:01\r\u001B[K     |███████████████████████████▎    | 10.1 MB 6.9 MB/s eta 0:00:01\r\u001B[K     |███████████████████████████▎    | 10.1 MB 6.9 MB/s eta 0:00:01\r\u001B[K     |███████████████████████████▎    | 10.1 MB 6.9 MB/s eta 0:00:01\r\u001B[K     |███████████████████████████▎    | 10.1 MB 6.9 MB/s eta 0:00:01\r\u001B[K     |███████████████████████████▍    | 10.1 MB 6.9 MB/s eta 0:00:01\r\u001B[K     |███████████████████████████▍    | 10.1 MB 6.9 MB/s eta 0:00:01\r\u001B[K     |███████████████████████████▍    | 10.1 MB 6.9 MB/s eta 0:00:01\r\u001B[K     |███████████████████████████▍    | 10.1 MB 6.9 MB/s eta 0:00:01\r\u001B[K     |███████████████████████████▌    | 10.2 MB 6.9 MB/s eta 0:00:01\r\u001B[K     |███████████████████████████▌    | 10.2 MB 6.9 MB/s eta 0:00:01\r\u001B[K     |███████████████████████████▌    | 10.2 MB 6.9 MB/s eta 0:00:01\r\u001B[K     |███████████████████████████▌    | 10.2 MB 6.9 MB/s eta 0:00:01\r\u001B[K     |███████████████████████████▋    | 10.2 MB 6.9 MB/s eta 0:00:01\r\u001B[K     |███████████████████████████▋    | 10.2 MB 6.9 MB/s eta 0:00:01\r\u001B[K     |███████████████████████████▋    | 10.2 MB 6.9 MB/s eta 0:00:01\r\u001B[K     |███████████████████████████▋    | 10.2 MB 6.9 MB/s eta 0:00:01\r\u001B[K     |███████████████████████████▊    | 10.2 MB 6.9 MB/s eta 0:00:01\r\u001B[K     |███████████████████████████▊    | 10.3 MB 6.9 MB/s eta 0:00:01\r\u001B[K     |███████████████████████████▊    | 10.3 MB 6.9 MB/s eta 0:00:01\r\u001B[K     |███████████████████████████▊    | 10.3 MB 6.9 MB/s eta 0:00:01\r\u001B[K     |███████████████████████████▉    | 10.3 MB 6.9 MB/s eta 0:00:01\r\u001B[K     |███████████████████████████▉    | 10.3 MB 6.9 MB/s eta 0:00:01\r\u001B[K     |███████████████████████████▉    | 10.3 MB 6.9 MB/s eta 0:00:01\r\u001B[K     |███████████████████████████▉    | 10.3 MB 6.9 MB/s eta 0:00:01\r\u001B[K     |████████████████████████████    | 10.3 MB 6.9 MB/s eta 0:00:01\r\u001B[K     |████████████████████████████    | 10.3 MB 6.9 MB/s eta 0:00:01\r\u001B[K     |████████████████████████████    | 10.3 MB 6.9 MB/s eta 0:00:01\r\u001B[K     |████████████████████████████    | 10.4 MB 6.9 MB/s eta 0:00:01\r\u001B[K     |████████████████████████████    | 10.4 MB 6.9 MB/s eta 0:00:01\r\u001B[K     |████████████████████████████    | 10.4 MB 6.9 MB/s eta 0:00:01\r\u001B[K     |████████████████████████████    | 10.4 MB 6.9 MB/s eta 0:00:01\r\u001B[K     |████████████████████████████    | 10.4 MB 6.9 MB/s eta 0:00:01\r\u001B[K     |████████████████████████████▏   | 10.4 MB 6.9 MB/s eta 0:00:01\r\u001B[K     |████████████████████████████▏   | 10.4 MB 6.9 MB/s eta 0:00:01\r\u001B[K     |████████████████████████████▏   | 10.4 MB 6.9 MB/s eta 0:00:01\r\u001B[K     |████████████████████████████▏   | 10.4 MB 6.9 MB/s eta 0:00:01\r\u001B[K     |████████████████████████████▎   | 10.4 MB 6.9 MB/s eta 0:00:01\r\u001B[K     |████████████████████████████▎   | 10.5 MB 6.9 MB/s eta 0:00:01\r\u001B[K     |████████████████████████████▎   | 10.5 MB 6.9 MB/s eta 0:00:01\r\u001B[K     |████████████████████████████▎   | 10.5 MB 6.9 MB/s eta 0:00:01\r\u001B[K     |████████████████████████████▍   | 10.5 MB 6.9 MB/s eta 0:00:01\r\u001B[K     |████████████████████████████▍   | 10.5 MB 6.9 MB/s eta 0:00:01\r\u001B[K     |████████████████████████████▍   | 10.5 MB 6.9 MB/s eta 0:00:01\r\u001B[K     |████████████████████████████▍   | 10.5 MB 6.9 MB/s eta 0:00:01\r\u001B[K     |████████████████████████████▌   | 10.5 MB 6.9 MB/s eta 0:00:01\r\u001B[K     |████████████████████████████▌   | 10.5 MB 6.9 MB/s eta 0:00:01\r\u001B[K     |████████████████████████████▌   | 10.5 MB 6.9 MB/s eta 0:00:01\r\u001B[K     |████████████████████████████▌   | 10.6 MB 6.9 MB/s eta 0:00:01\r\u001B[K     |████████████████████████████▋   | 10.6 MB 6.9 MB/s eta 0:00:01\r\u001B[K     |████████████████████████████▋   | 10.6 MB 6.9 MB/s eta 0:00:01\r\u001B[K     |████████████████████████████▋   | 10.6 MB 6.9 MB/s eta 0:00:01\r\u001B[K     |████████████████████████████▋   | 10.6 MB 6.9 MB/s eta 0:00:01\r\u001B[K     |████████████████████████████▊   | 10.6 MB 6.9 MB/s eta 0:00:01\r\u001B[K     |████████████████████████████▊   | 10.6 MB 6.9 MB/s eta 0:00:01\r\u001B[K     |████████████████████████████▊   | 10.6 MB 6.9 MB/s eta 0:00:01\r\u001B[K     |████████████████████████████▊   | 10.6 MB 6.9 MB/s eta 0:00:01\r\u001B[K     |████████████████████████████▉   | 10.6 MB 6.9 MB/s eta 0:00:01\r\u001B[K     |████████████████████████████▉   | 10.7 MB 6.9 MB/s eta 0:00:01\r\u001B[K     |████████████████████████████▉   | 10.7 MB 6.9 MB/s eta 0:00:01\r\u001B[K     |████████████████████████████▉   | 10.7 MB 6.9 MB/s eta 0:00:01\r\u001B[K     |█████████████████████████████   | 10.7 MB 6.9 MB/s eta 0:00:01\r\u001B[K     |█████████████████████████████   | 10.7 MB 6.9 MB/s eta 0:00:01\r\u001B[K     |█████████████████████████████   | 10.7 MB 6.9 MB/s eta 0:00:01\r\u001B[K     |█████████████████████████████   | 10.7 MB 6.9 MB/s eta 0:00:01\r\u001B[K     |█████████████████████████████   | 10.7 MB 6.9 MB/s eta 0:00:01\r\u001B[K     |█████████████████████████████   | 10.7 MB 6.9 MB/s eta 0:00:01\r\u001B[K     |█████████████████████████████   | 10.8 MB 6.9 MB/s eta 0:00:01\r\u001B[K     |█████████████████████████████   | 10.8 MB 6.9 MB/s eta 0:00:01\r\u001B[K     |█████████████████████████████▏  | 10.8 MB 6.9 MB/s eta 0:00:01\r\u001B[K     |█████████████████████████████▏  | 10.8 MB 6.9 MB/s eta 0:00:01\r\u001B[K     |█████████████████████████████▏  | 10.8 MB 6.9 MB/s eta 0:00:01\r\u001B[K     |█████████████████████████████▏  | 10.8 MB 6.9 MB/s eta 0:00:01\r\u001B[K     |█████████████████████████████▎  | 10.8 MB 6.9 MB/s eta 0:00:01\r\u001B[K     |█████████████████████████████▎  | 10.8 MB 6.9 MB/s eta 0:00:01\r\u001B[K     |█████████████████████████████▎  | 10.8 MB 6.9 MB/s eta 0:00:01\r\u001B[K     |█████████████████████████████▎  | 10.8 MB 6.9 MB/s eta 0:00:01\r\u001B[K     |█████████████████████████████▍  | 10.9 MB 6.9 MB/s eta 0:00:01\r\u001B[K     |█████████████████████████████▍  | 10.9 MB 6.9 MB/s eta 0:00:01\r\u001B[K     |█████████████████████████████▍  | 10.9 MB 6.9 MB/s eta 0:00:01\r\u001B[K     |█████████████████████████████▍  | 10.9 MB 6.9 MB/s eta 0:00:01\r\u001B[K     |█████████████████████████████▌  | 10.9 MB 6.9 MB/s eta 0:00:01\r\u001B[K     |█████████████████████████████▌  | 10.9 MB 6.9 MB/s eta 0:00:01\r\u001B[K     |█████████████████████████████▌  | 10.9 MB 6.9 MB/s eta 0:00:01\r\u001B[K     |█████████████████████████████▌  | 10.9 MB 6.9 MB/s eta 0:00:01\r\u001B[K     |█████████████████████████████▋  | 10.9 MB 6.9 MB/s eta 0:00:01\r\u001B[K     |█████████████████████████████▋  | 10.9 MB 6.9 MB/s eta 0:00:01\r\u001B[K     |█████████████████████████████▋  | 11.0 MB 6.9 MB/s eta 0:00:01\r\u001B[K     |█████████████████████████████▋  | 11.0 MB 6.9 MB/s eta 0:00:01\r\u001B[K     |█████████████████████████████▊  | 11.0 MB 6.9 MB/s eta 0:00:01\r\u001B[K     |█████████████████████████████▊  | 11.0 MB 6.9 MB/s eta 0:00:01\r\u001B[K     |█████████████████████████████▊  | 11.0 MB 6.9 MB/s eta 0:00:01\r\u001B[K     |█████████████████████████████▊  | 11.0 MB 6.9 MB/s eta 0:00:01\r\u001B[K     |█████████████████████████████▉  | 11.0 MB 6.9 MB/s eta 0:00:01\r\u001B[K     |█████████████████████████████▉  | 11.0 MB 6.9 MB/s eta 0:00:01\r\u001B[K     |█████████████████████████████▉  | 11.0 MB 6.9 MB/s eta 0:00:01\r\u001B[K     |█████████████████████████████▉  | 11.0 MB 6.9 MB/s eta 0:00:01\r\u001B[K     |██████████████████████████████  | 11.1 MB 6.9 MB/s eta 0:00:01\r\u001B[K     |██████████████████████████████  | 11.1 MB 6.9 MB/s eta 0:00:01\r\u001B[K     |██████████████████████████████  | 11.1 MB 6.9 MB/s eta 0:00:01\r\u001B[K     |██████████████████████████████  | 11.1 MB 6.9 MB/s eta 0:00:01\r\u001B[K     |██████████████████████████████  | 11.1 MB 6.9 MB/s eta 0:00:01\r\u001B[K     |██████████████████████████████  | 11.1 MB 6.9 MB/s eta 0:00:01\r\u001B[K     |██████████████████████████████  | 11.1 MB 6.9 MB/s eta 0:00:01\r\u001B[K     |██████████████████████████████  | 11.1 MB 6.9 MB/s eta 0:00:01\r\u001B[K     |██████████████████████████████▏ | 11.1 MB 6.9 MB/s eta 0:00:01\r\u001B[K     |██████████████████████████████▏ | 11.2 MB 6.9 MB/s eta 0:00:01\r\u001B[K     |██████████████████████████████▏ | 11.2 MB 6.9 MB/s eta 0:00:01\r\u001B[K     |██████████████████████████████▏ | 11.2 MB 6.9 MB/s eta 0:00:01\r\u001B[K     |██████████████████████████████▎ | 11.2 MB 6.9 MB/s eta 0:00:01\r\u001B[K     |██████████████████████████████▎ | 11.2 MB 6.9 MB/s eta 0:00:01\r\u001B[K     |██████████████████████████████▎ | 11.2 MB 6.9 MB/s eta 0:00:01\r\u001B[K     |██████████████████████████████▎ | 11.2 MB 6.9 MB/s eta 0:00:01\r\u001B[K     |██████████████████████████████▍ | 11.2 MB 6.9 MB/s eta 0:00:01\r\u001B[K     |██████████████████████████████▍ | 11.2 MB 6.9 MB/s eta 0:00:01\r\u001B[K     |██████████████████████████████▍ | 11.2 MB 6.9 MB/s eta 0:00:01\r\u001B[K     |██████████████████████████████▍ | 11.3 MB 6.9 MB/s eta 0:00:01\r\u001B[K     |██████████████████████████████▌ | 11.3 MB 6.9 MB/s eta 0:00:01\r\u001B[K     |██████████████████████████████▌ | 11.3 MB 6.9 MB/s eta 0:00:01\r\u001B[K     |██████████████████████████████▌ | 11.3 MB 6.9 MB/s eta 0:00:01\r\u001B[K     |██████████████████████████████▌ | 11.3 MB 6.9 MB/s eta 0:00:01\r\u001B[K     |██████████████████████████████▋ | 11.3 MB 6.9 MB/s eta 0:00:01\r\u001B[K     |██████████████████████████████▋ | 11.3 MB 6.9 MB/s eta 0:00:01\r\u001B[K     |██████████████████████████████▋ | 11.3 MB 6.9 MB/s eta 0:00:01\r\u001B[K     |██████████████████████████████▋ | 11.3 MB 6.9 MB/s eta 0:00:01\r\u001B[K     |██████████████████████████████▊ | 11.3 MB 6.9 MB/s eta 0:00:01\r\u001B[K     |██████████████████████████████▊ | 11.4 MB 6.9 MB/s eta 0:00:01\r\u001B[K     |██████████████████████████████▊ | 11.4 MB 6.9 MB/s eta 0:00:01\r\u001B[K     |██████████████████████████████▊ | 11.4 MB 6.9 MB/s eta 0:00:01\r\u001B[K     |██████████████████████████████▉ | 11.4 MB 6.9 MB/s eta 0:00:01\r\u001B[K     |██████████████████████████████▉ | 11.4 MB 6.9 MB/s eta 0:00:01\r\u001B[K     |██████████████████████████████▉ | 11.4 MB 6.9 MB/s eta 0:00:01\r\u001B[K     |██████████████████████████████▉ | 11.4 MB 6.9 MB/s eta 0:00:01\r\u001B[K     |███████████████████████████████ | 11.4 MB 6.9 MB/s eta 0:00:01\r\u001B[K     |███████████████████████████████ | 11.4 MB 6.9 MB/s eta 0:00:01\r\u001B[K     |███████████████████████████████ | 11.4 MB 6.9 MB/s eta 0:00:01\r\u001B[K     |███████████████████████████████ | 11.5 MB 6.9 MB/s eta 0:00:01\r\u001B[K     |███████████████████████████████ | 11.5 MB 6.9 MB/s eta 0:00:01\r\u001B[K     |███████████████████████████████ | 11.5 MB 6.9 MB/s eta 0:00:01\r\u001B[K     |███████████████████████████████ | 11.5 MB 6.9 MB/s eta 0:00:01\r\u001B[K     |███████████████████████████████ | 11.5 MB 6.9 MB/s eta 0:00:01\r\u001B[K     |███████████████████████████████▏| 11.5 MB 6.9 MB/s eta 0:00:01\r\u001B[K     |███████████████████████████████▏| 11.5 MB 6.9 MB/s eta 0:00:01\r\u001B[K     |███████████████████████████████▏| 11.5 MB 6.9 MB/s eta 0:00:01\r\u001B[K     |███████████████████████████████▏| 11.5 MB 6.9 MB/s eta 0:00:01\r\u001B[K     |███████████████████████████████▏| 11.6 MB 6.9 MB/s eta 0:00:01\r\u001B[K     |███████████████████████████████▎| 11.6 MB 6.9 MB/s eta 0:00:01\r\u001B[K     |███████████████████████████████▎| 11.6 MB 6.9 MB/s eta 0:00:01\r\u001B[K     |███████████████████████████████▎| 11.6 MB 6.9 MB/s eta 0:00:01\r\u001B[K     |███████████████████████████████▎| 11.6 MB 6.9 MB/s eta 0:00:01\r\u001B[K     |███████████████████████████████▍| 11.6 MB 6.9 MB/s eta 0:00:01\r\u001B[K     |███████████████████████████████▍| 11.6 MB 6.9 MB/s eta 0:00:01\r\u001B[K     |███████████████████████████████▍| 11.6 MB 6.9 MB/s eta 0:00:01\r\u001B[K     |███████████████████████████████▍| 11.6 MB 6.9 MB/s eta 0:00:01\r\u001B[K     |███████████████████████████████▌| 11.6 MB 6.9 MB/s eta 0:00:01\r\u001B[K     |███████████████████████████████▌| 11.7 MB 6.9 MB/s eta 0:00:01\r\u001B[K     |███████████████████████████████▌| 11.7 MB 6.9 MB/s eta 0:00:01\r\u001B[K     |███████████████████████████████▌| 11.7 MB 6.9 MB/s eta 0:00:01\r\u001B[K     |███████████████████████████████▋| 11.7 MB 6.9 MB/s eta 0:00:01\r\u001B[K     |███████████████████████████████▋| 11.7 MB 6.9 MB/s eta 0:00:01\r\u001B[K     |███████████████████████████████▋| 11.7 MB 6.9 MB/s eta 0:00:01\r\u001B[K     |███████████████████████████████▋| 11.7 MB 6.9 MB/s eta 0:00:01\r\u001B[K     |███████████████████████████████▊| 11.7 MB 6.9 MB/s eta 0:00:01\r\u001B[K     |███████████████████████████████▊| 11.7 MB 6.9 MB/s eta 0:00:01\r\u001B[K     |███████████████████████████████▊| 11.7 MB 6.9 MB/s eta 0:00:01\r\u001B[K     |███████████████████████████████▊| 11.8 MB 6.9 MB/s eta 0:00:01\r\u001B[K     |███████████████████████████████▉| 11.8 MB 6.9 MB/s eta 0:00:01\r\u001B[K     |███████████████████████████████▉| 11.8 MB 6.9 MB/s eta 0:00:01\r\u001B[K     |███████████████████████████████▉| 11.8 MB 6.9 MB/s eta 0:00:01\r\u001B[K     |███████████████████████████████▉| 11.8 MB 6.9 MB/s eta 0:00:01\r\u001B[K     |████████████████████████████████| 11.8 MB 6.9 MB/s eta 0:00:01\r\u001B[K     |████████████████████████████████| 11.8 MB 6.9 MB/s eta 0:00:01\r\u001B[K     |████████████████████████████████| 11.8 MB 6.9 MB/s eta 0:00:01\r\u001B[K     |████████████████████████████████| 11.8 MB 6.9 MB/s eta 0:00:01\r\u001B[K     |████████████████████████████████| 11.8 MB 6.9 MB/s \r\n\u001B[?25hRequirement already satisfied: packaging>=20.0 in /databricks/python3/lib/python3.9/site-packages (from matplotlib==3.6.2) (21.3)\r\nRequirement already satisfied: python-dateutil>=2.7 in /databricks/python3/lib/python3.9/site-packages (from matplotlib==3.6.2) (2.8.2)\r\nRequirement already satisfied: fonttools>=4.22.0 in /databricks/python3/lib/python3.9/site-packages (from matplotlib==3.6.2) (4.25.0)\r\nCollecting contourpy>=1.0.1\r\n  Downloading contourpy-1.1.1-cp39-cp39-manylinux_2_17_x86_64.manylinux2014_x86_64.whl (301 kB)\r\n\u001B[?25l\r\u001B[K     |█                               | 10 kB 33.7 MB/s eta 0:00:01\r\u001B[K     |██▏                             | 20 kB 42.2 MB/s eta 0:00:01\r\u001B[K     |███▎                            | 30 kB 46.2 MB/s eta 0:00:01\r\u001B[K     |████▍                           | 40 kB 50.1 MB/s eta 0:00:01\r\u001B[K     |█████▍                          | 51 kB 50.2 MB/s eta 0:00:01\r\u001B[K     |██████▌                         | 61 kB 53.5 MB/s eta 0:00:01\r\u001B[K     |███████▋                        | 71 kB 54.9 MB/s eta 0:00:01\r\u001B[K     |████████▊                       | 81 kB 56.2 MB/s eta 0:00:01\r\u001B[K     |█████████▊                      | 92 kB 58.3 MB/s eta 0:00:01\r\u001B[K     |██████████▉                     | 102 kB 59.2 MB/s eta 0:00:01\r\u001B[K     |████████████                    | 112 kB 59.2 MB/s eta 0:00:01\r\u001B[K     |█████████████                   | 122 kB 59.2 MB/s eta 0:00:01\r\u001B[K     |██████████████▏                 | 133 kB 59.2 MB/s eta 0:00:01\r\u001B[K     |███████████████▏                | 143 kB 59.2 MB/s eta 0:00:01\r\u001B[K     |████████████████▎               | 153 kB 59.2 MB/s eta 0:00:01\r\u001B[K     |█████████████████▍              | 163 kB 59.2 MB/s eta 0:00:01\r\u001B[K     |██████████████████▌             | 174 kB 59.2 MB/s eta 0:00:01\r\u001B[K     |███████████████████▌            | 184 kB 59.2 MB/s eta 0:00:01\r\u001B[K     |████████████████████▋           | 194 kB 59.2 MB/s eta 0:00:01\r\u001B[K     |█████████████████████▊          | 204 kB 59.2 MB/s eta 0:00:01\r\u001B[K     |██████████████████████▉         | 215 kB 59.2 MB/s eta 0:00:01\r\u001B[K     |███████████████████████▉        | 225 kB 59.2 MB/s eta 0:00:01\r\u001B[K     |█████████████████████████       | 235 kB 59.2 MB/s eta 0:00:01\r\u001B[K     |██████████████████████████      | 245 kB 59.2 MB/s eta 0:00:01\r\u001B[K     |███████████████████████████▏    | 256 kB 59.2 MB/s eta 0:00:01\r\u001B[K     |████████████████████████████▎   | 266 kB 59.2 MB/s eta 0:00:01\r\u001B[K     |█████████████████████████████▎  | 276 kB 59.2 MB/s eta 0:00:01\r\u001B[K     |██████████████████████████████▍ | 286 kB 59.2 MB/s eta 0:00:01\r\u001B[K     |███████████████████████████████▌| 296 kB 59.2 MB/s eta 0:00:01\r\u001B[K     |████████████████████████████████| 301 kB 59.2 MB/s \r\n\u001B[?25hRequirement already satisfied: kiwisolver>=1.0.1 in /databricks/python3/lib/python3.9/site-packages (from matplotlib==3.6.2) (1.3.2)\r\nRequirement already satisfied: numpy>=1.19 in /databricks/python3/lib/python3.9/site-packages (from matplotlib==3.6.2) (1.21.5)\r\nRequirement already satisfied: pyparsing>=2.2.1 in /databricks/python3/lib/python3.9/site-packages (from matplotlib==3.6.2) (3.0.4)\r\nRequirement already satisfied: cycler>=0.10 in /databricks/python3/lib/python3.9/site-packages (from matplotlib==3.6.2) (0.11.0)\r\nRequirement already satisfied: pillow>=6.2.0 in /databricks/python3/lib/python3.9/site-packages (from matplotlib==3.6.2) (9.0.1)\r\nRequirement already satisfied: six>=1.5 in /databricks/python3/lib/python3.9/site-packages (from python-dateutil>=2.7->matplotlib==3.6.2) (1.16.0)\r\nInstalling collected packages: contourpy, matplotlib\r\n  Attempting uninstall: matplotlib\r\n    Found existing installation: matplotlib 3.5.1\r\n    Not uninstalling matplotlib at /databricks/python3/lib/python3.9/site-packages, outside environment /local_disk0/.ephemeral_nfs/envs/pythonEnv-9e53b1a3-3943-4283-8838-913ce1fd2616\r\n    Can't uninstall 'matplotlib'. No files were found to uninstall.\r\nSuccessfully installed contourpy-1.1.1 matplotlib-3.6.2\r\n\u001B[33mWARNING: You are using pip version 21.2.4; however, version 23.2.1 is available.\r\nYou should consider upgrading via the '/local_disk0/.ephemeral_nfs/envs/pythonEnv-9e53b1a3-3943-4283-8838-913ce1fd2616/bin/python -m pip install --upgrade pip' command.\u001B[0m\r\n"
     ]
    }
   ],
   "source": [
    "# Instalando uma versão específica do matplotlib\n",
    "!pip install matplotlib==3.6.2"
   ]
  },
  {
   "cell_type": "markdown",
   "metadata": {
    "application/vnd.databricks.v1+cell": {
     "cellMetadata": {},
     "inputWidgets": {},
     "nuid": "bbf775ca-46fa-46c7-948e-a64665680d38",
     "showTitle": false,
     "title": ""
    },
    "id": "IHTmQnlXInD1"
   },
   "source": [
    "Existe também o PYPI que é um repositório de bibliotecas Python que traz as bibliotecas mais utilizadas pela comunidade junto a informações de como usar e acesso as documentações de cada uma delas.\n",
    "\n",
    "- PYPI ([https://pypi.org/](https://pypi.org/))"
   ]
  },
  {
   "cell_type": "markdown",
   "metadata": {
    "application/vnd.databricks.v1+cell": {
     "cellMetadata": {},
     "inputWidgets": {},
     "nuid": "d13b5137-73ec-46dd-907e-f9bd4fa5b888",
     "showTitle": false,
     "title": ""
    },
    "id": "A76TbnDbDehe"
   },
   "source": [
    "### Importando uma biblioteca"
   ]
  },
  {
   "cell_type": "code",
   "execution_count": 0,
   "metadata": {
    "application/vnd.databricks.v1+cell": {
     "cellMetadata": {
      "byteLimit": 2048000,
      "rowLimit": 10000
     },
     "inputWidgets": {},
     "nuid": "72c3eceb-6e28-45d1-95ca-7a6972b4fe07",
     "showTitle": false,
     "title": ""
    },
    "id": "IOP3GEKUDNaS"
   },
   "outputs": [],
   "source": [
    "# Importando uma biblioteca sem alias\n",
    "import matplotlib"
   ]
  },
  {
   "cell_type": "code",
   "execution_count": 0,
   "metadata": {
    "application/vnd.databricks.v1+cell": {
     "cellMetadata": {
      "byteLimit": 2048000,
      "rowLimit": 10000
     },
     "inputWidgets": {},
     "nuid": "304c1abe-d8f0-49ea-9045-22feebb57cf1",
     "showTitle": false,
     "title": ""
    }
   },
   "outputs": [
    {
     "output_type": "stream",
     "name": "stdout",
     "output_type": "stream",
     "text": [
      "Out[11]: '3.5.1'"
     ]
    }
   ],
   "source": [
    "matplotlib.__version__"
   ]
  },
  {
   "cell_type": "code",
   "execution_count": 0,
   "metadata": {
    "application/vnd.databricks.v1+cell": {
     "cellMetadata": {
      "byteLimit": 2048000,
      "rowLimit": 10000
     },
     "inputWidgets": {},
     "nuid": "1c0ad9fb-928e-4759-a4e7-a008c22392bf",
     "showTitle": false,
     "title": ""
    },
    "id": "xciT3_H0DNUS"
   },
   "outputs": [
    {
     "output_type": "stream",
     "name": "stdout",
     "output_type": "stream",
     "text": [
      "Out[12]: module"
     ]
    }
   ],
   "source": [
    "matplotlib.__class__"
   ]
  },
  {
   "cell_type": "code",
   "execution_count": 0,
   "metadata": {
    "application/vnd.databricks.v1+cell": {
     "cellMetadata": {
      "byteLimit": 2048000,
      "rowLimit": 10000
     },
     "inputWidgets": {},
     "nuid": "d3ed8acc-6aac-4e8e-acd9-abce5db73f52",
     "showTitle": false,
     "title": ""
    },
    "id": "I8x0l_5uDNXE"
   },
   "outputs": [],
   "source": [
    "# Importando uma biblioteca com alias\n",
    "import matplotlib.pyplot as plt"
   ]
  },
  {
   "cell_type": "code",
   "execution_count": 0,
   "metadata": {
    "application/vnd.databricks.v1+cell": {
     "cellMetadata": {
      "byteLimit": 2048000,
      "rowLimit": 10000
     },
     "inputWidgets": {},
     "nuid": "e9b129b2-d7d3-4d0c-bd6e-5cf031c3c7d7",
     "showTitle": false,
     "title": ""
    },
    "id": "MjQYbxA-DWWT"
   },
   "outputs": [],
   "source": [
    "plt.show()"
   ]
  },
  {
   "cell_type": "code",
   "execution_count": 0,
   "metadata": {
    "application/vnd.databricks.v1+cell": {
     "cellMetadata": {
      "byteLimit": 2048000,
      "rowLimit": 10000
     },
     "inputWidgets": {},
     "nuid": "79c0d19e-7227-4019-b20e-40a496dc08fb",
     "showTitle": false,
     "title": ""
    }
   },
   "outputs": [
    {
     "output_type": "stream",
     "name": "stdout",
     "output_type": "stream",
     "text": [
      "Package                           Version\r\n--------------------------------- --------------------\r\nargon2-cffi                       21.3.0\r\nargon2-cffi-bindings              21.2.0\r\nasttokens                         2.0.5\r\nattrs                             21.4.0\r\nbackcall                          0.2.0\r\nbackports.entry-points-selectable 1.2.0\r\nbeautifulsoup4                    4.11.1\r\nblack                             22.3.0\r\nbleach                            4.1.0\r\nboto3                             1.21.32\r\nbotocore                          1.24.32\r\ncertifi                           2021.10.8\r\ncffi                              1.15.0\r\nchardet                           4.0.0\r\ncharset-normalizer                2.0.4\r\nclick                             8.0.4\r\ncontourpy                         1.1.1\r\ncryptography                      3.4.8\r\ncycler                            0.11.0\r\nCython                            0.29.28\r\ndbus-python                       1.2.16\r\ndebugpy                           1.5.1\r\ndecorator                         5.1.1\r\ndefusedxml                        0.7.1\r\ndistlib                           0.3.6\r\ndistro                            1.4.0\r\ndistro-info                       0.23+ubuntu1.1\r\ndocstring-to-markdown             0.11\r\nentrypoints                       0.4\r\nexecuting                         0.8.3\r\nfacets-overview                   1.0.0\r\nfastjsonschema                    2.16.2\r\nfilelock                          3.9.0\r\nfonttools                         4.25.0\r\nidna                              3.3\r\nipykernel                         6.15.3\r\nipython                           8.5.0\r\nipython-genutils                  0.2.0\r\nipywidgets                        7.7.2\r\njedi                              0.18.1\r\nJinja2                            2.11.3\r\njmespath                          0.10.0\r\njoblib                            1.1.1\r\njsonschema                        4.4.0\r\njupyter-client                    6.1.12\r\njupyter_core                      4.11.2\r\njupyterlab-pygments               0.1.2\r\njupyterlab-widgets                1.0.0\r\nkiwisolver                        1.3.2\r\nMarkupSafe                        2.0.1\r\nmatplotlib                        3.6.2\r\nmatplotlib-inline                 0.1.2\r\nmccabe                            0.7.0\r\nmistune                           0.8.4\r\nmypy-extensions                   0.4.3\r\nnbclient                          0.5.13\r\nnbconvert                         6.4.4\r\nnbformat                          5.3.0\r\nnest-asyncio                      1.5.5\r\nnodeenv                           1.7.0\r\nnotebook                          6.4.8\r\nnumpy                             1.21.5\r\npackaging                         21.3\r\npandas                            1.4.2\r\npandocfilters                     1.5.0\r\nparso                             0.8.3\r\npathspec                          0.9.0\r\npatsy                             0.5.2\r\npexpect                           4.8.0\r\npickleshare                       0.7.5\r\nPillow                            9.0.1\r\npip                               21.2.4\r\nplatformdirs                      2.6.2\r\nplotly                            5.6.0\r\npluggy                            1.0.0\r\nprometheus-client                 0.13.1\r\nprompt-toolkit                    3.0.20\r\nprotobuf                          3.19.4\r\npsutil                            5.8.0\r\npsycopg2                          2.9.3\r\nptyprocess                        0.7.0\r\npure-eval                         0.2.2\r\npyarrow                           7.0.0\r\npycparser                         2.21\r\npyflakes                          2.5.0\r\nPygments                          2.11.2\r\nPyGObject                         3.36.0\r\npyodbc                            4.0.32\r\npyparsing                         3.0.4\r\npyright                           1.1.283\r\npyrsistent                        0.18.0\r\npython-apt                        2.0.1+ubuntu0.20.4.1\r\npython-dateutil                   2.8.2\r\npython-lsp-jsonrpc                1.0.0\r\npython-lsp-server                 1.6.0\r\npytz                              2021.3\r\npyzmq                             22.3.0\r\nrequests                          2.27.1\r\nrequests-unixsocket               0.2.0\r\nrope                              0.22.0\r\ns3transfer                        0.5.0\r\nscikit-learn                      1.0.2\r\nscipy                             1.7.3\r\nseaborn                           0.11.2\r\nSend2Trash                        1.8.0\r\nsetuptools                        61.2.0\r\nsix                               1.16.0\r\nsoupsieve                         2.3.1\r\nssh-import-id                     5.10\r\nstack-data                        0.2.0\r\nstatsmodels                       0.13.2\r\ntenacity                          8.0.1\r\nterminado                         0.13.1\r\ntestpath                          0.5.0\r\nthreadpoolctl                     2.2.0\r\ntokenize-rt                       4.2.1\r\ntomli                             1.2.2\r\ntornado                           6.1\r\ntraitlets                         5.1.1\r\ntyping_extensions                 4.1.1\r\nujson                             5.1.0\r\nunattended-upgrades               0.1\r\nurllib3                           1.26.9\r\nvirtualenv                        20.8.0\r\nwcwidth                           0.2.5\r\nwebencodings                      0.5.1\r\nwhatthepatch                      1.0.4\r\nwheel                             0.37.0\r\nwidgetsnbextension                3.6.1\r\nyapf                              0.31.0\r\n\u001B[33mWARNING: You are using pip version 21.2.4; however, version 23.2.1 is available.\r\nYou should consider upgrading via the '/local_disk0/.ephemeral_nfs/envs/pythonEnv-9e53b1a3-3943-4283-8838-913ce1fd2616/bin/python -m pip install --upgrade pip' command.\u001B[0m\r\n"
     ]
    }
   ],
   "source": [
    "# Imprimindo todos os pacotes instalados no ambiente e suas versões\n",
    "!pip list"
   ]
  },
  {
   "cell_type": "markdown",
   "metadata": {
    "application/vnd.databricks.v1+cell": {
     "cellMetadata": {},
     "inputWidgets": {},
     "nuid": "129d9c3e-b342-4662-b81e-7a0ed4c45689",
     "showTitle": false,
     "title": ""
    },
    "id": "oMxkV9-6GXwH"
   },
   "source": [
    "## 1.2 Utilizando pacotes/bibliotecas\n",
    "\n",
    "- Documentação do Python (https://docs.python.org/pt-br/3/)"
   ]
  },
  {
   "cell_type": "markdown",
   "metadata": {
    "application/vnd.databricks.v1+cell": {
     "cellMetadata": {},
     "inputWidgets": {},
     "nuid": "9f10217f-0f94-4d96-b447-a3e2bf4c04dc",
     "showTitle": false,
     "title": ""
    },
    "id": "W1MHaXB2Q7tT"
   },
   "source": [
    "#### Exemplo 1: Vamos testar a biblioteca Matplotlib para um exemplo de médias de estudantes de uma classe.\n",
    "\n",
    "(https://matplotlib.org/stable/tutorials/introductory/pyplot.html)"
   ]
  },
  {
   "cell_type": "code",
   "execution_count": 0,
   "metadata": {
    "application/vnd.databricks.v1+cell": {
     "cellMetadata": {
      "byteLimit": 2048000,
      "rowLimit": 10000
     },
     "inputWidgets": {},
     "nuid": "d5d1bdbd-b318-4174-b35c-a8c48396fb0d",
     "showTitle": false,
     "title": ""
    },
    "id": "jKBw5ho2DWTa"
   },
   "outputs": [],
   "source": [
    "import matplotlib.pyplot as plt"
   ]
  },
  {
   "cell_type": "code",
   "execution_count": 0,
   "metadata": {
    "application/vnd.databricks.v1+cell": {
     "cellMetadata": {
      "byteLimit": 2048000,
      "rowLimit": 10000
     },
     "inputWidgets": {},
     "nuid": "81cc52c1-188b-4a25-995a-1901f736ca84",
     "showTitle": false,
     "title": ""
    },
    "id": "3Q8p9LonGo63"
   },
   "outputs": [],
   "source": [
    "estudantes = [\"João\", \"Maria\", \"José\"]\n",
    "notas = [8.5, 9, 6.5]"
   ]
  },
  {
   "cell_type": "code",
   "execution_count": 0,
   "metadata": {
    "application/vnd.databricks.v1+cell": {
     "cellMetadata": {
      "byteLimit": 2048000,
      "rowLimit": 10000
     },
     "inputWidgets": {},
     "nuid": "097a6b35-5ff6-4e49-b4c2-d793305f1e51",
     "showTitle": false,
     "title": ""
    },
    "id": "yhwQqLmBRvIw"
   },
   "outputs": [
    {
     "output_type": "stream",
     "name": "stdout",
     "output_type": "stream",
     "text": [
      "Out[18]: <BarContainer object of 3 artists>"
     ]
    },
    {
     "output_type": "display_data",
     "data": {
      "image/png": "[encoded data removed]"
     },
     "metadata": {
      "application/vnd.databricks.v1+output": {
       "addedWidgets": {},
       "arguments": {},
       "data": "data:image/png;base64,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\n",
       "datasetInfos": [],
       "metadata": {},
       "removedWidgets": [],
       "type": "image"
      }
     },
     "output_type": "display_data"
    }
   ],
   "source": [
    "plt.bar(x = estudantes, height = notas)"
   ]
  },
  {
   "cell_type": "markdown",
   "metadata": {
    "application/vnd.databricks.v1+cell": {
     "cellMetadata": {},
     "inputWidgets": {},
     "nuid": "24970a23-1341-4133-a36d-c563f5b79794",
     "showTitle": false,
     "title": ""
    },
    "id": "5G6u4ZRYRIFZ"
   },
   "source": [
    "#### Exemplo 2: Vamos selecionar aleatoriamente um aluno para apresentar o seu trabalho de ciência de dados usando a biblioteca Random\n",
    "\n",
    "(https://docs.python.org/pt-br/3/library/random.html)"
   ]
  },
  {
   "cell_type": "code",
   "execution_count": 0,
   "metadata": {
    "application/vnd.databricks.v1+cell": {
     "cellMetadata": {
      "byteLimit": 2048000,
      "rowLimit": 10000
     },
     "inputWidgets": {},
     "nuid": "e8086eed-1569-458d-a85c-ca23db747ea3",
     "showTitle": false,
     "title": ""
    },
    "id": "vnqGBX4DYv17"
   },
   "outputs": [],
   "source": [
    "estudantes_2 = [\"João\", \"Maria\", \"José\", \"Ana\"]"
   ]
  },
  {
   "cell_type": "code",
   "execution_count": 0,
   "metadata": {
    "application/vnd.databricks.v1+cell": {
     "cellMetadata": {
      "byteLimit": 2048000,
      "rowLimit": 10000
     },
     "inputWidgets": {},
     "nuid": "ff124522-ac0c-40f1-aa8f-56e0c69bdb21",
     "showTitle": false,
     "title": ""
    },
    "id": "5UYHaiWaGoy1"
   },
   "outputs": [],
   "source": [
    "# Importando uma função específica de uma biblioteca\n",
    "from random import choice"
   ]
  },
  {
   "cell_type": "markdown",
   "metadata": {
    "application/vnd.databricks.v1+cell": {
     "cellMetadata": {},
     "inputWidgets": {},
     "nuid": "db10f239-895d-4978-bf02-999764a2dd95",
     "showTitle": false,
     "title": ""
    },
    "id": "N-XJrnISGpTN"
   },
   "source": [
    "<font color=green>**Dica:**</font> Você pode notar ao longo de nossa prática a importância de recorrer a documentação para aprender como utilizar um método ou pacote na linguagem Python. \n",
    "\n",
    "O método `help()`, por exemplo, retorna uma descrição sobre uma variável, método ou classe.\n",
    "\n",
    "https://docs.python.org/pt-br/3/library/functions.html?#help"
   ]
  },
  {
   "cell_type": "code",
   "execution_count": 0,
   "metadata": {
    "application/vnd.databricks.v1+cell": {
     "cellMetadata": {
      "byteLimit": 2048000,
      "rowLimit": 10000
     },
     "inputWidgets": {},
     "nuid": "17f0f068-d3d1-4a87-b6c2-56ceaf332d0e",
     "showTitle": false,
     "title": ""
    },
    "id": "fKv4W4PJXNOR"
   },
   "outputs": [
    {
     "output_type": "stream",
     "name": "stdout",
     "output_type": "stream",
     "text": [
      "Help on method choice in module random:\n\nchoice(seq) method of random.Random instance\n    Choose a random element from a non-empty sequence.\n\n"
     ]
    }
   ],
   "source": [
    "help(choice)"
   ]
  },
  {
   "cell_type": "code",
   "execution_count": 0,
   "metadata": {
    "application/vnd.databricks.v1+cell": {
     "cellMetadata": {
      "byteLimit": 2048000,
      "rowLimit": 10000
     },
     "inputWidgets": {},
     "nuid": "09430b57-f909-4400-9c92-fcf18f3e411c",
     "showTitle": false,
     "title": ""
    },
    "id": "Pal_mZsFcV80"
   },
   "outputs": [
    {
     "output_type": "stream",
     "name": "stdout",
     "output_type": "stream",
     "text": [
      "Out[26]: 'João'"
     ]
    }
   ],
   "source": [
    "estudante = choice(estudantes_2)\n",
    "estudante"
   ]
  },
  {
   "cell_type": "code",
   "execution_count": 0,
   "metadata": {
    "application/vnd.databricks.v1+cell": {
     "cellMetadata": {
      "byteLimit": 2048000,
      "rowLimit": 10000
     },
     "inputWidgets": {},
     "nuid": "f00724bb-d9a0-4bb0-ac01-2ecaf85359df",
     "showTitle": false,
     "title": ""
    }
   },
   "outputs": [
    {
     "output_type": "display_data",
     "data": {
      "text/plain": [
       "Digite um número positivo para calcular sua raiz quadrada: 4"
      ]
     },
     "metadata": {},
     "output_type": "display_data"
    },
    {
     "output_type": "stream",
     "name": "stdout",
     "output_type": "stream",
     "text": [
      "\nA raiz quadrada de 4 é igual a 2.0\n"
     ]
    }
   ],
   "source": [
    "# # Para saber mais: outras formas de importação\n",
    "# from random import randrange, sample\n",
    "\n",
    "# lista = []\n",
    "\n",
    "# for i in range(0, 20):\n",
    "#   lista.append(randrange(100))\n",
    "\n",
    "# sample(lista, 5)\n",
    "\n",
    "# # Usando import nome_biblioteca\n",
    "# import math \n",
    "\n",
    "# n = int(input(\"Digite um número positivo para calcular sua raiz quadrada:\"))\n",
    "# print(f\"\\nA raiz quadrada de {n} é igual a {math.sqrt(n)}\")\n",
    "\n",
    "# # Usando from nome_biblioteca import *\n",
    "# from math import * \n",
    "\n",
    "# n = int(input(\"Digite um número positivo para calcular sua raiz quadrada:\"))\n",
    "# print(f\"\\nA raiz quadrada de {n} é igual a {sqrt(n)}\")\n"
   ]
  },
  {
   "cell_type": "markdown",
   "metadata": {
    "application/vnd.databricks.v1+cell": {
     "cellMetadata": {},
     "inputWidgets": {},
     "nuid": "262af221-363a-43b2-96a6-eacf0a900a64",
     "showTitle": false,
     "title": ""
    },
    "id": "2hrSPmlcBwWS"
   },
   "source": [
    "## <font color=green> 2. FUNÇÕES\n",
    "---"
   ]
  },
  {
   "cell_type": "markdown",
   "metadata": {
    "application/vnd.databricks.v1+cell": {
     "cellMetadata": {},
     "inputWidgets": {},
     "nuid": "67227d92-e905-479c-87ab-a2172ff3e5f6",
     "showTitle": false,
     "title": ""
    },
    "id": "gC4lHsW-DREY"
   },
   "source": [
    "Na linguagem Python, as **funções** são sequências de instruções que executam tarefas específicas, podendo ser reutilizadas em diferentes partes do código. Elas podem receber parâmetros de entrada (que podemos chamar de *inputs*) e também retornar resultados."
   ]
  },
  {
   "cell_type": "markdown",
   "metadata": {
    "application/vnd.databricks.v1+cell": {
     "cellMetadata": {},
     "inputWidgets": {},
     "nuid": "ca7e0d21-fca8-4602-b6bd-0a1ea8647e23",
     "showTitle": false,
     "title": ""
    },
    "id": "Qr_h1_UNEzHZ"
   },
   "source": [
    "## 2.1 Built-in function\n",
    "\n",
    "O interpretador do Python já possui uma série de funções embutidas que podem ser invocadas a qualquer momento. Algumas que vamos utilizar ao longo desse curso são: type(), print(), list(), zip(), sum(), map() etc.\n",
    "\n",
    "***Documentação:***\n",
    "https://docs.python.org/pt-br/3/library/functions.html\n"
   ]
  },
  {
   "cell_type": "markdown",
   "metadata": {
    "application/vnd.databricks.v1+cell": {
     "cellMetadata": {},
     "inputWidgets": {},
     "nuid": "19806227-0d0d-4ffb-8412-c0eaa1655701",
     "showTitle": false,
     "title": ""
    },
    "id": "MMOJIW3TyLIB"
   },
   "source": [
    "#### **Situação 1:**\n",
    "\n",
    "A escola em que estamos construindo o nosso case de dados compartilhou os dados das notas de um estudante para que pudéssemos calcular a média deste em até uma casa decimal. \n",
    "\n",
    "Os dados recebidos correspondem a um dicionário com as chaves indicando o trimestre em questão e os valores das notas de cada trimestre do estudante em uma dada matéria."
   ]
  },
  {
   "cell_type": "code",
   "execution_count": 0,
   "metadata": {
    "application/vnd.databricks.v1+cell": {
     "cellMetadata": {},
     "inputWidgets": {},
     "nuid": "2c928eea-8b82-48a1-aef4-21a057635dde",
     "showTitle": false,
     "title": ""
    },
    "colab": {
     "base_uri": "https://localhost:8080/"
    },
    "id": "kRAMC_KbI6U4",
    "outputId": "06f7bfdd-8551-4d59-8ccb-0d8718dd890e"
   },
   "outputs": [
    {
     "output_type": "execute_result",
     "data": {
      "text/plain": [
       "{'1º Trimestre': 8.5, '2º Trimestre': 7.5, '3º Trimestre': 9}"
      ]
     },
     "execution_count": 27,
     "metadata": {},
     "output_type": "execute_result"
    }
   ],
   "source": [
    "# Notas do(a) estudante\n",
    "notas = {'1º Trimestre': 8.5, '2º Trimestre': 7.5, '3º Trimestre': 9}\n",
    "notas"
   ]
  },
  {
   "cell_type": "code",
   "execution_count": 0,
   "metadata": {
    "application/vnd.databricks.v1+cell": {
     "cellMetadata": {},
     "inputWidgets": {},
     "nuid": "76fc41e9-bdf1-4012-834d-ce06cf0aa435",
     "showTitle": false,
     "title": ""
    },
    "id": "S7vIqSZJI6P4"
   },
   "outputs": [],
   "source": [
    "# Calculando a soma\n"
   ]
  },
  {
   "cell_type": "code",
   "execution_count": 0,
   "metadata": {
    "application/vnd.databricks.v1+cell": {
     "cellMetadata": {},
     "inputWidgets": {},
     "nuid": "3eca2e7e-2b71-47dd-b80b-119b30a9df99",
     "showTitle": false,
     "title": ""
    },
    "id": "yr9YSRwNPF9S"
   },
   "outputs": [],
   "source": [
    "# Usando a função embutida sum()\n"
   ]
  },
  {
   "cell_type": "code",
   "execution_count": 0,
   "metadata": {
    "application/vnd.databricks.v1+cell": {
     "cellMetadata": {},
     "inputWidgets": {},
     "nuid": "12b26dbc-59ec-416a-bfb4-4678826f9a40",
     "showTitle": false,
     "title": ""
    },
    "id": "Zn6XAAdQI6Fw"
   },
   "outputs": [],
   "source": [
    "# Usando a função embutida len()\n"
   ]
  },
  {
   "cell_type": "code",
   "execution_count": 0,
   "metadata": {
    "application/vnd.databricks.v1+cell": {
     "cellMetadata": {},
     "inputWidgets": {},
     "nuid": "bcb31ca6-04e4-4171-a42d-4211a3dafd01",
     "showTitle": false,
     "title": ""
    },
    "id": "iUx5UixrNsQh"
   },
   "outputs": [],
   "source": [
    "# calculando a média\n"
   ]
  },
  {
   "cell_type": "markdown",
   "metadata": {
    "application/vnd.databricks.v1+cell": {
     "cellMetadata": {},
     "inputWidgets": {},
     "nuid": "f8a6e9ae-8d21-4559-9dab-d8d97aefe10f",
     "showTitle": false,
     "title": ""
    },
    "id": "JD2z3LW8312E"
   },
   "source": [
    "*Arredondar a média usando round():*\n",
    "\n",
    "https://docs.python.org/pt-br/3/library/functions.html#round"
   ]
  },
  {
   "cell_type": "code",
   "execution_count": 0,
   "metadata": {
    "application/vnd.databricks.v1+cell": {
     "cellMetadata": {},
     "inputWidgets": {},
     "nuid": "ec429bb8-27e4-4029-a848-df98bd089662",
     "showTitle": false,
     "title": ""
    },
    "id": "OAZC5RwkSwWh"
   },
   "outputs": [],
   "source": []
  },
  {
   "cell_type": "code",
   "execution_count": 0,
   "metadata": {
    "application/vnd.databricks.v1+cell": {
     "cellMetadata": {},
     "inputWidgets": {},
     "nuid": "cda47d58-0dd1-4938-9da1-5660b661f1d4",
     "showTitle": false,
     "title": ""
    },
    "id": "cJ1C2Pg-4PNq"
   },
   "outputs": [],
   "source": []
  },
  {
   "cell_type": "markdown",
   "metadata": {
    "application/vnd.databricks.v1+cell": {
     "cellMetadata": {},
     "inputWidgets": {},
     "nuid": "d7e893ff-8ea8-482b-9dbb-bda121620da5",
     "showTitle": false,
     "title": ""
    },
    "id": "NCUSezOJIdfy"
   },
   "source": [
    "## 2.2 Criando funções"
   ]
  },
  {
   "cell_type": "markdown",
   "metadata": {
    "application/vnd.databricks.v1+cell": {
     "cellMetadata": {},
     "inputWidgets": {},
     "nuid": "5c87d8bf-da17-43ec-878b-88b19c59e932",
     "showTitle": false,
     "title": ""
    },
    "id": "QrTAXwghsg6s"
   },
   "source": [
    "Depois de explorarmos a built-in functions e aprendermos como utilizar algumas delas, você pode se deparar com a necessidade de resolver um problema específico em que elas não serão o suficiente.\n",
    "\n",
    "Nesse ponto, precisaremos criar as nossas próprias funções, ainda mais se precisarmos utilizá-las em mais partes de nossos códigos."
   ]
  },
  {
   "cell_type": "markdown",
   "metadata": {
    "application/vnd.databricks.v1+cell": {
     "cellMetadata": {},
     "inputWidgets": {},
     "nuid": "faaf2972-212a-4cce-8b1e-0c5b2dcb9e0e",
     "showTitle": false,
     "title": ""
    },
    "id": "zxyXiX462A_X"
   },
   "source": [
    "### Funções sem parâmetros\n",
    "\n",
    "#### Formato padrão:\n",
    "\n",
    "```python\n",
    "def <nome>():\n",
    "  <instruções>\n",
    "```"
   ]
  },
  {
   "cell_type": "code",
   "execution_count": 0,
   "metadata": {
    "application/vnd.databricks.v1+cell": {
     "cellMetadata": {},
     "inputWidgets": {},
     "nuid": "a495680a-c42e-4d0f-9817-185f8682e3ce",
     "showTitle": false,
     "title": ""
    },
    "id": "zQtsnpyCzHfb"
   },
   "outputs": [],
   "source": []
  },
  {
   "cell_type": "code",
   "execution_count": 0,
   "metadata": {
    "application/vnd.databricks.v1+cell": {
     "cellMetadata": {},
     "inputWidgets": {},
     "nuid": "223ff988-64b3-4390-93b6-0569914c2df8",
     "showTitle": false,
     "title": ""
    },
    "id": "Eq4U8TPq0xOv"
   },
   "outputs": [],
   "source": []
  },
  {
   "cell_type": "markdown",
   "metadata": {
    "application/vnd.databricks.v1+cell": {
     "cellMetadata": {},
     "inputWidgets": {},
     "nuid": "af9ff841-1ca4-4023-9ea6-70903bd762a9",
     "showTitle": false,
     "title": ""
    },
    "id": "o9AR_DNDFKSD"
   },
   "source": [
    "### Funções com parâmetros\n",
    "\n",
    "#### Formato padrão:\n",
    "\n",
    "```python\n",
    "def <nome>(<param_1>, <param_2>, ..., <param_n>):\n",
    "  <instruções>\n",
    "```"
   ]
  },
  {
   "cell_type": "code",
   "execution_count": 0,
   "metadata": {
    "application/vnd.databricks.v1+cell": {
     "cellMetadata": {},
     "inputWidgets": {},
     "nuid": "a53e9609-7e04-4ff5-8a08-00ea6e83f2ae",
     "showTitle": false,
     "title": ""
    },
    "id": "zVIvbjeRDR24"
   },
   "outputs": [],
   "source": []
  },
  {
   "cell_type": "code",
   "execution_count": 0,
   "metadata": {
    "application/vnd.databricks.v1+cell": {
     "cellMetadata": {},
     "inputWidgets": {},
     "nuid": "ec1f3464-b59c-433c-b7b4-e8459a91ab5c",
     "showTitle": false,
     "title": ""
    },
    "id": "c6H9lfBn3FuA"
   },
   "outputs": [],
   "source": []
  },
  {
   "cell_type": "code",
   "execution_count": 0,
   "metadata": {
    "application/vnd.databricks.v1+cell": {
     "cellMetadata": {},
     "inputWidgets": {},
     "nuid": "5ea6daf9-77af-4a40-8a7a-de56bee068d2",
     "showTitle": false,
     "title": ""
    },
    "id": "38M9GYEVQp_x"
   },
   "outputs": [],
   "source": []
  },
  {
   "cell_type": "markdown",
   "metadata": {
    "application/vnd.databricks.v1+cell": {
     "cellMetadata": {},
     "inputWidgets": {},
     "nuid": "e605093d-b77f-4f12-96b6-073bd6e8a27c",
     "showTitle": false,
     "title": ""
    },
    "id": "-Umx7n134suz"
   },
   "source": [
    "#### **Situação 2:**\n",
    "\n",
    "Recebemos uma demanda de calcular a média de um estudante a partir de uma lista, sendo possível alterar a quantidade de notas, sem impedir que o cálculo seja refeito.\n",
    "\n",
    "Os dados recebidos, desta vez, correspondem a uma lista contendo apenas as notas de um estudante em uma dada matéria.\n",
    "\n",
    "**Vamos resolver esse desafio?**\n",
    "\n",
    "Para facilitar o nosso entendimento do processo vamos aplicar às notas de apenas um estudante, mas você pode testar outros casos para treinar."
   ]
  },
  {
   "cell_type": "code",
   "execution_count": 0,
   "metadata": {
    "application/vnd.databricks.v1+cell": {
     "cellMetadata": {},
     "inputWidgets": {},
     "nuid": "9e1f6b71-3ee1-4a15-92fd-d480789fa944",
     "showTitle": false,
     "title": ""
    },
    "id": "9AiWnXLuzc1P"
   },
   "outputs": [],
   "source": [
    "# Notas do(a) estudante\n",
    "notas = [8.5, 9.0, 6.0, 10.0]"
   ]
  },
  {
   "cell_type": "code",
   "execution_count": 0,
   "metadata": {
    "application/vnd.databricks.v1+cell": {
     "cellMetadata": {},
     "inputWidgets": {},
     "nuid": "3097c658-7585-4b28-9669-cbd5f991fa8d",
     "showTitle": false,
     "title": ""
    },
    "id": "bEf8Evf1DR0I"
   },
   "outputs": [],
   "source": []
  },
  {
   "cell_type": "code",
   "execution_count": 0,
   "metadata": {
    "application/vnd.databricks.v1+cell": {
     "cellMetadata": {},
     "inputWidgets": {},
     "nuid": "5eb40c94-107f-4a9f-995c-bea089162725",
     "showTitle": false,
     "title": ""
    },
    "id": "R5ylO_vW6k8C"
   },
   "outputs": [],
   "source": []
  },
  {
   "cell_type": "code",
   "execution_count": 0,
   "metadata": {
    "application/vnd.databricks.v1+cell": {
     "cellMetadata": {},
     "inputWidgets": {},
     "nuid": "69279a23-0033-496e-90fc-37d32a59b839",
     "showTitle": false,
     "title": ""
    },
    "id": "9wNMcPOK_T9F"
   },
   "outputs": [],
   "source": []
  },
  {
   "cell_type": "code",
   "execution_count": 0,
   "metadata": {
    "application/vnd.databricks.v1+cell": {
     "cellMetadata": {},
     "inputWidgets": {},
     "nuid": "f9724688-4aa9-45df-99c9-0f83091f516e",
     "showTitle": false,
     "title": ""
    },
    "id": "4xnmTQ9w_ZTi"
   },
   "outputs": [],
   "source": []
  },
  {
   "cell_type": "code",
   "execution_count": 0,
   "metadata": {
    "application/vnd.databricks.v1+cell": {
     "cellMetadata": {},
     "inputWidgets": {},
     "nuid": "bdac6ada-26a5-49b5-925b-ff8c03f6b02f",
     "showTitle": false,
     "title": ""
    },
    "id": "x6m24TcG_W3w"
   },
   "outputs": [],
   "source": []
  },
  {
   "cell_type": "markdown",
   "metadata": {
    "application/vnd.databricks.v1+cell": {
     "cellMetadata": {},
     "inputWidgets": {},
     "nuid": "7b01bc91-b6bd-4619-8769-b859b0a8fcf4",
     "showTitle": false,
     "title": ""
    },
    "id": "skMq7d0_xHND"
   },
   "source": [
    "<font color=red>**Atenção!**</font>\n",
    "Quando utilizamos funções precisamos prestar atenção a uma propriedade chamada **escopo de uma função**\n",
    "\n",
    "Ela determina onde uma variável pode ser utilizada dentro do código. Por exemplo, uma variável criada dentro de uma função existirá apenas dentro da função. Ou seja, encerrando a execução da função, a variável não estará disponível para o usuário no restante do código. "
   ]
  },
  {
   "cell_type": "code",
   "execution_count": 0,
   "metadata": {
    "application/vnd.databricks.v1+cell": {
     "cellMetadata": {},
     "inputWidgets": {},
     "nuid": "2278481f-a306-4522-ac74-f0df850f7fdc",
     "showTitle": false,
     "title": ""
    },
    "id": "5FBWT2_gzIzR"
   },
   "outputs": [],
   "source": []
  },
  {
   "cell_type": "markdown",
   "metadata": {
    "application/vnd.databricks.v1+cell": {
     "cellMetadata": {},
     "inputWidgets": {},
     "nuid": "0ff66009-68a5-4f46-a854-602286730de3",
     "showTitle": false,
     "title": ""
    },
    "id": "-oDFGKcA52kG"
   },
   "source": [
    "## 2.3 Funções que retornam valores\n",
    "\n",
    "#### Formato padrão:\n",
    "\n",
    "```python\n",
    "def <nome>(<param_1>, <param_2>, ..., <param_n>):\n",
    "  <instruções>\n",
    "  return resultado\n",
    "```"
   ]
  },
  {
   "cell_type": "markdown",
   "metadata": {
    "application/vnd.databricks.v1+cell": {
     "cellMetadata": {},
     "inputWidgets": {},
     "nuid": "3fda0807-4512-4f1e-8d9e-d1d93aecfe76",
     "showTitle": false,
     "title": ""
    },
    "id": "DxvT_uItbQ-q"
   },
   "source": [
    "Retomando a atividade anterior, podemos retornar e salvar o valor da média da seguinte forma:"
   ]
  },
  {
   "cell_type": "code",
   "execution_count": 0,
   "metadata": {
    "application/vnd.databricks.v1+cell": {
     "cellMetadata": {},
     "inputWidgets": {},
     "nuid": "5bb9abd3-cd73-488b-88cd-ee8dfb7eb6bc",
     "showTitle": false,
     "title": ""
    },
    "id": "GlWdnX7Ubgl3"
   },
   "outputs": [],
   "source": [
    "# Notas do(a) estudante\n",
    "notas = [8.5, 9.0, 6.0, 10.0]"
   ]
  },
  {
   "cell_type": "code",
   "execution_count": 0,
   "metadata": {
    "application/vnd.databricks.v1+cell": {
     "cellMetadata": {},
     "inputWidgets": {},
     "nuid": "101e73b9-0004-47a6-8c68-e52f9dcbffc4",
     "showTitle": false,
     "title": ""
    },
    "id": "B6yqoM7KAKKK"
   },
   "outputs": [],
   "source": [
    "def media(lista):\n",
    "  calculo = sum(lista) / len(lista)\n",
    "  ..."
   ]
  },
  {
   "cell_type": "code",
   "execution_count": 0,
   "metadata": {
    "application/vnd.databricks.v1+cell": {
     "cellMetadata": {},
     "inputWidgets": {},
     "nuid": "78d6a73e-3906-4c49-8e7e-a8ec52fba956",
     "showTitle": false,
     "title": ""
    },
    "id": "GlqPKe3_AT0Q"
   },
   "outputs": [],
   "source": []
  },
  {
   "cell_type": "code",
   "execution_count": 0,
   "metadata": {
    "application/vnd.databricks.v1+cell": {
     "cellMetadata": {},
     "inputWidgets": {},
     "nuid": "5630d1b7-0240-46c9-9051-412442dec401",
     "showTitle": false,
     "title": ""
    },
    "id": "E81HZh8rAYJz"
   },
   "outputs": [],
   "source": []
  },
  {
   "cell_type": "markdown",
   "metadata": {
    "application/vnd.databricks.v1+cell": {
     "cellMetadata": {},
     "inputWidgets": {},
     "nuid": "ca7a08fb-0fcf-471f-bbf0-0284fb48f5e6",
     "showTitle": false,
     "title": ""
    },
    "id": "_awyOKOH8OOi"
   },
   "source": [
    "#### **Situação 3:**\n",
    "\n",
    "Recebemos uma nova demanda, desta vez, de calcular a média de um estudante a partir de uma lista e retornar tanto a média quanto a situação do estudante (\"Aprovado(a)\" se a nota for maior ou igual a 6.0, caso contrário, será \"Reprovado(a)\"). \n",
    "\n",
    "Além disso, precisamos exibir um pequeno texto em que indicamos a média do(a) estudante e qual a situação. Os dados recebidos correspondem a uma lista contendo apenas as notas de um estudante em uma dada matéria.\n",
    "\n",
    "**Vamos resolver esse desafio?**\n",
    "\n",
    "Para facilitar o nosso entendimento do processo vamos aplicar as notas de apenas um estudante, mas você pode testar outros casos para treinar."
   ]
  },
  {
   "cell_type": "code",
   "execution_count": 0,
   "metadata": {
    "application/vnd.databricks.v1+cell": {
     "cellMetadata": {},
     "inputWidgets": {},
     "nuid": "54bfb503-acf4-45b4-8799-daf3fce0dd02",
     "showTitle": false,
     "title": ""
    },
    "id": "8LmWZ2U9-Zv3"
   },
   "outputs": [],
   "source": [
    "# Notas do(a) estudante\n",
    "notas = [6.0, 7.0, 9.0, 5.0]"
   ]
  },
  {
   "cell_type": "code",
   "execution_count": 0,
   "metadata": {
    "application/vnd.databricks.v1+cell": {
     "cellMetadata": {},
     "inputWidgets": {},
     "nuid": "19796f22-f245-46a7-93e8-08ee3e05482f",
     "showTitle": false,
     "title": ""
    },
    "id": "bJ9KmlHv5o0i"
   },
   "outputs": [],
   "source": []
  },
  {
   "cell_type": "code",
   "execution_count": 0,
   "metadata": {
    "application/vnd.databricks.v1+cell": {
     "cellMetadata": {},
     "inputWidgets": {},
     "nuid": "ce2bdabb-16f5-4ea8-aa09-be611b82878c",
     "showTitle": false,
     "title": ""
    },
    "id": "rIiA2cpB-squ"
   },
   "outputs": [],
   "source": []
  },
  {
   "cell_type": "code",
   "execution_count": 0,
   "metadata": {
    "application/vnd.databricks.v1+cell": {
     "cellMetadata": {},
     "inputWidgets": {},
     "nuid": "e9da257f-b031-4212-82ae-a482a247f0e1",
     "showTitle": false,
     "title": ""
    },
    "id": "_xf7bR6JBjD8"
   },
   "outputs": [],
   "source": []
  },
  {
   "cell_type": "code",
   "execution_count": 0,
   "metadata": {
    "application/vnd.databricks.v1+cell": {
     "cellMetadata": {},
     "inputWidgets": {},
     "nuid": "9c7730ff-7579-4aef-8ec4-b35cdb381019",
     "showTitle": false,
     "title": ""
    },
    "id": "5ixwo3o3CdQ0"
   },
   "outputs": [],
   "source": []
  },
  {
   "cell_type": "code",
   "execution_count": 0,
   "metadata": {
    "application/vnd.databricks.v1+cell": {
     "cellMetadata": {},
     "inputWidgets": {},
     "nuid": "2068735e-9338-4d79-92b5-253ade9d4a0b",
     "showTitle": false,
     "title": ""
    },
    "id": "VFQacFSICeaO"
   },
   "outputs": [],
   "source": []
  },
  {
   "cell_type": "code",
   "execution_count": 0,
   "metadata": {
    "application/vnd.databricks.v1+cell": {
     "cellMetadata": {},
     "inputWidgets": {},
     "nuid": "d9a8b333-ec3d-42b4-8dd2-31df6a1e31d4",
     "showTitle": false,
     "title": ""
    },
    "id": "ecFviUvOCgXF"
   },
   "outputs": [],
   "source": [
    "print(f'O(a) estudante atingiu uma média de {} e foi {}.')"
   ]
  },
  {
   "cell_type": "markdown",
   "metadata": {
    "application/vnd.databricks.v1+cell": {
     "cellMetadata": {},
     "inputWidgets": {},
     "nuid": "67a1760e-4148-4a14-91b9-0c6f34f8ab0c",
     "showTitle": false,
     "title": ""
    },
    "id": "hwYYRpkZMft5"
   },
   "source": [
    "## 2.4 Funções lambda\n",
    "\n",
    "Também chamadas de funções anônimas, são funções que não precisam ser definidas, ou seja não possuem um nome, e descrevem em uma única linha os comandos que desejamos aplicar. \n",
    "\n",
    "https://docs.python.org/pt-br/3/reference/expressions.html?#lambda\n",
    "\n",
    "#### Formato padrão:\n",
    "\n",
    "```python\n",
    "lambda <variavel>: <expressao>\n",
    "```"
   ]
  },
  {
   "cell_type": "markdown",
   "metadata": {
    "application/vnd.databricks.v1+cell": {
     "cellMetadata": {},
     "inputWidgets": {},
     "nuid": "15345f1b-43bf-4939-b0f8-87cab1b2c57d",
     "showTitle": false,
     "title": ""
    },
    "id": "AuRWyNXYgD_b"
   },
   "source": [
    "#### **Situação 4:**\n",
    "\n",
    "Nesta nova demanda, precisamos criar uma calculadora simples da média ponderada de notas de uma dada matéria. Vamos requisitar ao usuário a entrada das 3 notas (N1, N2, N3) do estudante e devolver a média ponderada deste estudante. Os pesos das notas são de, respectivamente 3, 2, 5.\n",
    "\n",
    "Precisamos exibir um pequeno texto em que indicamos a média do(a) estudante.\n",
    "\n",
    "**Vamos resolver esse desafio?**"
   ]
  },
  {
   "cell_type": "code",
   "execution_count": 0,
   "metadata": {
    "application/vnd.databricks.v1+cell": {
     "cellMetadata": {},
     "inputWidgets": {},
     "nuid": "758a58e8-b785-4bdb-9f3f-3272755b1a99",
     "showTitle": false,
     "title": ""
    },
    "id": "4EjJD3w3lbzJ"
   },
   "outputs": [],
   "source": [
    "# Comparando uma função de qualitativo no formato de função para função anônima\n"
   ]
  },
  {
   "cell_type": "code",
   "execution_count": 0,
   "metadata": {
    "application/vnd.databricks.v1+cell": {
     "cellMetadata": {},
     "inputWidgets": {},
     "nuid": "0678c91e-edc9-4eba-907e-3bdbbc2d62d0",
     "showTitle": false,
     "title": ""
    },
    "id": "vZjaUmaJFp3D"
   },
   "outputs": [],
   "source": [
    "# Testando a mesma função para uma função lambda\n"
   ]
  },
  {
   "cell_type": "markdown",
   "metadata": {
    "application/vnd.databricks.v1+cell": {
     "cellMetadata": {},
     "inputWidgets": {},
     "nuid": "af0a3771-84d8-482b-9e5d-7e8a7bf4f36e",
     "showTitle": false,
     "title": ""
    },
    "id": "vdKk3DRBmtUE"
   },
   "source": [
    "**Partindo para nosso problema:**"
   ]
  },
  {
   "cell_type": "code",
   "execution_count": 0,
   "metadata": {
    "application/vnd.databricks.v1+cell": {
     "cellMetadata": {},
     "inputWidgets": {},
     "nuid": "66249ff9-3ebb-4c26-a408-f101235cbc13",
     "showTitle": false,
     "title": ""
    },
    "colab": {
     "base_uri": "https://localhost:8080/"
    },
    "executionInfo": {
     "elapsed": 14792,
     "status": "ok",
     "timestamp": 1678460277463,
     "user": {
      "displayName": "Afonso Augusto Rios",
      "userId": "05972796828124452071"
     },
     "user_tz": 180
    },
    "id": "azStYQgKnsZn",
    "outputId": "af1aaa46-353d-4b69-c470-1bd7f2488ae0"
   },
   "outputs": [
    {
     "output_type": "stream",
     "name": "stdout",
     "output_type": "stream",
     "text": [
      "Digite a 1ª nota do(a) estudante: 3\nDigite a 2ª nota do(a) estudante: 4\nDigite a 3ª nota do(a) estudante: 5\n"
     ]
    },
    {
     "output_type": "execute_result",
     "data": {
      "text/plain": [
       "Ellipsis"
      ]
     },
     "execution_count": 1,
     "metadata": {},
     "output_type": "execute_result"
    }
   ],
   "source": [
    "# Recebendo as notas e calculando a média ponderável\n",
    "N1 = float(input(\"Digite a 1ª nota do(a) estudante: \"))\n",
    "N2 = float(input(\"Digite a 2ª nota do(a) estudante: \"))\n",
    "N3 = float(input(\"Digite a 3ª nota do(a) estudante: \"))\n",
    "\n",
    "..."
   ]
  },
  {
   "cell_type": "code",
   "execution_count": 0,
   "metadata": {
    "application/vnd.databricks.v1+cell": {
     "cellMetadata": {},
     "inputWidgets": {},
     "nuid": "d7b3be18-01d7-4c73-9d1b-782eb0e4990a",
     "showTitle": false,
     "title": ""
    },
    "id": "Ek1s_FkjkQrW"
   },
   "outputs": [],
   "source": [
    "# Exibindo a média\n",
    "print(f'O(a) estudante atingiu uma média de {}')"
   ]
  },
  {
   "cell_type": "markdown",
   "metadata": {
    "application/vnd.databricks.v1+cell": {
     "cellMetadata": {},
     "inputWidgets": {},
     "nuid": "cde6664b-9552-4186-8fc6-35851238bce3",
     "showTitle": false,
     "title": ""
    },
    "id": "SOK4BC4mmKbG"
   },
   "source": [
    "### Mapeando valores\n",
    "\n",
    "#### Formato padrão:\n",
    "\n",
    "```python\n",
    "map(<lambda function>, <iterador>)\n",
    "```"
   ]
  },
  {
   "cell_type": "markdown",
   "metadata": {
    "application/vnd.databricks.v1+cell": {
     "cellMetadata": {},
     "inputWidgets": {},
     "nuid": "e86c9d05-658b-4bcb-b6ba-ef78f24748ae",
     "showTitle": false,
     "title": ""
    },
    "id": "1qk0gLdfFcbf"
   },
   "source": [
    "#### **Situação 5:**\n",
    "\n",
    "Recebemos mais uma demanda, desta vez, para criar uma pequena função que pudesse adicionar qualitativo (pontuação extra) às notas do trimestre dos estudantes da turma que ganhou a gincana de programação promovida pela escola. Cada estudante receberá o qualitativo de 0.5 acrescido à média.\n",
    "\n",
    "Os dados recebidos correspondem a uma lista contendo as notas de alguns estudantes e uma variável com o qualitativo recebido.\n",
    "\n",
    "**Vamos resolver esse desafio?**\n",
    "\n",
    "Para facilitar o nosso entendimento do processo vamos aplicar o qualitativo às notas de 5 estudantes, mas você pode testar outros casos para treinar."
   ]
  },
  {
   "cell_type": "code",
   "execution_count": 0,
   "metadata": {
    "application/vnd.databricks.v1+cell": {
     "cellMetadata": {},
     "inputWidgets": {},
     "nuid": "c8818f94-c81d-49ed-8709-d4ac9989f6aa",
     "showTitle": false,
     "title": ""
    },
    "id": "RdoaWhuVI_OB"
   },
   "outputs": [],
   "source": [
    "# Notas do(a) estudante\n",
    "notas = [6.0, 7.0, 9.0, 5.5, 8.0]\n",
    "qualitativo = 0.5"
   ]
  },
  {
   "cell_type": "code",
   "execution_count": 0,
   "metadata": {
    "application/vnd.databricks.v1+cell": {
     "cellMetadata": {},
     "inputWidgets": {},
     "nuid": "dbdd3718-7560-444d-acf8-4b2e6b6c3fdd",
     "showTitle": false,
     "title": ""
    },
    "id": "nC6zW89lHI4K"
   },
   "outputs": [],
   "source": []
  },
  {
   "cell_type": "code",
   "execution_count": 0,
   "metadata": {
    "application/vnd.databricks.v1+cell": {
     "cellMetadata": {},
     "inputWidgets": {},
     "nuid": "fff8ecc7-b91f-4df4-bd8e-cf7aba91c53f",
     "showTitle": false,
     "title": ""
    },
    "id": "iM2jXtC8m1zc"
   },
   "outputs": [],
   "source": [
    "# Não conseguimos aplicar o lambda em listas direto, é necessário \n",
    "# utilizarmos junto a ela a função map\n"
   ]
  },
  {
   "cell_type": "code",
   "execution_count": 0,
   "metadata": {
    "application/vnd.databricks.v1+cell": {
     "cellMetadata": {},
     "inputWidgets": {},
     "nuid": "50bf34f1-0f43-4a75-88d9-709a0544cff3",
     "showTitle": false,
     "title": ""
    },
    "id": "dAq9-TNTm1wf"
   },
   "outputs": [],
   "source": []
  },
  {
   "cell_type": "markdown",
   "metadata": {
    "application/vnd.databricks.v1+cell": {
     "cellMetadata": {},
     "inputWidgets": {},
     "nuid": "ed90ad6c-6b91-4160-9313-fd6a0090b86c",
     "showTitle": false,
     "title": ""
    },
    "id": "DoB6wf2JCYf7"
   },
   "source": [
    "## <font color=green> 3. ESTRUTURA DE DADOS COMPOSTAS\n",
    "---"
   ]
  },
  {
   "cell_type": "markdown",
   "metadata": {
    "application/vnd.databricks.v1+cell": {
     "cellMetadata": {},
     "inputWidgets": {},
     "nuid": "723ee467-d5bd-4d19-8d95-b17805b57862",
     "showTitle": false,
     "title": ""
    },
    "id": "3or6MbnZDW_b"
   },
   "source": [
    "## 3.1 Estruturas aninhadas\n",
    "\n",
    "Aprendemos anteriormente a manipular listas, tuplas e dicionários para trabalhar com uma sequência ou coleção de valores sejam numéricos, categóricos, etc. Nessa aula, vamos aprofundar em outra situação comum para a pessoa cientista de dados que é trabalhar com esses tipos de estruturas aninhadas, ou seja, quando possuímos por exemplo listas dentro de uma lista. "
   ]
  },
  {
   "cell_type": "markdown",
   "metadata": {
    "application/vnd.databricks.v1+cell": {
     "cellMetadata": {},
     "inputWidgets": {},
     "nuid": "d78b2e37-73fa-4e04-ae6f-2d46eea43b68",
     "showTitle": false,
     "title": ""
    },
    "id": "fddus1G9HqB3"
   },
   "source": [
    "### Lista de listas\n",
    "\n",
    "#### Formato padrão:\n",
    "\n",
    "```python\n",
    "[[a1, a2,...,an], [b1, b2,...,bn], ..., [n1, n2,...,nn]]\n",
    "```"
   ]
  },
  {
   "cell_type": "markdown",
   "metadata": {
    "application/vnd.databricks.v1+cell": {
     "cellMetadata": {},
     "inputWidgets": {},
     "nuid": "69b97b97-185c-4d02-9d40-c8193bf707fe",
     "showTitle": false,
     "title": ""
    },
    "id": "32K5LA11tFpz"
   },
   "source": [
    "#### **Situação 6:**\n",
    "\n",
    "Recebemos a demanda de transformar uma lista com o nome e as notas dos três trimestres de estudantes em uma lista simples com os nomes separados das notas e uma lista de listas com as três notas de cada estudante separadas umas das outras. Os dados recebidos correspondem a uma lista com os nomes e as respectivas notas de cada estudante. \n",
    "\n",
    "**Vamos resolver esse desafio?**\n",
    "\n",
    "Para facilitar o nosso entendimento do processo vamos trabalhar com uma turma fictícia de 5 estudantes.\n"
   ]
  },
  {
   "cell_type": "code",
   "execution_count": 0,
   "metadata": {
    "application/vnd.databricks.v1+cell": {
     "cellMetadata": {},
     "inputWidgets": {},
     "nuid": "455af6ad-dbfe-419f-8b79-090bf6083494",
     "showTitle": false,
     "title": ""
    },
    "id": "jlEP-c2YthpB"
   },
   "outputs": [],
   "source": [
    "notas_turma = ['João', 8.0, 9.0, 10.0, 'Maria', 9.0, 7.0, 6.0, 'José', 3.4, 7.0, 7.0, 'Cláudia', 5.5, 6.6, 8.0, 'Ana', 6.0, 10.0, 9.5]"
   ]
  },
  {
   "cell_type": "code",
   "execution_count": 0,
   "metadata": {
    "application/vnd.databricks.v1+cell": {
     "cellMetadata": {},
     "inputWidgets": {},
     "nuid": "4e25eb68-5153-4790-a2e9-dae31e4be488",
     "showTitle": false,
     "title": ""
    },
    "id": "xP1H4Kw6uJTe"
   },
   "outputs": [],
   "source": []
  },
  {
   "cell_type": "code",
   "execution_count": 0,
   "metadata": {
    "application/vnd.databricks.v1+cell": {
     "cellMetadata": {},
     "inputWidgets": {},
     "nuid": "76cac071-50a9-43cc-83f1-d63fc53e62af",
     "showTitle": false,
     "title": ""
    },
    "id": "pelnQlo-v4l3"
   },
   "outputs": [],
   "source": []
  },
  {
   "cell_type": "code",
   "execution_count": 0,
   "metadata": {
    "application/vnd.databricks.v1+cell": {
     "cellMetadata": {},
     "inputWidgets": {},
     "nuid": "7e768571-0c1e-4076-802b-d96064a39b32",
     "showTitle": false,
     "title": ""
    },
    "id": "61NkIzLvxXFa"
   },
   "outputs": [],
   "source": []
  },
  {
   "cell_type": "code",
   "execution_count": 0,
   "metadata": {
    "application/vnd.databricks.v1+cell": {
     "cellMetadata": {},
     "inputWidgets": {},
     "nuid": "b558c029-2790-4c58-a3e2-be2f08dee981",
     "showTitle": false,
     "title": ""
    },
    "id": "eL-y49GmPpjN"
   },
   "outputs": [],
   "source": []
  },
  {
   "cell_type": "code",
   "execution_count": 0,
   "metadata": {
    "application/vnd.databricks.v1+cell": {
     "cellMetadata": {},
     "inputWidgets": {},
     "nuid": "47899bd2-76cb-4074-acef-76f4ad8f16f3",
     "showTitle": false,
     "title": ""
    },
    "id": "awqddIuGFf-k"
   },
   "outputs": [],
   "source": []
  },
  {
   "cell_type": "code",
   "execution_count": 0,
   "metadata": {
    "application/vnd.databricks.v1+cell": {
     "cellMetadata": {},
     "inputWidgets": {},
     "nuid": "6e424585-1915-4e1c-baa6-7bb79877a655",
     "showTitle": false,
     "title": ""
    },
    "id": "PlDKPeCLDXU7"
   },
   "outputs": [],
   "source": []
  },
  {
   "cell_type": "markdown",
   "metadata": {
    "application/vnd.databricks.v1+cell": {
     "cellMetadata": {},
     "inputWidgets": {},
     "nuid": "51fa2a3a-b006-4049-aac8-34362e6b8d30",
     "showTitle": false,
     "title": ""
    },
    "id": "SW0sVg68sK_z"
   },
   "source": [
    "### Lista de tuplas\n",
    "\n",
    "#### Formato padrão:\n",
    "\n",
    "```python\n",
    "[(a1, a2,...,an), (b1, b2,...,bn), ..., (n1, n2,...,nn)]\n",
    "```"
   ]
  },
  {
   "cell_type": "markdown",
   "metadata": {
    "application/vnd.databricks.v1+cell": {
     "cellMetadata": {},
     "inputWidgets": {},
     "nuid": "441f3ca1-6476-43a7-94dd-4e065abd9ed6",
     "showTitle": false,
     "title": ""
    },
    "id": "OId6jAZz5x2m"
   },
   "source": [
    "#### **Situação 7:**\n",
    "\n",
    "Nesta nova demanda, precisamos gerar uma lista de tuplas com os nomes dos estudantes e o código ID de cada um para a plataforma de análise dos dados. A criação do código consiste em concatenar a primeira letra do nome do estudante a um número aleatório de 0 a 999. Os dados recebidos correspondem a uma lista dos nomes de cada estudante. \n",
    "\n",
    "**Vamos resolver esse desafio?**\n",
    "\n",
    "Para facilitar o nosso entendimento do processo vamos trabalhar com uma turma fictícia de 5 estudantes.\n"
   ]
  },
  {
   "cell_type": "code",
   "execution_count": 0,
   "metadata": {
    "application/vnd.databricks.v1+cell": {
     "cellMetadata": {},
     "inputWidgets": {},
     "nuid": "706835b7-0b86-4836-83d1-069abee57759",
     "showTitle": false,
     "title": ""
    },
    "id": "aRB0zQ2_6aa9"
   },
   "outputs": [],
   "source": [
    "estudantes = [\"João\", \"Maria\", \"José\", \"Cláudia\", \"Ana\"]\n",
    "estudantes"
   ]
  },
  {
   "cell_type": "code",
   "execution_count": 0,
   "metadata": {
    "application/vnd.databricks.v1+cell": {
     "cellMetadata": {},
     "inputWidgets": {},
     "nuid": "925b794c-5bfe-4aef-a9cc-44b2651ac058",
     "showTitle": false,
     "title": ""
    },
    "id": "wFHkckyg6aa-"
   },
   "outputs": [],
   "source": [
    "from random import randint\n",
    "\n",
    "def gera_codigo():\n",
    "  return str(randint(0,999))"
   ]
  },
  {
   "cell_type": "code",
   "execution_count": 0,
   "metadata": {
    "application/vnd.databricks.v1+cell": {
     "cellMetadata": {},
     "inputWidgets": {},
     "nuid": "c7c6d526-f695-4804-aaf3-8f083fe68678",
     "showTitle": false,
     "title": ""
    },
    "id": "tZItNHeo6aa-"
   },
   "outputs": [],
   "source": []
  },
  {
   "cell_type": "markdown",
   "metadata": {
    "application/vnd.databricks.v1+cell": {
     "cellMetadata": {},
     "inputWidgets": {},
     "nuid": "6604b004-4fc1-4d6c-8c99-4f3d9f7e75d8",
     "showTitle": false,
     "title": ""
    },
    "id": "srHAov19QCdb"
   },
   "source": [
    "## 3.2 List comprehension\n",
    "\n",
    "É uma forma simples e concisa de criar uma lista. Podemos aplicar condicionais e laços para criar diversos tipos de listas a partir de padrões que desejamos para a nossa estrutura de dados.\n",
    "\n",
    "https://docs.python.org/pt-br/3/tutorial/datastructures.html?#list-comprehensions\n",
    "\n",
    "#### Formato padrão:\n",
    "\n",
    "```python\n",
    "[exressão for item in lista]\n",
    "```"
   ]
  },
  {
   "cell_type": "markdown",
   "metadata": {
    "application/vnd.databricks.v1+cell": {
     "cellMetadata": {},
     "inputWidgets": {},
     "nuid": "89401330-3ad6-4b4e-a93b-4dba93a5ed28",
     "showTitle": false,
     "title": ""
    },
    "id": "l4HW0gDqecgM"
   },
   "source": [
    "#### **Situação 8:**\n",
    "\n",
    "Recebemos a demanda de criar uma lista com as médias dos estudantes da lista de listas que criamos na Situação 6. Lembrando que cada lista da lista de listas possui as três notas de cada estudante.\n",
    "\n",
    "**Vamos resolver esse desafio?**\n",
    "\n",
    "**Dica:** Utilize o formato:\n",
    "```python\n",
    "[exressão for item in lista]\n",
    "```"
   ]
  },
  {
   "cell_type": "code",
   "execution_count": 0,
   "metadata": {
    "application/vnd.databricks.v1+cell": {
     "cellMetadata": {},
     "inputWidgets": {},
     "nuid": "1778e7fe-4d20-4562-a4ec-17c7edb8afbc",
     "showTitle": false,
     "title": ""
    },
    "id": "RR5D3LvYAOUd"
   },
   "outputs": [],
   "source": [
    "notas = [[8.0, 9.0, 10.0], [9.0, 7.0, 6.0], [3.4, 7.0, 7.0], [5.5, 6.6, 8.0], [6.0, 10.0, 9.5]]"
   ]
  },
  {
   "cell_type": "code",
   "execution_count": 0,
   "metadata": {
    "application/vnd.databricks.v1+cell": {
     "cellMetadata": {},
     "inputWidgets": {},
     "nuid": "c10c6be1-00d0-47e5-96a9-b179b05dc556",
     "showTitle": false,
     "title": ""
    },
    "id": "J_atQRQdlpNe"
   },
   "outputs": [],
   "source": [
    "def media(lista: list=[0]) -> float:\n",
    "  ''' Função para calcular a média de notas passadas por uma lista\n",
    "\n",
    "  lista: list, default [0]\n",
    "    Lista com as notas para calcular a média\n",
    "  return = calculo: float\n",
    "    Média calculada\n",
    "  '''\n",
    "  \n",
    "  calculo = sum(lista) / len(lista)\n",
    "\n",
    "  return calculo"
   ]
  },
  {
   "cell_type": "code",
   "execution_count": 0,
   "metadata": {
    "application/vnd.databricks.v1+cell": {
     "cellMetadata": {},
     "inputWidgets": {},
     "nuid": "8ec5023c-8a03-4bb1-bdfb-e1af3fd888ad",
     "showTitle": false,
     "title": ""
    },
    "id": "G5CQqPkzQWT0"
   },
   "outputs": [],
   "source": []
  },
  {
   "cell_type": "markdown",
   "metadata": {
    "application/vnd.databricks.v1+cell": {
     "cellMetadata": {},
     "inputWidgets": {},
     "nuid": "18e12a87-21aa-45b4-826d-130b131253a9",
     "showTitle": false,
     "title": ""
    },
    "id": "ApLjXlAdhJKd"
   },
   "source": [
    "#### **Situação 9:**\n",
    "\n",
    "Agora, precisamos utilizar as médias calculadas no exemplo anterior, pareando com o nome dos estudantes. Isto será necessário para gerar uma lista que selecione aqueles estudantes que possuam uma média final maior ou igual a 8 para concorrer a uma bolsa para o próximo ano letivo. Os dados recebidos correspondem a uma lista de tuplas com os nomes e códigos dos estudantes e a lista de médias calculadas logo acima.\n",
    "\n",
    "**Vamos resolver esse desafio?** \n",
    "\n",
    "Para facilitar o nosso entendimento do processo vamos trabalhar com uma turma fictícia de 5 estudantes.\n",
    "\n",
    "**Dica:** Utilize o formato:\n",
    "```python\n",
    "[expr for item in lista if cond]\n",
    "```\n"
   ]
  },
  {
   "cell_type": "code",
   "execution_count": 0,
   "metadata": {
    "application/vnd.databricks.v1+cell": {
     "cellMetadata": {},
     "inputWidgets": {},
     "nuid": "4b19e6b8-2313-4c4b-9372-c811beaf11d7",
     "showTitle": false,
     "title": ""
    },
    "id": "WhXegkP5DDMW"
   },
   "outputs": [],
   "source": [
    "nomes = [('João', 'J720'), ('Maria', 'M205'), ('José', 'J371'), ('Cláudia', 'C546'), ('Ana', 'A347')]\n",
    "medias = [9.0, 7.3, 5.8, 6.7, 8.5]"
   ]
  },
  {
   "cell_type": "code",
   "execution_count": 0,
   "metadata": {
    "application/vnd.databricks.v1+cell": {
     "cellMetadata": {},
     "inputWidgets": {},
     "nuid": "536b8231-65af-4938-9b22-6a7e7a0fad38",
     "showTitle": false,
     "title": ""
    },
    "id": "Lvfr10SIDSDN"
   },
   "outputs": [],
   "source": [
    "# Gerando a lista de nomes (extraindo da tupla)\n"
   ]
  },
  {
   "cell_type": "markdown",
   "metadata": {
    "application/vnd.databricks.v1+cell": {
     "cellMetadata": {},
     "inputWidgets": {},
     "nuid": "2bc8635e-fed2-4786-87e2-3e3a760a2da1",
     "showTitle": false,
     "title": ""
    },
    "id": "U6KAABs7Dfpe"
   },
   "source": [
    "<font color=green>**Dica:**</font> Para conseguirmos parear as médias e nomes facilmente, podemos recorrer a mais uma built-in function: `zip()`\n",
    "\n",
    "Ela recebe um ou mais iteráveis (lista, string, dict, etc.) e retorna-os como um iterador de tuplas onde cada elemento dos iteráveis são pareados."
   ]
  },
  {
   "cell_type": "code",
   "execution_count": 0,
   "metadata": {
    "application/vnd.databricks.v1+cell": {
     "cellMetadata": {},
     "inputWidgets": {},
     "nuid": "ac820343-d30b-4e39-97e5-82f65ce87bf9",
     "showTitle": false,
     "title": ""
    },
    "id": "TRqn0wMUg3s7"
   },
   "outputs": [],
   "source": []
  },
  {
   "cell_type": "code",
   "execution_count": 0,
   "metadata": {
    "application/vnd.databricks.v1+cell": {
     "cellMetadata": {},
     "inputWidgets": {},
     "nuid": "1f763df5-30ff-430b-8f60-564b600f7eef",
     "showTitle": false,
     "title": ""
    },
    "id": "T1ocZ1G0g3qC"
   },
   "outputs": [],
   "source": [
    "# Gerando a lista de pessoas candidatas a bolsa\n"
   ]
  },
  {
   "cell_type": "markdown",
   "metadata": {
    "application/vnd.databricks.v1+cell": {
     "cellMetadata": {},
     "inputWidgets": {},
     "nuid": "ac2e2465-7df0-452a-bbd8-8fc8b6fc8d20",
     "showTitle": false,
     "title": ""
    },
    "id": "9yzRDIB0fkeF"
   },
   "source": [
    "#### **Situação 10:**\n",
    "\n",
    "Recebemos duas demandas a respeito desse projeto com as notas dos estudantes:\n",
    "- Criar uma lista da situação dos estudantes em que caso se sua média seja maior ou igual a 6 receberá o valor \"Aprovado\" e caso contrário receberá o valor \"Reprovado\". \n",
    "- Gerar uma lista de listas com:\n",
    "  - Lista de tuplas com o nome dos estudantes e seus códigos\n",
    "  - Lista de listas com as notas de cada estudante\n",
    "  - Lista com as médias de cada estudante\n",
    "  - Lista da situação dos estudantes de acordo com as médias\n",
    "\n",
    "Os dados que utilizaremos são os mesmos que geramos nas situações anteriores (`nomes`, `notas`, `medias`).\n",
    "\n",
    "**Vamos resolver esse desafio?**\n",
    "\n",
    "Para seguirmos o processo, vou deixar logo abaixo as estruturas de dados que já produzimos.\n",
    "\n",
    "**Dica:** Para a lista das situações utilize o formato:\n",
    "```python\n",
    "[resultado_if if cond else resultado_else for item in lista]\n",
    "```"
   ]
  },
  {
   "cell_type": "code",
   "execution_count": 0,
   "metadata": {
    "application/vnd.databricks.v1+cell": {
     "cellMetadata": {},
     "inputWidgets": {},
     "nuid": "7fc6ca3e-02a3-4c59-badd-79a2653a4baa",
     "showTitle": false,
     "title": ""
    },
    "id": "-QlKML-tG6FN"
   },
   "outputs": [],
   "source": [
    "nomes = [('João', 'J720'), ('Maria', 'M205'), ('José', 'J371'), ('Cláudia', 'C546'), ('Ana', 'A347')]\n",
    "notas = [[8.0, 9.0, 10.0], [9.0, 7.0, 6.0], [3.4, 7.0, 7.0], [5.5, 6.6, 8.0], [6.0, 10.0, 9.5]]\n",
    "medias = [9.0, 7.3, 5.8, 6.7, 8.5]"
   ]
  },
  {
   "cell_type": "code",
   "execution_count": 0,
   "metadata": {
    "application/vnd.databricks.v1+cell": {
     "cellMetadata": {},
     "inputWidgets": {},
     "nuid": "72287507-91f6-458b-b831-006fbf71840d",
     "showTitle": false,
     "title": ""
    },
    "id": "qYgaZthjQWQV"
   },
   "outputs": [],
   "source": []
  },
  {
   "cell_type": "markdown",
   "metadata": {
    "application/vnd.databricks.v1+cell": {
     "cellMetadata": {},
     "inputWidgets": {},
     "nuid": "a781fd43-ece3-45c8-b660-6591e487defa",
     "showTitle": false,
     "title": ""
    },
    "id": "0XsAi49IF9Ta"
   },
   "source": [
    "**Dica:** Para gerar a lista de listas do enunciado podemos utilizar o formato a seguir\n",
    "```python\n",
    "[expr for item in lista de listas]\n",
    "```"
   ]
  },
  {
   "cell_type": "code",
   "execution_count": 0,
   "metadata": {
    "application/vnd.databricks.v1+cell": {
     "cellMetadata": {},
     "inputWidgets": {},
     "nuid": "95c49dd2-751b-495c-9451-546b03341ef6",
     "showTitle": false,
     "title": ""
    },
    "id": "G-AEgh4NGlvH"
   },
   "outputs": [],
   "source": []
  },
  {
   "cell_type": "markdown",
   "metadata": {
    "application/vnd.databricks.v1+cell": {
     "cellMetadata": {},
     "inputWidgets": {},
     "nuid": "95d5488f-20cb-4b78-8e57-2b2f8d2f81e7",
     "showTitle": false,
     "title": ""
    },
    "id": "4hkHEZGbGH7X"
   },
   "source": [
    "<font color=green>**Dica:**</font> Podemos recorrer a forma mais simples de geração de listas de lista com o uso direto dos colchetes sem necessitar de utilizar as expressões e o laço for na  abrangência de listas"
   ]
  },
  {
   "cell_type": "code",
   "execution_count": 0,
   "metadata": {
    "application/vnd.databricks.v1+cell": {
     "cellMetadata": {},
     "inputWidgets": {},
     "nuid": "a3a4b5c9-7e28-47d5-bf4c-c1669137a2ea",
     "showTitle": false,
     "title": ""
    },
    "id": "Oz2hU80RF82D"
   },
   "outputs": [],
   "source": []
  },
  {
   "cell_type": "markdown",
   "metadata": {
    "application/vnd.databricks.v1+cell": {
     "cellMetadata": {},
     "inputWidgets": {},
     "nuid": "fe6792e8-f56a-4e3b-b6bd-f6779c70118b",
     "showTitle": false,
     "title": ""
    },
    "id": "NmohhDl-QRpx"
   },
   "source": [
    "## 3.3 Dict comprehension\n",
    "\n",
    "É uma forma simples e concisa de criar ou modificar um dicionário. Podemos aplicar condicionais e laços para criar diversos tipos de dicionários a partir de padrões que desejamos para a nossa estrutura de dados e com o suporte de iteráveis como listas ou sets.\n",
    "\n",
    "https://peps.python.org/pep-0274/\n",
    "\n",
    "#### Formato padrão:\n",
    "\n",
    "```python\n",
    "{chave: valor for item in lista}\n",
    "```"
   ]
  },
  {
   "cell_type": "markdown",
   "metadata": {
    "application/vnd.databricks.v1+cell": {
     "cellMetadata": {},
     "inputWidgets": {},
     "nuid": "d46c6fd6-eed4-4ef6-afd6-4913f57e2e58",
     "showTitle": false,
     "title": ""
    },
    "id": "kGt8hQXOKeIt"
   },
   "source": [
    "#### **Situação 11:**\n",
    "\n",
    "Agora, a nossa demanda consiste em gerar um dicionário a partir da lista de listas que criamos na Situação 10 para passar para a pessoa responsável por construir as tabelas para a análise dos dados. \n",
    "- As chaves do nosso dicionário serão as colunas identificando o tipo de dado\n",
    "- Os valores serão as listas com os dados correspondentes àquela chave.\n",
    "\n",
    "**Vamos resolver esse desafio?**\n",
    "\n",
    "Para facilitar o nosso entendimento do processo vamos trabalhar com uma turma fictícia de 5 estudantes.\n",
    "\n",
    "**Dica:** Utilize o formato\n",
    "\n",
    "```python\n",
    "{chave: valor for item in lista}\n",
    "```"
   ]
  },
  {
   "cell_type": "code",
   "execution_count": 0,
   "metadata": {
    "application/vnd.databricks.v1+cell": {
     "cellMetadata": {},
     "inputWidgets": {},
     "nuid": "eb8b6d23-c4de-4ba4-a726-f4eaf8c87cd9",
     "showTitle": false,
     "title": ""
    },
    "id": "fD_TeWtOUQKQ"
   },
   "outputs": [],
   "source": [
    "lista_completa = [[('João', 'J720'), ('Maria', 'M205'), ('José', 'J371'), ('Cláudia', 'C546'), ('Ana', 'A347')],\n",
    "                  [[8.0, 9.0, 10.0], [9.0, 7.0, 6.0], [3.4, 7.0, 7.0], [5.5, 6.6, 8.0], [6.0, 10.0, 9.5]],\n",
    "                  [9.0, 7.3, 5.8, 6.7, 8.5],\n",
    "                  ['Aprovado', 'Aprovado', 'Reprovado', 'Aprovado', 'Aprovado']]"
   ]
  },
  {
   "cell_type": "code",
   "execution_count": 0,
   "metadata": {
    "application/vnd.databricks.v1+cell": {
     "cellMetadata": {},
     "inputWidgets": {},
     "nuid": "d7ba4c18-c46d-4cf7-aca0-b19ce56afa9a",
     "showTitle": false,
     "title": ""
    },
    "id": "xFkmjd4EKG7b"
   },
   "outputs": [],
   "source": [
    "# Colunas com os tipos dos dados (exceto nome)\n",
    "coluna = [\"Notas\", \"Média Final\", \"Situação\"]\n",
    "\n",
    "..."
   ]
  },
  {
   "cell_type": "code",
   "execution_count": 0,
   "metadata": {
    "application/vnd.databricks.v1+cell": {
     "cellMetadata": {},
     "inputWidgets": {},
     "nuid": "4bd1accd-bfd7-4d4d-814b-14357d4fd0c2",
     "showTitle": false,
     "title": ""
    },
    "id": "yDPfgllCKVrt"
   },
   "outputs": [],
   "source": [
    "# Vamos por fim adicionar o nome dos estudantes, extraindo apenas seus nomes da lista de tuplas\n"
   ]
  },
  {
   "cell_type": "markdown",
   "metadata": {
    "application/vnd.databricks.v1+cell": {
     "cellMetadata": {},
     "inputWidgets": {},
     "nuid": "d318c815-bdfb-45d1-9375-e60e06f48efb",
     "showTitle": false,
     "title": ""
    },
    "id": "RxKC5WVoCYp3"
   },
   "source": [
    "## <font color=green> 4. LIDANDO COM EXCEÇÕES\n",
    "---"
   ]
  },
  {
   "cell_type": "markdown",
   "metadata": {
    "application/vnd.databricks.v1+cell": {
     "cellMetadata": {},
     "inputWidgets": {},
     "nuid": "3eca7f0a-0a58-4198-a9b6-a484ab48dcbd",
     "showTitle": false,
     "title": ""
    },
    "id": "MzOZ_0M3CU1x"
   },
   "source": [
    "Podemos notar em nosso caminho até aqui a existência de alguns erros e exceções na execução de algum comando. Como uma pessoa cientista de dados ou programador, você precisará estar atento a essas situações para evitar bugs ou problemas em seus códigos e análises que possam afetar a experiência tanto do usuário quanto a eficiência da sua análise.\n",
    "\n",
    "Existem basicamente duas formas distintas de erros: os **erros de sintaxe** e as **exceções**.\n",
    "\n",
    "Exceções são erros detectados durante a execução e que quebram o fluxo do programa encerrando-o caso não sejam tratadas.  \n",
    "\n",
    "Vamos aprender a identificar e tratar algumas das exceções aqui, mas é sempre importante mergulhar na documentação para pesquisar e verificar quais se enquadram nos seus projetos.\n",
    "\n",
    "**Documentação sobre erros e exceções:** https://docs.python.org/3/tutorial/errors.html"
   ]
  },
  {
   "cell_type": "markdown",
   "metadata": {
    "application/vnd.databricks.v1+cell": {
     "cellMetadata": {},
     "inputWidgets": {},
     "nuid": "765da1e9-a3c0-4831-9f59-a79e3ddc3336",
     "showTitle": false,
     "title": ""
    },
    "id": "x3E66krBST7K"
   },
   "source": [
    "## 4.1 Tratando Exceções\n",
    "\n",
    "O tratamento das exceções contribui estabelecendo um fluxo alternativo para a execução do código evitando a interrupção dos processos inesperadamente.\n",
    "\n",
    "Existe uma série de exceções e a partir do comportamento que queremos e dos erros que queremos tratar é possível construir um caminho para o usuário ou fornecer mais detalhes sobre aquela exceção.\n",
    "\n",
    "- Hierarquia das Exceções (https://docs.python.org/3/library/exceptions.html#exception-hierarchy)"
   ]
  },
  {
   "cell_type": "markdown",
   "metadata": {
    "application/vnd.databricks.v1+cell": {
     "cellMetadata": {},
     "inputWidgets": {},
     "nuid": "f455effb-c8f3-472d-88f8-228584b4a8ef",
     "showTitle": false,
     "title": ""
    },
    "id": "h9lj8Wfk__cl"
   },
   "source": [
    "### Try ... Except\n",
    "\n",
    "```python\n",
    "try:\n",
    "  # código a ser executado. Caso uma exceção seja lançada, pare imediatamente\n",
    "except <nome_da_excecao as e>:\n",
    "  # Se uma exceção for lançada no try, rode esse código, senão pule esta etapa\n",
    "```"
   ]
  },
  {
   "cell_type": "markdown",
   "metadata": {
    "application/vnd.databricks.v1+cell": {
     "cellMetadata": {},
     "inputWidgets": {},
     "nuid": "9a77771d-67b4-45d6-9537-126a94f0a899",
     "showTitle": false,
     "title": ""
    },
    "id": "miwzhPNdD8Ty"
   },
   "source": [
    "#### **Situação 12:**\n",
    "\n",
    "Você criou um código que lê um dicionário com as notas dos estudantes e quis retornar a lista de notas de um estudante.\n",
    "\n",
    "Caso o(a) estudante não esteja matriculado(a) na turma devemos tratar a exceção para aparecer a mensagem \"Estudante não matriculado(a) na turma\". \n",
    "\n",
    "Vamos trabalhar nesse exemplo com a exceção **Key Error** que interromperá o processo desse pedaço do código. \n",
    "\n",
    "**Vamos testar esse primeiro tratamento?**"
   ]
  },
  {
   "cell_type": "code",
   "execution_count": 0,
   "metadata": {
    "application/vnd.databricks.v1+cell": {
     "cellMetadata": {},
     "inputWidgets": {},
     "nuid": "e0d80b62-f9d2-45fe-ae43-49cfa48a7a52",
     "showTitle": false,
     "title": ""
    },
    "id": "PkMmeYxaDcIF"
   },
   "outputs": [],
   "source": [
    "notas = {'João': [8.0, 9.0, 10.0], 'Maria': [9.0, 7.0, 6.0], 'José': [3.4, 7.0, 8.0], 'Cláudia': [5.5, 6.6, 8.0], \n",
    " 'Ana': [6.0, 10.0, 9.5], 'Joaquim': [5.5, 7.5, 9.0], 'Júlia': [6.0, 8.0, 7.0], 'Pedro': [3.0, 4.0, 6.0]}"
   ]
  },
  {
   "cell_type": "code",
   "execution_count": 0,
   "metadata": {
    "application/vnd.databricks.v1+cell": {
     "cellMetadata": {},
     "inputWidgets": {},
     "nuid": "e14be2f9-1780-4cb4-b22c-9a8639b1e9c9",
     "showTitle": false,
     "title": ""
    },
    "id": "AudrLS-BGGEy"
   },
   "outputs": [],
   "source": []
  },
  {
   "cell_type": "code",
   "execution_count": 0,
   "metadata": {
    "application/vnd.databricks.v1+cell": {
     "cellMetadata": {},
     "inputWidgets": {},
     "nuid": "3ff8b5c7-0ef4-405d-9488-d9ff721aecbd",
     "showTitle": false,
     "title": ""
    },
    "id": "NEX6RRX7Wb0Y"
   },
   "outputs": [],
   "source": []
  },
  {
   "cell_type": "code",
   "execution_count": 0,
   "metadata": {
    "application/vnd.databricks.v1+cell": {
     "cellMetadata": {},
     "inputWidgets": {},
     "nuid": "568b79e1-945e-41e0-8010-6996f0db6990",
     "showTitle": false,
     "title": ""
    },
    "id": "3oV8Bw-NGGiu"
   },
   "outputs": [],
   "source": []
  },
  {
   "cell_type": "markdown",
   "metadata": {
    "application/vnd.databricks.v1+cell": {
     "cellMetadata": {},
     "inputWidgets": {},
     "nuid": "19d5df24-646f-4fc2-aeab-4898f71f1742",
     "showTitle": false,
     "title": ""
    },
    "id": "hKhKzgQoBHLb"
   },
   "source": [
    "### Adicionando o Else\n",
    "\n",
    "```python\n",
    "try:\n",
    "  # código a ser executado. Caso uma exceção seja lançada, pare imediatamente\n",
    "except:\n",
    "  # Se uma exceção for lançada no try, rode esse código, senão pule esta etapa\n",
    "else:\n",
    "  # Se não houver uma exeção lançada pelo try, rode essa parte\n",
    "```"
   ]
  },
  {
   "cell_type": "markdown",
   "metadata": {
    "application/vnd.databricks.v1+cell": {
     "cellMetadata": {},
     "inputWidgets": {},
     "nuid": "9436a7b9-7861-4410-828e-40b82c5c9a5a",
     "showTitle": false,
     "title": ""
    },
    "id": "USN3SA2tMjL0"
   },
   "source": [
    "#### **Situação 13:**\n",
    "\n",
    "Você criou um código que lê um dicionário com as notas dos estudantes e quis retornar a lista de notas de um estudante. \n",
    "\n",
    "Caso o(a) estudante não esteja matriculado(a) na classe devemos tratar a exceção para aparecer a mensagem \"Estudante não matriculado(a) na turma\" e se a exceção não for lançada devemos exibir a lista com as notas do(a) estudante. \n",
    "\n",
    "Vamos trabalhar nesse exemplo com a exceção **Key Error** que interromperá o processo desse pedaço do código. \n",
    "\n",
    "**Vamos testar esse tratamento?**"
   ]
  },
  {
   "cell_type": "code",
   "execution_count": 0,
   "metadata": {
    "application/vnd.databricks.v1+cell": {
     "cellMetadata": {},
     "inputWidgets": {},
     "nuid": "8882cadc-4f98-44f5-a2f2-980577f6304a",
     "showTitle": false,
     "title": ""
    },
    "id": "zCdjBCDFLE_6"
   },
   "outputs": [],
   "source": [
    "notas = {'João': [8.0, 9.0, 10.0], 'Maria': [9.0, 7.0, 6.0], 'José': [3.4, 7.0, 8.0], 'Cláudia': [5.5, 6.6, 8.0], \n",
    " 'Ana': [6.0, 10.0, 9.5], 'Joaquim': [5.5, 7.5, 9.0], 'Júlia': [6.0, 8.0, 7.0], 'Pedro': [3.0, 4.0, 6.0]}"
   ]
  },
  {
   "cell_type": "code",
   "execution_count": 0,
   "metadata": {
    "application/vnd.databricks.v1+cell": {
     "cellMetadata": {},
     "inputWidgets": {},
     "nuid": "71aaf40d-ea55-48b1-b313-32c8da70fc84",
     "showTitle": false,
     "title": ""
    },
    "id": "NS4vABJPDcFN"
   },
   "outputs": [],
   "source": []
  },
  {
   "cell_type": "markdown",
   "metadata": {
    "application/vnd.databricks.v1+cell": {
     "cellMetadata": {},
     "inputWidgets": {},
     "nuid": "b51a8918-c243-466e-a1de-080c07650b49",
     "showTitle": false,
     "title": ""
    },
    "id": "Dw_efTlbBhll"
   },
   "source": [
    "### Adicionando o finally\n",
    "\n",
    "```python\n",
    "try:\n",
    "  # código a ser executado. Caso uma exceção seja lançada, pare imediatamente\n",
    "except:\n",
    "  # Se uma exceção for lançada no try, rode esse código, senão pule esta etapa\n",
    "else:\n",
    "  # Se não houver uma exeção lançada pelo try, rode essa parte\n",
    "finally:\n",
    "  # Rode essa parte (com ou sem exceção)\n",
    "```"
   ]
  },
  {
   "cell_type": "markdown",
   "metadata": {
    "application/vnd.databricks.v1+cell": {
     "cellMetadata": {},
     "inputWidgets": {},
     "nuid": "b7aa0a81-a552-433d-8087-a1ed966f83cb",
     "showTitle": false,
     "title": ""
    },
    "id": "jGtFVx5GdnsS"
   },
   "source": [
    "#### **Situação 14:**\n",
    "\n",
    "Você criou um código que lê um dicionário com as notas dos estudantes e quis retornar a lista de notas de um estudante. \n",
    "\n",
    "Caso o(a) estudante não esteja matriculado(a) na classe devemos tratar a exceção para aparecer a mensagem \"Estudante não matriculado(a) na turma\" e se a exceção não for lançada devemos exibir a lista com as notas do(a) estudante. Um texto avisando que \"A consulta foi encerrada!\" deve ser exibido com ou sem a exceção ser lançada.\n",
    "\n",
    "Vamos trabalhar nesse exemplo com a exceção **Key Error** que interromperá o processo desse pedaço do código. \n",
    "\n",
    "**Vamos testar esse tratamento?**"
   ]
  },
  {
   "cell_type": "code",
   "execution_count": 0,
   "metadata": {
    "application/vnd.databricks.v1+cell": {
     "cellMetadata": {},
     "inputWidgets": {},
     "nuid": "06c00346-a8f7-4834-81ee-82d5d84c3f4b",
     "showTitle": false,
     "title": ""
    },
    "id": "uOLFoYweLN9W"
   },
   "outputs": [],
   "source": [
    "notas = {'João': [8.0, 9.0, 10.0], 'Maria': [9.0, 7.0, 6.0], 'José': [3.4, 7.0, 8.0], 'Cláudia': [5.5, 6.6, 8.0], \n",
    " 'Ana': [6.0, 10.0, 9.5], 'Joaquim': [5.5, 7.5, 9.0], 'Júlia': [6.0, 8.0, 7.0], 'Pedro': [3.0, 4.0, 6.0]}"
   ]
  },
  {
   "cell_type": "code",
   "execution_count": 0,
   "metadata": {
    "application/vnd.databricks.v1+cell": {
     "cellMetadata": {},
     "inputWidgets": {},
     "nuid": "633b217a-9bdf-4508-a026-5168b318a329",
     "showTitle": false,
     "title": ""
    },
    "id": "U8QCogXhBi8C"
   },
   "outputs": [],
   "source": []
  },
  {
   "cell_type": "markdown",
   "metadata": {
    "application/vnd.databricks.v1+cell": {
     "cellMetadata": {},
     "inputWidgets": {},
     "nuid": "33c7b60e-4268-4cf0-986f-3c624e645673",
     "showTitle": false,
     "title": ""
    },
    "id": "HdjllLBpST_2"
   },
   "source": [
    "## 4.2 Raise\n",
    "\n",
    "Uma outra forma de trabalhar com as exceções em seu código, é criar as suas próprias exceções para determinados comportamentos que deseja em seu código. \n",
    "\n",
    "Para isso, utilizamos a palavra-chave `raise` junto ao tipo de exceção que deseja lançar e uma mensagem a ser exibida.   "
   ]
  },
  {
   "cell_type": "markdown",
   "metadata": {
    "application/vnd.databricks.v1+cell": {
     "cellMetadata": {},
     "inputWidgets": {},
     "nuid": "5fb02c02-3728-44db-babb-c643488ab509",
     "showTitle": false,
     "title": ""
    },
    "id": "_nIOnDQufv6Z"
   },
   "source": [
    "```python\n",
    "raise NomeDoErro(\"mensagem_desejada\")\n",
    "```"
   ]
  },
  {
   "cell_type": "markdown",
   "metadata": {
    "application/vnd.databricks.v1+cell": {
     "cellMetadata": {},
     "inputWidgets": {},
     "nuid": "d61e8eb7-f631-4a1d-896a-d124eb78b326",
     "showTitle": false,
     "title": ""
    },
    "id": "xapeB2ivgB7R"
   },
   "source": [
    "#### **Situação 15:**\n",
    "\n",
    "Você criou uma função para calcular a média de um estudante em uma dada matéria passando em uma lista as notas deste estudante. \n",
    "\n",
    "Você pretende tratar 2 situações:\n",
    "- Se a lista possuir um valor não numérico o cálculo de média não será executado e uma mensagem de \"Não foi possível calcular a média do(a) estudante. Só são aceitos valores numéricos!\" será exibida.\n",
    "- Caso a lista tenha mais de 4 notas, será lançada uma exceção do tipo **ValueError** informando que \"A lista não pode possuir mais de 4 notas.\" \n",
    "\n",
    "Um texto avisando que \"A consulta foi encerrada!\" deve ser exibido com ou sem a exceção ser lançada.\n",
    "\n",
    "**Vamos resolver esse desafio?**"
   ]
  },
  {
   "cell_type": "code",
   "execution_count": 0,
   "metadata": {
    "application/vnd.databricks.v1+cell": {
     "cellMetadata": {},
     "inputWidgets": {},
     "nuid": "a1145807-1f77-40f4-9596-4a2100f06805",
     "showTitle": false,
     "title": ""
    },
    "id": "Hf7MQtMjSXS-"
   },
   "outputs": [],
   "source": [
    "def media(lista: list=[0]) -> float:\n",
    "  ''' Função para calcular a média de notas passadas por uma lista\n",
    "\n",
    "  lista: list, default [0]\n",
    "    Lista com as notas para calcular a média\n",
    "  return = calculo: float\n",
    "    Média calculada\n",
    "  '''\n",
    "  \n",
    "  calculo = sum(lista) / len(lista)\n",
    "\n",
    "  ...\n",
    "\n",
    "  return calculo"
   ]
  },
  {
   "cell_type": "code",
   "execution_count": 0,
   "metadata": {
    "application/vnd.databricks.v1+cell": {
     "cellMetadata": {},
     "inputWidgets": {},
     "nuid": "58683cc5-0cd8-41d7-bb0a-fe8197cecf44",
     "showTitle": false,
     "title": ""
    },
    "id": "gnlcrP93k8f2"
   },
   "outputs": [],
   "source": []
  },
  {
   "cell_type": "code",
   "execution_count": 0,
   "metadata": {
    "application/vnd.databricks.v1+cell": {
     "cellMetadata": {},
     "inputWidgets": {},
     "nuid": "62972701-ad00-4dec-a0f8-46356de5464f",
     "showTitle": false,
     "title": ""
    },
    "id": "IprXe3qalX5J"
   },
   "outputs": [],
   "source": []
  },
  {
   "cell_type": "code",
   "execution_count": 0,
   "metadata": {
    "application/vnd.databricks.v1+cell": {
     "cellMetadata": {},
     "inputWidgets": {},
     "nuid": "b4f340e8-884e-40b7-8a13-4cc66736c8f9",
     "showTitle": false,
     "title": ""
    },
    "id": "lO8OCMRzSXQv"
   },
   "outputs": [],
   "source": []
  },
  {
   "cell_type": "code",
   "execution_count": 0,
   "metadata": {
    "application/vnd.databricks.v1+cell": {
     "cellMetadata": {},
     "inputWidgets": {},
     "nuid": "83fb6779-de3c-4a8f-9d48-e69c676a05d3",
     "showTitle": false,
     "title": ""
    },
    "id": "A-rA3l4hm4RA"
   },
   "outputs": [],
   "source": []
  },
  {
   "cell_type": "code",
   "execution_count": 0,
   "metadata": {
    "application/vnd.databricks.v1+cell": {
     "cellMetadata": {},
     "inputWidgets": {},
     "nuid": "4726569c-7962-428d-a766-7987551c8d8b",
     "showTitle": false,
     "title": ""
    },
    "id": "Jf3Sg5H-m4Za"
   },
   "outputs": [],
   "source": []
  }
 ],
 "metadata": {
  "application/vnd.databricks.v1+notebook": {
   "dashboards": [],
   "language": "python",
   "notebookMetadata": {
    "pythonIndentUnit": 4
   },
   "notebookName": "Projeto+inicial+-+Python+para+DS",
   "widgets": {}
  },
  "colab": {
   "provenance": []
  },
  "kernelspec": {
   "display_name": "Python 3",
   "name": "python3"
  },
  "language_info": {
   "name": "python"
  }
 },
 "nbformat": 4,
 "nbformat_minor": 0
}
